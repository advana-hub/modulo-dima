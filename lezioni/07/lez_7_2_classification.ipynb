{
 "cells": [
  {
   "cell_type": "code",
   "execution_count": null,
   "metadata": {},
   "outputs": [],
   "source": [
    "import pandas as pd\n",
    "import numpy as np"
   ]
  },
  {
   "cell_type": "markdown",
   "metadata": {},
   "source": [
    "# Use case reale: `MiMocko` 🛵\n",
    "\n",
    "Il business vuole provare a capire quali viaggi sono più a rischio di risultare in un incidente.\n",
    "\n",
    "Carichiamo il dataset preparato per l'uso nel notebook di _preprocessing_."
   ]
  },
  {
   "cell_type": "code",
   "execution_count": null,
   "metadata": {},
   "outputs": [],
   "source": [
    "path = '../../../data'\n",
    "\n",
    "dataset = pd.read_csv(f'{path}/dataset_classificazione.csv')"
   ]
  },
  {
   "cell_type": "code",
   "execution_count": null,
   "metadata": {},
   "outputs": [],
   "source": [
    "dataset.head()"
   ]
  },
  {
   "cell_type": "code",
   "execution_count": null,
   "metadata": {},
   "outputs": [],
   "source": [
    "dataset.dtypes"
   ]
  },
  {
   "cell_type": "markdown",
   "metadata": {},
   "source": [
    "## Classificazione incidenti"
   ]
  },
  {
   "cell_type": "markdown",
   "metadata": {},
   "source": [
    "### Esercizio\n",
    "Separiamo le _features_ dal _target_\n"
   ]
  },
  {
   "cell_type": "code",
   "execution_count": null,
   "metadata": {},
   "outputs": [],
   "source": [
    "features = ...\n",
    "target = ...\n",
    "\n",
    "display(target)\n",
    "print()\n",
    "display(features)"
   ]
  },
  {
   "cell_type": "code",
   "execution_count": null,
   "metadata": {},
   "outputs": [],
   "source": [
    "dfX = dataset[features]\n",
    "dfy = dataset[target]"
   ]
  },
  {
   "cell_type": "code",
   "execution_count": null,
   "metadata": {},
   "outputs": [],
   "source": [
    "dfX.head()"
   ]
  },
  {
   "cell_type": "code",
   "execution_count": null,
   "metadata": {},
   "outputs": [],
   "source": [
    "dfy.head()"
   ]
  },
  {
   "cell_type": "markdown",
   "metadata": {
    "execution": {
     "iopub.execute_input": "2021-05-05T12:17:06.468267Z",
     "iopub.status.busy": "2021-05-05T12:17:06.467247Z",
     "iopub.status.idle": "2021-05-05T12:17:06.478631Z",
     "shell.execute_reply": "2021-05-05T12:17:06.476238Z",
     "shell.execute_reply.started": "2021-05-05T12:17:06.468267Z"
    }
   },
   "source": [
    "### Esercizio\n",
    "Visualizza la distribuzione della target feature. Cosa noti?"
   ]
  },
  {
   "cell_type": "code",
   "execution_count": null,
   "metadata": {},
   "outputs": [],
   "source": []
  },
  {
   "cell_type": "markdown",
   "metadata": {
    "execution": {
     "iopub.execute_input": "2021-05-05T12:18:24.168624Z",
     "iopub.status.busy": "2021-05-05T12:18:24.168624Z",
     "iopub.status.idle": "2021-05-05T12:18:24.174622Z",
     "shell.execute_reply": "2021-05-05T12:18:24.173660Z",
     "shell.execute_reply.started": "2021-05-05T12:18:24.168624Z"
    }
   },
   "source": [
    "### Esercizio\n",
    "Calcola il rate di incidenti sul totale viaggi"
   ]
  },
  {
   "cell_type": "code",
   "execution_count": null,
   "metadata": {},
   "outputs": [],
   "source": []
  },
  {
   "cell_type": "markdown",
   "metadata": {},
   "source": [
    "## Train/Test split"
   ]
  },
  {
   "cell_type": "code",
   "execution_count": null,
   "metadata": {},
   "outputs": [],
   "source": [
    "from sklearn.model_selection import train_test_split"
   ]
  },
  {
   "cell_type": "code",
   "execution_count": null,
   "metadata": {},
   "outputs": [],
   "source": [
    "X_train, X_test, y_train, y_test = train_test_split(dfX, dfy, test_size=0.33)"
   ]
  },
  {
   "cell_type": "markdown",
   "metadata": {},
   "source": [
    "### Esercizio\n",
    "Verifica che il rate di incidenti nel train e nel test set sia comparabile.\n",
    "\n",
    "_Approfondimento (BONUS): [stratification](https://scikit-learn.org/stable/modules/cross_validation.html#stratified-k-fold)_"
   ]
  },
  {
   "cell_type": "code",
   "execution_count": null,
   "metadata": {},
   "outputs": [],
   "source": []
  },
  {
   "cell_type": "markdown",
   "metadata": {},
   "source": [
    "## Decision tree"
   ]
  },
  {
   "cell_type": "markdown",
   "metadata": {},
   "source": [
    "### Esercizio\n",
    "Allena il modello sul training set e confronta le performance di classificazione su training e test set sfruttando `plot_confusion_matrix`\n",
    "\n",
    "Cosa noti?\n",
    "\n",
    "**Hint**: prova ad impostare il parametro `normalize='true'` nella `plot_confusion_matrix`."
   ]
  },
  {
   "cell_type": "code",
   "execution_count": null,
   "metadata": {},
   "outputs": [],
   "source": [
    "from sklearn import tree"
   ]
  },
  {
   "cell_type": "code",
   "execution_count": null,
   "metadata": {},
   "outputs": [],
   "source": [
    "model = ..."
   ]
  },
  {
   "cell_type": "code",
   "execution_count": null,
   "metadata": {},
   "outputs": [],
   "source": [
    "from sklearn.metrics import plot_confusion_matrix"
   ]
  },
  {
   "cell_type": "code",
   "execution_count": null,
   "metadata": {},
   "outputs": [],
   "source": []
  },
  {
   "cell_type": "markdown",
   "metadata": {},
   "source": [
    "### Esercizio\n",
    "\n",
    "Prova a riallenare il modello scegliendo un valore di `max_depth` che renda più simili le performance su training e test set"
   ]
  },
  {
   "cell_type": "code",
   "execution_count": null,
   "metadata": {},
   "outputs": [],
   "source": [
    "model = ..."
   ]
  },
  {
   "cell_type": "code",
   "execution_count": null,
   "metadata": {},
   "outputs": [],
   "source": []
  },
  {
   "cell_type": "markdown",
   "metadata": {},
   "source": [
    "### Esercizio\n",
    "Task di classificazione su dataset _sbilanciati_ sono più complicati.\n",
    "\n",
    "Alcuni algoritmi, tra cui il DecisionTree, supportano un keyword argument `class_weight` con cui modificare il peso assegnato a ciascuna classe in fase di allenamento.\n",
    "\n",
    "Prova a settare i pesi delle due classi per \"ribilanciare\" il dataset."
   ]
  },
  {
   "cell_type": "code",
   "execution_count": null,
   "metadata": {},
   "outputs": [],
   "source": []
  },
  {
   "cell_type": "code",
   "execution_count": null,
   "metadata": {},
   "outputs": [],
   "source": [
    "model = ..."
   ]
  },
  {
   "cell_type": "code",
   "execution_count": null,
   "metadata": {},
   "outputs": [],
   "source": []
  },
  {
   "cell_type": "markdown",
   "metadata": {},
   "source": [
    "## Interpretazione business 🤑"
   ]
  },
  {
   "cell_type": "markdown",
   "metadata": {},
   "source": [
    "### Domanda\n",
    "\n",
    "In questo contesto di business, secondo te è più alto il costo di un falso positivo o di un falso negativo?"
   ]
  },
  {
   "cell_type": "code",
   "execution_count": null,
   "metadata": {},
   "outputs": [],
   "source": []
  },
  {
   "cell_type": "markdown",
   "metadata": {},
   "source": [
    "### Domanda \n",
    "Il Business vorrebbe usare il nostro modello come segue:\n",
    "\n",
    "* se il modello classifica il viaggio imminente come \"incidente\", lo scooter si spegne e impedisce all'utente di partire 🚳\n",
    "\n",
    "\n",
    "Secondo te\n",
    "\n",
    "1. è un utilizzo _concretamente_ possibile?\n",
    "2. vedi delle controindicazioni?"
   ]
  },
  {
   "cell_type": "code",
   "execution_count": null,
   "metadata": {},
   "outputs": [],
   "source": []
  },
  {
   "cell_type": "markdown",
   "metadata": {},
   "source": [
    "### Domanda\n",
    "\n",
    "* Quali alternative ti vengono in mente per utilizzare effettivamente un modello come richiede il Business?\n",
    "* Quali potrebbero essere le difficoltà?"
   ]
  },
  {
   "cell_type": "code",
   "execution_count": null,
   "metadata": {},
   "outputs": [],
   "source": []
  },
  {
   "cell_type": "markdown",
   "metadata": {},
   "source": [
    "### Esercizio\n",
    "\n",
    "⚠️ supponiamo che tutte le features siano disponibili al momento del ritiro dello scooter ⚠️ \n",
    "\n",
    "Il Business ci chiede di stimare **come cambierebbe il profitto su base annua** in caso di utilizzo del modello di classificazione.\n",
    "\n",
    "Ricordiamo che il profitto (P) coincide con la differenza tra ricavo (R) e costo (C), in formula $P  = R - C$.\n",
    "\n",
    "Sappiamo che:\n",
    "    \n",
    "* il pricing di MiMocko è 0.26 EUR/minuto\n",
    "* la durata media di un viaggio è circa 18 minuti\n",
    "* il costo medio di un intervento di riparazione a seguito incidente è circa 200 EUR\n",
    "* il numero medio di viaggi all'anno è circa 50'000"
   ]
  },
  {
   "cell_type": "markdown",
   "metadata": {},
   "source": [
    "#### Hint\n",
    "\n",
    "Salva in delle variabili i dati del problema, e inizia calcolando il _ricavo medio per viaggio_."
   ]
  },
  {
   "cell_type": "code",
   "execution_count": null,
   "metadata": {},
   "outputs": [],
   "source": []
  },
  {
   "cell_type": "markdown",
   "metadata": {},
   "source": [
    "#### Hint\n",
    "E' utile salvare in una variabile la matrice di confusione del modello.\n",
    "\n",
    "* bisogna scegliere quella calcolata sul training o test set?\n",
    "* conviene normalizzarla o no?"
   ]
  },
  {
   "cell_type": "code",
   "execution_count": null,
   "metadata": {},
   "outputs": [],
   "source": [
    "from sklearn.metrics import confusion_matrix"
   ]
  },
  {
   "cell_type": "code",
   "execution_count": null,
   "metadata": {},
   "outputs": [],
   "source": []
  },
  {
   "cell_type": "markdown",
   "metadata": {
    "execution": {
     "iopub.execute_input": "2021-05-06T08:21:50.738434Z",
     "iopub.status.busy": "2021-05-06T08:21:50.737432Z",
     "iopub.status.idle": "2021-05-06T08:21:50.744433Z",
     "shell.execute_reply": "2021-05-06T08:21:50.743434Z",
     "shell.execute_reply.started": "2021-05-06T08:21:50.737432Z"
    }
   },
   "source": [
    "#### Hint\n",
    "Costruisci, sulla falsa riga della confusion matrix, altre 4 matrici:\n",
    "    \n",
    "1. matrice dei ricavi medi per viaggio \n",
    "2. matrice dei costi medi per viaggio \n",
    "\n",
    "che riflettano\n",
    "\n",
    "1. la situazione attuale\n",
    "2. la situazione in cui si usasse il modello di classificazione"
   ]
  },
  {
   "cell_type": "code",
   "execution_count": null,
   "metadata": {},
   "outputs": [],
   "source": []
  },
  {
   "cell_type": "markdown",
   "metadata": {},
   "source": [
    "#### Hint\n",
    "\n",
    "Calcola, in ciascuno dei due scenari (attuale vs uso modello), la matrice dei profitti."
   ]
  },
  {
   "cell_type": "code",
   "execution_count": null,
   "metadata": {},
   "outputs": [],
   "source": []
  },
  {
   "cell_type": "markdown",
   "metadata": {},
   "source": [
    "#### Hint\n",
    "\n",
    "* utilizza la confusion matrix del modello salvata in precedenza per stimare il profitto atteso su base annua in entrambi gli scenari\n",
    "* comunica al Business la variazione di profitto nei due scenari"
   ]
  },
  {
   "cell_type": "code",
   "execution_count": null,
   "metadata": {},
   "outputs": [],
   "source": []
  },
  {
   "cell_type": "markdown",
   "metadata": {
    "execution": {
     "iopub.execute_input": "2021-05-06T07:47:22.957764Z",
     "iopub.status.busy": "2021-05-06T07:47:22.957764Z",
     "iopub.status.idle": "2021-05-06T07:47:22.973430Z",
     "shell.execute_reply": "2021-05-06T07:47:22.973430Z",
     "shell.execute_reply.started": "2021-05-06T07:47:22.957764Z"
    }
   },
   "source": [
    "### Esercizio (BONUS)\n",
    "\n",
    "Il dipartimento di Customer Satisfaction di MiMocko mette in guardia circa l'utilizzo del modello ✋\n",
    "\n",
    "Alcuni clienti, vedendosi rifiutare il viaggio, potrebbero smettere di utilizzare il servizio!\n",
    "\n",
    "Sapendo che\n",
    "* il numero medio di clienti per anno è 7900\n",
    "* il numero medio di viaggi per utente all'anno è 4\n",
    "\n",
    "rispondi alla domanda del Business: se adottiamo il modello, qual è il [_churn rate_](https://en.wikipedia.org/wiki/Churn_rate) annuale massimo che possiamo tollerare?\n",
    "\n",
    "**Hint** l'obiettivo del Business è capire qual è il numero massimo di clienti che possono abbandonare MiMocko su base annua affinchè i profitti derivanti dall'utilizzo del modello siano ancora maggiori di quelli attuali..."
   ]
  },
  {
   "cell_type": "code",
   "execution_count": null,
   "metadata": {},
   "outputs": [],
   "source": []
  },
  {
   "cell_type": "markdown",
   "metadata": {},
   "source": [
    "## Approfondimenti (BONUS)\n",
    "\n",
    "* [feature importance](https://scikit-learn.org/stable/auto_examples/ensemble/plot_forest_importances.html)\n",
    "* [K-fold cross-validation](https://scikit-learn.org/stable/modules/cross_validation.html#k-fold)\n",
    "* [guida visuale alla confusion matrix](https://towardsdatascience.com/visual-guide-to-the-confusion-matrix-bb63730c8eba)\n",
    "* [bilanciamento sintetico con SMOTE](https://imbalanced-learn.org/stable/over_sampling.html#from-random-over-sampling-to-smote-and-adasyn) "
   ]
  }
 ],
 "metadata": {
  "kernelspec": {
   "display_name": ".venv-mimocko",
   "language": "python",
   "name": ".venv-mimocko"
  },
  "language_info": {
   "codemirror_mode": {
    "name": "ipython",
    "version": 3
   },
   "file_extension": ".py",
   "mimetype": "text/x-python",
   "name": "python",
   "nbconvert_exporter": "python",
   "pygments_lexer": "ipython3",
   "version": "3.8.5"
  },
  "toc-autonumbering": true
 },
 "nbformat": 4,
 "nbformat_minor": 4
}
