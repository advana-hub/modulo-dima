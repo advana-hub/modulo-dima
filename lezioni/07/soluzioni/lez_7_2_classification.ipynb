{
 "cells": [
  {
   "cell_type": "code",
   "execution_count": 1,
   "metadata": {
    "execution": {
     "iopub.execute_input": "2021-05-13T14:41:42.476348Z",
     "iopub.status.busy": "2021-05-13T14:41:42.476348Z",
     "iopub.status.idle": "2021-05-13T14:41:43.507631Z",
     "shell.execute_reply": "2021-05-13T14:41:43.506730Z",
     "shell.execute_reply.started": "2021-05-13T14:41:42.476348Z"
    }
   },
   "outputs": [],
   "source": [
    "import pandas as pd\n",
    "import numpy as np\n",
    "from babel.numbers import format_currency"
   ]
  },
  {
   "cell_type": "markdown",
   "metadata": {},
   "source": [
    "# Use case reale: `MiMocko` 🛵\n",
    "\n",
    "Il business vuole provare a capire quali viaggi sono più a rischio di risultare in un incidente.\n",
    "\n",
    "Carichiamo il dataset preparato per l'uso nel notebook di _preprocessing_."
   ]
  },
  {
   "cell_type": "code",
   "execution_count": 2,
   "metadata": {
    "execution": {
     "iopub.execute_input": "2021-05-13T14:41:43.508632Z",
     "iopub.status.busy": "2021-05-13T14:41:43.508632Z",
     "iopub.status.idle": "2021-05-13T14:41:43.663674Z",
     "shell.execute_reply": "2021-05-13T14:41:43.663674Z",
     "shell.execute_reply.started": "2021-05-13T14:41:43.508632Z"
    }
   },
   "outputs": [],
   "source": [
    "path = '../../data'\n",
    "\n",
    "dataset = pd.read_csv(f'{path}/dataset_classificazione.csv')"
   ]
  },
  {
   "cell_type": "code",
   "execution_count": 3,
   "metadata": {
    "execution": {
     "iopub.execute_input": "2021-05-13T14:41:43.664632Z",
     "iopub.status.busy": "2021-05-13T14:41:43.664632Z",
     "iopub.status.idle": "2021-05-13T14:41:43.700638Z",
     "shell.execute_reply": "2021-05-13T14:41:43.700638Z",
     "shell.execute_reply.started": "2021-05-13T14:41:43.664632Z"
    }
   },
   "outputs": [
    {
     "data": {
      "text/html": [
       "<div>\n",
       "<style scoped>\n",
       "    .dataframe tbody tr th:only-of-type {\n",
       "        vertical-align: middle;\n",
       "    }\n",
       "\n",
       "    .dataframe tbody tr th {\n",
       "        vertical-align: top;\n",
       "    }\n",
       "\n",
       "    .dataframe thead th {\n",
       "        text-align: right;\n",
       "    }\n",
       "</style>\n",
       "<table border=\"1\" class=\"dataframe\">\n",
       "  <thead>\n",
       "    <tr style=\"text-align: right;\">\n",
       "      <th></th>\n",
       "      <th>idUtente</th>\n",
       "      <th>idVeicolo</th>\n",
       "      <th>carica_batteria_inizio</th>\n",
       "      <th>carica_batteria_fine</th>\n",
       "      <th>distanza_percorsa</th>\n",
       "      <th>tempo_viaggio</th>\n",
       "      <th>due_caschi_disponibili</th>\n",
       "      <th>lat_ritiro</th>\n",
       "      <th>lon_ritiro</th>\n",
       "      <th>lat_consegna</th>\n",
       "      <th>lon_consegna</th>\n",
       "      <th>punteggioViaggio</th>\n",
       "      <th>incidente</th>\n",
       "    </tr>\n",
       "  </thead>\n",
       "  <tbody>\n",
       "    <tr>\n",
       "      <th>0</th>\n",
       "      <td>5954</td>\n",
       "      <td>33</td>\n",
       "      <td>1.0</td>\n",
       "      <td>0.902</td>\n",
       "      <td>4.5046</td>\n",
       "      <td>800.0</td>\n",
       "      <td>1</td>\n",
       "      <td>44.395187</td>\n",
       "      <td>8.943839</td>\n",
       "      <td>44.433997</td>\n",
       "      <td>8.958993</td>\n",
       "      <td>7.55</td>\n",
       "      <td>0</td>\n",
       "    </tr>\n",
       "    <tr>\n",
       "      <th>1</th>\n",
       "      <td>3403</td>\n",
       "      <td>103</td>\n",
       "      <td>1.0</td>\n",
       "      <td>0.826</td>\n",
       "      <td>9.2642</td>\n",
       "      <td>1661.0</td>\n",
       "      <td>1</td>\n",
       "      <td>44.500364</td>\n",
       "      <td>8.903750</td>\n",
       "      <td>44.418102</td>\n",
       "      <td>8.921511</td>\n",
       "      <td>8.02</td>\n",
       "      <td>0</td>\n",
       "    </tr>\n",
       "    <tr>\n",
       "      <th>2</th>\n",
       "      <td>3723</td>\n",
       "      <td>6</td>\n",
       "      <td>1.0</td>\n",
       "      <td>0.842</td>\n",
       "      <td>9.4183</td>\n",
       "      <td>1725.0</td>\n",
       "      <td>1</td>\n",
       "      <td>44.404962</td>\n",
       "      <td>8.958834</td>\n",
       "      <td>44.427686</td>\n",
       "      <td>8.845441</td>\n",
       "      <td>8.23</td>\n",
       "      <td>0</td>\n",
       "    </tr>\n",
       "    <tr>\n",
       "      <th>3</th>\n",
       "      <td>8584</td>\n",
       "      <td>95</td>\n",
       "      <td>1.0</td>\n",
       "      <td>0.880</td>\n",
       "      <td>5.4345</td>\n",
       "      <td>1117.0</td>\n",
       "      <td>1</td>\n",
       "      <td>44.416055</td>\n",
       "      <td>8.933609</td>\n",
       "      <td>44.421707</td>\n",
       "      <td>8.865676</td>\n",
       "      <td>5.20</td>\n",
       "      <td>0</td>\n",
       "    </tr>\n",
       "    <tr>\n",
       "      <th>4</th>\n",
       "      <td>4677</td>\n",
       "      <td>72</td>\n",
       "      <td>1.0</td>\n",
       "      <td>0.960</td>\n",
       "      <td>2.9638</td>\n",
       "      <td>558.0</td>\n",
       "      <td>1</td>\n",
       "      <td>44.418413</td>\n",
       "      <td>8.927100</td>\n",
       "      <td>44.403133</td>\n",
       "      <td>8.957791</td>\n",
       "      <td>5.34</td>\n",
       "      <td>0</td>\n",
       "    </tr>\n",
       "  </tbody>\n",
       "</table>\n",
       "</div>"
      ],
      "text/plain": [
       "   idUtente  idVeicolo  carica_batteria_inizio  carica_batteria_fine  \\\n",
       "0      5954         33                     1.0                 0.902   \n",
       "1      3403        103                     1.0                 0.826   \n",
       "2      3723          6                     1.0                 0.842   \n",
       "3      8584         95                     1.0                 0.880   \n",
       "4      4677         72                     1.0                 0.960   \n",
       "\n",
       "   distanza_percorsa  tempo_viaggio  due_caschi_disponibili  lat_ritiro  \\\n",
       "0             4.5046          800.0                       1   44.395187   \n",
       "1             9.2642         1661.0                       1   44.500364   \n",
       "2             9.4183         1725.0                       1   44.404962   \n",
       "3             5.4345         1117.0                       1   44.416055   \n",
       "4             2.9638          558.0                       1   44.418413   \n",
       "\n",
       "   lon_ritiro  lat_consegna  lon_consegna  punteggioViaggio  incidente  \n",
       "0    8.943839     44.433997      8.958993              7.55          0  \n",
       "1    8.903750     44.418102      8.921511              8.02          0  \n",
       "2    8.958834     44.427686      8.845441              8.23          0  \n",
       "3    8.933609     44.421707      8.865676              5.20          0  \n",
       "4    8.927100     44.403133      8.957791              5.34          0  "
      ]
     },
     "execution_count": 3,
     "metadata": {},
     "output_type": "execute_result"
    }
   ],
   "source": [
    "dataset.head()"
   ]
  },
  {
   "cell_type": "code",
   "execution_count": 4,
   "metadata": {
    "execution": {
     "iopub.execute_input": "2021-05-13T14:41:43.703637Z",
     "iopub.status.busy": "2021-05-13T14:41:43.702646Z",
     "iopub.status.idle": "2021-05-13T14:41:43.710634Z",
     "shell.execute_reply": "2021-05-13T14:41:43.709634Z",
     "shell.execute_reply.started": "2021-05-13T14:41:43.703637Z"
    }
   },
   "outputs": [
    {
     "data": {
      "text/plain": [
       "idUtente                    int64\n",
       "idVeicolo                   int64\n",
       "carica_batteria_inizio    float64\n",
       "carica_batteria_fine      float64\n",
       "distanza_percorsa         float64\n",
       "tempo_viaggio             float64\n",
       "due_caschi_disponibili      int64\n",
       "lat_ritiro                float64\n",
       "lon_ritiro                float64\n",
       "lat_consegna              float64\n",
       "lon_consegna              float64\n",
       "punteggioViaggio          float64\n",
       "incidente                   int64\n",
       "dtype: object"
      ]
     },
     "execution_count": 4,
     "metadata": {},
     "output_type": "execute_result"
    }
   ],
   "source": [
    "dataset.dtypes"
   ]
  },
  {
   "cell_type": "markdown",
   "metadata": {},
   "source": [
    "## Classificazione incidenti"
   ]
  },
  {
   "cell_type": "code",
   "execution_count": 5,
   "metadata": {
    "execution": {
     "iopub.execute_input": "2021-05-13T14:41:43.713632Z",
     "iopub.status.busy": "2021-05-13T14:41:43.712632Z",
     "iopub.status.idle": "2021-05-13T14:41:43.732633Z",
     "shell.execute_reply": "2021-05-13T14:41:43.731633Z",
     "shell.execute_reply.started": "2021-05-13T14:41:43.712632Z"
    }
   },
   "outputs": [
    {
     "data": {
      "text/plain": [
       "'incidente'"
      ]
     },
     "metadata": {},
     "output_type": "display_data"
    },
    {
     "name": "stdout",
     "output_type": "stream",
     "text": [
      "\n"
     ]
    },
    {
     "data": {
      "text/plain": [
       "['idUtente',\n",
       " 'idVeicolo',\n",
       " 'carica_batteria_inizio',\n",
       " 'carica_batteria_fine',\n",
       " 'distanza_percorsa',\n",
       " 'tempo_viaggio',\n",
       " 'due_caschi_disponibili',\n",
       " 'lat_ritiro',\n",
       " 'lon_ritiro',\n",
       " 'lat_consegna',\n",
       " 'lon_consegna',\n",
       " 'punteggioViaggio']"
      ]
     },
     "metadata": {},
     "output_type": "display_data"
    }
   ],
   "source": [
    "features = list(dataset.columns)[:-1]\n",
    "target = 'incidente'\n",
    "\n",
    "display(target)\n",
    "print()\n",
    "display(features)"
   ]
  },
  {
   "cell_type": "code",
   "execution_count": 6,
   "metadata": {
    "execution": {
     "iopub.execute_input": "2021-05-13T14:41:43.733635Z",
     "iopub.status.busy": "2021-05-13T14:41:43.733635Z",
     "iopub.status.idle": "2021-05-13T14:41:43.747379Z",
     "shell.execute_reply": "2021-05-13T14:41:43.746248Z",
     "shell.execute_reply.started": "2021-05-13T14:41:43.733635Z"
    }
   },
   "outputs": [],
   "source": [
    "dfX = dataset[features]\n",
    "dfy = dataset[target]"
   ]
  },
  {
   "cell_type": "code",
   "execution_count": 7,
   "metadata": {
    "execution": {
     "iopub.execute_input": "2021-05-13T14:41:43.748992Z",
     "iopub.status.busy": "2021-05-13T14:41:43.748992Z",
     "iopub.status.idle": "2021-05-13T14:41:43.770507Z",
     "shell.execute_reply": "2021-05-13T14:41:43.769518Z",
     "shell.execute_reply.started": "2021-05-13T14:41:43.748992Z"
    }
   },
   "outputs": [
    {
     "data": {
      "text/html": [
       "<div>\n",
       "<style scoped>\n",
       "    .dataframe tbody tr th:only-of-type {\n",
       "        vertical-align: middle;\n",
       "    }\n",
       "\n",
       "    .dataframe tbody tr th {\n",
       "        vertical-align: top;\n",
       "    }\n",
       "\n",
       "    .dataframe thead th {\n",
       "        text-align: right;\n",
       "    }\n",
       "</style>\n",
       "<table border=\"1\" class=\"dataframe\">\n",
       "  <thead>\n",
       "    <tr style=\"text-align: right;\">\n",
       "      <th></th>\n",
       "      <th>idUtente</th>\n",
       "      <th>idVeicolo</th>\n",
       "      <th>carica_batteria_inizio</th>\n",
       "      <th>carica_batteria_fine</th>\n",
       "      <th>distanza_percorsa</th>\n",
       "      <th>tempo_viaggio</th>\n",
       "      <th>due_caschi_disponibili</th>\n",
       "      <th>lat_ritiro</th>\n",
       "      <th>lon_ritiro</th>\n",
       "      <th>lat_consegna</th>\n",
       "      <th>lon_consegna</th>\n",
       "      <th>punteggioViaggio</th>\n",
       "    </tr>\n",
       "  </thead>\n",
       "  <tbody>\n",
       "    <tr>\n",
       "      <th>0</th>\n",
       "      <td>5954</td>\n",
       "      <td>33</td>\n",
       "      <td>1.0</td>\n",
       "      <td>0.902</td>\n",
       "      <td>4.5046</td>\n",
       "      <td>800.0</td>\n",
       "      <td>1</td>\n",
       "      <td>44.395187</td>\n",
       "      <td>8.943839</td>\n",
       "      <td>44.433997</td>\n",
       "      <td>8.958993</td>\n",
       "      <td>7.55</td>\n",
       "    </tr>\n",
       "    <tr>\n",
       "      <th>1</th>\n",
       "      <td>3403</td>\n",
       "      <td>103</td>\n",
       "      <td>1.0</td>\n",
       "      <td>0.826</td>\n",
       "      <td>9.2642</td>\n",
       "      <td>1661.0</td>\n",
       "      <td>1</td>\n",
       "      <td>44.500364</td>\n",
       "      <td>8.903750</td>\n",
       "      <td>44.418102</td>\n",
       "      <td>8.921511</td>\n",
       "      <td>8.02</td>\n",
       "    </tr>\n",
       "    <tr>\n",
       "      <th>2</th>\n",
       "      <td>3723</td>\n",
       "      <td>6</td>\n",
       "      <td>1.0</td>\n",
       "      <td>0.842</td>\n",
       "      <td>9.4183</td>\n",
       "      <td>1725.0</td>\n",
       "      <td>1</td>\n",
       "      <td>44.404962</td>\n",
       "      <td>8.958834</td>\n",
       "      <td>44.427686</td>\n",
       "      <td>8.845441</td>\n",
       "      <td>8.23</td>\n",
       "    </tr>\n",
       "    <tr>\n",
       "      <th>3</th>\n",
       "      <td>8584</td>\n",
       "      <td>95</td>\n",
       "      <td>1.0</td>\n",
       "      <td>0.880</td>\n",
       "      <td>5.4345</td>\n",
       "      <td>1117.0</td>\n",
       "      <td>1</td>\n",
       "      <td>44.416055</td>\n",
       "      <td>8.933609</td>\n",
       "      <td>44.421707</td>\n",
       "      <td>8.865676</td>\n",
       "      <td>5.20</td>\n",
       "    </tr>\n",
       "    <tr>\n",
       "      <th>4</th>\n",
       "      <td>4677</td>\n",
       "      <td>72</td>\n",
       "      <td>1.0</td>\n",
       "      <td>0.960</td>\n",
       "      <td>2.9638</td>\n",
       "      <td>558.0</td>\n",
       "      <td>1</td>\n",
       "      <td>44.418413</td>\n",
       "      <td>8.927100</td>\n",
       "      <td>44.403133</td>\n",
       "      <td>8.957791</td>\n",
       "      <td>5.34</td>\n",
       "    </tr>\n",
       "  </tbody>\n",
       "</table>\n",
       "</div>"
      ],
      "text/plain": [
       "   idUtente  idVeicolo  carica_batteria_inizio  carica_batteria_fine  \\\n",
       "0      5954         33                     1.0                 0.902   \n",
       "1      3403        103                     1.0                 0.826   \n",
       "2      3723          6                     1.0                 0.842   \n",
       "3      8584         95                     1.0                 0.880   \n",
       "4      4677         72                     1.0                 0.960   \n",
       "\n",
       "   distanza_percorsa  tempo_viaggio  due_caschi_disponibili  lat_ritiro  \\\n",
       "0             4.5046          800.0                       1   44.395187   \n",
       "1             9.2642         1661.0                       1   44.500364   \n",
       "2             9.4183         1725.0                       1   44.404962   \n",
       "3             5.4345         1117.0                       1   44.416055   \n",
       "4             2.9638          558.0                       1   44.418413   \n",
       "\n",
       "   lon_ritiro  lat_consegna  lon_consegna  punteggioViaggio  \n",
       "0    8.943839     44.433997      8.958993              7.55  \n",
       "1    8.903750     44.418102      8.921511              8.02  \n",
       "2    8.958834     44.427686      8.845441              8.23  \n",
       "3    8.933609     44.421707      8.865676              5.20  \n",
       "4    8.927100     44.403133      8.957791              5.34  "
      ]
     },
     "execution_count": 7,
     "metadata": {},
     "output_type": "execute_result"
    }
   ],
   "source": [
    "dfX.head()"
   ]
  },
  {
   "cell_type": "code",
   "execution_count": 8,
   "metadata": {
    "execution": {
     "iopub.execute_input": "2021-05-13T14:41:43.772507Z",
     "iopub.status.busy": "2021-05-13T14:41:43.772507Z",
     "iopub.status.idle": "2021-05-13T14:41:43.779517Z",
     "shell.execute_reply": "2021-05-13T14:41:43.778507Z",
     "shell.execute_reply.started": "2021-05-13T14:41:43.772507Z"
    }
   },
   "outputs": [
    {
     "data": {
      "text/plain": [
       "0    0\n",
       "1    0\n",
       "2    0\n",
       "3    0\n",
       "4    0\n",
       "Name: incidente, dtype: int64"
      ]
     },
     "execution_count": 8,
     "metadata": {},
     "output_type": "execute_result"
    }
   ],
   "source": [
    "dfy.head()"
   ]
  },
  {
   "cell_type": "markdown",
   "metadata": {
    "execution": {
     "iopub.execute_input": "2021-05-05T12:17:06.468267Z",
     "iopub.status.busy": "2021-05-05T12:17:06.467247Z",
     "iopub.status.idle": "2021-05-05T12:17:06.478631Z",
     "shell.execute_reply": "2021-05-05T12:17:06.476238Z",
     "shell.execute_reply.started": "2021-05-05T12:17:06.468267Z"
    }
   },
   "source": [
    "### Esercizio\n",
    "Visualizza la distribuzione della target feature. Cosa noti?"
   ]
  },
  {
   "cell_type": "code",
   "execution_count": 9,
   "metadata": {
    "execution": {
     "iopub.execute_input": "2021-05-13T14:41:43.782514Z",
     "iopub.status.busy": "2021-05-13T14:41:43.781513Z",
     "iopub.status.idle": "2021-05-13T14:41:44.626769Z",
     "shell.execute_reply": "2021-05-13T14:41:44.625780Z",
     "shell.execute_reply.started": "2021-05-13T14:41:43.782514Z"
    }
   },
   "outputs": [
    {
     "data": {
      "image/png": "[encoded data removed]",
      "text/plain": [
       "<Figure size 432x288 with 1 Axes>"
      ]
     },
     "metadata": {
      "needs_background": "light"
     },
     "output_type": "display_data"
    }
   ],
   "source": [
    "dfy.hist();"
   ]
  },
  {
   "cell_type": "markdown",
   "metadata": {
    "execution": {
     "iopub.execute_input": "2021-05-05T12:18:24.168624Z",
     "iopub.status.busy": "2021-05-05T12:18:24.168624Z",
     "iopub.status.idle": "2021-05-05T12:18:24.174622Z",
     "shell.execute_reply": "2021-05-05T12:18:24.173660Z",
     "shell.execute_reply.started": "2021-05-05T12:18:24.168624Z"
    }
   },
   "source": [
    "### Esercizio\n",
    "Calcola il rate di incidenti sul totale viaggi"
   ]
  },
  {
   "cell_type": "code",
   "execution_count": 10,
   "metadata": {
    "execution": {
     "iopub.execute_input": "2021-05-13T14:41:44.627773Z",
     "iopub.status.busy": "2021-05-13T14:41:44.627773Z",
     "iopub.status.idle": "2021-05-13T14:41:44.635772Z",
     "shell.execute_reply": "2021-05-13T14:41:44.634772Z",
     "shell.execute_reply.started": "2021-05-13T14:41:44.627773Z"
    }
   },
   "outputs": [
    {
     "data": {
      "text/plain": [
       "0.0063739892674161665"
      ]
     },
     "execution_count": 10,
     "metadata": {},
     "output_type": "execute_result"
    }
   ],
   "source": [
    "rate_incidente = dfy.sum()/len(dfy)\n",
    "rate_incidente"
   ]
  },
  {
   "cell_type": "code",
   "execution_count": 44,
   "metadata": {
    "execution": {
     "iopub.execute_input": "2021-05-13T14:42:21.771955Z",
     "iopub.status.busy": "2021-05-13T14:42:21.771955Z",
     "iopub.status.idle": "2021-05-13T14:42:21.777956Z",
     "shell.execute_reply": "2021-05-13T14:42:21.776951Z",
     "shell.execute_reply.started": "2021-05-13T14:42:21.771955Z"
    },
    "tags": []
   },
   "outputs": [
    {
     "data": {
      "text/plain": [
       "82366"
      ]
     },
     "execution_count": 44,
     "metadata": {},
     "output_type": "execute_result"
    }
   ],
   "source": [
    "len(dfy)"
   ]
  },
  {
   "cell_type": "markdown",
   "metadata": {},
   "source": [
    "## Train/Test split"
   ]
  },
  {
   "cell_type": "code",
   "execution_count": 11,
   "metadata": {
    "execution": {
     "iopub.execute_input": "2021-05-13T14:41:44.637773Z",
     "iopub.status.busy": "2021-05-13T14:41:44.636776Z",
     "iopub.status.idle": "2021-05-13T14:41:46.326709Z",
     "shell.execute_reply": "2021-05-13T14:41:46.326709Z",
     "shell.execute_reply.started": "2021-05-13T14:41:44.637773Z"
    }
   },
   "outputs": [],
   "source": [
    "from sklearn.model_selection import train_test_split"
   ]
  },
  {
   "cell_type": "code",
   "execution_count": 12,
   "metadata": {
    "execution": {
     "iopub.execute_input": "2021-05-13T14:41:46.327534Z",
     "iopub.status.busy": "2021-05-13T14:41:46.327534Z",
     "iopub.status.idle": "2021-05-13T14:41:46.365537Z",
     "shell.execute_reply": "2021-05-13T14:41:46.364548Z",
     "shell.execute_reply.started": "2021-05-13T14:41:46.327534Z"
    }
   },
   "outputs": [
    {
     "data": {
      "text/html": [
       "<div>\n",
       "<style scoped>\n",
       "    .dataframe tbody tr th:only-of-type {\n",
       "        vertical-align: middle;\n",
       "    }\n",
       "\n",
       "    .dataframe tbody tr th {\n",
       "        vertical-align: top;\n",
       "    }\n",
       "\n",
       "    .dataframe thead th {\n",
       "        text-align: right;\n",
       "    }\n",
       "</style>\n",
       "<table border=\"1\" class=\"dataframe\">\n",
       "  <thead>\n",
       "    <tr style=\"text-align: right;\">\n",
       "      <th></th>\n",
       "      <th>idUtente</th>\n",
       "      <th>idVeicolo</th>\n",
       "      <th>carica_batteria_inizio</th>\n",
       "      <th>carica_batteria_fine</th>\n",
       "      <th>distanza_percorsa</th>\n",
       "      <th>tempo_viaggio</th>\n",
       "      <th>due_caschi_disponibili</th>\n",
       "      <th>lat_ritiro</th>\n",
       "      <th>lon_ritiro</th>\n",
       "      <th>lat_consegna</th>\n",
       "      <th>lon_consegna</th>\n",
       "      <th>punteggioViaggio</th>\n",
       "    </tr>\n",
       "  </thead>\n",
       "  <tbody>\n",
       "    <tr>\n",
       "      <th>17243</th>\n",
       "      <td>8237</td>\n",
       "      <td>8</td>\n",
       "      <td>1.0</td>\n",
       "      <td>0.985</td>\n",
       "      <td>1.3734</td>\n",
       "      <td>276.0</td>\n",
       "      <td>1</td>\n",
       "      <td>44.412992</td>\n",
       "      <td>8.942201</td>\n",
       "      <td>44.406634</td>\n",
       "      <td>8.956793</td>\n",
       "      <td>5.59</td>\n",
       "    </tr>\n",
       "    <tr>\n",
       "      <th>77619</th>\n",
       "      <td>6483</td>\n",
       "      <td>91</td>\n",
       "      <td>1.0</td>\n",
       "      <td>0.854</td>\n",
       "      <td>6.8563</td>\n",
       "      <td>1259.0</td>\n",
       "      <td>1</td>\n",
       "      <td>44.410864</td>\n",
       "      <td>8.940977</td>\n",
       "      <td>44.423178</td>\n",
       "      <td>8.856676</td>\n",
       "      <td>7.46</td>\n",
       "    </tr>\n",
       "    <tr>\n",
       "      <th>55859</th>\n",
       "      <td>8796</td>\n",
       "      <td>32</td>\n",
       "      <td>1.0</td>\n",
       "      <td>0.933</td>\n",
       "      <td>0.0129</td>\n",
       "      <td>6.0</td>\n",
       "      <td>1</td>\n",
       "      <td>44.436156</td>\n",
       "      <td>8.879053</td>\n",
       "      <td>44.435973</td>\n",
       "      <td>8.879099</td>\n",
       "      <td>8.43</td>\n",
       "    </tr>\n",
       "    <tr>\n",
       "      <th>79106</th>\n",
       "      <td>673</td>\n",
       "      <td>42</td>\n",
       "      <td>1.0</td>\n",
       "      <td>0.899</td>\n",
       "      <td>5.7239</td>\n",
       "      <td>972.0</td>\n",
       "      <td>1</td>\n",
       "      <td>44.463144</td>\n",
       "      <td>8.900505</td>\n",
       "      <td>44.421233</td>\n",
       "      <td>8.859474</td>\n",
       "      <td>7.82</td>\n",
       "    </tr>\n",
       "    <tr>\n",
       "      <th>70141</th>\n",
       "      <td>1072</td>\n",
       "      <td>51</td>\n",
       "      <td>1.0</td>\n",
       "      <td>0.885</td>\n",
       "      <td>7.3111</td>\n",
       "      <td>1339.0</td>\n",
       "      <td>1</td>\n",
       "      <td>44.415518</td>\n",
       "      <td>8.885728</td>\n",
       "      <td>44.411063</td>\n",
       "      <td>8.977348</td>\n",
       "      <td>5.28</td>\n",
       "    </tr>\n",
       "  </tbody>\n",
       "</table>\n",
       "</div>"
      ],
      "text/plain": [
       "       idUtente  idVeicolo  carica_batteria_inizio  carica_batteria_fine  \\\n",
       "17243      8237          8                     1.0                 0.985   \n",
       "77619      6483         91                     1.0                 0.854   \n",
       "55859      8796         32                     1.0                 0.933   \n",
       "79106       673         42                     1.0                 0.899   \n",
       "70141      1072         51                     1.0                 0.885   \n",
       "\n",
       "       distanza_percorsa  tempo_viaggio  due_caschi_disponibili  lat_ritiro  \\\n",
       "17243             1.3734          276.0                       1   44.412992   \n",
       "77619             6.8563         1259.0                       1   44.410864   \n",
       "55859             0.0129            6.0                       1   44.436156   \n",
       "79106             5.7239          972.0                       1   44.463144   \n",
       "70141             7.3111         1339.0                       1   44.415518   \n",
       "\n",
       "       lon_ritiro  lat_consegna  lon_consegna  punteggioViaggio  \n",
       "17243    8.942201     44.406634      8.956793              5.59  \n",
       "77619    8.940977     44.423178      8.856676              7.46  \n",
       "55859    8.879053     44.435973      8.879099              8.43  \n",
       "79106    8.900505     44.421233      8.859474              7.82  \n",
       "70141    8.885728     44.411063      8.977348              5.28  "
      ]
     },
     "execution_count": 12,
     "metadata": {},
     "output_type": "execute_result"
    }
   ],
   "source": [
    "X_train, X_test, y_train, y_test = train_test_split(dfX, dfy, test_size=0.33)\n",
    "X_train.head()"
   ]
  },
  {
   "cell_type": "markdown",
   "metadata": {},
   "source": [
    "### Esercizio\n",
    "Verifica che il rate di incidenti nel train e nel test set sia comparabile.\n",
    "\n",
    "_Approfondimento (BONUS): [stratification](https://scikit-learn.org/stable/modules/cross_validation.html#stratified-k-fold)_"
   ]
  },
  {
   "cell_type": "code",
   "execution_count": 13,
   "metadata": {
    "execution": {
     "iopub.execute_input": "2021-05-13T14:41:46.366536Z",
     "iopub.status.busy": "2021-05-13T14:41:46.366536Z",
     "iopub.status.idle": "2021-05-13T14:41:46.374535Z",
     "shell.execute_reply": "2021-05-13T14:41:46.373536Z",
     "shell.execute_reply.started": "2021-05-13T14:41:46.366536Z"
    },
    "tags": []
   },
   "outputs": [
    {
     "data": {
      "text/plain": [
       "(0.0062516988312041315, 0.006622272911224753, 0.0592757408867768)"
      ]
     },
     "execution_count": 13,
     "metadata": {},
     "output_type": "execute_result"
    }
   ],
   "source": [
    "rate_train = y_train.sum()/len(y_train)\n",
    "rate_test = y_test.sum()/len(y_test)\n",
    "\n",
    "rate_train, rate_test, abs((rate_test - rate_train)/rate_train)"
   ]
  },
  {
   "cell_type": "markdown",
   "metadata": {},
   "source": [
    "## Decision tree"
   ]
  },
  {
   "cell_type": "markdown",
   "metadata": {},
   "source": [
    "### Esercizio\n",
    "Allena il modello sul training set e confronta le performance di classificazione su training e test set sfruttando `plot_confusion_matrix`\n",
    "\n",
    "Cosa noti?\n",
    "\n",
    "**Hint**: prova ad impostare il parametro `normalize='true'` nella `plot_confusion_matrix`."
   ]
  },
  {
   "cell_type": "code",
   "execution_count": 14,
   "metadata": {
    "execution": {
     "iopub.execute_input": "2021-05-13T14:41:46.375542Z",
     "iopub.status.busy": "2021-05-13T14:41:46.375542Z",
     "iopub.status.idle": "2021-05-13T14:41:46.596581Z",
     "shell.execute_reply": "2021-05-13T14:41:46.596581Z",
     "shell.execute_reply.started": "2021-05-13T14:41:46.375542Z"
    }
   },
   "outputs": [],
   "source": [
    "from sklearn import tree"
   ]
  },
  {
   "cell_type": "code",
   "execution_count": 15,
   "metadata": {
    "execution": {
     "iopub.execute_input": "2021-05-13T14:41:46.597533Z",
     "iopub.status.busy": "2021-05-13T14:41:46.597533Z",
     "iopub.status.idle": "2021-05-13T14:41:46.765237Z",
     "shell.execute_reply": "2021-05-13T14:41:46.764655Z",
     "shell.execute_reply.started": "2021-05-13T14:41:46.597533Z"
    }
   },
   "outputs": [],
   "source": [
    "model = tree.DecisionTreeClassifier().fit(X_train, y_train)"
   ]
  },
  {
   "cell_type": "code",
   "execution_count": 16,
   "metadata": {
    "execution": {
     "iopub.execute_input": "2021-05-13T14:41:46.766295Z",
     "iopub.status.busy": "2021-05-13T14:41:46.766295Z",
     "iopub.status.idle": "2021-05-13T14:41:46.769573Z",
     "shell.execute_reply": "2021-05-13T14:41:46.769050Z",
     "shell.execute_reply.started": "2021-05-13T14:41:46.766295Z"
    }
   },
   "outputs": [],
   "source": [
    "from sklearn.metrics import plot_confusion_matrix"
   ]
  },
  {
   "cell_type": "code",
   "execution_count": 17,
   "metadata": {
    "execution": {
     "iopub.execute_input": "2021-05-13T14:41:46.771611Z",
     "iopub.status.busy": "2021-05-13T14:41:46.771611Z",
     "iopub.status.idle": "2021-05-13T14:41:46.994200Z",
     "shell.execute_reply": "2021-05-13T14:41:46.994200Z",
     "shell.execute_reply.started": "2021-05-13T14:41:46.771611Z"
    }
   },
   "outputs": [
    {
     "data": {
      "image/png": "[encoded data removed]",
      "text/plain": [
       "<Figure size 432x288 with 2 Axes>"
      ]
     },
     "metadata": {
      "needs_background": "light"
     },
     "output_type": "display_data"
    }
   ],
   "source": [
    "plot_confusion_matrix(model, X_train, y_train, cmap='Greys', normalize='true');"
   ]
  },
  {
   "cell_type": "code",
   "execution_count": 18,
   "metadata": {
    "execution": {
     "iopub.execute_input": "2021-05-13T14:41:46.996183Z",
     "iopub.status.busy": "2021-05-13T14:41:46.995185Z",
     "iopub.status.idle": "2021-05-13T14:41:47.174184Z",
     "shell.execute_reply": "2021-05-13T14:41:47.174184Z",
     "shell.execute_reply.started": "2021-05-13T14:41:46.996183Z"
    }
   },
   "outputs": [
    {
     "data": {
      "image/png": "[encoded data removed]",
      "text/plain": [
       "<Figure size 432x288 with 2 Axes>"
      ]
     },
     "metadata": {
      "needs_background": "light"
     },
     "output_type": "display_data"
    }
   ],
   "source": [
    "plot_confusion_matrix(model, X_test, y_test, cmap='Greys', normalize='true');"
   ]
  },
  {
   "cell_type": "markdown",
   "metadata": {},
   "source": [
    "### Esercizio\n",
    "\n",
    "Prova a riallenare il modello scegliendo un valore di `max_depth` che renda più simili le performance su training e test set"
   ]
  },
  {
   "cell_type": "code",
   "execution_count": 19,
   "metadata": {
    "execution": {
     "iopub.execute_input": "2021-05-13T14:41:47.176185Z",
     "iopub.status.busy": "2021-05-13T14:41:47.175188Z",
     "iopub.status.idle": "2021-05-13T14:41:47.337802Z",
     "shell.execute_reply": "2021-05-13T14:41:47.336912Z",
     "shell.execute_reply.started": "2021-05-13T14:41:47.176185Z"
    }
   },
   "outputs": [],
   "source": [
    "model = tree.DecisionTreeClassifier(max_depth=25).fit(X_train, y_train)"
   ]
  },
  {
   "cell_type": "code",
   "execution_count": 20,
   "metadata": {
    "execution": {
     "iopub.execute_input": "2021-05-13T14:41:47.338845Z",
     "iopub.status.busy": "2021-05-13T14:41:47.337802Z",
     "iopub.status.idle": "2021-05-13T14:41:47.540804Z",
     "shell.execute_reply": "2021-05-13T14:41:47.539802Z",
     "shell.execute_reply.started": "2021-05-13T14:41:47.338845Z"
    }
   },
   "outputs": [
    {
     "data": {
      "image/png": "[encoded data removed]",
      "text/plain": [
       "<Figure size 432x288 with 2 Axes>"
      ]
     },
     "metadata": {
      "needs_background": "light"
     },
     "output_type": "display_data"
    }
   ],
   "source": [
    "plot_confusion_matrix(model, X_train, y_train, cmap='Greys', normalize='true');"
   ]
  },
  {
   "cell_type": "code",
   "execution_count": 21,
   "metadata": {
    "execution": {
     "iopub.execute_input": "2021-05-13T14:41:47.543801Z",
     "iopub.status.busy": "2021-05-13T14:41:47.542867Z",
     "iopub.status.idle": "2021-05-13T14:41:47.717801Z",
     "shell.execute_reply": "2021-05-13T14:41:47.717801Z",
     "shell.execute_reply.started": "2021-05-13T14:41:47.543801Z"
    }
   },
   "outputs": [
    {
     "data": {
      "image/png": "[encoded data removed]",
      "text/plain": [
       "<Figure size 432x288 with 2 Axes>"
      ]
     },
     "metadata": {
      "needs_background": "light"
     },
     "output_type": "display_data"
    }
   ],
   "source": [
    "plot_confusion_matrix(model, X_test, y_test, cmap='Greys', normalize='true');"
   ]
  },
  {
   "cell_type": "markdown",
   "metadata": {},
   "source": [
    "### Esercizio\n",
    "Task di classificazione su dataset _sbilanciati_ sono più complicati.\n",
    "\n",
    "Alcuni algoritmi, tra cui il DecisionTree, supportano un keyword argument `class_weight` con cui modificare il peso assegnato a ciascuna classe in fase di allenamento.\n",
    "\n",
    "Prova a settare i pesi delle due classi per \"ribilanciare\" il dataset."
   ]
  },
  {
   "cell_type": "code",
   "execution_count": 22,
   "metadata": {
    "execution": {
     "iopub.execute_input": "2021-05-13T14:41:47.718802Z",
     "iopub.status.busy": "2021-05-13T14:41:47.718802Z",
     "iopub.status.idle": "2021-05-13T14:41:47.725800Z",
     "shell.execute_reply": "2021-05-13T14:41:47.724805Z",
     "shell.execute_reply.started": "2021-05-13T14:41:47.718802Z"
    },
    "tags": []
   },
   "outputs": [
    {
     "data": {
      "text/plain": [
       "{0: 1.0062910284463895, 1: 159.95652173913044}"
      ]
     },
     "execution_count": 22,
     "metadata": {},
     "output_type": "execute_result"
    }
   ],
   "source": [
    "class_weight = {\n",
    "    0: len(y_train)/(len(y_train) - y_train.sum()), \n",
    "    1: len(y_train)/y_train.sum()\n",
    "}\n",
    "class_weight"
   ]
  },
  {
   "cell_type": "code",
   "execution_count": 23,
   "metadata": {
    "execution": {
     "iopub.execute_input": "2021-05-13T14:41:47.726803Z",
     "iopub.status.busy": "2021-05-13T14:41:47.726803Z",
     "iopub.status.idle": "2021-05-13T14:41:47.734813Z",
     "shell.execute_reply": "2021-05-13T14:41:47.733804Z",
     "shell.execute_reply.started": "2021-05-13T14:41:47.726803Z"
    },
    "tags": []
   },
   "outputs": [
    {
     "data": {
      "text/plain": [
       "158.95652173913044"
      ]
     },
     "execution_count": 23,
     "metadata": {},
     "output_type": "execute_result"
    }
   ],
   "source": [
    "(len(y_train) - y_train.sum())/y_train.sum()"
   ]
  },
  {
   "cell_type": "code",
   "execution_count": 46,
   "metadata": {
    "execution": {
     "iopub.execute_input": "2021-05-13T15:42:58.181950Z",
     "iopub.status.busy": "2021-05-13T15:42:58.180906Z",
     "iopub.status.idle": "2021-05-13T15:42:58.188908Z",
     "shell.execute_reply": "2021-05-13T15:42:58.187907Z",
     "shell.execute_reply.started": "2021-05-13T15:42:58.181950Z"
    },
    "tags": []
   },
   "outputs": [
    {
     "data": {
      "text/plain": [
       "156.88761904761907"
      ]
     },
     "execution_count": 46,
     "metadata": {},
     "output_type": "execute_result"
    }
   ],
   "source": [
    "1/rate_incidente"
   ]
  },
  {
   "cell_type": "code",
   "execution_count": 24,
   "metadata": {
    "execution": {
     "iopub.execute_input": "2021-05-13T14:41:47.735806Z",
     "iopub.status.busy": "2021-05-13T14:41:47.735806Z",
     "iopub.status.idle": "2021-05-13T14:41:47.977963Z",
     "shell.execute_reply": "2021-05-13T14:41:47.977009Z",
     "shell.execute_reply.started": "2021-05-13T14:41:47.735806Z"
    }
   },
   "outputs": [],
   "source": [
    "model = tree.DecisionTreeClassifier(max_depth=25, class_weight=class_weight).fit(X_train, y_train)"
   ]
  },
  {
   "cell_type": "code",
   "execution_count": 25,
   "metadata": {
    "execution": {
     "iopub.execute_input": "2021-05-13T14:41:47.978994Z",
     "iopub.status.busy": "2021-05-13T14:41:47.978994Z",
     "iopub.status.idle": "2021-05-13T14:41:48.192968Z",
     "shell.execute_reply": "2021-05-13T14:41:48.191969Z",
     "shell.execute_reply.started": "2021-05-13T14:41:47.978994Z"
    }
   },
   "outputs": [
    {
     "data": {
      "image/png": "[encoded data removed]",
      "text/plain": [
       "<Figure size 432x288 with 2 Axes>"
      ]
     },
     "metadata": {
      "needs_background": "light"
     },
     "output_type": "display_data"
    }
   ],
   "source": [
    "plot_confusion_matrix(model, X_train, y_train, cmap='Greys', normalize='true');"
   ]
  },
  {
   "cell_type": "code",
   "execution_count": 26,
   "metadata": {
    "execution": {
     "iopub.execute_input": "2021-05-13T14:41:48.196966Z",
     "iopub.status.busy": "2021-05-13T14:41:48.195966Z",
     "iopub.status.idle": "2021-05-13T14:41:48.588382Z",
     "shell.execute_reply": "2021-05-13T14:41:48.588382Z",
     "shell.execute_reply.started": "2021-05-13T14:41:48.196966Z"
    }
   },
   "outputs": [
    {
     "data": {
      "image/png": "[encoded data removed]",
      "text/plain": [
       "<Figure size 432x288 with 2 Axes>"
      ]
     },
     "metadata": {
      "needs_background": "light"
     },
     "output_type": "display_data"
    }
   ],
   "source": [
    "plot_confusion_matrix(model, X_test, y_test, cmap='Greys', normalize='true');"
   ]
  },
  {
   "cell_type": "markdown",
   "metadata": {},
   "source": [
    "## Interpretazione business 🤑"
   ]
  },
  {
   "cell_type": "markdown",
   "metadata": {},
   "source": [
    "### Domanda\n",
    "\n",
    "In questo contesto di business, secondo te è più alto il costo di un falso positivo o di un falso negativo?"
   ]
  },
  {
   "cell_type": "markdown",
   "metadata": {},
   "source": [
    "```\n",
    "- dipende dal confronto tra il costo di un incidente e il ricavo di un viaggio\n",
    "- probabilmente il costo di incidente è maggiore\n",
    "- in questo caso, è preferibile classificare correttamente tutti gli incidenti al \"costo\" di avere molti falsi positivi e meno falsi negativi\n",
    "- ciò equivale a cercare un'alta recall a scapito della precision\n",
    "```"
   ]
  },
  {
   "cell_type": "markdown",
   "metadata": {},
   "source": [
    "### Domanda \n",
    "Il Business vorrebbe usare il nostro modello come segue:\n",
    "\n",
    "* se il modello classifica il viaggio imminente come \"incidente\", lo scooter si spegne e impedisce all'utente di partire 🚳\n",
    "\n",
    "\n",
    "Secondo te\n",
    "\n",
    "1. è un utilizzo _concretamente_ possibile?\n",
    "2. vedi delle controindicazioni?"
   ]
  },
  {
   "cell_type": "markdown",
   "metadata": {},
   "source": [
    "```\n",
    "1. in realtà non ho tutte le feature al momento del pickup\n",
    "2. se ho un modello con bassa precision, per contrastare tutti i potenziali incidenti sto impedendo molti viaggi a clienti virtuosi, che potrebbero quindi abbandonare il servizio insoddisfatti\n",
    "```"
   ]
  },
  {
   "cell_type": "markdown",
   "metadata": {},
   "source": [
    "### Domanda\n",
    "\n",
    "* Quali alternative ti vengono in mente per utilizzare effettivamente un modello come richiede il Business?\n",
    "* Quali potrebbero essere le difficoltà?"
   ]
  },
  {
   "cell_type": "markdown",
   "metadata": {},
   "source": [
    "```\n",
    "1. potrei\n",
    "    - provare a riallenarlo usando solo le feture disponibili al momento del pickup\n",
    "    - provare a riallenarlo utilizzando, in corrispondenza delle feature non disponibili al pickup, valori ricostruiti sulla base delle altre (es. driving score medio per quell'utente, etc.)\n",
    "2. nei due casi\n",
    "    - le performance potrebbero calare\n",
    "    - le performance potrebbero calare, la gestione dei modelli che stimano le feature mancanti sarebbe a sua volta complessa                                                                                                                                                \n",
    "```"
   ]
  },
  {
   "cell_type": "markdown",
   "metadata": {},
   "source": [
    "### Esercizio\n",
    "\n",
    "⚠️ supponiamo che tutte le features siano disponibili al momento del ritiro dello scooter ⚠️ \n",
    "\n",
    "Il Business ci chiede di stimare **come cambierebbe il profitto su base annua** in caso di utilizzo del modello di classificazione.\n",
    "\n",
    "Ricordiamo che il profitto (P) coincide con la differenza tra ricavo (R) e costo (C), in formula $P  = R - C$.\n",
    "\n",
    "Sappiamo che:\n",
    "    \n",
    "* il pricing di MiMocko è 0.26 EUR/minuto\n",
    "* la durata media di un viaggio è circa 18 minuti\n",
    "* il costo medio di un intervento di riparazione a seguito incidente è circa 200 EUR\n",
    "* il numero medio di viaggi all'anno è circa 50'000"
   ]
  },
  {
   "cell_type": "markdown",
   "metadata": {},
   "source": [
    "#### Hint\n",
    "\n",
    "Salva in delle variabili i dati del problema, e inizia calcolando il _ricavo medio per viaggio_."
   ]
  },
  {
   "cell_type": "code",
   "execution_count": 27,
   "metadata": {
    "execution": {
     "iopub.execute_input": "2021-05-13T14:41:48.591390Z",
     "iopub.status.busy": "2021-05-13T14:41:48.591390Z",
     "iopub.status.idle": "2021-05-13T14:41:48.595386Z",
     "shell.execute_reply": "2021-05-13T14:41:48.595386Z",
     "shell.execute_reply.started": "2021-05-13T14:41:48.591390Z"
    }
   },
   "outputs": [],
   "source": [
    "prezzo_al_minuto = 0.26\n",
    "minuti_viaggio = 18\n",
    "costo_riparazione = 200\n",
    "viaggi_annui = 50_000"
   ]
  },
  {
   "cell_type": "code",
   "execution_count": 28,
   "metadata": {
    "execution": {
     "iopub.execute_input": "2021-05-13T14:41:48.597383Z",
     "iopub.status.busy": "2021-05-13T14:41:48.597383Z",
     "iopub.status.idle": "2021-05-13T14:41:48.601381Z",
     "shell.execute_reply": "2021-05-13T14:41:48.600386Z",
     "shell.execute_reply.started": "2021-05-13T14:41:48.597383Z"
    }
   },
   "outputs": [],
   "source": [
    "ricavo_per_viaggio = minuti_viaggio * prezzo_al_minuto"
   ]
  },
  {
   "cell_type": "markdown",
   "metadata": {},
   "source": [
    "#### Hint\n",
    "E' utile salvare in una variabile la matrice di confusione del modello.\n",
    "\n",
    "* bisogna scegliere quella calcolata sul training o test set?\n",
    "* conviene normalizzarla o no?"
   ]
  },
  {
   "cell_type": "code",
   "execution_count": 29,
   "metadata": {
    "execution": {
     "iopub.execute_input": "2021-05-13T14:41:48.602386Z",
     "iopub.status.busy": "2021-05-13T14:41:48.602386Z",
     "iopub.status.idle": "2021-05-13T14:41:48.606382Z",
     "shell.execute_reply": "2021-05-13T14:41:48.605381Z",
     "shell.execute_reply.started": "2021-05-13T14:41:48.602386Z"
    }
   },
   "outputs": [],
   "source": [
    "from sklearn.metrics import confusion_matrix"
   ]
  },
  {
   "cell_type": "code",
   "execution_count": 30,
   "metadata": {
    "execution": {
     "iopub.execute_input": "2021-05-13T14:41:48.608388Z",
     "iopub.status.busy": "2021-05-13T14:41:48.607383Z",
     "iopub.status.idle": "2021-05-13T14:41:48.646383Z",
     "shell.execute_reply": "2021-05-13T14:41:48.646383Z",
     "shell.execute_reply.started": "2021-05-13T14:41:48.608388Z"
    }
   },
   "outputs": [
    {
     "data": {
      "text/html": [
       "<div>\n",
       "<style scoped>\n",
       "    .dataframe tbody tr th:only-of-type {\n",
       "        vertical-align: middle;\n",
       "    }\n",
       "\n",
       "    .dataframe tbody tr th {\n",
       "        vertical-align: top;\n",
       "    }\n",
       "\n",
       "    .dataframe thead th {\n",
       "        text-align: right;\n",
       "    }\n",
       "</style>\n",
       "<table border=\"1\" class=\"dataframe\">\n",
       "  <thead>\n",
       "    <tr style=\"text-align: right;\">\n",
       "      <th></th>\n",
       "      <th>0</th>\n",
       "      <th>1</th>\n",
       "    </tr>\n",
       "  </thead>\n",
       "  <tbody>\n",
       "    <tr>\n",
       "      <th>0</th>\n",
       "      <td>0.942975</td>\n",
       "      <td>0.050403</td>\n",
       "    </tr>\n",
       "    <tr>\n",
       "      <th>1</th>\n",
       "      <td>0.001876</td>\n",
       "      <td>0.004746</td>\n",
       "    </tr>\n",
       "  </tbody>\n",
       "</table>\n",
       "</div>"
      ],
      "text/plain": [
       "          0         1\n",
       "0  0.942975  0.050403\n",
       "1  0.001876  0.004746"
      ]
     },
     "execution_count": 30,
     "metadata": {},
     "output_type": "execute_result"
    }
   ],
   "source": [
    "model_confusion_matrix = pd.DataFrame(confusion_matrix(y_test, model.predict(X_test), normalize='all'))\n",
    "model_confusion_matrix"
   ]
  },
  {
   "cell_type": "markdown",
   "metadata": {
    "execution": {
     "iopub.execute_input": "2021-05-06T08:21:50.738434Z",
     "iopub.status.busy": "2021-05-06T08:21:50.737432Z",
     "iopub.status.idle": "2021-05-06T08:21:50.744433Z",
     "shell.execute_reply": "2021-05-06T08:21:50.743434Z",
     "shell.execute_reply.started": "2021-05-06T08:21:50.737432Z"
    }
   },
   "source": [
    "#### Hint\n",
    "Costruisci, sulla falsa riga della confusion matrix, altre 4 matrici:\n",
    "    \n",
    "1. matrice dei ricavi medi per viaggio \n",
    "2. matrice dei costi medi per viaggio \n",
    "\n",
    "che riflettano\n",
    "\n",
    "1. la situazione attuale\n",
    "2. la situazione in cui si usasse il modello di classificazione"
   ]
  },
  {
   "cell_type": "code",
   "execution_count": 31,
   "metadata": {
    "execution": {
     "iopub.execute_input": "2021-05-13T14:41:48.648383Z",
     "iopub.status.busy": "2021-05-13T14:41:48.647383Z",
     "iopub.status.idle": "2021-05-13T14:41:48.654384Z",
     "shell.execute_reply": "2021-05-13T14:41:48.654384Z",
     "shell.execute_reply.started": "2021-05-13T14:41:48.648383Z"
    }
   },
   "outputs": [],
   "source": [
    "matrix = pd.DataFrame(index=model_confusion_matrix.index, columns=model_confusion_matrix.columns)"
   ]
  },
  {
   "cell_type": "code",
   "execution_count": 32,
   "metadata": {
    "execution": {
     "iopub.execute_input": "2021-05-13T14:41:48.656384Z",
     "iopub.status.busy": "2021-05-13T14:41:48.656384Z",
     "iopub.status.idle": "2021-05-13T14:41:48.665385Z",
     "shell.execute_reply": "2021-05-13T14:41:48.664382Z",
     "shell.execute_reply.started": "2021-05-13T14:41:48.656384Z"
    }
   },
   "outputs": [
    {
     "data": {
      "text/html": [
       "<div>\n",
       "<style scoped>\n",
       "    .dataframe tbody tr th:only-of-type {\n",
       "        vertical-align: middle;\n",
       "    }\n",
       "\n",
       "    .dataframe tbody tr th {\n",
       "        vertical-align: top;\n",
       "    }\n",
       "\n",
       "    .dataframe thead th {\n",
       "        text-align: right;\n",
       "    }\n",
       "</style>\n",
       "<table border=\"1\" class=\"dataframe\">\n",
       "  <thead>\n",
       "    <tr style=\"text-align: right;\">\n",
       "      <th></th>\n",
       "      <th>0</th>\n",
       "      <th>1</th>\n",
       "    </tr>\n",
       "  </thead>\n",
       "  <tbody>\n",
       "    <tr>\n",
       "      <th>0</th>\n",
       "      <td>4.68</td>\n",
       "      <td>4.68</td>\n",
       "    </tr>\n",
       "    <tr>\n",
       "      <th>1</th>\n",
       "      <td>4.68</td>\n",
       "      <td>4.68</td>\n",
       "    </tr>\n",
       "  </tbody>\n",
       "</table>\n",
       "</div>"
      ],
      "text/plain": [
       "      0     1\n",
       "0  4.68  4.68\n",
       "1  4.68  4.68"
      ]
     },
     "execution_count": 32,
     "metadata": {},
     "output_type": "execute_result"
    }
   ],
   "source": [
    "matrice_ricavi_actual = matrix.fillna(ricavo_per_viaggio)\n",
    "matrice_ricavi_actual"
   ]
  },
  {
   "cell_type": "code",
   "execution_count": 33,
   "metadata": {
    "execution": {
     "iopub.execute_input": "2021-05-13T14:41:48.666381Z",
     "iopub.status.busy": "2021-05-13T14:41:48.666381Z",
     "iopub.status.idle": "2021-05-13T14:41:48.677382Z",
     "shell.execute_reply": "2021-05-13T14:41:48.676384Z",
     "shell.execute_reply.started": "2021-05-13T14:41:48.666381Z"
    }
   },
   "outputs": [
    {
     "data": {
      "text/html": [
       "<div>\n",
       "<style scoped>\n",
       "    .dataframe tbody tr th:only-of-type {\n",
       "        vertical-align: middle;\n",
       "    }\n",
       "\n",
       "    .dataframe tbody tr th {\n",
       "        vertical-align: top;\n",
       "    }\n",
       "\n",
       "    .dataframe thead th {\n",
       "        text-align: right;\n",
       "    }\n",
       "</style>\n",
       "<table border=\"1\" class=\"dataframe\">\n",
       "  <thead>\n",
       "    <tr style=\"text-align: right;\">\n",
       "      <th></th>\n",
       "      <th>0</th>\n",
       "      <th>1</th>\n",
       "    </tr>\n",
       "  </thead>\n",
       "  <tbody>\n",
       "    <tr>\n",
       "      <th>0</th>\n",
       "      <td>0.0</td>\n",
       "      <td>0.0</td>\n",
       "    </tr>\n",
       "    <tr>\n",
       "      <th>1</th>\n",
       "      <td>200.0</td>\n",
       "      <td>200.0</td>\n",
       "    </tr>\n",
       "  </tbody>\n",
       "</table>\n",
       "</div>"
      ],
      "text/plain": [
       "       0      1\n",
       "0    0.0    0.0\n",
       "1  200.0  200.0"
      ]
     },
     "execution_count": 33,
     "metadata": {},
     "output_type": "execute_result"
    }
   ],
   "source": [
    "matrice_costi_actual = matrix.fillna(0.0)\n",
    "matrice_costi_actual.at[1, :] = costo_riparazione\n",
    "matrice_costi_actual"
   ]
  },
  {
   "cell_type": "code",
   "execution_count": 34,
   "metadata": {
    "execution": {
     "iopub.execute_input": "2021-05-13T14:41:48.679383Z",
     "iopub.status.busy": "2021-05-13T14:41:48.678381Z",
     "iopub.status.idle": "2021-05-13T14:41:48.690382Z",
     "shell.execute_reply": "2021-05-13T14:41:48.689381Z",
     "shell.execute_reply.started": "2021-05-13T14:41:48.678381Z"
    }
   },
   "outputs": [
    {
     "data": {
      "text/html": [
       "<div>\n",
       "<style scoped>\n",
       "    .dataframe tbody tr th:only-of-type {\n",
       "        vertical-align: middle;\n",
       "    }\n",
       "\n",
       "    .dataframe tbody tr th {\n",
       "        vertical-align: top;\n",
       "    }\n",
       "\n",
       "    .dataframe thead th {\n",
       "        text-align: right;\n",
       "    }\n",
       "</style>\n",
       "<table border=\"1\" class=\"dataframe\">\n",
       "  <thead>\n",
       "    <tr style=\"text-align: right;\">\n",
       "      <th></th>\n",
       "      <th>0</th>\n",
       "      <th>1</th>\n",
       "    </tr>\n",
       "  </thead>\n",
       "  <tbody>\n",
       "    <tr>\n",
       "      <th>0</th>\n",
       "      <td>4.68</td>\n",
       "      <td>0.0</td>\n",
       "    </tr>\n",
       "    <tr>\n",
       "      <th>1</th>\n",
       "      <td>4.68</td>\n",
       "      <td>0.0</td>\n",
       "    </tr>\n",
       "  </tbody>\n",
       "</table>\n",
       "</div>"
      ],
      "text/plain": [
       "      0    1\n",
       "0  4.68  0.0\n",
       "1  4.68  0.0"
      ]
     },
     "execution_count": 34,
     "metadata": {},
     "output_type": "execute_result"
    }
   ],
   "source": [
    "matrice_ricavi_model = matrix.fillna(ricavo_per_viaggio)\n",
    "matrice_ricavi_model.at[:, 1] = 0.0\n",
    "matrice_ricavi_model"
   ]
  },
  {
   "cell_type": "code",
   "execution_count": 35,
   "metadata": {
    "execution": {
     "iopub.execute_input": "2021-05-13T14:41:48.693385Z",
     "iopub.status.busy": "2021-05-13T14:41:48.693385Z",
     "iopub.status.idle": "2021-05-13T14:41:48.704380Z",
     "shell.execute_reply": "2021-05-13T14:41:48.704380Z",
     "shell.execute_reply.started": "2021-05-13T14:41:48.693385Z"
    }
   },
   "outputs": [
    {
     "data": {
      "text/html": [
       "<div>\n",
       "<style scoped>\n",
       "    .dataframe tbody tr th:only-of-type {\n",
       "        vertical-align: middle;\n",
       "    }\n",
       "\n",
       "    .dataframe tbody tr th {\n",
       "        vertical-align: top;\n",
       "    }\n",
       "\n",
       "    .dataframe thead th {\n",
       "        text-align: right;\n",
       "    }\n",
       "</style>\n",
       "<table border=\"1\" class=\"dataframe\">\n",
       "  <thead>\n",
       "    <tr style=\"text-align: right;\">\n",
       "      <th></th>\n",
       "      <th>0</th>\n",
       "      <th>1</th>\n",
       "    </tr>\n",
       "  </thead>\n",
       "  <tbody>\n",
       "    <tr>\n",
       "      <th>0</th>\n",
       "      <td>0.0</td>\n",
       "      <td>0.0</td>\n",
       "    </tr>\n",
       "    <tr>\n",
       "      <th>1</th>\n",
       "      <td>200.0</td>\n",
       "      <td>0.0</td>\n",
       "    </tr>\n",
       "  </tbody>\n",
       "</table>\n",
       "</div>"
      ],
      "text/plain": [
       "       0    1\n",
       "0    0.0  0.0\n",
       "1  200.0  0.0"
      ]
     },
     "execution_count": 35,
     "metadata": {},
     "output_type": "execute_result"
    }
   ],
   "source": [
    "matrice_costi_model = matrix.fillna(0.0)\n",
    "matrice_costi_model.at[1, 0] = costo_riparazione\n",
    "matrice_costi_model"
   ]
  },
  {
   "cell_type": "markdown",
   "metadata": {},
   "source": [
    "#### Hint\n",
    "\n",
    "Calcola, in ciascuno dei due scenari (attuale vs uso modello), la matrice dei profitti."
   ]
  },
  {
   "cell_type": "code",
   "execution_count": 36,
   "metadata": {
    "execution": {
     "iopub.execute_input": "2021-05-13T14:41:48.707408Z",
     "iopub.status.busy": "2021-05-13T14:41:48.706382Z",
     "iopub.status.idle": "2021-05-13T14:41:48.712383Z",
     "shell.execute_reply": "2021-05-13T14:41:48.711381Z",
     "shell.execute_reply.started": "2021-05-13T14:41:48.707408Z"
    }
   },
   "outputs": [],
   "source": [
    "def matrice_profitti(matrice_ricavi, matrice_costi):\n",
    "    return matrice_ricavi - matrice_costi"
   ]
  },
  {
   "cell_type": "code",
   "execution_count": 37,
   "metadata": {
    "execution": {
     "iopub.execute_input": "2021-05-13T14:41:48.714387Z",
     "iopub.status.busy": "2021-05-13T14:41:48.714387Z",
     "iopub.status.idle": "2021-05-13T14:41:48.733379Z",
     "shell.execute_reply": "2021-05-13T14:41:48.733379Z",
     "shell.execute_reply.started": "2021-05-13T14:41:48.714387Z"
    }
   },
   "outputs": [
    {
     "data": {
      "text/html": [
       "<div>\n",
       "<style scoped>\n",
       "    .dataframe tbody tr th:only-of-type {\n",
       "        vertical-align: middle;\n",
       "    }\n",
       "\n",
       "    .dataframe tbody tr th {\n",
       "        vertical-align: top;\n",
       "    }\n",
       "\n",
       "    .dataframe thead th {\n",
       "        text-align: right;\n",
       "    }\n",
       "</style>\n",
       "<table border=\"1\" class=\"dataframe\">\n",
       "  <thead>\n",
       "    <tr style=\"text-align: right;\">\n",
       "      <th></th>\n",
       "      <th>0</th>\n",
       "      <th>1</th>\n",
       "    </tr>\n",
       "  </thead>\n",
       "  <tbody>\n",
       "    <tr>\n",
       "      <th>0</th>\n",
       "      <td>4.68</td>\n",
       "      <td>4.68</td>\n",
       "    </tr>\n",
       "    <tr>\n",
       "      <th>1</th>\n",
       "      <td>-195.32</td>\n",
       "      <td>-195.32</td>\n",
       "    </tr>\n",
       "  </tbody>\n",
       "</table>\n",
       "</div>"
      ],
      "text/plain": [
       "        0       1\n",
       "0    4.68    4.68\n",
       "1 -195.32 -195.32"
      ]
     },
     "execution_count": 37,
     "metadata": {},
     "output_type": "execute_result"
    }
   ],
   "source": [
    "matrice_profitti_actual = matrice_profitti(matrice_ricavi_actual, matrice_costi_actual)\n",
    "matrice_profitti_actual"
   ]
  },
  {
   "cell_type": "code",
   "execution_count": 38,
   "metadata": {
    "execution": {
     "iopub.execute_input": "2021-05-13T14:41:48.734380Z",
     "iopub.status.busy": "2021-05-13T14:41:48.734380Z",
     "iopub.status.idle": "2021-05-13T14:41:48.746382Z",
     "shell.execute_reply": "2021-05-13T14:41:48.745384Z",
     "shell.execute_reply.started": "2021-05-13T14:41:48.734380Z"
    }
   },
   "outputs": [
    {
     "data": {
      "text/html": [
       "<div>\n",
       "<style scoped>\n",
       "    .dataframe tbody tr th:only-of-type {\n",
       "        vertical-align: middle;\n",
       "    }\n",
       "\n",
       "    .dataframe tbody tr th {\n",
       "        vertical-align: top;\n",
       "    }\n",
       "\n",
       "    .dataframe thead th {\n",
       "        text-align: right;\n",
       "    }\n",
       "</style>\n",
       "<table border=\"1\" class=\"dataframe\">\n",
       "  <thead>\n",
       "    <tr style=\"text-align: right;\">\n",
       "      <th></th>\n",
       "      <th>0</th>\n",
       "      <th>1</th>\n",
       "    </tr>\n",
       "  </thead>\n",
       "  <tbody>\n",
       "    <tr>\n",
       "      <th>0</th>\n",
       "      <td>4.68</td>\n",
       "      <td>0.0</td>\n",
       "    </tr>\n",
       "    <tr>\n",
       "      <th>1</th>\n",
       "      <td>-195.32</td>\n",
       "      <td>0.0</td>\n",
       "    </tr>\n",
       "  </tbody>\n",
       "</table>\n",
       "</div>"
      ],
      "text/plain": [
       "        0    1\n",
       "0    4.68  0.0\n",
       "1 -195.32  0.0"
      ]
     },
     "execution_count": 38,
     "metadata": {},
     "output_type": "execute_result"
    }
   ],
   "source": [
    "matrice_profitti_model = matrice_profitti(matrice_ricavi_model, matrice_costi_model)\n",
    "matrice_profitti_model"
   ]
  },
  {
   "cell_type": "markdown",
   "metadata": {},
   "source": [
    "#### Hint\n",
    "\n",
    "* utilizza la confusion matrix del modello salvata in precedenza per stimare il profitto atteso su base annua in entrambi gli scenari\n",
    "* comunica al Business la variazione di profitto nei due scenari"
   ]
  },
  {
   "cell_type": "code",
   "execution_count": 39,
   "metadata": {
    "execution": {
     "iopub.execute_input": "2021-05-13T14:41:48.747381Z",
     "iopub.status.busy": "2021-05-13T14:41:48.747381Z",
     "iopub.status.idle": "2021-05-13T14:41:48.751381Z",
     "shell.execute_reply": "2021-05-13T14:41:48.750383Z",
     "shell.execute_reply.started": "2021-05-13T14:41:48.747381Z"
    }
   },
   "outputs": [],
   "source": [
    "def profitto_atteso(matrice_profitti):\n",
    "    return (matrice_profitti * viaggi_annui * model_confusion_matrix).sum().sum()"
   ]
  },
  {
   "cell_type": "code",
   "execution_count": 48,
   "metadata": {
    "execution": {
     "iopub.execute_input": "2021-05-13T16:50:33.990531Z",
     "iopub.status.busy": "2021-05-13T16:50:33.989529Z",
     "iopub.status.idle": "2021-05-13T16:50:33.999531Z",
     "shell.execute_reply": "2021-05-13T16:50:33.998531Z",
     "shell.execute_reply.started": "2021-05-13T16:50:33.990531Z"
    },
    "tags": []
   },
   "outputs": [
    {
     "data": {
      "text/html": [
       "<div>\n",
       "<style scoped>\n",
       "    .dataframe tbody tr th:only-of-type {\n",
       "        vertical-align: middle;\n",
       "    }\n",
       "\n",
       "    .dataframe tbody tr th {\n",
       "        vertical-align: top;\n",
       "    }\n",
       "\n",
       "    .dataframe thead th {\n",
       "        text-align: right;\n",
       "    }\n",
       "</style>\n",
       "<table border=\"1\" class=\"dataframe\">\n",
       "  <thead>\n",
       "    <tr style=\"text-align: right;\">\n",
       "      <th></th>\n",
       "      <th>0</th>\n",
       "      <th>1</th>\n",
       "    </tr>\n",
       "  </thead>\n",
       "  <tbody>\n",
       "    <tr>\n",
       "      <th>0</th>\n",
       "      <td>2</td>\n",
       "      <td>4</td>\n",
       "    </tr>\n",
       "    <tr>\n",
       "      <th>1</th>\n",
       "      <td>6</td>\n",
       "      <td>8</td>\n",
       "    </tr>\n",
       "  </tbody>\n",
       "</table>\n",
       "</div>"
      ],
      "text/plain": [
       "   0  1\n",
       "0  2  4\n",
       "1  6  8"
      ]
     },
     "execution_count": 48,
     "metadata": {},
     "output_type": "execute_result"
    }
   ],
   "source": [
    "pd.DataFrame([[1,2],[3,4]]) * pd.DataFrame([[2,2], [2,2]])"
   ]
  },
  {
   "cell_type": "code",
   "execution_count": 40,
   "metadata": {
    "execution": {
     "iopub.execute_input": "2021-05-13T14:41:48.753383Z",
     "iopub.status.busy": "2021-05-13T14:41:48.752383Z",
     "iopub.status.idle": "2021-05-13T14:41:48.761383Z",
     "shell.execute_reply": "2021-05-13T14:41:48.759404Z",
     "shell.execute_reply.started": "2021-05-13T14:41:48.752383Z"
    }
   },
   "outputs": [],
   "source": [
    "profitto_atteso_actual = profitto_atteso(matrice_profitti_actual)\n",
    "profitto_atteso_model = profitto_atteso(matrice_profitti_model)"
   ]
  },
  {
   "cell_type": "code",
   "execution_count": 41,
   "metadata": {
    "execution": {
     "iopub.execute_input": "2021-05-13T14:41:48.762384Z",
     "iopub.status.busy": "2021-05-13T14:41:48.762384Z",
     "iopub.status.idle": "2021-05-13T14:41:49.193301Z",
     "shell.execute_reply": "2021-05-13T14:41:49.192300Z",
     "shell.execute_reply.started": "2021-05-13T14:41:48.762384Z"
    }
   },
   "outputs": [
    {
     "name": "stdout",
     "output_type": "stream",
     "text": [
      "\n",
      "    Il delta di profitto atteso su base annua è 34.554,80 €, \n",
      "    pari al 21% del profitto attuale.\n",
      "    \n"
     ]
    }
   ],
   "source": [
    "delta_profitto = profitto_atteso_model - profitto_atteso_actual\n",
    "print(\n",
    "    f\"\"\"\n",
    "    Il delta di profitto atteso su base annua è {format_currency(delta_profitto, locale='it_IT', currency='EUR')}, \n",
    "    pari al {100*delta_profitto/profitto_atteso_actual:.0f}% del profitto attuale.\n",
    "    \"\"\"\n",
    ")"
   ]
  },
  {
   "cell_type": "markdown",
   "metadata": {
    "execution": {
     "iopub.execute_input": "2021-05-06T07:47:22.957764Z",
     "iopub.status.busy": "2021-05-06T07:47:22.957764Z",
     "iopub.status.idle": "2021-05-06T07:47:22.973430Z",
     "shell.execute_reply": "2021-05-06T07:47:22.973430Z",
     "shell.execute_reply.started": "2021-05-06T07:47:22.957764Z"
    }
   },
   "source": [
    "### Esercizio (BONUS)\n",
    "\n",
    "Il dipartimento di Customer Satisfaction di MiMocko mette in guardia circa l'utilizzo del modello ✋\n",
    "\n",
    "Alcuni clienti, vedendosi rifiutare il viaggio, potrebbero smettere di utilizzare il servizio!\n",
    "\n",
    "Sapendo che\n",
    "* il numero medio di clienti per anno è 7900\n",
    "> calcolato tramite\n",
    "> ```python\n",
    "> (\n",
    ">     viaggi[viaggi['anno'].isin([2019, 2020])]\n",
    ">     .groupby('anno')['idUtente'].apply(lambda x: len(set(x)))\n",
    ">     .mean()\n",
    "> )\n",
    "> ```\n",
    "* il numero medio di viaggi per utente all'anno è 4\n",
    "> calcolato tramite\n",
    "> ```python\n",
    "> (\n",
    ">     viaggi[viaggi['anno'].isin([2019, 2020])]\n",
    ">     .groupby(['anno', 'idUtente'])\n",
    ">     .size()\n",
    ">     .unstack()\n",
    ">     .transpose()\n",
    ">     .mean()\n",
    ">     .mean()\n",
    "> )\n",
    "> ```\n",
    "\n",
    "rispondi alla domanda del Business: se adottiamo il modello, qual è il [_churn rate_](https://en.wikipedia.org/wiki/Churn_rate) annuale massimo che possiamo tollerare?\n",
    "\n",
    "**Hint** l'obiettivo del Business è capire qual è il numero massimo di clienti che possono abbandonare MiMocko su base annua affinchè i profitti derivanti dall'utilizzo del modello siano ancora maggiori di quelli attuali..."
   ]
  },
  {
   "cell_type": "code",
   "execution_count": 42,
   "metadata": {
    "execution": {
     "iopub.execute_input": "2021-05-13T14:41:49.194296Z",
     "iopub.status.busy": "2021-05-13T14:41:49.194296Z",
     "iopub.status.idle": "2021-05-13T14:41:49.201295Z",
     "shell.execute_reply": "2021-05-13T14:41:49.200295Z",
     "shell.execute_reply.started": "2021-05-13T14:41:49.194296Z"
    }
   },
   "outputs": [
    {
     "data": {
      "text/plain": [
       "1846"
      ]
     },
     "execution_count": 42,
     "metadata": {},
     "output_type": "execute_result"
    }
   ],
   "source": [
    "clienti_annui = 7_900\n",
    "viaggi_per_cliente = 4\n",
    "ricavo_per_cliente = ricavo_per_viaggio * viaggi_per_cliente\n",
    "\n",
    "max_clienti_abbandono = round(delta_profitto/ricavo_per_cliente)\n",
    "\n",
    "max_clienti_abbandono"
   ]
  },
  {
   "cell_type": "code",
   "execution_count": 43,
   "metadata": {
    "execution": {
     "iopub.execute_input": "2021-05-13T14:41:49.203296Z",
     "iopub.status.busy": "2021-05-13T14:41:49.202295Z",
     "iopub.status.idle": "2021-05-13T14:41:49.210309Z",
     "shell.execute_reply": "2021-05-13T14:41:49.208303Z",
     "shell.execute_reply.started": "2021-05-13T14:41:49.203296Z"
    }
   },
   "outputs": [
    {
     "name": "stdout",
     "output_type": "stream",
     "text": [
      "Il churn rate annuo massimo per non andare in perdita è circa 23%.\n"
     ]
    }
   ],
   "source": [
    "max_churn = max_clienti_abbandono / clienti_annui\n",
    "print(f\"Il churn rate annuo massimo per non andare in perdita è circa {100*max_churn:.0f}%.\")"
   ]
  },
  {
   "cell_type": "markdown",
   "metadata": {},
   "source": [
    "## Approfondimenti (BONUS)\n",
    "\n",
    "* [feature importance](https://scikit-learn.org/stable/auto_examples/ensemble/plot_forest_importances.html)\n",
    "* [K-fold cross-validation](https://scikit-learn.org/stable/modules/cross_validation.html#k-fold)\n",
    "* [guida visuale alla confusion matrix](https://towardsdatascience.com/visual-guide-to-the-confusion-matrix-bb63730c8eba)\n",
    "* [bilanciamento sintetico con SMOTE](https://imbalanced-learn.org/stable/over_sampling.html#from-random-over-sampling-to-smote-and-adasyn) \n",
    "* [Ensemble learning](https://scikit-learn.org/stable/modules/ensemble.html#forest)"
   ]
  }
 ],
 "metadata": {
  "kernelspec": {
   "display_name": "Python 3",
   "language": "python",
   "name": "python3"
  },
  "language_info": {
   "codemirror_mode": {
    "name": "ipython",
    "version": 3
   },
   "file_extension": ".py",
   "mimetype": "text/x-python",
   "name": "python",
   "nbconvert_exporter": "python",
   "pygments_lexer": "ipython3",
   "version": "3.8.8"
  },
  "toc-autonumbering": true
 },
 "nbformat": 4,
 "nbformat_minor": 4
}
