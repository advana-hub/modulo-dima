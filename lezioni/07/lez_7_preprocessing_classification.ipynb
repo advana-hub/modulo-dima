{
 "cells": [
  {
   "cell_type": "code",
   "execution_count": 1,
   "metadata": {
    "execution": {
     "iopub.execute_input": "2021-05-06T09:57:45.404535Z",
     "iopub.status.busy": "2021-05-06T09:57:45.404535Z",
     "iopub.status.idle": "2021-05-06T09:57:45.862070Z",
     "shell.execute_reply": "2021-05-06T09:57:45.861187Z",
     "shell.execute_reply.started": "2021-05-06T09:57:45.404535Z"
    }
   },
   "outputs": [],
   "source": [
    "import pandas as pd"
   ]
  },
  {
   "cell_type": "markdown",
   "metadata": {},
   "source": [
    "# Use case reale: `MiMocko` 🛵\n",
    "\n",
    "Il business vuole provare a capire quali viaggi sono più a rischio di risultare in un incidente.\n",
    "\n",
    "Carichiamo i datasets di interesse: per ora limitiamoci a quello dei viaggi e degli incidenti"
   ]
  },
  {
   "cell_type": "code",
   "execution_count": 2,
   "metadata": {
    "execution": {
     "iopub.execute_input": "2021-05-06T09:57:45.867108Z",
     "iopub.status.busy": "2021-05-06T09:57:45.867108Z",
     "iopub.status.idle": "2021-05-06T09:57:46.915322Z",
     "shell.execute_reply": "2021-05-06T09:57:46.914369Z",
     "shell.execute_reply.started": "2021-05-06T09:57:45.867108Z"
    }
   },
   "outputs": [],
   "source": [
    "path = '../../../data'\n",
    "\n",
    "viaggi = pd.read_csv(f'{path}/viaggi.csv', sep='*', decimal=',')\n",
    "incidenti = pd.read_csv(f'{path}/incidenti.csv')"
   ]
  },
  {
   "cell_type": "markdown",
   "metadata": {},
   "source": [
    "## Data preprocessing\n",
    "\n",
    "#### 👉 Molte di queste elaborazioni le abbiamo già viste nelle lezioni precedenti, quindi andremo veloci"
   ]
  },
  {
   "cell_type": "markdown",
   "metadata": {},
   "source": [
    "### Viaggi"
   ]
  },
  {
   "cell_type": "code",
   "execution_count": 3,
   "metadata": {
    "execution": {
     "iopub.execute_input": "2021-05-06T09:57:46.916320Z",
     "iopub.status.busy": "2021-05-06T09:57:46.916320Z",
     "iopub.status.idle": "2021-05-06T09:57:46.940323Z",
     "shell.execute_reply": "2021-05-06T09:57:46.939322Z",
     "shell.execute_reply.started": "2021-05-06T09:57:46.916320Z"
    }
   },
   "outputs": [
    {
     "data": {
      "text/html": [
       "<div>\n",
       "<style scoped>\n",
       "    .dataframe tbody tr th:only-of-type {\n",
       "        vertical-align: middle;\n",
       "    }\n",
       "\n",
       "    .dataframe tbody tr th {\n",
       "        vertical-align: top;\n",
       "    }\n",
       "\n",
       "    .dataframe thead th {\n",
       "        text-align: right;\n",
       "    }\n",
       "</style>\n",
       "<table border=\"1\" class=\"dataframe\">\n",
       "  <thead>\n",
       "    <tr style=\"text-align: right;\">\n",
       "      <th></th>\n",
       "      <th>idUtente</th>\n",
       "      <th>idVeicolo</th>\n",
       "      <th>caricaBatteriaInizio</th>\n",
       "      <th>dueCaschiDisponibili</th>\n",
       "      <th>luogoRitiro</th>\n",
       "      <th>timestampRitiro</th>\n",
       "      <th>luogoConsegna</th>\n",
       "      <th>timestampConsegna</th>\n",
       "      <th>distanzaPercorsa</th>\n",
       "      <th>tempoViaggio</th>\n",
       "      <th>punteggioViaggio</th>\n",
       "      <th>caricaBatteriaFine</th>\n",
       "    </tr>\n",
       "  </thead>\n",
       "  <tbody>\n",
       "    <tr>\n",
       "      <th>0</th>\n",
       "      <td>u5954</td>\n",
       "      <td>v33</td>\n",
       "      <td>100.0%</td>\n",
       "      <td>YES</td>\n",
       "      <td>[(44.394923, 8.943928), (44.394857, 8.943474),...</td>\n",
       "      <td>['2018-10-01 01:08:57', '2018-10-01 01:09:02',...</td>\n",
       "      <td>[(44.433961, 8.95907), (44.434021, 8.958851), ...</td>\n",
       "      <td>['2018-10-01 01:21:57', '2018-10-01 01:22:02',...</td>\n",
       "      <td>4.5046 km</td>\n",
       "      <td>0:13:20</td>\n",
       "      <td>7.55</td>\n",
       "      <td>90.2%</td>\n",
       "    </tr>\n",
       "    <tr>\n",
       "      <th>1</th>\n",
       "      <td>u1478</td>\n",
       "      <td>v33</td>\n",
       "      <td>91.8%</td>\n",
       "      <td>NaN</td>\n",
       "      <td>[(44.433997, 8.958993), (44.433596, 8.959153),...</td>\n",
       "      <td>['2018-10-01 02:09:21', '2018-10-01 02:09:26',...</td>\n",
       "      <td>[(44.396783, 8.940881), (44.396705, 8.940446),...</td>\n",
       "      <td>['2018-10-01 02:21:06', '2018-10-01 02:21:11',...</td>\n",
       "      <td>4.3622 km</td>\n",
       "      <td>0:12:05</td>\n",
       "      <td>7.78</td>\n",
       "      <td>81.8%</td>\n",
       "    </tr>\n",
       "  </tbody>\n",
       "</table>\n",
       "</div>"
      ],
      "text/plain": [
       "  idUtente idVeicolo caricaBatteriaInizio dueCaschiDisponibili  \\\n",
       "0    u5954       v33               100.0%                  YES   \n",
       "1    u1478       v33                91.8%                  NaN   \n",
       "\n",
       "                                         luogoRitiro  \\\n",
       "0  [(44.394923, 8.943928), (44.394857, 8.943474),...   \n",
       "1  [(44.433997, 8.958993), (44.433596, 8.959153),...   \n",
       "\n",
       "                                     timestampRitiro  \\\n",
       "0  ['2018-10-01 01:08:57', '2018-10-01 01:09:02',...   \n",
       "1  ['2018-10-01 02:09:21', '2018-10-01 02:09:26',...   \n",
       "\n",
       "                                       luogoConsegna  \\\n",
       "0  [(44.433961, 8.95907), (44.434021, 8.958851), ...   \n",
       "1  [(44.396783, 8.940881), (44.396705, 8.940446),...   \n",
       "\n",
       "                                   timestampConsegna distanzaPercorsa  \\\n",
       "0  ['2018-10-01 01:21:57', '2018-10-01 01:22:02',...        4.5046 km   \n",
       "1  ['2018-10-01 02:21:06', '2018-10-01 02:21:11',...        4.3622 km   \n",
       "\n",
       "  tempoViaggio  punteggioViaggio caricaBatteriaFine  \n",
       "0      0:13:20              7.55              90.2%  \n",
       "1      0:12:05              7.78              81.8%  "
      ]
     },
     "execution_count": 3,
     "metadata": {},
     "output_type": "execute_result"
    }
   ],
   "source": [
    "viaggi.head(2)"
   ]
  },
  {
   "cell_type": "markdown",
   "metadata": {},
   "source": [
    "Controlliamo se ci sono valori mancanti"
   ]
  },
  {
   "cell_type": "code",
   "execution_count": 4,
   "metadata": {
    "execution": {
     "iopub.execute_input": "2021-05-06T09:57:46.941322Z",
     "iopub.status.busy": "2021-05-06T09:57:46.941322Z",
     "iopub.status.idle": "2021-05-06T09:57:47.012334Z",
     "shell.execute_reply": "2021-05-06T09:57:47.011322Z",
     "shell.execute_reply.started": "2021-05-06T09:57:46.941322Z"
    }
   },
   "outputs": [
    {
     "data": {
      "text/plain": [
       "idUtente                    0\n",
       "idVeicolo                   0\n",
       "caricaBatteriaInizio        0\n",
       "dueCaschiDisponibili    37308\n",
       "luogoRitiro                 0\n",
       "timestampRitiro             0\n",
       "luogoConsegna               0\n",
       "timestampConsegna           0\n",
       "distanzaPercorsa            0\n",
       "tempoViaggio             6350\n",
       "punteggioViaggio         1203\n",
       "caricaBatteriaFine          0\n",
       "dtype: int64"
      ]
     },
     "execution_count": 4,
     "metadata": {},
     "output_type": "execute_result"
    }
   ],
   "source": [
    "pd.isnull(viaggi).sum(axis=0)"
   ]
  },
  {
   "cell_type": "markdown",
   "metadata": {},
   "source": [
    "Vogliamo quindi:\n",
    "    \n",
    "* trasformare in `float` le colonne `caricaBatteriaInizio`, `distanzaPercorsa`, `tempoViaggio`, `caricaBatteriaFine`\n",
    "* trasformare in `int` le colonna `dueCaschiDisponibili`\n",
    "* estrarre un unico valore per ciascuna delle colonne `luogoRitiro`, `timestampRitiro`, `luogoConsegna`, `timestampConsegna`\n",
    "\n",
    "gestendo i valori mancanti delle colonne `dueCaschiDisponibili`, `tempoViaggio`, `punteggioViaggio`"
   ]
  },
  {
   "cell_type": "markdown",
   "metadata": {
    "execution": {
     "iopub.execute_input": "2021-05-05T05:55:01.361261Z",
     "iopub.status.busy": "2021-05-05T05:55:01.361261Z",
     "iopub.status.idle": "2021-05-05T05:55:01.368255Z",
     "shell.execute_reply": "2021-05-05T05:55:01.367255Z",
     "shell.execute_reply.started": "2021-05-05T05:55:01.361261Z"
    }
   },
   "source": [
    "#### Valori mancanti"
   ]
  },
  {
   "cell_type": "markdown",
   "metadata": {},
   "source": [
    "⚠️ scegliamo di eliminare i sample con dati mancanti, ma potremmo rischiare di perdere _più_ eventi di un tipo (incidente/no) rispetto all'altro, introducendo _selection bias_... ⚠️\n",
    "\n",
    "**N.B.**: un'alternativa è sfruttare l'imputer di sklearn a valle dello split tra train e test.\n",
    "\n",
    "_Approfondimento (BONUS):_\n",
    "* [imputation](https://scikit-learn.org/stable/modules/impute.html)\n",
    "* [data leakage during preprocessing](https://scikit-learn.org/stable/common_pitfalls.html#data-leakage-during-pre-processing)"
   ]
  },
  {
   "cell_type": "code",
   "execution_count": 5,
   "metadata": {
    "execution": {
     "iopub.execute_input": "2021-05-06T09:57:47.014320Z",
     "iopub.status.busy": "2021-05-06T09:57:47.014320Z",
     "iopub.status.idle": "2021-05-06T09:57:47.125388Z",
     "shell.execute_reply": "2021-05-06T09:57:47.124751Z",
     "shell.execute_reply.started": "2021-05-06T09:57:47.014320Z"
    }
   },
   "outputs": [],
   "source": [
    "viaggi.dropna(inplace=True)"
   ]
  },
  {
   "cell_type": "code",
   "execution_count": 6,
   "metadata": {
    "execution": {
     "iopub.execute_input": "2021-05-06T09:57:47.126515Z",
     "iopub.status.busy": "2021-05-06T09:57:47.126515Z",
     "iopub.status.idle": "2021-05-06T09:57:47.187122Z",
     "shell.execute_reply": "2021-05-06T09:57:47.186118Z",
     "shell.execute_reply.started": "2021-05-06T09:57:47.126515Z"
    }
   },
   "outputs": [
    {
     "data": {
      "text/plain": [
       "idUtente                0\n",
       "idVeicolo               0\n",
       "caricaBatteriaInizio    0\n",
       "dueCaschiDisponibili    0\n",
       "luogoRitiro             0\n",
       "timestampRitiro         0\n",
       "luogoConsegna           0\n",
       "timestampConsegna       0\n",
       "distanzaPercorsa        0\n",
       "tempoViaggio            0\n",
       "punteggioViaggio        0\n",
       "caricaBatteriaFine      0\n",
       "dtype: int64"
      ]
     },
     "execution_count": 6,
     "metadata": {},
     "output_type": "execute_result"
    }
   ],
   "source": [
    "pd.isnull(viaggi).sum(axis=0)"
   ]
  },
  {
   "cell_type": "markdown",
   "metadata": {},
   "source": [
    "#### Conversione a `float`\n",
    "Per comodità, creiamo nuove colonne con il dato \"ripulito\""
   ]
  },
  {
   "cell_type": "code",
   "execution_count": 7,
   "metadata": {
    "execution": {
     "iopub.execute_input": "2021-05-06T09:57:47.189119Z",
     "iopub.status.busy": "2021-05-06T09:57:47.189119Z",
     "iopub.status.idle": "2021-05-06T09:57:47.969814Z",
     "shell.execute_reply": "2021-05-06T09:57:47.968812Z",
     "shell.execute_reply.started": "2021-05-06T09:57:47.189119Z"
    }
   },
   "outputs": [
    {
     "data": {
      "text/plain": [
       "carica_batteria_inizio    float64\n",
       "carica_batteria_fine      float64\n",
       "distanza_percorsa         float64\n",
       "tempo_viaggio             float64\n",
       "dtype: object"
      ]
     },
     "execution_count": 7,
     "metadata": {},
     "output_type": "execute_result"
    }
   ],
   "source": [
    "viaggi['carica_batteria_inizio'] = viaggi['caricaBatteriaInizio'].apply(lambda x: float(x.replace('%', ''))/100)\n",
    "viaggi['carica_batteria_fine'] = viaggi['caricaBatteriaFine'].apply(lambda x: float(x.replace('%', ''))/100)\n",
    "viaggi['distanza_percorsa'] = viaggi['distanzaPercorsa'].apply(lambda x: float(x.replace(' km', '')))\n",
    "viaggi['tempo_viaggio'] = viaggi['tempoViaggio'].apply(lambda x: pd.to_timedelta(x).total_seconds())\n",
    "\n",
    "viaggi[['carica_batteria_inizio', 'carica_batteria_fine', 'distanza_percorsa', 'tempo_viaggio']].dtypes"
   ]
  },
  {
   "cell_type": "markdown",
   "metadata": {},
   "source": [
    "#### Conversione ad `int`\n"
   ]
  },
  {
   "cell_type": "code",
   "execution_count": 8,
   "metadata": {
    "execution": {
     "iopub.execute_input": "2021-05-06T09:57:47.970812Z",
     "iopub.status.busy": "2021-05-06T09:57:47.970812Z",
     "iopub.status.idle": "2021-05-06T09:57:47.989815Z",
     "shell.execute_reply": "2021-05-06T09:57:47.988817Z",
     "shell.execute_reply.started": "2021-05-06T09:57:47.970812Z"
    }
   },
   "outputs": [
    {
     "data": {
      "text/plain": [
       "{'NO', 'YES'}"
      ]
     },
     "execution_count": 8,
     "metadata": {},
     "output_type": "execute_result"
    }
   ],
   "source": [
    "set(viaggi['dueCaschiDisponibili'])"
   ]
  },
  {
   "cell_type": "code",
   "execution_count": 9,
   "metadata": {
    "execution": {
     "iopub.execute_input": "2021-05-06T09:57:47.992814Z",
     "iopub.status.busy": "2021-05-06T09:57:47.992814Z",
     "iopub.status.idle": "2021-05-06T09:57:48.003819Z",
     "shell.execute_reply": "2021-05-06T09:57:48.002817Z",
     "shell.execute_reply.started": "2021-05-06T09:57:47.992814Z"
    }
   },
   "outputs": [],
   "source": [
    "viaggi['due_caschi_disponibili'] = viaggi['dueCaschiDisponibili'].map({'YES': 1, 'NO': 0})"
   ]
  },
  {
   "cell_type": "code",
   "execution_count": 10,
   "metadata": {
    "execution": {
     "iopub.execute_input": "2021-05-06T09:57:48.005818Z",
     "iopub.status.busy": "2021-05-06T09:57:48.004818Z",
     "iopub.status.idle": "2021-05-06T09:57:48.022816Z",
     "shell.execute_reply": "2021-05-06T09:57:48.018826Z",
     "shell.execute_reply.started": "2021-05-06T09:57:48.005818Z"
    }
   },
   "outputs": [
    {
     "data": {
      "text/plain": [
       "{0, 1}"
      ]
     },
     "execution_count": 10,
     "metadata": {},
     "output_type": "execute_result"
    }
   ],
   "source": [
    "set(viaggi['due_caschi_disponibili'])"
   ]
  },
  {
   "cell_type": "markdown",
   "metadata": {
    "execution": {
     "iopub.execute_input": "2021-05-03T06:22:48.035057Z",
     "iopub.status.busy": "2021-05-03T06:22:48.034057Z",
     "iopub.status.idle": "2021-05-03T06:22:48.058064Z",
     "shell.execute_reply": "2021-05-03T06:22:48.056057Z",
     "shell.execute_reply.started": "2021-05-03T06:22:48.035057Z"
    }
   },
   "source": [
    "#### Manipolazione luogo e timestamp di ritiro e consegna \n",
    "Estraiamo la data e l'ora di consegna e ritiro in due colonne separate, a partire dal timestamp preprocessato\n",
    "\n",
    "Scegliamo l'ultimo campionamento disponibile dell'evento _consegna_: essendo interessati agli incidenti, è verosimile che il campionamento si sia interrotto in corrispondenza dell'incidente.\n",
    "\n",
    "<font color='orange'><b><i>L'esecuzione della prossima cella impiega qualche secondo</b></i></font>"
   ]
  },
  {
   "cell_type": "code",
   "execution_count": 11,
   "metadata": {
    "execution": {
     "iopub.execute_input": "2021-05-06T09:57:48.025814Z",
     "iopub.status.busy": "2021-05-06T09:57:48.024815Z",
     "iopub.status.idle": "2021-05-06T09:58:07.002226Z",
     "shell.execute_reply": "2021-05-06T09:58:07.001229Z",
     "shell.execute_reply.started": "2021-05-06T09:57:48.025814Z"
    }
   },
   "outputs": [],
   "source": [
    "# selezioniamo ultimo campionamento del timestamp di consegna\n",
    "viaggi['timestamp'] = viaggi['timestampConsegna'].apply(lambda x: pd.to_datetime(x[1:-1].split(',')[-1]))\n",
    "\n",
    "# estraiamo data, anno, mese, giorno, ora e minuto\n",
    "viaggi['data'] = viaggi['timestamp'].apply(lambda x: x.date())\n",
    "viaggi['anno'] = viaggi['data'].apply(lambda x: x.year)\n",
    "viaggi['mese'] = viaggi['data'].apply(lambda x: x.month)\n",
    "viaggi['giorno'] = viaggi['data'].apply(lambda x: x.day)\n",
    "viaggi['tempo'] = viaggi['timestamp'].apply(lambda x: str(x.time())[:5])\n",
    "viaggi['ora'] = viaggi['tempo'].apply(lambda x: int(x[:2]))\n",
    "viaggi['minuto'] = viaggi['tempo'].apply(lambda x: int(x[3:]))\n",
    "\n",
    "# estraiamo coordinate lat lon dell'ultimo campionamento GPS sia di ritiro che consegna\n",
    "viaggi['luogo_ritiro'] = viaggi['luogoRitiro'].apply(lambda x: tuple(map(lambda y: float(y), x.split(' (')[-1][:-2].split(', '))))\n",
    "viaggi['luogo_consegna'] = viaggi['luogoConsegna'].apply(lambda x: tuple(map(lambda y: float(y), x.split(' (')[-1][:-2].split(', '))))\n",
    "viaggi['lat_ritiro'] = viaggi['luogo_ritiro'].apply(lambda x: x[0])\n",
    "viaggi['lon_ritiro'] = viaggi['luogo_ritiro'].apply(lambda x: x[1])\n",
    "viaggi['lat_consegna'] = viaggi['luogo_consegna'].apply(lambda x: x[0])\n",
    "viaggi['lon_consegna'] = viaggi['luogo_consegna'].apply(lambda x: x[1])\n",
    "\n",
    "# facciamo pulizia delle colonne ausiliarie\n",
    "viaggi.drop(['timestamp', 'tempo', 'luogo_ritiro', 'luogo_consegna'], axis=1, inplace=True)"
   ]
  },
  {
   "cell_type": "markdown",
   "metadata": {},
   "source": [
    "Selezioniamo ora solo le colonne preprocessate "
   ]
  },
  {
   "cell_type": "code",
   "execution_count": 12,
   "metadata": {
    "execution": {
     "iopub.execute_input": "2021-05-06T09:58:07.004229Z",
     "iopub.status.busy": "2021-05-06T09:58:07.003228Z",
     "iopub.status.idle": "2021-05-06T09:58:07.030229Z",
     "shell.execute_reply": "2021-05-06T09:58:07.028236Z",
     "shell.execute_reply.started": "2021-05-06T09:58:07.004229Z"
    }
   },
   "outputs": [],
   "source": [
    "viaggi = viaggi[[\n",
    "    'idUtente', 'idVeicolo', 'carica_batteria_inizio', \n",
    "    'carica_batteria_fine', 'distanza_percorsa', 'tempo_viaggio',\n",
    "    'due_caschi_disponibili', 'anno', 'mese', 'giorno', 'ora',\n",
    "    'minuto', 'lat_ritiro', 'lon_ritiro', 'lat_consegna', \n",
    "    'lon_consegna', 'punteggioViaggio'\n",
    "    ]]"
   ]
  },
  {
   "cell_type": "code",
   "execution_count": 13,
   "metadata": {
    "execution": {
     "iopub.execute_input": "2021-05-06T09:58:07.032229Z",
     "iopub.status.busy": "2021-05-06T09:58:07.031229Z",
     "iopub.status.idle": "2021-05-06T09:58:07.058229Z",
     "shell.execute_reply": "2021-05-06T09:58:07.057264Z",
     "shell.execute_reply.started": "2021-05-06T09:58:07.032229Z"
    }
   },
   "outputs": [
    {
     "data": {
      "text/plain": [
       "idUtente                  0\n",
       "idVeicolo                 0\n",
       "carica_batteria_inizio    0\n",
       "carica_batteria_fine      0\n",
       "distanza_percorsa         0\n",
       "tempo_viaggio             0\n",
       "due_caschi_disponibili    0\n",
       "anno                      0\n",
       "mese                      0\n",
       "giorno                    0\n",
       "ora                       0\n",
       "minuto                    0\n",
       "lat_ritiro                0\n",
       "lon_ritiro                0\n",
       "lat_consegna              0\n",
       "lon_consegna              0\n",
       "punteggioViaggio          0\n",
       "dtype: int64"
      ]
     },
     "execution_count": 13,
     "metadata": {},
     "output_type": "execute_result"
    }
   ],
   "source": [
    "pd.isnull(viaggi).sum(axis=0)"
   ]
  },
  {
   "cell_type": "markdown",
   "metadata": {},
   "source": [
    "### Incidenti"
   ]
  },
  {
   "cell_type": "code",
   "execution_count": 14,
   "metadata": {
    "execution": {
     "iopub.execute_input": "2021-05-06T09:58:07.059257Z",
     "iopub.status.busy": "2021-05-06T09:58:07.059257Z",
     "iopub.status.idle": "2021-05-06T09:58:07.070228Z",
     "shell.execute_reply": "2021-05-06T09:58:07.069228Z",
     "shell.execute_reply.started": "2021-05-06T09:58:07.059257Z"
    }
   },
   "outputs": [
    {
     "data": {
      "text/html": [
       "<div>\n",
       "<style scoped>\n",
       "    .dataframe tbody tr th:only-of-type {\n",
       "        vertical-align: middle;\n",
       "    }\n",
       "\n",
       "    .dataframe tbody tr th {\n",
       "        vertical-align: top;\n",
       "    }\n",
       "\n",
       "    .dataframe thead th {\n",
       "        text-align: right;\n",
       "    }\n",
       "</style>\n",
       "<table border=\"1\" class=\"dataframe\">\n",
       "  <thead>\n",
       "    <tr style=\"text-align: right;\">\n",
       "      <th></th>\n",
       "      <th>providerEvento</th>\n",
       "      <th>targaVeicolo</th>\n",
       "      <th>costoEvento</th>\n",
       "      <th>dataEvento</th>\n",
       "      <th>oraEvento</th>\n",
       "    </tr>\n",
       "  </thead>\n",
       "  <tbody>\n",
       "    <tr>\n",
       "      <th>0</th>\n",
       "      <td>Sonia Fantoni</td>\n",
       "      <td>X8V2VM</td>\n",
       "      <td>178,00 €</td>\n",
       "      <td>Jun, 05, 2020</td>\n",
       "      <td>forse 18 e 45</td>\n",
       "    </tr>\n",
       "    <tr>\n",
       "      <th>1</th>\n",
       "      <td>Morena Fibonacci</td>\n",
       "      <td>X8T2WT</td>\n",
       "      <td>196,00 €</td>\n",
       "      <td>Sep, 24, 2019</td>\n",
       "      <td>forse 18:52</td>\n",
       "    </tr>\n",
       "  </tbody>\n",
       "</table>\n",
       "</div>"
      ],
      "text/plain": [
       "     providerEvento targaVeicolo costoEvento     dataEvento      oraEvento\n",
       "0     Sonia Fantoni       X8V2VM    178,00 €  Jun, 05, 2020  forse 18 e 45\n",
       "1  Morena Fibonacci       X8T2WT    196,00 €  Sep, 24, 2019    forse 18:52"
      ]
     },
     "execution_count": 14,
     "metadata": {},
     "output_type": "execute_result"
    }
   ],
   "source": [
    "incidenti.head(2)"
   ]
  },
  {
   "cell_type": "markdown",
   "metadata": {},
   "source": [
    "Vogliamo:\n",
    "    \n",
    "* ricavare idUtente ed idVeicolo a partire risp. da nome utente e targa veicolo (per poter incrociare con dataset viaggi)\n",
    "* uniformare il formato di data evento e ora evento rispetto a quanto contenuto nel dataset di viaggi\n",
    "\n",
    "Serve quindi coinvolgere anche i restanti due dataset: utenti e scooter (per ora prendiamo da loro solo lo stretto necessario)."
   ]
  },
  {
   "cell_type": "markdown",
   "metadata": {},
   "source": [
    "#### Recupero `idUtente` e `idVeicolo`"
   ]
  },
  {
   "cell_type": "code",
   "execution_count": 15,
   "metadata": {
    "execution": {
     "iopub.execute_input": "2021-05-06T09:58:07.071258Z",
     "iopub.status.busy": "2021-05-06T09:58:07.070228Z",
     "iopub.status.idle": "2021-05-06T09:58:07.142226Z",
     "shell.execute_reply": "2021-05-06T09:58:07.141227Z",
     "shell.execute_reply.started": "2021-05-06T09:58:07.071258Z"
    }
   },
   "outputs": [],
   "source": [
    "utenti = pd.read_csv(f'{path}/utenti.csv', sep='|')\n",
    "scooter = pd.read_csv(f'{path}/scooter.csv', sep=';')"
   ]
  },
  {
   "cell_type": "code",
   "execution_count": 16,
   "metadata": {
    "execution": {
     "iopub.execute_input": "2021-05-06T09:58:07.143229Z",
     "iopub.status.busy": "2021-05-06T09:58:07.143229Z",
     "iopub.status.idle": "2021-05-06T09:58:07.161229Z",
     "shell.execute_reply": "2021-05-06T09:58:07.160229Z",
     "shell.execute_reply.started": "2021-05-06T09:58:07.143229Z"
    }
   },
   "outputs": [
    {
     "data": {
      "text/html": [
       "<div>\n",
       "<style scoped>\n",
       "    .dataframe tbody tr th:only-of-type {\n",
       "        vertical-align: middle;\n",
       "    }\n",
       "\n",
       "    .dataframe tbody tr th {\n",
       "        vertical-align: top;\n",
       "    }\n",
       "\n",
       "    .dataframe thead th {\n",
       "        text-align: right;\n",
       "    }\n",
       "</style>\n",
       "<table border=\"1\" class=\"dataframe\">\n",
       "  <thead>\n",
       "    <tr style=\"text-align: right;\">\n",
       "      <th></th>\n",
       "      <th>ID UTENTE</th>\n",
       "      <th>NOME</th>\n",
       "      <th>COGNOME</th>\n",
       "      <th>SESSO</th>\n",
       "      <th>DATA di NASCITA</th>\n",
       "      <th>LUOGO di NASCITA</th>\n",
       "      <th>C.F.</th>\n",
       "      <th>INDIRIZZO E-MAIL</th>\n",
       "      <th>INDIRIZZO</th>\n",
       "      <th>LAT INDIRIZZO</th>\n",
       "      <th>LON INDIRIZZO</th>\n",
       "      <th>PATENTE #</th>\n",
       "      <th>DATA ULTIMO RINNOVO PATENTE</th>\n",
       "      <th>CONSENSO al TRATTAMENTO dei DATI</th>\n",
       "      <th>TITOLO di STUDIO</th>\n",
       "    </tr>\n",
       "  </thead>\n",
       "  <tbody>\n",
       "    <tr>\n",
       "      <th>0</th>\n",
       "      <td>u6586</td>\n",
       "      <td>Dario</td>\n",
       "      <td>Nibali</td>\n",
       "      <td>M</td>\n",
       "      <td>12/09/1986</td>\n",
       "      <td>Torino</td>\n",
       "      <td>NBLDRA86P12L219E</td>\n",
       "      <td>NaN</td>\n",
       "      <td>GENOVA, VIA VAL D'ASTICO, 156</td>\n",
       "      <td>44,4946921</td>\n",
       "      <td>8,908447</td>\n",
       "      <td>U19713653J</td>\n",
       "      <td>2019-03-30</td>\n",
       "      <td>False</td>\n",
       "      <td>NaN</td>\n",
       "    </tr>\n",
       "    <tr>\n",
       "      <th>1</th>\n",
       "      <td>u2188</td>\n",
       "      <td>Giacinto</td>\n",
       "      <td>Ferraris</td>\n",
       "      <td>M</td>\n",
       "      <td>24/05/1986</td>\n",
       "      <td>Carrara</td>\n",
       "      <td>FRRGNT86E24B832A</td>\n",
       "      <td>ferraris86@vodafone.it</td>\n",
       "      <td>GENOVA, VIA SAMBUGO, 10</td>\n",
       "      <td>44,4491083</td>\n",
       "      <td>8,6963344</td>\n",
       "      <td>U18283370F</td>\n",
       "      <td>2019-08-19</td>\n",
       "      <td>False</td>\n",
       "      <td>diploma di scuola secondaria superiore (4-5 anni)</td>\n",
       "    </tr>\n",
       "  </tbody>\n",
       "</table>\n",
       "</div>"
      ],
      "text/plain": [
       "  ID UTENTE      NOME   COGNOME SESSO DATA di NASCITA LUOGO di NASCITA  \\\n",
       "0     u6586     Dario    Nibali     M      12/09/1986           Torino   \n",
       "1     u2188  Giacinto  Ferraris     M      24/05/1986          Carrara   \n",
       "\n",
       "               C.F.        INDIRIZZO E-MAIL                      INDIRIZZO  \\\n",
       "0  NBLDRA86P12L219E                     NaN  GENOVA, VIA VAL D'ASTICO, 156   \n",
       "1  FRRGNT86E24B832A  ferraris86@vodafone.it        GENOVA, VIA SAMBUGO, 10   \n",
       "\n",
       "  LAT INDIRIZZO LON INDIRIZZO   PATENTE # DATA ULTIMO RINNOVO PATENTE  \\\n",
       "0    44,4946921      8,908447  U19713653J                  2019-03-30   \n",
       "1    44,4491083     8,6963344  U18283370F                  2019-08-19   \n",
       "\n",
       "   CONSENSO al TRATTAMENTO dei DATI  \\\n",
       "0                             False   \n",
       "1                             False   \n",
       "\n",
       "                                    TITOLO di STUDIO  \n",
       "0                                                NaN  \n",
       "1  diploma di scuola secondaria superiore (4-5 anni)  "
      ]
     },
     "execution_count": 16,
     "metadata": {},
     "output_type": "execute_result"
    }
   ],
   "source": [
    "utenti.head(2)"
   ]
  },
  {
   "cell_type": "code",
   "execution_count": 17,
   "metadata": {
    "execution": {
     "iopub.execute_input": "2021-05-06T09:58:07.164237Z",
     "iopub.status.busy": "2021-05-06T09:58:07.163229Z",
     "iopub.status.idle": "2021-05-06T09:58:07.179348Z",
     "shell.execute_reply": "2021-05-06T09:58:07.177740Z",
     "shell.execute_reply.started": "2021-05-06T09:58:07.164237Z"
    }
   },
   "outputs": [
    {
     "data": {
      "text/html": [
       "<div>\n",
       "<style scoped>\n",
       "    .dataframe tbody tr th:only-of-type {\n",
       "        vertical-align: middle;\n",
       "    }\n",
       "\n",
       "    .dataframe tbody tr th {\n",
       "        vertical-align: top;\n",
       "    }\n",
       "\n",
       "    .dataframe thead th {\n",
       "        text-align: right;\n",
       "    }\n",
       "</style>\n",
       "<table border=\"1\" class=\"dataframe\">\n",
       "  <thead>\n",
       "    <tr style=\"text-align: right;\">\n",
       "      <th></th>\n",
       "      <th>Veicolo</th>\n",
       "      <th>Activation Number</th>\n",
       "      <th>Versione n°</th>\n",
       "      <th>Targa</th>\n",
       "      <th>Costo</th>\n",
       "      <th>Data Registrazione</th>\n",
       "    </tr>\n",
       "  </thead>\n",
       "  <tbody>\n",
       "    <tr>\n",
       "      <th>0</th>\n",
       "      <td>v114</td>\n",
       "      <td>16</td>\n",
       "      <td>3</td>\n",
       "      <td>X8X2NL</td>\n",
       "      <td>9.860,00 €</td>\n",
       "      <td>01/20/2020</td>\n",
       "    </tr>\n",
       "    <tr>\n",
       "      <th>1</th>\n",
       "      <td>v89</td>\n",
       "      <td>43</td>\n",
       "      <td>2</td>\n",
       "      <td>X8VG3N</td>\n",
       "      <td>5.860,00 €</td>\n",
       "      <td>06/01/2019</td>\n",
       "    </tr>\n",
       "  </tbody>\n",
       "</table>\n",
       "</div>"
      ],
      "text/plain": [
       "  Veicolo  Activation Number  Versione n°   Targa       Costo  \\\n",
       "0    v114                 16            3  X8X2NL  9.860,00 €   \n",
       "1     v89                 43            2  X8VG3N  5.860,00 €   \n",
       "\n",
       "  Data Registrazione  \n",
       "0         01/20/2020  \n",
       "1         06/01/2019  "
      ]
     },
     "execution_count": 17,
     "metadata": {},
     "output_type": "execute_result"
    }
   ],
   "source": [
    "scooter.head(2)"
   ]
  },
  {
   "cell_type": "markdown",
   "metadata": {
    "execution": {
     "iopub.execute_input": "2021-05-03T06:44:37.119537Z",
     "iopub.status.busy": "2021-05-03T06:44:37.119537Z",
     "iopub.status.idle": "2021-05-03T06:44:37.128541Z",
     "shell.execute_reply": "2021-05-03T06:44:37.126538Z",
     "shell.execute_reply.started": "2021-05-03T06:44:37.119537Z"
    }
   },
   "source": [
    "Per legare idUtente a nome e cognome operiamo in due step:\n",
    "    \n",
    "* creiamo una colonna che contenga una stringa dove concateniamo nome e cognome, es. da `['Mario', 'Rossi']` a `'Mario Rossi'`\n",
    "* creiamo un dizionario che mappi ciascun nome e cognome sul corrispondente idUtente"
   ]
  },
  {
   "cell_type": "code",
   "execution_count": 18,
   "metadata": {
    "execution": {
     "iopub.execute_input": "2021-05-06T09:58:07.181065Z",
     "iopub.status.busy": "2021-05-06T09:58:07.181032Z",
     "iopub.status.idle": "2021-05-06T09:58:07.200204Z",
     "shell.execute_reply": "2021-05-06T09:58:07.199204Z",
     "shell.execute_reply.started": "2021-05-06T09:58:07.181065Z"
    }
   },
   "outputs": [],
   "source": [
    "utenti['nome_cognome'] = utenti['NOME'] + ' ' + utenti['COGNOME']\n",
    "nomi2id = utenti.set_index('nome_cognome')['ID UTENTE'].to_dict()"
   ]
  },
  {
   "cell_type": "markdown",
   "metadata": {},
   "source": [
    "Ripetiamo quanto sopra, in maniera analoga, per legare targa veicolo all'id"
   ]
  },
  {
   "cell_type": "code",
   "execution_count": 19,
   "metadata": {
    "execution": {
     "iopub.execute_input": "2021-05-06T09:58:07.201204Z",
     "iopub.status.busy": "2021-05-06T09:58:07.201204Z",
     "iopub.status.idle": "2021-05-06T09:58:07.209205Z",
     "shell.execute_reply": "2021-05-06T09:58:07.208207Z",
     "shell.execute_reply.started": "2021-05-06T09:58:07.201204Z"
    }
   },
   "outputs": [],
   "source": [
    "targhe2id = scooter.set_index('Targa')['Veicolo'].to_dict()"
   ]
  },
  {
   "cell_type": "markdown",
   "metadata": {},
   "source": [
    "Aggiungiamo le colonne con gli id al dataset incidenti"
   ]
  },
  {
   "cell_type": "code",
   "execution_count": 20,
   "metadata": {
    "execution": {
     "iopub.execute_input": "2021-05-06T09:58:07.210205Z",
     "iopub.status.busy": "2021-05-06T09:58:07.210205Z",
     "iopub.status.idle": "2021-05-06T09:58:07.221204Z",
     "shell.execute_reply": "2021-05-06T09:58:07.220206Z",
     "shell.execute_reply.started": "2021-05-06T09:58:07.210205Z"
    }
   },
   "outputs": [],
   "source": [
    "incidenti['idUtente'] = incidenti['providerEvento'].map(nomi2id)\n",
    "incidenti['idVeicolo'] = incidenti['targaVeicolo'].map(targhe2id)"
   ]
  },
  {
   "cell_type": "markdown",
   "metadata": {},
   "source": [
    "#### Processing `oraEvento` e `dataEvento`"
   ]
  },
  {
   "cell_type": "code",
   "execution_count": 21,
   "metadata": {
    "execution": {
     "iopub.execute_input": "2021-05-06T09:58:07.223205Z",
     "iopub.status.busy": "2021-05-06T09:58:07.222206Z",
     "iopub.status.idle": "2021-05-06T09:58:07.478472Z",
     "shell.execute_reply": "2021-05-06T09:58:07.477546Z",
     "shell.execute_reply.started": "2021-05-06T09:58:07.223205Z"
    }
   },
   "outputs": [],
   "source": [
    "incidenti['data'] = incidenti['dataEvento'].apply(lambda x: pd.to_datetime(x).date())\n",
    "incidenti['anno'] = incidenti['data'].apply(lambda x: x.year)\n",
    "incidenti['mese'] = incidenti['data'].apply(lambda x: x.month)\n",
    "incidenti['giorno'] = incidenti['data'].apply(lambda x: x.day)"
   ]
  },
  {
   "cell_type": "markdown",
   "metadata": {},
   "source": [
    "Per l'ora evento, sfruttiamo un contenuto bonus della lezione sulle stringhe, le _regular expressions_ (il codice è un po' involuto, non ci soffermiamo)"
   ]
  },
  {
   "cell_type": "code",
   "execution_count": 22,
   "metadata": {
    "execution": {
     "iopub.execute_input": "2021-05-06T09:58:07.479434Z",
     "iopub.status.busy": "2021-05-06T09:58:07.478472Z",
     "iopub.status.idle": "2021-05-06T09:58:07.500437Z",
     "shell.execute_reply": "2021-05-06T09:58:07.497448Z",
     "shell.execute_reply.started": "2021-05-06T09:58:07.479434Z"
    }
   },
   "outputs": [],
   "source": [
    "import re\n",
    "\n",
    "incidenti[['ora', 'minuto']] = (\n",
    "    incidenti['oraEvento']\n",
    "    .apply(\n",
    "        lambda x: ':'.join(filter(\n",
    "            lambda y: all(yi.isdigit() for yi in y), \n",
    "            re.findall(r'[A-Za-z]+|\\d+', x)\n",
    "        ))\n",
    "    ).str.split(':', expand=True)\n",
    "    .astype(int)\n",
    ")"
   ]
  },
  {
   "cell_type": "markdown",
   "metadata": {
    "execution": {
     "iopub.execute_input": "2021-05-05T06:05:46.935759Z",
     "iopub.status.busy": "2021-05-05T06:05:46.935759Z",
     "iopub.status.idle": "2021-05-05T06:05:46.944732Z",
     "shell.execute_reply": "2021-05-05T06:05:46.942731Z",
     "shell.execute_reply.started": "2021-05-05T06:05:46.935759Z"
    }
   },
   "source": [
    "Selezioniamo ora solo le colonne preprocessate "
   ]
  },
  {
   "cell_type": "code",
   "execution_count": 23,
   "metadata": {
    "execution": {
     "iopub.execute_input": "2021-05-06T09:58:07.503445Z",
     "iopub.status.busy": "2021-05-06T09:58:07.502436Z",
     "iopub.status.idle": "2021-05-06T09:58:07.527451Z",
     "shell.execute_reply": "2021-05-06T09:58:07.522442Z",
     "shell.execute_reply.started": "2021-05-06T09:58:07.503445Z"
    }
   },
   "outputs": [],
   "source": [
    "incidenti = incidenti[['idUtente', 'idVeicolo', 'anno', 'mese', 'giorno', 'ora', 'minuto']]"
   ]
  },
  {
   "cell_type": "markdown",
   "metadata": {},
   "source": [
    "### Target feature\n",
    "Siamo finalmente pronti a creare la target feature nel dataset degli incidenti, e arricchire così quello dei viaggi, tramite merge\n",
    "\n"
   ]
  },
  {
   "cell_type": "code",
   "execution_count": 24,
   "metadata": {
    "execution": {
     "iopub.execute_input": "2021-05-06T09:58:07.534437Z",
     "iopub.status.busy": "2021-05-06T09:58:07.530438Z",
     "iopub.status.idle": "2021-05-06T09:58:07.566436Z",
     "shell.execute_reply": "2021-05-06T09:58:07.564442Z",
     "shell.execute_reply.started": "2021-05-06T09:58:07.534437Z"
    }
   },
   "outputs": [
    {
     "data": {
      "text/html": [
       "<div>\n",
       "<style scoped>\n",
       "    .dataframe tbody tr th:only-of-type {\n",
       "        vertical-align: middle;\n",
       "    }\n",
       "\n",
       "    .dataframe tbody tr th {\n",
       "        vertical-align: top;\n",
       "    }\n",
       "\n",
       "    .dataframe thead th {\n",
       "        text-align: right;\n",
       "    }\n",
       "</style>\n",
       "<table border=\"1\" class=\"dataframe\">\n",
       "  <thead>\n",
       "    <tr style=\"text-align: right;\">\n",
       "      <th></th>\n",
       "      <th>idUtente</th>\n",
       "      <th>idVeicolo</th>\n",
       "      <th>carica_batteria_inizio</th>\n",
       "      <th>carica_batteria_fine</th>\n",
       "      <th>distanza_percorsa</th>\n",
       "      <th>tempo_viaggio</th>\n",
       "      <th>due_caschi_disponibili</th>\n",
       "      <th>anno</th>\n",
       "      <th>mese</th>\n",
       "      <th>giorno</th>\n",
       "      <th>ora</th>\n",
       "      <th>minuto</th>\n",
       "      <th>lat_ritiro</th>\n",
       "      <th>lon_ritiro</th>\n",
       "      <th>lat_consegna</th>\n",
       "      <th>lon_consegna</th>\n",
       "      <th>punteggioViaggio</th>\n",
       "    </tr>\n",
       "  </thead>\n",
       "  <tbody>\n",
       "    <tr>\n",
       "      <th>0</th>\n",
       "      <td>u5954</td>\n",
       "      <td>v33</td>\n",
       "      <td>1.0</td>\n",
       "      <td>0.902</td>\n",
       "      <td>4.5046</td>\n",
       "      <td>800.0</td>\n",
       "      <td>1</td>\n",
       "      <td>2018</td>\n",
       "      <td>10</td>\n",
       "      <td>1</td>\n",
       "      <td>1</td>\n",
       "      <td>22</td>\n",
       "      <td>44.395187</td>\n",
       "      <td>8.943839</td>\n",
       "      <td>44.433997</td>\n",
       "      <td>8.958993</td>\n",
       "      <td>7.55</td>\n",
       "    </tr>\n",
       "    <tr>\n",
       "      <th>2</th>\n",
       "      <td>u3403</td>\n",
       "      <td>v103</td>\n",
       "      <td>1.0</td>\n",
       "      <td>0.826</td>\n",
       "      <td>9.2642</td>\n",
       "      <td>1661.0</td>\n",
       "      <td>1</td>\n",
       "      <td>2018</td>\n",
       "      <td>10</td>\n",
       "      <td>1</td>\n",
       "      <td>3</td>\n",
       "      <td>23</td>\n",
       "      <td>44.500364</td>\n",
       "      <td>8.903750</td>\n",
       "      <td>44.418102</td>\n",
       "      <td>8.921511</td>\n",
       "      <td>8.02</td>\n",
       "    </tr>\n",
       "  </tbody>\n",
       "</table>\n",
       "</div>"
      ],
      "text/plain": [
       "  idUtente idVeicolo  carica_batteria_inizio  carica_batteria_fine  \\\n",
       "0    u5954       v33                     1.0                 0.902   \n",
       "2    u3403      v103                     1.0                 0.826   \n",
       "\n",
       "   distanza_percorsa  tempo_viaggio  due_caschi_disponibili  anno  mese  \\\n",
       "0             4.5046          800.0                       1  2018    10   \n",
       "2             9.2642         1661.0                       1  2018    10   \n",
       "\n",
       "   giorno  ora  minuto  lat_ritiro  lon_ritiro  lat_consegna  lon_consegna  \\\n",
       "0       1    1      22   44.395187    8.943839     44.433997      8.958993   \n",
       "2       1    3      23   44.500364    8.903750     44.418102      8.921511   \n",
       "\n",
       "   punteggioViaggio  \n",
       "0              7.55  \n",
       "2              8.02  "
      ]
     },
     "execution_count": 24,
     "metadata": {},
     "output_type": "execute_result"
    }
   ],
   "source": [
    "viaggi.head(2)"
   ]
  },
  {
   "cell_type": "code",
   "execution_count": 25,
   "metadata": {
    "execution": {
     "iopub.execute_input": "2021-05-06T09:58:07.569436Z",
     "iopub.status.busy": "2021-05-06T09:58:07.568439Z",
     "iopub.status.idle": "2021-05-06T09:58:07.584437Z",
     "shell.execute_reply": "2021-05-06T09:58:07.583443Z",
     "shell.execute_reply.started": "2021-05-06T09:58:07.569436Z"
    }
   },
   "outputs": [
    {
     "data": {
      "text/html": [
       "<div>\n",
       "<style scoped>\n",
       "    .dataframe tbody tr th:only-of-type {\n",
       "        vertical-align: middle;\n",
       "    }\n",
       "\n",
       "    .dataframe tbody tr th {\n",
       "        vertical-align: top;\n",
       "    }\n",
       "\n",
       "    .dataframe thead th {\n",
       "        text-align: right;\n",
       "    }\n",
       "</style>\n",
       "<table border=\"1\" class=\"dataframe\">\n",
       "  <thead>\n",
       "    <tr style=\"text-align: right;\">\n",
       "      <th></th>\n",
       "      <th>idUtente</th>\n",
       "      <th>idVeicolo</th>\n",
       "      <th>anno</th>\n",
       "      <th>mese</th>\n",
       "      <th>giorno</th>\n",
       "      <th>ora</th>\n",
       "      <th>minuto</th>\n",
       "    </tr>\n",
       "  </thead>\n",
       "  <tbody>\n",
       "    <tr>\n",
       "      <th>0</th>\n",
       "      <td>u1721</td>\n",
       "      <td>v12</td>\n",
       "      <td>2020</td>\n",
       "      <td>6</td>\n",
       "      <td>5</td>\n",
       "      <td>18</td>\n",
       "      <td>45</td>\n",
       "    </tr>\n",
       "    <tr>\n",
       "      <th>1</th>\n",
       "      <td>u5706</td>\n",
       "      <td>v23</td>\n",
       "      <td>2019</td>\n",
       "      <td>9</td>\n",
       "      <td>24</td>\n",
       "      <td>18</td>\n",
       "      <td>52</td>\n",
       "    </tr>\n",
       "  </tbody>\n",
       "</table>\n",
       "</div>"
      ],
      "text/plain": [
       "  idUtente idVeicolo  anno  mese  giorno  ora  minuto\n",
       "0    u1721       v12  2020     6       5   18      45\n",
       "1    u5706       v23  2019     9      24   18      52"
      ]
     },
     "execution_count": 25,
     "metadata": {},
     "output_type": "execute_result"
    }
   ],
   "source": [
    "incidenti.head(2)"
   ]
  },
  {
   "cell_type": "code",
   "execution_count": 26,
   "metadata": {
    "execution": {
     "iopub.execute_input": "2021-05-06T09:58:07.587436Z",
     "iopub.status.busy": "2021-05-06T09:58:07.586438Z",
     "iopub.status.idle": "2021-05-06T09:58:07.593436Z",
     "shell.execute_reply": "2021-05-06T09:58:07.592436Z",
     "shell.execute_reply.started": "2021-05-06T09:58:07.587436Z"
    }
   },
   "outputs": [],
   "source": [
    "incidenti['incidente'] = 1"
   ]
  },
  {
   "cell_type": "code",
   "execution_count": 27,
   "metadata": {
    "execution": {
     "iopub.execute_input": "2021-05-06T09:58:07.596436Z",
     "iopub.status.busy": "2021-05-06T09:58:07.595435Z",
     "iopub.status.idle": "2021-05-06T09:58:07.801745Z",
     "shell.execute_reply": "2021-05-06T09:58:07.800747Z",
     "shell.execute_reply.started": "2021-05-06T09:58:07.595435Z"
    }
   },
   "outputs": [],
   "source": [
    "dataset = viaggi.merge(\n",
    "    incidenti,\n",
    "    how='left',\n",
    "    on=['idUtente', 'idVeicolo', 'anno', 'mese', 'giorno', 'ora', 'minuto']\n",
    "    )\n",
    "dataset['incidente'].fillna(0.0, inplace=True)\n",
    "dataset['incidente'] = dataset['incidente'].astype(int)\n",
    "\n",
    "# ora che li abbiamo utilizzati per i vari merge, castiamo anche ad int gli id utenti e veicoli\n",
    "dataset[['idUtente', 'idVeicolo']] = dataset[['idUtente', 'idVeicolo']].applymap(lambda x: int(x[1:]))"
   ]
  },
  {
   "cell_type": "markdown",
   "metadata": {},
   "source": [
    "### Domanda\n",
    "\n",
    "Siamo riusciti a \"ritrovare\" tutti gli eventi incidente nel dataset dei viaggi?\n",
    "\n",
    "Controlliamo che il dataset sia finalmente pronto e selezioniamo solo le colonne interessanti.\n",
    "\n",
    "⚠️ per semplicità supponiamo che le variabili temporali non influiscano sulla classificazione, e le ignoriamo da qui in poi: in generale, _non_ è detto sia una buona idea."
   ]
  },
  {
   "cell_type": "code",
   "execution_count": 28,
   "metadata": {
    "execution": {
     "iopub.execute_input": "2021-05-06T09:58:07.802747Z",
     "iopub.status.busy": "2021-05-06T09:58:07.802747Z",
     "iopub.status.idle": "2021-05-06T09:58:07.815752Z",
     "shell.execute_reply": "2021-05-06T09:58:07.812757Z",
     "shell.execute_reply.started": "2021-05-06T09:58:07.802747Z"
    }
   },
   "outputs": [
    {
     "data": {
      "text/plain": [
       "idUtente                    int64\n",
       "idVeicolo                   int64\n",
       "carica_batteria_inizio    float64\n",
       "carica_batteria_fine      float64\n",
       "distanza_percorsa         float64\n",
       "tempo_viaggio             float64\n",
       "due_caschi_disponibili      int64\n",
       "anno                        int64\n",
       "mese                        int64\n",
       "giorno                      int64\n",
       "ora                         int64\n",
       "minuto                      int64\n",
       "lat_ritiro                float64\n",
       "lon_ritiro                float64\n",
       "lat_consegna              float64\n",
       "lon_consegna              float64\n",
       "punteggioViaggio          float64\n",
       "incidente                   int32\n",
       "dtype: object"
      ]
     },
     "execution_count": 28,
     "metadata": {},
     "output_type": "execute_result"
    }
   ],
   "source": [
    "dataset.dtypes"
   ]
  },
  {
   "cell_type": "code",
   "execution_count": 29,
   "metadata": {
    "execution": {
     "iopub.execute_input": "2021-05-06T09:58:07.819747Z",
     "iopub.status.busy": "2021-05-06T09:58:07.818754Z",
     "iopub.status.idle": "2021-05-06T09:58:07.842747Z",
     "shell.execute_reply": "2021-05-06T09:58:07.841748Z",
     "shell.execute_reply.started": "2021-05-06T09:58:07.819747Z"
    }
   },
   "outputs": [],
   "source": [
    "dataset = dataset[[\n",
    "    'idUtente', 'idVeicolo', 'carica_batteria_inizio',\n",
    "    'carica_batteria_fine', 'distanza_percorsa', 'tempo_viaggio',\n",
    "    'due_caschi_disponibili', 'lat_ritiro', 'lon_ritiro', \n",
    "    'lat_consegna', 'lon_consegna', 'punteggioViaggio', 'incidente'\n",
    "]]"
   ]
  },
  {
   "cell_type": "markdown",
   "metadata": {},
   "source": [
    "Salviamo il dataset"
   ]
  },
  {
   "cell_type": "code",
   "execution_count": 30,
   "metadata": {
    "execution": {
     "iopub.execute_input": "2021-05-06T09:58:07.844750Z",
     "iopub.status.busy": "2021-05-06T09:58:07.843748Z",
     "iopub.status.idle": "2021-05-06T09:58:08.520276Z",
     "shell.execute_reply": "2021-05-06T09:58:08.519330Z",
     "shell.execute_reply.started": "2021-05-06T09:58:07.844750Z"
    }
   },
   "outputs": [],
   "source": [
    "dataset.to_csv('./dataset_classificazione.csv', index=False)"
   ]
  }
 ],
 "metadata": {
  "kernelspec": {
   "display_name": ".venv-mimocko",
   "language": "python",
   "name": ".venv-mimocko"
  },
  "language_info": {
   "codemirror_mode": {
    "name": "ipython",
    "version": 3
   },
   "file_extension": ".py",
   "mimetype": "text/x-python",
   "name": "python",
   "nbconvert_exporter": "python",
   "pygments_lexer": "ipython3",
   "version": "3.8.5"
  },
  "toc-autonumbering": true
 },
 "nbformat": 4,
 "nbformat_minor": 4
}
