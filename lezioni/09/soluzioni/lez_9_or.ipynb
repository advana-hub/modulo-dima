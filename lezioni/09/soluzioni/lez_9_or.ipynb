{
 "cells": [
  {
   "cell_type": "markdown",
   "id": "b56b5c56-55cd-46d1-8938-f5ac7c0cc35c",
   "metadata": {},
   "source": [
    "# 📦 Bin Packing problem (BPP)"
   ]
  },
  {
   "cell_type": "markdown",
   "id": "722e0006-18ce-4d9b-a7e2-2a666fba8f7a",
   "metadata": {},
   "source": [
    "## Definizione"
   ]
  },
  {
   "cell_type": "markdown",
   "id": "f594a1b9-2add-4edb-be36-f10205959da3",
   "metadata": {},
   "source": [
    "Il Bin Packing problem può essere definito come segue\n",
    "\n",
    "> Dati $N$ oggetti da inscatolare ed il \"peso\" di ciascuno di essi, trovare il numero minimo di scatole necessarie a contenere tutti gli oggetti, nota la capacità massima di una scatola (uguale per tutte).\n",
    "\n",
    "<img src=\"../bpp-instance.png\" style=\"margin-left:auto;margin-right:auto;width:50%\">"
   ]
  },
  {
   "cell_type": "markdown",
   "id": "28e591a1-8953-4a10-8ed8-d1b71fabe760",
   "metadata": {},
   "source": [
    "### Domanda"
   ]
  },
  {
   "cell_type": "markdown",
   "id": "449176b2-5f71-458d-a885-3f55f7626a1c",
   "metadata": {},
   "source": [
    "Ti viene in mente un caso in cui il problema così formulato risulterebbe automaticamente _unfeasible_?"
   ]
  },
  {
   "cell_type": "markdown",
   "id": "1f932399-215e-4d5b-824b-ff7e2d2868c6",
   "metadata": {
    "execution": {
     "iopub.execute_input": "2021-05-20T07:50:37.538582Z",
     "iopub.status.busy": "2021-05-20T07:50:37.536895Z",
     "iopub.status.idle": "2021-05-20T07:50:37.555546Z",
     "shell.execute_reply": "2021-05-20T07:50:37.553549Z",
     "shell.execute_reply.started": "2021-05-20T07:50:37.537546Z"
    }
   },
   "source": [
    "`per esempio se esiste un oggetto con peso individuale maggiore della capacità di una scatola`"
   ]
  },
  {
   "cell_type": "markdown",
   "id": "3376934b-5e4e-4ef4-a831-71633cbe424e",
   "metadata": {},
   "source": [
    "Facciamo un passo indietro e pensiamo a formulazioni più semplici\n",
    "\n",
    "### Esercizio (BPP semplificato)\n",
    "Nel caso in cui:\n",
    "\n",
    "- la capacità di una scatola è pari a $C$\n",
    "- il \"peso\" è uguale per tutti gli oggetti, diciamo $w \\leq C$\n",
    "\n",
    "qual è il numero minimo di scatole necessario a contenere tutti gli oggetti?\n"
   ]
  },
  {
   "cell_type": "markdown",
   "id": "1fbdbb00-5e7e-4a2a-88f4-49f249cb3106",
   "metadata": {},
   "source": [
    "`numero minimo di scatole = `$\\large \\left\\lceil \\frac{N\\cdot w}{C}\\right\\rceil$"
   ]
  },
  {
   "cell_type": "markdown",
   "id": "dd919f39-9752-4ace-b91d-a9e68989a502",
   "metadata": {
    "execution": {
     "iopub.execute_input": "2021-05-19T13:45:17.948013Z",
     "iopub.status.busy": "2021-05-19T13:45:17.947013Z",
     "iopub.status.idle": "2021-05-19T13:45:17.953012Z",
     "shell.execute_reply": "2021-05-19T13:45:17.952015Z",
     "shell.execute_reply.started": "2021-05-19T13:45:17.948013Z"
    }
   },
   "source": [
    "## Formulazione"
   ]
  },
  {
   "cell_type": "markdown",
   "id": "3d2ca667-4988-4a53-8b55-fc6a62929f17",
   "metadata": {
    "execution": {
     "iopub.execute_input": "2021-05-19T13:44:58.627738Z",
     "iopub.status.busy": "2021-05-19T13:44:58.626728Z",
     "iopub.status.idle": "2021-05-19T13:44:58.632738Z",
     "shell.execute_reply": "2021-05-19T13:44:58.631737Z",
     "shell.execute_reply.started": "2021-05-19T13:44:58.627738Z"
    }
   },
   "source": [
    "Di seguito è riportata la formulazione matematica del BPP (in particolare, la _[formulazione debole](https://scipbook.readthedocs.io/en/latest/flp.html#cflp-quality)_)."
   ]
  },
  {
   "cell_type": "markdown",
   "id": "6d1e7d44-027f-4e00-9b86-e24a3ef5f0a4",
   "metadata": {},
   "source": [
    "$\\large \\min \\sum\\limits_{j=1}^Ny_j$\n",
    "\n",
    "s.t.\n",
    "\n",
    "$\\large (1) \\sum\\limits_{j=1}^Nx_{ij} = 1 \\;\\;\\;\\forall i=1,\\dots,N$\n",
    "    \n",
    "$\\large (2) \\sum\\limits_{i=1}^Nw_ix_{ij} \\leq Cy_j \\;\\;\\;\\forall j=1,\\dots,N$\n",
    "\n",
    "$\\large (3)\\;\\;x_{ij}, y_j \\in \\{0, 1\\} \\;\\;\\;\\forall i, j=1,\\dots,N$"
   ]
  },
  {
   "cell_type": "markdown",
   "id": "f72d040a-002b-4104-9659-a6e9dc525fbc",
   "metadata": {
    "execution": {
     "iopub.execute_input": "2021-05-20T08:07:36.136302Z",
     "iopub.status.busy": "2021-05-20T08:07:36.136302Z",
     "iopub.status.idle": "2021-05-20T08:07:36.141303Z",
     "shell.execute_reply": "2021-05-20T08:07:36.140304Z",
     "shell.execute_reply.started": "2021-05-20T08:07:36.136302Z"
    }
   },
   "source": [
    "### Domanda"
   ]
  },
  {
   "cell_type": "markdown",
   "id": "b7930256-c73a-4f66-9d9b-b6d98761f686",
   "metadata": {},
   "source": [
    "1. Chi sono le _variabili decisionali_? \n",
    "2. Cosa rappresentano?\n",
    "3. Cosa esprime il vincolo (3)?"
   ]
  },
  {
   "cell_type": "markdown",
   "id": "9e92d6e6-0245-4246-a72a-906fe91a66c4",
   "metadata": {},
   "source": [
    "1. `sono` $\\large x$ `e` $\\large y$\n",
    "\n",
    "2. `rappresentano`\n",
    "- $\\large y_j=1$ `se la j-esima scatola è utilizzata, `$\\large y_j=0$ `altrimenti`\n",
    "- $\\large x_{ij}=1$ `se l'i-esimo oggetto è assegnato alla j-esima scatola, `$\\large x_{ij}=0$ `altrimenti`\n",
    "\n",
    "3. `esprime la scelta di variabili decisionali booleane, che possono quindi assumere solo i valori 0 e 1`"
   ]
  },
  {
   "cell_type": "markdown",
   "id": "32d35449-6379-45c4-897b-52df68ade7de",
   "metadata": {},
   "source": [
    "### Domanda\n",
    "\n",
    "A che famiglia di problemi appartiene il BPP così formulato?"
   ]
  },
  {
   "cell_type": "markdown",
   "id": "fb3fd487-2d64-4960-a442-77f7fc448d82",
   "metadata": {},
   "source": [
    "`se `$\\large w_i, C\\in\\mathbb{R}$ ` è un problema MILP, se `$\\large w_i, C\\in\\mathbb{N}$` è un problema ILP`"
   ]
  },
  {
   "cell_type": "markdown",
   "id": "dd1e3b29-c6f7-4842-8671-cee335891673",
   "metadata": {},
   "source": [
    "### Domanda"
   ]
  },
  {
   "cell_type": "markdown",
   "id": "c852838b-e1b4-44e4-86ad-8802683154c6",
   "metadata": {},
   "source": [
    "A tuo parere, perchè _anche_ l'indice $j$ assume valori tra 1 ed $N$?"
   ]
  },
  {
   "cell_type": "markdown",
   "id": "fe332208-3c71-4ade-ad5b-fe8b848baa57",
   "metadata": {
    "execution": {
     "iopub.execute_input": "2021-05-20T08:14:52.632220Z",
     "iopub.status.busy": "2021-05-20T08:14:52.632220Z",
     "iopub.status.idle": "2021-05-20T08:14:52.638220Z",
     "shell.execute_reply": "2021-05-20T08:14:52.637221Z",
     "shell.execute_reply.started": "2021-05-20T08:14:52.632220Z"
    },
    "tags": []
   },
   "source": [
    "`perchè a priori N è un upper bound sul numero di scatole necessarie, raggiunto nel caso in cui si inscatola ogni oggetto in una scatola dedicata`"
   ]
  },
  {
   "cell_type": "markdown",
   "id": "71d49bac-3b48-49c9-b830-62cfa14a4772",
   "metadata": {},
   "source": [
    "### Domanda"
   ]
  },
  {
   "cell_type": "markdown",
   "id": "3c303d60-3607-4144-a82f-ddc804b5942f",
   "metadata": {},
   "source": [
    "Che cosa esprime la funzione obiettivo?"
   ]
  },
  {
   "cell_type": "markdown",
   "id": "e8c6e60e-86f6-47ab-b533-5dfd73c40bc5",
   "metadata": {},
   "source": [
    "`esprime l'obiettivo di minimizzare il numero di scatole utilizzate, rappresentato dalla somma delle variabili booleane indicatrici dell'utilizzo di ciascuna scatola`"
   ]
  },
  {
   "cell_type": "markdown",
   "id": "ea3baad0-8384-420e-bb28-157ce5504174",
   "metadata": {},
   "source": [
    "### Domanda"
   ]
  },
  {
   "cell_type": "markdown",
   "id": "33108fd5-15a8-4e96-ae65-c9b122cd9895",
   "metadata": {
    "execution": {
     "iopub.execute_input": "2021-05-20T08:20:38.683669Z",
     "iopub.status.busy": "2021-05-20T08:20:38.683669Z",
     "iopub.status.idle": "2021-05-20T08:20:38.691569Z",
     "shell.execute_reply": "2021-05-20T08:20:38.689915Z",
     "shell.execute_reply.started": "2021-05-20T08:20:38.683669Z"
    }
   },
   "source": [
    "Che cosa esprime il vincolo (1)?"
   ]
  },
  {
   "cell_type": "markdown",
   "id": "99981e94-9720-435f-92f0-4051e7f6dd98",
   "metadata": {},
   "source": [
    "`esprime la richiesta \"logica\" che ciascun oggetto sia assegnato ad una ed una sola scatola: fissato l'indice i, deve esistere un unico indice j per cui `$\\large x_{ij}=1$"
   ]
  },
  {
   "cell_type": "markdown",
   "id": "c2546bda-bf2f-48a0-8927-2e4021f3677e",
   "metadata": {},
   "source": [
    "### Domanda \n",
    "Che cosa esprime il vincolo (2)?"
   ]
  },
  {
   "cell_type": "markdown",
   "id": "7dd8fd96-d708-476b-8aa6-a2e4d2883128",
   "metadata": {},
   "source": [
    "`esprime la richiesta che il peso totale degli oggetti assegnati ad una data scatola non superi la capacità massima della scatola. \n",
    "questo vincolo risulta violato \"automaticamente\" se esiste un oggetto i* per cui `$\\large w_{i^*}>C$"
   ]
  },
  {
   "cell_type": "markdown",
   "id": "1e4e73c9-fcb0-4d34-8e2b-b5434d6b87dd",
   "metadata": {},
   "source": [
    "### Esercizio (BONUS)\n",
    "Riformula il problema con notazione matriciale"
   ]
  },
  {
   "cell_type": "markdown",
   "id": "b84a7341-37bc-4854-a010-b1e7998af7a0",
   "metadata": {},
   "source": [
    "$\\large \\min \\left\\Vert \\boldsymbol{y}\\right\\Vert_1$\n",
    "\n",
    "`s.t.`\n",
    "\n",
    "$\\large (1) \\;\\;\\boldsymbol{X}\\cdot\\mathbb{1} = \\mathbb{1}$ dove $\\large \\mathbb{1}^T = (1,\\dots,1)$\n",
    "    \n",
    "$\\large (2) \\;\\;\\left(C\\boldsymbol{y}^T - \\boldsymbol{w}^T\\boldsymbol{X}\\right)\\cdot\\mathbb{1} = \\left\\Vert C\\boldsymbol{y}^T - \\boldsymbol{w}^T\\boldsymbol{X}\\right\\Vert_1$ dove $\\large \\boldsymbol{w}^T = (w_1,\\dots,w_N)$\n",
    "\n",
    "$\\large (3)\\;\\;\\boldsymbol{X}\\in\\mathcal{M}_{N\\times N}(\\{0,1\\}), \\boldsymbol{y} \\in \\{0, 1\\}^N$"
   ]
  },
  {
   "cell_type": "markdown",
   "id": "fe721373-5fbf-479a-a6a6-97c8f7a5e603",
   "metadata": {},
   "source": [
    "## Implementazione\n",
    "\n",
    "Fonti: \n",
    "\n",
    "- https://scipbook.readthedocs.io/en/latest/bpp.html#fig-bpp-sol\n",
    "- https://developers.google.com/optimization/bin/bin_packing"
   ]
  },
  {
   "cell_type": "markdown",
   "id": "c6e68ab5-2646-4561-9fb6-39abc25e2d27",
   "metadata": {},
   "source": [
    "da ortools importiamo il modulo `pywraplp` che sta per \"python wrapper (for) linear programming\""
   ]
  },
  {
   "cell_type": "code",
   "execution_count": null,
   "id": "48e357d4-322d-4e6b-8292-287a426758d7",
   "metadata": {
    "tags": []
   },
   "outputs": [],
   "source": [
    "from ortools.linear_solver import pywraplp"
   ]
  },
  {
   "cell_type": "markdown",
   "id": "3c400ac2-581b-47c7-be61-e1dfd14a4e60",
   "metadata": {},
   "source": [
    "### Dati\n",
    "\n",
    "Ricreiamo i dati del problema della figura sopra"
   ]
  },
  {
   "cell_type": "code",
   "execution_count": null,
   "id": "448c387f-a53c-417f-a643-5e27459b6da4",
   "metadata": {
    "tags": []
   },
   "outputs": [],
   "source": [
    "def create_data_model():\n",
    "    data = {}\n",
    "    weights = [6, 6, 5, 5, 5, 4, 4, 4, 4, 2, 2, 2, 2, 3, 3, 7, 7, 5, 5, 8, 8, 4, 4, 5]\n",
    "    data['oggetti'] = list(range(1, len(weights) + 1))\n",
    "    data['pesi'] = weights    \n",
    "    data['scatole'] = data['oggetti']\n",
    "    data['capacità_scatole'] = 9\n",
    "    return data"
   ]
  },
  {
   "cell_type": "code",
   "execution_count": null,
   "id": "a2804c4f-e9ad-45fa-9031-23d2339727cf",
   "metadata": {
    "tags": []
   },
   "outputs": [],
   "source": [
    "data = create_data_model()"
   ]
  },
  {
   "cell_type": "code",
   "execution_count": null,
   "id": "1399902f-838d-427f-bc87-a65eb2083fdf",
   "metadata": {
    "tags": []
   },
   "outputs": [],
   "source": [
    "for k, v in data.items():\n",
    "    print(f\"{k.rjust(16)}: {v}\")"
   ]
  },
  {
   "cell_type": "markdown",
   "id": "b68f8b57-4f91-4018-b72a-0f3b04b0f2a2",
   "metadata": {},
   "source": [
    "### Inizializzazione del problema"
   ]
  },
  {
   "cell_type": "markdown",
   "id": "3c7af86a-9e06-41bd-8fe2-2c73c69f4ec7",
   "metadata": {
    "execution": {
     "iopub.execute_input": "2021-05-20T08:53:23.329274Z",
     "iopub.status.busy": "2021-05-20T08:53:23.329274Z",
     "iopub.status.idle": "2021-05-20T08:53:23.341272Z",
     "shell.execute_reply": "2021-05-20T08:53:23.340271Z",
     "shell.execute_reply.started": "2021-05-20T08:53:23.329274Z"
    }
   },
   "source": [
    "inizializziamo un solver, scegliendo [SCIP](https://www.scipopt.org/) (non è l'unica possibilità, vedi [approfondimento](https://developers.google.com/optimization/mip/mip))"
   ]
  },
  {
   "cell_type": "code",
   "execution_count": null,
   "id": "7ed561cc-15b3-4a87-96cc-cfc2ecf54a25",
   "metadata": {
    "tags": []
   },
   "outputs": [],
   "source": [
    "solver = pywraplp.Solver.CreateSolver('SCIP')"
   ]
  },
  {
   "cell_type": "markdown",
   "id": "220f29cf-488a-4fa0-89c6-afc6a0e09eec",
   "metadata": {},
   "source": [
    "### Variabili decisionali\n",
    "Definiamo le variabili decisionali del BPP:\n",
    "- per comodità le salviamo in un dizionario\n",
    "- per aggiungere una variabile usiamo la classe `BoolVar` del solver"
   ]
  },
  {
   "cell_type": "code",
   "execution_count": null,
   "id": "d2f8c9a8-62f2-48ce-afef-d2ef90140ed7",
   "metadata": {
    "tags": []
   },
   "outputs": [],
   "source": [
    "x = {}\n",
    "for i in data['oggetti']:\n",
    "    for j in data['scatole']:\n",
    "        x[(i, j)] = solver.BoolVar(f'x_{i}_{j}')\n",
    "\n",
    "y = {}\n",
    "for j in data['scatole']:\n",
    "    y[j] = solver.BoolVar(f'y_{j}')"
   ]
  },
  {
   "cell_type": "markdown",
   "id": "bc9e38e5-062e-49be-b05e-0669da264c6a",
   "metadata": {
    "execution": {
     "iopub.execute_input": "2021-05-20T09:14:52.248872Z",
     "iopub.status.busy": "2021-05-20T09:14:52.247871Z",
     "iopub.status.idle": "2021-05-20T09:14:52.287380Z",
     "shell.execute_reply": "2021-05-20T09:14:52.286415Z",
     "shell.execute_reply.started": "2021-05-20T09:14:52.248872Z"
    },
    "tags": []
   },
   "source": [
    "Guardiamo come è fatta $\\large x$"
   ]
  },
  {
   "cell_type": "code",
   "execution_count": null,
   "id": "010eca2b-4b38-4836-906c-1f8b4003fa90",
   "metadata": {
    "tags": []
   },
   "outputs": [],
   "source": [
    "# x"
   ]
  },
  {
   "cell_type": "markdown",
   "id": "6851d245-6ff0-40e7-8987-bf3983931e57",
   "metadata": {},
   "source": [
    "Controlliamo di che tipo sono i valori del dizionario"
   ]
  },
  {
   "cell_type": "code",
   "execution_count": null,
   "id": "52d6387f-8d51-460c-9ccc-155f149d458b",
   "metadata": {
    "tags": []
   },
   "outputs": [],
   "source": [
    "type(x[(1,1)])"
   ]
  },
  {
   "cell_type": "markdown",
   "id": "7edc8dc4-5e6f-4dc0-83da-3adef24b8968",
   "metadata": {},
   "source": [
    "### Vincoli\n",
    "Aggiungiamo (letteralmente! tramite il metodo `Add`) i vincoli al solver"
   ]
  },
  {
   "cell_type": "code",
   "execution_count": null,
   "id": "1c69d9c4-4b31-4232-9aa7-68097cc11369",
   "metadata": {
    "tags": []
   },
   "outputs": [],
   "source": [
    "# vincolo (1)\n",
    "for i in data['oggetti']:\n",
    "    solver.Add(sum(x[i, j] for j in data['scatole']) == 1)\n",
    "\n",
    "# vincolo (2)\n",
    "for j in data['scatole']:\n",
    "    solver.Add(\n",
    "        sum(x[(i, j)] * data['pesi'][i-1] for i in data['oggetti']) <= y[j] * data['capacità_scatole'])"
   ]
  },
  {
   "cell_type": "markdown",
   "id": "ffe37b71-47c0-47b1-a807-fb8488363114",
   "metadata": {},
   "source": [
    "### Funzione obiettivo\n",
    "Dichiariamo la funzione obiettivo e il _senso_ dell'ottimizzazione (min/max)"
   ]
  },
  {
   "cell_type": "code",
   "execution_count": null,
   "id": "52b40984-fe8d-4a91-8ca3-349fc13ab07f",
   "metadata": {
    "tags": []
   },
   "outputs": [],
   "source": [
    "solver.Minimize(solver.Sum([y[j] for j in data['scatole']]))"
   ]
  },
  {
   "cell_type": "markdown",
   "id": "dfc17f82-deda-4c83-903b-710b37b04e96",
   "metadata": {},
   "source": [
    "### Risoluzione"
   ]
  },
  {
   "cell_type": "code",
   "execution_count": null,
   "id": "e7bdedf3-7ae1-49a4-b419-e37693c6855e",
   "metadata": {
    "tags": []
   },
   "outputs": [],
   "source": [
    "import time\n",
    "\n",
    "tic = time.time()\n",
    "status = solver.Solve()\n",
    "toc = time.time()\n",
    "print(f\"Stato: {status}\")"
   ]
  },
  {
   "cell_type": "markdown",
   "id": "16680c20-01f1-4a73-bd62-b523d94f947e",
   "metadata": {
    "execution": {
     "iopub.execute_input": "2021-05-20T09:20:14.907556Z",
     "iopub.status.busy": "2021-05-20T09:20:14.907556Z",
     "iopub.status.idle": "2021-05-20T09:20:14.914556Z",
     "shell.execute_reply": "2021-05-20T09:20:14.913555Z",
     "shell.execute_reply.started": "2021-05-20T09:20:14.907556Z"
    }
   },
   "source": [
    "Il solver sembra aver risolto il problema molto in fretta. Sinceriamoci del significato dello _stato_ del problema a valle della risoluzione"
   ]
  },
  {
   "cell_type": "code",
   "execution_count": null,
   "id": "30342970-6238-44de-a71a-a75c38aee76f",
   "metadata": {
    "tags": []
   },
   "outputs": [],
   "source": [
    "nomi_stati = {\n",
    "    # optimal.\n",
    "    pywraplp.Solver.OPTIMAL: 'OPTIMAL',\n",
    "    # feasible, or stopped by limit.\n",
    "    pywraplp.Solver.FEASIBLE: 'FEASIBLE',\n",
    "    # proven infeasible.\n",
    "    pywraplp.Solver.INFEASIBLE: 'INFEASIBLE',\n",
    "    # proven unbounded.\n",
    "    pywraplp.Solver.UNBOUNDED: 'UNBOUNDED',\n",
    "    # abnormal, i.e., error of some kind.\n",
    "    pywraplp.Solver.ABNORMAL: 'ABNORMAL',\n",
    "    # the model is trivially invalid (NaN coefficients, etc).\n",
    "    5: 'MODEL_INVALID',\n",
    "    # not been solved yet.\n",
    "    pywraplp.Solver.NOT_SOLVED: 'NOT_SOLVED'\n",
    "}"
   ]
  },
  {
   "cell_type": "code",
   "execution_count": null,
   "id": "9aa1f86d-3c4e-41d9-8828-4abede90df32",
   "metadata": {
    "tags": []
   },
   "outputs": [],
   "source": [
    "print(f\"Stato: {nomi_stati[status]}\")"
   ]
  },
  {
   "cell_type": "markdown",
   "id": "4db50991-0db1-40d8-a7a2-401cd9903ddb",
   "metadata": {},
   "source": [
    "### Valutazione e interpretazione\n",
    "\n",
    "Dobbiamo ora capire che valori hanno assunto le variabili decisionali a valle della risoluzione.\n",
    "\n",
    "Utilizziamo il metodo `solution_value()` disponibile per ciascuna variabile."
   ]
  },
  {
   "cell_type": "code",
   "execution_count": null,
   "id": "1c40e04b-442b-4008-82df-c1af4f309768",
   "metadata": {
    "tags": []
   },
   "outputs": [],
   "source": [
    "scatole_utilizzate = {}\n",
    "\n",
    "for j in data['scatole']:\n",
    "    if y[j].solution_value() == 1:\n",
    "        scatole_utilizzate[j] = {'oggetti': [], 'peso_totale': 0}\n",
    "        for i in data['oggetti']:\n",
    "            if x[i, j].solution_value() == 1:\n",
    "                scatole_utilizzate[j]['oggetti'].append(i)\n",
    "                scatole_utilizzate[j]['peso_totale'] += data['pesi'][i-1]\n",
    "        scatole_utilizzate[j]['saturazione'] = f\"{scatole_utilizzate[j]['peso_totale']/data['capacità_scatole']*100:.0f}%\"\n",
    "        \n",
    "display(scatole_utilizzate)\n",
    "print()\n",
    "print(f'Numero di scatole utilizzate: {len(scatole_utilizzate)}')\n",
    "print(f'Tempo computazionale [s]: {toc - tic}')"
   ]
  },
  {
   "cell_type": "code",
   "execution_count": null,
   "id": "5c146e1f-dd58-4e4d-9e4c-af8bcab5e3ed",
   "metadata": {
    "tags": []
   },
   "outputs": [],
   "source": [
    "from IPython.display import Image\n",
    "Image('../bpp-solution.png')"
   ]
  },
  {
   "cell_type": "markdown",
   "id": "664bd1d2-04c8-42fe-a108-d2119a5f0df6",
   "metadata": {},
   "source": [
    "### Domanda\n",
    "\n",
    "Secondo te la soluzione trovata è unica?"
   ]
  },
  {
   "cell_type": "markdown",
   "id": "f9a40753-f482-4554-b7f4-45879c1cb14b",
   "metadata": {},
   "source": [
    "`no, è possibile anche spostare uno degli oggetti di peso 2 nella scatola con il solo oggetto di peso 6`"
   ]
  },
  {
   "cell_type": "markdown",
   "id": "77e53f7c-4221-4970-bcde-506c234debbd",
   "metadata": {},
   "source": [
    "# BONUS: use case reale `MiMocko` 🛵"
   ]
  },
  {
   "cell_type": "markdown",
   "id": "55605537-2208-496d-b6ea-27d83b59bfbc",
   "metadata": {
    "execution": {
     "iopub.execute_input": "2021-05-19T13:55:12.297835Z",
     "iopub.status.busy": "2021-05-19T13:55:12.297835Z",
     "iopub.status.idle": "2021-05-19T13:55:12.303839Z",
     "shell.execute_reply": "2021-05-19T13:55:12.301837Z",
     "shell.execute_reply.started": "2021-05-19T13:55:12.297835Z"
    }
   },
   "source": [
    "Le batterie degli scooter elettrici MiMocko vengono sostituite ogni notte! 🔋\n",
    "\n",
    "- alcuni tecnici compiono ricognizioni notturne per sostituire le batterie di tutti i veicoli della flotta.\n",
    "\n",
    "- per una scelta di ecosostenibilità, il trasporto delle batterie avviene tramite casse di legno che possono sostenere un peso massimo complessivo di 120 kg (altrimenti si rompe...)\n",
    "\n",
    "MiMocko ha via via aggiornato il suo parco veicoli, e gli scooter più recenti hanno una batteria più leggera rispetto a quelli più datati.\n",
    "\n",
    "Le caratteristiche delle batterie della flotta MiMocko sono le seguenti:\n",
    "\n",
    "- batterie da 11 kg per scooter di versione 1\n",
    "- batterie da 8 kg per scooter di versione 2\n",
    "- batterie da 6 kg per scooter di versione 3"
   ]
  },
  {
   "cell_type": "markdown",
   "id": "814ff236-0ab2-4c9d-bfc5-61de5c8ce940",
   "metadata": {
    "execution": {
     "iopub.execute_input": "2021-05-20T10:12:31.042510Z",
     "iopub.status.busy": "2021-05-20T10:12:31.041480Z",
     "iopub.status.idle": "2021-05-20T10:12:31.047481Z",
     "shell.execute_reply": "2021-05-20T10:12:31.046480Z",
     "shell.execute_reply.started": "2021-05-20T10:12:31.042510Z"
    }
   },
   "source": [
    "## Esercizio"
   ]
  },
  {
   "cell_type": "markdown",
   "id": "4ddccefb-b08f-4755-ab94-3a9f9a43cc34",
   "metadata": {},
   "source": [
    "Risolvere tramite l'implementazione di un BPP il problema di determinare il minor numero di casse necessarie al trasporto di _tutte_ le batterie della flotta MiMocko ogni notte.\n",
    "\n",
    "**Hint**: \n",
    "\n",
    "1. per determinare il numero di batterie delle varie versioni, puoi utilizzare il dataset `scooter.csv`\n",
    "2. sfrutta la traccia del BPP risolto in precedenza per determinare\n",
    "    - variabili decisionali\n",
    "    - funzione obiettivo\n",
    "    - vincoli\n",
    "    - eventuali parametri"
   ]
  },
  {
   "cell_type": "code",
   "execution_count": null,
   "id": "b2bee138-b8d1-4105-9c00-c58b03e9ab1c",
   "metadata": {
    "tags": []
   },
   "outputs": [],
   "source": [
    "import pandas as pd\n",
    "import time\n",
    "from ortools.linear_solver import pywraplp"
   ]
  },
  {
   "cell_type": "code",
   "execution_count": null,
   "id": "036dfcd1-86ec-440f-88f6-5baf903c3cd7",
   "metadata": {
    "tags": []
   },
   "outputs": [],
   "source": [
    "path = '../../../../data'"
   ]
  },
  {
   "cell_type": "code",
   "execution_count": null,
   "id": "bcebbb37-9522-4757-99ad-63c2815b2100",
   "metadata": {
    "tags": []
   },
   "outputs": [],
   "source": [
    "scooter = pd.read_csv(f\"{path}/scooter.csv\", sep=';')"
   ]
  },
  {
   "cell_type": "code",
   "execution_count": null,
   "id": "08c54c9e-b8a3-428c-9ae1-2d0cec440a54",
   "metadata": {
    "tags": []
   },
   "outputs": [],
   "source": [
    "versioni2quantita = scooter.groupby('Versione n°').size().to_dict()\n",
    "versioni2quantita"
   ]
  },
  {
   "cell_type": "code",
   "execution_count": null,
   "id": "56b12d45-0cf3-4d58-aa8a-0fbcb14ddeee",
   "metadata": {
    "tags": []
   },
   "outputs": [],
   "source": [
    "versioni2pesi = {1: 13, 2: 7, 3: 6}\n",
    "versioni2pesi"
   ]
  },
  {
   "cell_type": "code",
   "execution_count": null,
   "id": "119e5bb1-a952-4644-950f-f4e38733781c",
   "metadata": {
    "tags": []
   },
   "outputs": [],
   "source": [
    "def create_data_model():\n",
    "    data = {}\n",
    "    weights = [peso for versione, peso in versioni2pesi.items() for _ in range(versioni2quantita[versione])]\n",
    "    data['batterie'] = list(range(1, len(weights) + 1))\n",
    "    data['pesi'] = weights    \n",
    "    data['casse'] = data['batterie']\n",
    "    data['capacità_casse'] = 80\n",
    "    return data"
   ]
  },
  {
   "cell_type": "code",
   "execution_count": null,
   "id": "e88d0e44-067e-4aaf-b052-205822c3489e",
   "metadata": {
    "tags": []
   },
   "outputs": [],
   "source": [
    "data = create_data_model()"
   ]
  },
  {
   "cell_type": "code",
   "execution_count": null,
   "id": "a37baef4-44c8-4bd1-999b-37df63b3de1f",
   "metadata": {
    "tags": []
   },
   "outputs": [],
   "source": [
    "for k, v in data.items():\n",
    "    print(f\"{k.rjust(16)}: {v}\")"
   ]
  },
  {
   "cell_type": "code",
   "execution_count": null,
   "id": "c87a155a-5331-43d8-b261-9cd88e5f667a",
   "metadata": {
    "tags": []
   },
   "outputs": [],
   "source": [
    "solver = pywraplp.Solver.CreateSolver('SCIP')\n",
    "\n",
    "x = {}\n",
    "for i in data['batterie']:\n",
    "    for j in data['casse']:\n",
    "        x[(i, j)] = solver.BoolVar(f'x_{i}_{j}')\n",
    "\n",
    "y = {}\n",
    "for j in data['casse']:\n",
    "    y[j] = solver.BoolVar(f'y_{j}')\n",
    "    \n",
    "# vincolo (1)\n",
    "for i in data['batterie']:\n",
    "    solver.Add(sum(x[i, j] for j in data['casse']) == 1)\n",
    "\n",
    "# vincolo (2)\n",
    "for j in data['casse']:\n",
    "    solver.Add(\n",
    "        sum(x[(i, j)] * data['pesi'][i-1] for i in data['batterie']) <= y[j] * data['capacità_casse'])\n",
    "    \n",
    "solver.Minimize(solver.Sum([y[j] for j in data['casse']]))\n",
    "\n",
    "tic = time.time()\n",
    "status = solver.Solve()\n",
    "toc = time.time()\n",
    "\n",
    "nomi_stati = {\n",
    "    # optimal.\n",
    "    pywraplp.Solver.OPTIMAL: 'OPTIMAL',\n",
    "    # feasible, or stopped by limit.\n",
    "    pywraplp.Solver.FEASIBLE: 'FEASIBLE',\n",
    "    # proven infeasible.\n",
    "    pywraplp.Solver.INFEASIBLE: 'INFEASIBLE',\n",
    "    # proven unbounded.\n",
    "    pywraplp.Solver.UNBOUNDED: 'UNBOUNDED',\n",
    "    # abnormal, i.e., error of some kind.\n",
    "    pywraplp.Solver.ABNORMAL: 'ABNORMAL',\n",
    "    # the model is trivially invalid (NaN coefficients, etc).\n",
    "    5: 'MODEL_INVALID',\n",
    "    # not been solved yet.\n",
    "    pywraplp.Solver.NOT_SOLVED: 'NOT_SOLVED'\n",
    "}\n",
    "\n",
    "print(f\"Stato: {nomi_stati[status]}\")\n",
    "\n",
    "casse_utilizzate = {}\n",
    "\n",
    "for j in data['casse']:\n",
    "    if y[j].solution_value() == 1:\n",
    "        casse_utilizzate[j] = {'batterie': [], 'peso_totale': 0}\n",
    "        for i in data['batterie']:\n",
    "            if x[i, j].solution_value() == 1:\n",
    "                casse_utilizzate[j]['batterie'].append(i)\n",
    "                casse_utilizzate[j]['peso_totale'] += data['pesi'][i-1]\n",
    "        casse_utilizzate[j]['saturazione'] = f\"{casse_utilizzate[j]['peso_totale']/data['capacità_casse']*100:.0f}%\"\n",
    "        \n",
    "display(casse_utilizzate)\n",
    "print()\n",
    "print(f'Numero di casse utilizzate: {len(casse_utilizzate)}')\n",
    "print(f'Tempo computazionale [s]: {toc - tic}')"
   ]
  },
  {
   "cell_type": "markdown",
   "id": "e7ecff81-7702-4233-af36-95d3bcec861a",
   "metadata": {
    "execution": {
     "iopub.execute_input": "2021-05-19T13:58:59.825319Z",
     "iopub.status.busy": "2021-05-19T13:58:59.824314Z",
     "iopub.status.idle": "2021-05-19T13:58:59.828311Z",
     "shell.execute_reply": "2021-05-19T13:58:59.827326Z",
     "shell.execute_reply.started": "2021-05-19T13:58:59.825319Z"
    }
   },
   "source": [
    "# Approfondimenti"
   ]
  },
  {
   "cell_type": "markdown",
   "id": "455dc15f-672f-4851-89fa-ee7878e6f589",
   "metadata": {
    "execution": {
     "iopub.execute_input": "2021-05-19T14:00:47.985401Z",
     "iopub.status.busy": "2021-05-19T14:00:47.985401Z",
     "iopub.status.idle": "2021-05-19T14:00:47.992401Z",
     "shell.execute_reply": "2021-05-19T14:00:47.990401Z",
     "shell.execute_reply.started": "2021-05-19T14:00:47.985401Z"
    },
    "tags": []
   },
   "source": [
    "- [BPP con items fragmentation](https://hal.archives-ouvertes.fr/hal-00780434/document)\n",
    "- [The Optimization process](https://coin-or.github.io/pulp/main/the_optimisation_process.html)\n",
    "- [MOSEK optimization modeling cookbook](https://docs.mosek.com/modeling-cookbook/index.html)"
   ]
  }
 ],
 "metadata": {
  "kernelspec": {
   "display_name": ".venv-mimocko",
   "language": "python",
   "name": ".venv-mimocko"
  },
  "language_info": {
   "codemirror_mode": {
    "name": "ipython",
    "version": 3
   },
   "file_extension": ".py",
   "mimetype": "text/x-python",
   "name": "python",
   "nbconvert_exporter": "python",
   "pygments_lexer": "ipython3",
   "version": "3.8.5"
  }
 },
 "nbformat": 4,
 "nbformat_minor": 5
}
