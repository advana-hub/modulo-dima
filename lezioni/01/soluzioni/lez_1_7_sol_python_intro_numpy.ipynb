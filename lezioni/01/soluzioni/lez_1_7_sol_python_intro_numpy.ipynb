{
 "cells": [
  {
   "cell_type": "markdown",
   "metadata": {},
   "source": [
    "# Numpy\n",
    "`numpy` è la principale library di calcolo scientifico in Python. La feature che l'ha resa tale è l'implementazione offerta degli array multidimensionali, e delle loro operazioni."
   ]
  },
  {
   "cell_type": "markdown",
   "metadata": {},
   "source": [
    "## Esercizi\n",
    "Questi esercizi ci permetteranno di familiarizzare con i fondamenti della library. Se non sei sicuro della sintassi, fai riferimento al [Numpy cheatsheet](https://s3.amazonaws.com/assets.datacamp.com/blog_assets/Numpy_Python_Cheat_Sheet.pdf).\n",
    "### Esercizio\n",
    "Importa la library e verificane la versione"
   ]
  },
  {
   "cell_type": "code",
   "execution_count": 2,
   "metadata": {},
   "outputs": [
    {
     "name": "stdout",
     "output_type": "stream",
     "text": [
      "1.20.1\n"
     ]
    }
   ],
   "source": [
    "import numpy as np\n",
    "\n",
    "print(np.__version__)"
   ]
  },
  {
   "cell_type": "markdown",
   "metadata": {},
   "source": [
    "### Esercizio\n",
    "`numpy` è, tra le altre cose, anche un ottimo *collettore* di funzioni matematiche, quali:\n",
    "* esponenziali e logaritmi\n",
    "* funzioni trigonometriche\n",
    "Per approfondire [link](https://numpy.org/doc/stable/reference/routines.math.html)."
   ]
  },
  {
   "cell_type": "code",
   "execution_count": 9,
   "metadata": {},
   "outputs": [
    {
     "data": {
      "text/plain": [
       "3.0"
      ]
     },
     "execution_count": 9,
     "metadata": {},
     "output_type": "execute_result"
    }
   ],
   "source": [
    "np.log10(1000)"
   ]
  },
  {
   "cell_type": "code",
   "execution_count": 10,
   "metadata": {},
   "outputs": [
    {
     "data": {
      "text/plain": [
       "10.0"
      ]
     },
     "execution_count": 10,
     "metadata": {},
     "output_type": "execute_result"
    }
   ],
   "source": [
    "np.log(np.exp(10))"
   ]
  },
  {
   "cell_type": "code",
   "execution_count": 11,
   "metadata": {},
   "outputs": [
    {
     "data": {
      "text/plain": [
       "1.0"
      ]
     },
     "execution_count": 11,
     "metadata": {},
     "output_type": "execute_result"
    }
   ],
   "source": [
    "np.sin(np.pi/2)"
   ]
  },
  {
   "cell_type": "markdown",
   "metadata": {},
   "source": [
    "### Esercizio\n",
    "Definisci un array monodimensionale di 5 elementi, ed assegnalo alla variabile `x`. Ispeziona poi la dimensione della variabile ottenuta."
   ]
  },
  {
   "cell_type": "code",
   "execution_count": 17,
   "metadata": {},
   "outputs": [
    {
     "name": "stdout",
     "output_type": "stream",
     "text": [
      "[-1  4  5  3  2]\n",
      "(5,)\n"
     ]
    }
   ],
   "source": [
    "x = np.array([-1, 4, 5, 3, 2])\n",
    "print(x)\n",
    "print(x.shape)"
   ]
  },
  {
   "cell_type": "markdown",
   "metadata": {},
   "source": [
    "### Esercizio\n",
    "Trova il massimo ed il minimo di `x`."
   ]
  },
  {
   "cell_type": "code",
   "execution_count": 18,
   "metadata": {},
   "outputs": [
    {
     "name": "stdout",
     "output_type": "stream",
     "text": [
      "-1 5\n"
     ]
    }
   ],
   "source": [
    "print(np.min(x), np.max(x))"
   ]
  },
  {
   "cell_type": "markdown",
   "metadata": {},
   "source": [
    "### Esercizio\n",
    "Trova l'indice corrispondente al minimo ed al massimo valore di `x`."
   ]
  },
  {
   "cell_type": "code",
   "execution_count": 19,
   "metadata": {},
   "outputs": [
    {
     "name": "stdout",
     "output_type": "stream",
     "text": [
      "0 2\n"
     ]
    }
   ],
   "source": [
    "print(np.argmin(x), np.argmax(x))"
   ]
  },
  {
   "cell_type": "markdown",
   "metadata": {},
   "source": [
    "### Esercizio\n",
    "Definisci un array bidimensionale di 10 elementi disposti in 2 righe da 5 elementi ciascuno, ed assegnalo alla variabile `A`. Ispeziona poi la dimensione della variabile ottenuta."
   ]
  },
  {
   "cell_type": "code",
   "execution_count": 20,
   "metadata": {},
   "outputs": [
    {
     "name": "stdout",
     "output_type": "stream",
     "text": [
      "[[ 5  6  7  8  9]\n",
      " [10 11 12 13 14]]\n",
      "(2, 5)\n"
     ]
    }
   ],
   "source": [
    "A = np.array([[5,  6, 7,   8,  9],\n",
    "              [10, 11, 12, 13, 14]])\n",
    "print(A)\n",
    "print(A.shape)"
   ]
  },
  {
   "cell_type": "markdown",
   "metadata": {},
   "source": [
    "### Esercizio\n",
    "Trasponi righe e colonne dell'array dell'esercizio precedente, ed assegnalo alla variabile `AT`. Ispeziona poi la dimensione della variabile ottenuta."
   ]
  },
  {
   "cell_type": "code",
   "execution_count": null,
   "metadata": {},
   "outputs": [],
   "source": [
    "AT = A.T\n",
    "print(AT)\n",
    "print(AT.shape)"
   ]
  },
  {
   "cell_type": "markdown",
   "metadata": {},
   "source": [
    "### Esercizio (bonus)\n",
    "Sapresti ottenere un vettore di dimensione `(5, 1)`?"
   ]
  },
  {
   "cell_type": "code",
   "execution_count": null,
   "metadata": {},
   "outputs": [],
   "source": [
    "xt = np.array([[0], [1], [2], [3], [4]])\n",
    "print(xt)\n",
    "print(xt.shape)"
   ]
  },
  {
   "cell_type": "markdown",
   "metadata": {},
   "source": [
    "### Esercizio\n",
    "Definisci un array di 50 elementi, tutti pari a 0."
   ]
  },
  {
   "cell_type": "code",
   "execution_count": null,
   "metadata": {},
   "outputs": [],
   "source": [
    "np.zeros(50)"
   ]
  },
  {
   "cell_type": "markdown",
   "metadata": {},
   "source": [
    "### Esercizio\n",
    "Definisci un array di 50 elementi, tutti pari a 1."
   ]
  },
  {
   "cell_type": "code",
   "execution_count": null,
   "metadata": {},
   "outputs": [],
   "source": [
    "np.ones(50)"
   ]
  },
  {
   "cell_type": "markdown",
   "metadata": {},
   "source": [
    "### Esercizio (bonus)\n",
    "Sfrutta la sintassi di `numpy` per creare facilmente degli array multidimensionali della stessa forma di `AT` (vedi *Es 4*) inzializzandone il contenuto a 0 o ad 1."
   ]
  },
  {
   "cell_type": "code",
   "execution_count": null,
   "metadata": {},
   "outputs": [],
   "source": [
    "print(np.zeros_like(AT))\n",
    "print(np.ones_like(AT))"
   ]
  },
  {
   "cell_type": "markdown",
   "metadata": {},
   "source": [
    "### Esercizio\n",
    "Riempi un array multidimensionale di dimensione `(m, n)` di numeri estratti da una distribuzione normale $\\mathcal{N}(0,1)$, ed assegnalo alla variabile `X`."
   ]
  },
  {
   "cell_type": "code",
   "execution_count": null,
   "metadata": {},
   "outputs": [],
   "source": [
    "m = 5\n",
    "n = 3\n",
    "X = np.random.randn(m, n)\n",
    "X"
   ]
  },
  {
   "cell_type": "markdown",
   "metadata": {},
   "source": [
    "### Esercizio\n",
    "Crea un array di `n` elementi crescenti: $0, \\dots, n$ (passo 1)."
   ]
  },
  {
   "cell_type": "code",
   "execution_count": null,
   "metadata": {},
   "outputs": [],
   "source": [
    "np.arange(10)"
   ]
  },
  {
   "cell_type": "markdown",
   "metadata": {},
   "source": [
    "### Esercizio\n",
    "Crea un array di `n` elementi equispaziati linearmente tra 1 e 10 (prova per diversi valori di `n`). Per approfondire: [link](https://numpy.org/doc/stable/reference/generated/numpy.linspace.html)."
   ]
  },
  {
   "cell_type": "code",
   "execution_count": null,
   "metadata": {},
   "outputs": [],
   "source": [
    "np.linspace(1, 10, 5)"
   ]
  },
  {
   "cell_type": "markdown",
   "metadata": {},
   "source": [
    "## BONUS - Linear Algebra"
   ]
  },
  {
   "cell_type": "markdown",
   "metadata": {},
   "source": [
    "### Esercizio\n",
    "Definisci un vettore `v` di dimensione `(n)` e calcola il prodotto matrice-vettore $X \\cdot v$. Per approfondire: [link](https://numpy.org/doc/stable/reference/generated/numpy.dot.html)."
   ]
  },
  {
   "cell_type": "code",
   "execution_count": null,
   "metadata": {},
   "outputs": [],
   "source": [
    "v = np.array([0, 0, 1])\n",
    "X.dot(v)"
   ]
  },
  {
   "cell_type": "markdown",
   "metadata": {},
   "source": [
    "### Esercizio\n",
    "Definisci un vettore `w` di dimensione `(n, 1)` e calcola il prodotto matrice-vettore $X \\cdot w$. Cosa cambia? Per approfondire: [link](https://numpy.org/doc/stable/reference/generated/numpy.reshape.html)."
   ]
  },
  {
   "cell_type": "code",
   "execution_count": null,
   "metadata": {},
   "outputs": [],
   "source": [
    "w = v.reshape(-1, 1)\n",
    "X.dot(w)"
   ]
  },
  {
   "cell_type": "markdown",
   "metadata": {},
   "source": [
    "### Esercizio\n",
    "Definisci due vettori monodimensionali (di dimensioni a piacere). Calcola il loro vettore somma ed il loro vettore differenza."
   ]
  },
  {
   "cell_type": "code",
   "execution_count": null,
   "metadata": {},
   "outputs": [],
   "source": [
    "a = np.random.randn(5)\n",
    "b = np.random.randn(5)\n",
    "print(a + b)"
   ]
  },
  {
   "cell_type": "markdown",
   "metadata": {},
   "source": [
    "### Esercizio\n",
    "Sfruttando un array multidimensionale, definisci due matrici di dimensione a piacere, e calcolane il relativo [prodotto element-wise](https://en.wikipedia.org/wiki/Hadamard_product_(matrices))."
   ]
  },
  {
   "cell_type": "code",
   "execution_count": null,
   "metadata": {},
   "outputs": [],
   "source": [
    "np.random.randn(5, 5) * np.random.randn(5, 5)"
   ]
  },
  {
   "cell_type": "markdown",
   "metadata": {},
   "source": [
    "### Esercizio\n",
    "Sfruttando un array multidimensionale, definisci una (piccola) matrice invertibile `X` e calcolane l'inversa. Per approfondire: [link](https://numpy.org/doc/stable/reference/generated/numpy.linalg.inv.html)."
   ]
  },
  {
   "cell_type": "code",
   "execution_count": null,
   "metadata": {},
   "outputs": [],
   "source": [
    "X = np.random.randn(5, 5)\n",
    "X = X.T.dot(X)\n",
    "np.linalg.inv(X)"
   ]
  },
  {
   "cell_type": "markdown",
   "metadata": {},
   "source": [
    "### Esercizio (bonus)\n",
    "Sfrutta quanto hai imparato fino a questo momento per risolvere il seguente sistema di equazioni lineari:\n",
    "\\begin{cases} 3x + 2y - z = 1 \\\\ 2x – 2y + 4z = -2 \\\\ -x + \\frac{1}{2}y - 1z = 0 \\end{cases}"
   ]
  },
  {
   "cell_type": "code",
   "execution_count": null,
   "metadata": {},
   "outputs": [],
   "source": [
    "A = np.array([[3, 2, -1],\n",
    "              [2, -2, 4],\n",
    "              [-1, .5, -1]])\n",
    "b = np.array([1, -2, 0])\n",
    "np.linalg.inv(A).dot(b)"
   ]
  },
  {
   "cell_type": "markdown",
   "metadata": {},
   "source": [
    "### Esercizio (bonus)\n",
    "Ripeti quanto sopra ma prova a variare il passo."
   ]
  },
  {
   "cell_type": "code",
   "execution_count": null,
   "metadata": {},
   "outputs": [],
   "source": [
    "np.arange(0, 10, 3)"
   ]
  },
  {
   "cell_type": "markdown",
   "metadata": {},
   "source": [
    "### Esercizio (bonus)\n",
    "Crea un array di `n` elementi equispaziati logaritmicamente tra 0 e 10 (prova per diversi valori di `n`). Per approfondire: [link](https://numpy.org/doc/stable/reference/generated/numpy.logspace.html)."
   ]
  },
  {
   "cell_type": "code",
   "execution_count": null,
   "metadata": {},
   "outputs": [],
   "source": [
    "np.logspace(0, 1, 5)"
   ]
  },
  {
   "cell_type": "markdown",
   "metadata": {},
   "source": [
    "### Esercizio\n",
    "Crea un array multidimensionale di dimensione `(4, 3)`. Estrai il terzo elemento della seconda riga."
   ]
  },
  {
   "cell_type": "code",
   "execution_count": null,
   "metadata": {},
   "outputs": [],
   "source": [
    "A = np.random.randn(4, 3)\n",
    "print(A)\n",
    "print(A[1,2])"
   ]
  },
  {
   "cell_type": "markdown",
   "metadata": {},
   "source": [
    "### Esercizio\n",
    "Crea un array multidimensionale di dimensione `(m, n)`. Estraine la prima e l'ultima colonna."
   ]
  },
  {
   "cell_type": "code",
   "execution_count": null,
   "metadata": {},
   "outputs": [],
   "source": [
    "A = np.random.randn(5, 5)\n",
    "print(A)\n",
    "print(A[:, 0])\n",
    "print(A[:, -1])"
   ]
  },
  {
   "cell_type": "markdown",
   "metadata": {},
   "source": [
    "### Esercizio\n",
    "Crea un array multidimensionale di dimensione `(3, 4)`. Elimina le ultime due colonne."
   ]
  },
  {
   "cell_type": "code",
   "execution_count": null,
   "metadata": {},
   "outputs": [],
   "source": [
    "A = np.random.randn(3, 4)\n",
    "print(A)\n",
    "print(A[:, :-2])"
   ]
  },
  {
   "cell_type": "markdown",
   "metadata": {},
   "source": [
    "### Esercizio\n",
    "Nell'array dell'esercizio 17, tieni solo la prima e la terza colonna."
   ]
  },
  {
   "cell_type": "code",
   "execution_count": null,
   "metadata": {},
   "outputs": [],
   "source": [
    "print(A[:, 0::2])"
   ]
  },
  {
   "cell_type": "markdown",
   "metadata": {},
   "source": [
    "### Esercizio\n",
    "Dall'array dell'esercizio 17, ottieni un secondo array uguale al primo, ma con la prima e l'ultima riga scambiate di posizione."
   ]
  },
  {
   "cell_type": "code",
   "execution_count": null,
   "metadata": {},
   "outputs": [],
   "source": [
    "A[:, [-1, 1, 2, 0]]"
   ]
  },
  {
   "cell_type": "markdown",
   "metadata": {},
   "source": [
    "### Esercizio\n",
    "Altra particolarità di `numpy` è la possibilità di selezionare alcuni elementi di un array multidimensionale una maschera di `bool`. Prova ad esempio a selezionare i valori di `A` maggiori di 7."
   ]
  },
  {
   "cell_type": "code",
   "execution_count": 24,
   "metadata": {},
   "outputs": [
    {
     "data": {
      "text/plain": [
       "array([ 8,  9, 10, 11, 12, 13, 14])"
      ]
     },
     "execution_count": 24,
     "metadata": {},
     "output_type": "execute_result"
    }
   ],
   "source": [
    "A[A > 7]"
   ]
  },
  {
   "cell_type": "markdown",
   "metadata": {},
   "source": [
    "### Esercizio\n",
    "Crea due vettori multidimensionali di dimensione `(m, n)` e concatenali prima verticalmente, poi orizzontalmente. Per approfondire: [link](https://numpy.org/doc/stable/reference/generated/numpy.stack.html)."
   ]
  },
  {
   "cell_type": "code",
   "execution_count": null,
   "metadata": {},
   "outputs": [],
   "source": [
    "A = np.random.randn(3, 2)\n",
    "B = np.random.randn(3, 2)\n",
    "\n",
    "print(np.vstack([A, B]))\n",
    "print(np.hstack([A, B]))"
   ]
  },
  {
   "cell_type": "markdown",
   "metadata": {},
   "source": [
    "### Esercizio\n",
    "Crea un array di `n` elementi. Calcolane poi media, varianza, deviazione standard e mediana."
   ]
  },
  {
   "cell_type": "code",
   "execution_count": null,
   "metadata": {},
   "outputs": [],
   "source": [
    "x = np.random.randn(10)\n",
    "print(np.mean(x), np.var(x), np.std(x), np.median(x))"
   ]
  },
  {
   "cell_type": "markdown",
   "metadata": {},
   "source": [
    "### Esercizio\n",
    "Crea un vettore di 100 elementi casuali estratti da una distribuzione discreta uniforme $~U(0,256)$ ed ordinali in maniera crescente. Per approfondire: [link](https://numpy.org/doc/stable/reference/random/index.html?highlight=random#module-numpy.random)."
   ]
  },
  {
   "cell_type": "code",
   "execution_count": null,
   "metadata": {},
   "outputs": [],
   "source": [
    "np.sort(np.random.randint(0, 256, 100))"
   ]
  }
 ],
 "metadata": {
  "kernelspec": {
   "display_name": "Python 3",
   "language": "python",
   "name": "python3"
  },
  "language_info": {
   "codemirror_mode": {
    "name": "ipython",
    "version": 3
   },
   "file_extension": ".py",
   "mimetype": "text/x-python",
   "name": "python",
   "nbconvert_exporter": "python",
   "pygments_lexer": "ipython3",
   "version": "3.8.3"
  }
 },
 "nbformat": 4,
 "nbformat_minor": 4
}
