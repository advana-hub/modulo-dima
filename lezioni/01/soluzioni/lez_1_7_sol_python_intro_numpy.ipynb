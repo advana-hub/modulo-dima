{
 "cells": [
  {
   "cell_type": "markdown",
   "metadata": {},
   "source": [
    "# Numpy\n",
    "`numpy` è la principale library di calcolo scientifico in Python. La feature che l'ha resa tale è l'implementazione offerta degli array multidimensionali, e delle loro operazioni."
   ]
  },
  {
   "cell_type": "markdown",
   "metadata": {},
   "source": [
    "## Esercizi\n",
    "Questi esercizi ci permetteranno di familiarizzare con i fondamenti della library. Se non sei sicuro della sintassi, fai riferimento al [Numpy cheatsheet](https://s3.amazonaws.com/assets.datacamp.com/blog_assets/Numpy_Python_Cheat_Sheet.pdf).\n",
    "### Esercizio\n",
    "Importa la library e verificane la versione"
   ]
  },
  {
   "cell_type": "code",
   "execution_count": null,
   "metadata": {},
   "outputs": [],
   "source": [
    "import numpy as np\n",
    "\n",
    "print(np.__version__)"
   ]
  },
  {
   "cell_type": "markdown",
   "metadata": {},
   "source": [
    "### Esercizio\n",
    "`numpy` è, tra le altre cose, anche un ottimo *collettore* di funzioni matematiche, quali:\n",
    "* esponenziali e logaritmi\n",
    "* funzioni trigonometriche\n",
    "Per approfondire [link](https://numpy.org/doc/stable/reference/routines.math.html)."
   ]
  },
  {
   "cell_type": "code",
   "execution_count": null,
   "metadata": {},
   "outputs": [],
   "source": [
    "np.log10(1000)"
   ]
  },
  {
   "cell_type": "code",
   "execution_count": null,
   "metadata": {},
   "outputs": [],
   "source": [
    "np.log(np.exp(10))"
   ]
  },
  {
   "cell_type": "code",
   "execution_count": null,
   "metadata": {},
   "outputs": [],
   "source": [
    "np.sin(np.pi/2)"
   ]
  },
  {
   "cell_type": "markdown",
   "metadata": {},
   "source": [
    "### Esercizio\n",
    "Definisci un array monodimensionale di 5 elementi, ed assegnalo alla variabile `x`. Ispeziona poi la dimensione della variabile ottenuta."
   ]
  },
  {
   "cell_type": "code",
   "execution_count": null,
   "metadata": {},
   "outputs": [],
   "source": [
    "x = np.array([-1, 4, 5, 3, 2])\n",
    "print(x)\n",
    "print(x.shape)"
   ]
  },
  {
   "cell_type": "markdown",
   "metadata": {},
   "source": [
    "### Esercizio\n",
    "Trova il massimo ed il minimo di `x`."
   ]
  },
  {
   "cell_type": "code",
   "execution_count": null,
   "metadata": {},
   "outputs": [],
   "source": [
    "print(np.min(x), np.max(x))"
   ]
  },
  {
   "cell_type": "markdown",
   "metadata": {},
   "source": [
    "### Esercizio\n",
    "Trova l'indice corrispondente al minimo ed al massimo valore di `x`."
   ]
  },
  {
   "cell_type": "code",
   "execution_count": null,
   "metadata": {},
   "outputs": [],
   "source": [
    "print(np.argmin(x), np.argmax(x))"
   ]
  },
  {
   "cell_type": "markdown",
   "metadata": {},
   "source": [
    "### Esercizio\n",
    "Definisci un array bidimensionale di 10 elementi disposti in 2 righe da 5 elementi ciascuno, ed assegnalo alla variabile `A`. Ispeziona poi la dimensione della variabile ottenuta."
   ]
  },
  {
   "cell_type": "code",
   "execution_count": null,
   "metadata": {},
   "outputs": [],
   "source": [
    "A = np.array([[5,  6, 7,   8,  9],\n",
    "              [10, 11, 12, 13, 14]])\n",
    "print(A)\n",
    "print(A.shape)"
   ]
  },
  {
   "cell_type": "markdown",
   "metadata": {},
   "source": [
    "### Esercizio\n",
    "Trasponi righe e colonne dell'array dell'esercizio precedente, ed assegnalo alla variabile `AT`. Ispeziona poi la dimensione della variabile ottenuta."
   ]
  },
  {
   "cell_type": "code",
   "execution_count": null,
   "metadata": {},
   "outputs": [],
   "source": [
    "AT = A.T\n",
    "print(AT)\n",
    "print(AT.shape)"
   ]
  },
  {
   "cell_type": "markdown",
   "metadata": {},
   "source": [
    "### Esercizio (bonus)\n",
    "Sapresti ottenere un vettore di dimensione `(5, 1)`?"
   ]
  },
  {
   "cell_type": "code",
   "execution_count": null,
   "metadata": {},
   "outputs": [],
   "source": [
    "xt = np.array([[0], [1], [2], [3], [4]])\n",
    "print(xt)\n",
    "print(xt.shape)"
   ]
  },
  {
   "cell_type": "markdown",
   "metadata": {},
   "source": [
    "### Esercizio\n",
    "Definisci un array di 50 elementi, tutti pari a 0."
   ]
  },
  {
   "cell_type": "code",
   "execution_count": null,
   "metadata": {},
   "outputs": [],
   "source": [
    "np.zeros(50)"
   ]
  },
  {
   "cell_type": "markdown",
   "metadata": {},
   "source": [
    "### Esercizio\n",
    "Definisci un array di 50 elementi, tutti pari a 1."
   ]
  },
  {
   "cell_type": "code",
   "execution_count": null,
   "metadata": {},
   "outputs": [],
   "source": [
    "np.ones(50)"
   ]
  },
  {
   "cell_type": "markdown",
   "metadata": {},
   "source": [
    "### Esercizio (bonus)\n",
    "Sfrutta la sintassi di `numpy` per creare facilmente degli array multidimensionali della stessa forma di `AT` (vedi *Es 4*) inzializzandone il contenuto a 0 o ad 1."
   ]
  },
  {
   "cell_type": "code",
   "execution_count": null,
   "metadata": {},
   "outputs": [],
   "source": [
    "print(np.zeros_like(AT))\n",
    "print(np.ones_like(AT))"
   ]
  },
  {
   "cell_type": "markdown",
   "metadata": {},
   "source": [
    "### Esercizio\n",
    "Riempi un array multidimensionale di dimensione `(m, n)` di numeri estratti da una distribuzione normale $\\mathcal{N}(0,1)$, ed assegnalo alla variabile `X`."
   ]
  },
  {
   "cell_type": "code",
   "execution_count": null,
   "metadata": {},
   "outputs": [],
   "source": [
    "m = 5\n",
    "n = 3\n",
    "X = np.random.randn(m, n)\n",
    "X"
   ]
  },
  {
   "cell_type": "markdown",
   "metadata": {},
   "source": [
    "### Esercizio\n",
    "Crea un array di `n` elementi crescenti: $0, \\dots, n$ (passo 1)."
   ]
  },
  {
   "cell_type": "code",
   "execution_count": null,
   "metadata": {},
   "outputs": [],
   "source": [
    "np.arange(10)"
   ]
  },
  {
   "cell_type": "markdown",
   "metadata": {},
   "source": [
    "### Esercizio\n",
    "Crea un array di `n` elementi equispaziati linearmente tra 1 e 10 (prova per diversi valori di `n`). Per approfondire: [link](https://numpy.org/doc/stable/reference/generated/numpy.linspace.html)."
   ]
  },
  {
   "cell_type": "code",
   "execution_count": 16,
   "metadata": {
    "execution": {
     "iopub.execute_input": "2021-04-15T14:06:48.377230Z",
     "iopub.status.busy": "2021-04-15T14:06:48.376229Z",
     "iopub.status.idle": "2021-04-15T14:06:48.383231Z",
     "shell.execute_reply": "2021-04-15T14:06:48.382230Z",
     "shell.execute_reply.started": "2021-04-15T14:06:48.377230Z"
    }
   },
   "outputs": [
    {
     "data": {
      "text/plain": [
       "array([ 1.  ,  3.25,  5.5 ,  7.75, 10.  ])"
      ]
     },
     "execution_count": 16,
     "metadata": {},
     "output_type": "execute_result"
    }
   ],
   "source": [
    "np.linspace(1, 10, 5)"
   ]
  },
  {
   "cell_type": "markdown",
   "metadata": {},
   "source": [
    "## BONUS - Linear Algebra"
   ]
  },
  {
   "cell_type": "markdown",
   "metadata": {},
   "source": [
    "### Esercizio\n",
    "Definisci un vettore `v` di dimensione `(n)` e calcola il prodotto matrice-vettore $X \\cdot v$. Per approfondire: [link](https://numpy.org/doc/stable/reference/generated/numpy.dot.html)."
   ]
  },
  {
   "cell_type": "code",
   "execution_count": 17,
   "metadata": {
    "execution": {
     "iopub.execute_input": "2021-04-15T14:06:48.384229Z",
     "iopub.status.busy": "2021-04-15T14:06:48.384229Z",
     "iopub.status.idle": "2021-04-15T14:06:48.392233Z",
     "shell.execute_reply": "2021-04-15T14:06:48.391232Z",
     "shell.execute_reply.started": "2021-04-15T14:06:48.384229Z"
    }
   },
   "outputs": [
    {
     "data": {
      "text/plain": [
       "array([ 0.11288224,  0.9204381 ,  0.9944162 , -0.91218724,  1.34944048])"
      ]
     },
     "execution_count": 17,
     "metadata": {},
     "output_type": "execute_result"
    }
   ],
   "source": [
    "v = np.array([0, 0, 1])\n",
    "X.dot(v)"
   ]
  },
  {
   "cell_type": "markdown",
   "metadata": {},
   "source": [
    "### Esercizio\n",
    "Definisci un vettore `w` di dimensione `(n, 1)` e calcola il prodotto matrice-vettore $X \\cdot w$. Cosa cambia? Per approfondire: [link](https://numpy.org/doc/stable/reference/generated/numpy.reshape.html)."
   ]
  },
  {
   "cell_type": "code",
   "execution_count": 18,
   "metadata": {
    "execution": {
     "iopub.execute_input": "2021-04-15T14:06:48.393231Z",
     "iopub.status.busy": "2021-04-15T14:06:48.393231Z",
     "iopub.status.idle": "2021-04-15T14:06:48.400232Z",
     "shell.execute_reply": "2021-04-15T14:06:48.399230Z",
     "shell.execute_reply.started": "2021-04-15T14:06:48.393231Z"
    }
   },
   "outputs": [
    {
     "data": {
      "text/plain": [
       "array([[ 0.11288224],\n",
       "       [ 0.9204381 ],\n",
       "       [ 0.9944162 ],\n",
       "       [-0.91218724],\n",
       "       [ 1.34944048]])"
      ]
     },
     "execution_count": 18,
     "metadata": {},
     "output_type": "execute_result"
    }
   ],
   "source": [
    "w = v.reshape(-1, 1)\n",
    "X.dot(w)"
   ]
  },
  {
   "cell_type": "markdown",
   "metadata": {},
   "source": [
    "### Esercizio\n",
    "Definisci due vettori monodimensionali (di dimensioni a piacere). Calcola il loro vettore somma ed il loro vettore differenza."
   ]
  },
  {
   "cell_type": "code",
   "execution_count": 19,
   "metadata": {
    "execution": {
     "iopub.execute_input": "2021-04-15T14:06:48.401231Z",
     "iopub.status.busy": "2021-04-15T14:06:48.401231Z",
     "iopub.status.idle": "2021-04-15T14:06:48.407229Z",
     "shell.execute_reply": "2021-04-15T14:06:48.406231Z",
     "shell.execute_reply.started": "2021-04-15T14:06:48.401231Z"
    }
   },
   "outputs": [
    {
     "name": "stdout",
     "output_type": "stream",
     "text": [
      "[ 1.71646921 -2.27636637 -3.59961787  3.08187312 -0.02613455]\n"
     ]
    }
   ],
   "source": [
    "a = np.random.randn(5)\n",
    "b = np.random.randn(5)\n",
    "print(a + b)"
   ]
  },
  {
   "cell_type": "markdown",
   "metadata": {},
   "source": [
    "### Esercizio\n",
    "Sfruttando un array multidimensionale, definisci due matrici di dimensione a piacere, e calcolane il relativo [prodotto element-wise](https://en.wikipedia.org/wiki/Hadamard_product_(matrices))."
   ]
  },
  {
   "cell_type": "code",
   "execution_count": 20,
   "metadata": {
    "execution": {
     "iopub.execute_input": "2021-04-15T14:06:48.408229Z",
     "iopub.status.busy": "2021-04-15T14:06:48.408229Z",
     "iopub.status.idle": "2021-04-15T14:06:48.415230Z",
     "shell.execute_reply": "2021-04-15T14:06:48.414231Z",
     "shell.execute_reply.started": "2021-04-15T14:06:48.408229Z"
    }
   },
   "outputs": [
    {
     "data": {
      "text/plain": [
       "array([[ 0.22064609,  0.04363637, -0.01535257, -0.5088212 ,  3.91723697],\n",
       "       [-0.1579679 ,  0.14691091, -0.271532  ,  1.14846825,  0.76679999],\n",
       "       [-0.15748109, -0.29200173, -0.35839673, -0.28220988,  3.51206426],\n",
       "       [ 1.65177051, -0.24656386,  0.25563383, -0.02150756, -0.13834135],\n",
       "       [-0.99379887,  0.02993616, -0.11540498,  0.71271665,  1.14534206]])"
      ]
     },
     "execution_count": 20,
     "metadata": {},
     "output_type": "execute_result"
    }
   ],
   "source": [
    "np.random.randn(5, 5) * np.random.randn(5, 5)"
   ]
  },
  {
   "cell_type": "markdown",
   "metadata": {},
   "source": [
    "### Esercizio\n",
    "Sfruttando un array multidimensionale, definisci una (piccola) matrice invertibile `X` e calcolane l'inversa. Per approfondire: [link](https://numpy.org/doc/stable/reference/generated/numpy.linalg.inv.html)."
   ]
  },
  {
   "cell_type": "code",
   "execution_count": 21,
   "metadata": {
    "execution": {
     "iopub.execute_input": "2021-04-15T14:06:48.416238Z",
     "iopub.status.busy": "2021-04-15T14:06:48.416238Z",
     "iopub.status.idle": "2021-04-15T14:06:48.424231Z",
     "shell.execute_reply": "2021-04-15T14:06:48.424231Z",
     "shell.execute_reply.started": "2021-04-15T14:06:48.416238Z"
    }
   },
   "outputs": [
    {
     "data": {
      "text/plain": [
       "array([[ 2.28113943, -1.58638064,  1.89165681,  2.76270424,  0.68132478],\n",
       "       [-1.58638064,  2.13008057, -1.88096716, -3.89855027, -0.99403838],\n",
       "       [ 1.89165681, -1.88096716,  2.13663334,  3.74180853,  0.99970896],\n",
       "       [ 2.76270424, -3.89855027,  3.74180853,  8.12328382,  2.03351442],\n",
       "       [ 0.68132478, -0.99403838,  0.99970896,  2.03351442,  0.72036316]])"
      ]
     },
     "execution_count": 21,
     "metadata": {},
     "output_type": "execute_result"
    }
   ],
   "source": [
    "X = np.random.randn(5, 5)\n",
    "X = X.T.dot(X)\n",
    "np.linalg.inv(X)"
   ]
  },
  {
   "cell_type": "markdown",
   "metadata": {},
   "source": [
    "### Esercizio (bonus)\n",
    "Sfrutta quanto hai imparato fino a questo momento per risolvere il seguente sistema di equazioni lineari:\n",
    "\\begin{cases} 3x + 2y - z = 1 \\\\ 2x – 2y + 4z = -2 \\\\ -x + \\frac{1}{2}y - 1z = 0 \\end{cases}"
   ]
  },
  {
   "cell_type": "code",
   "execution_count": 22,
   "metadata": {
    "execution": {
     "iopub.execute_input": "2021-04-15T14:06:48.426231Z",
     "iopub.status.busy": "2021-04-15T14:06:48.425232Z",
     "iopub.status.idle": "2021-04-15T14:06:48.433230Z",
     "shell.execute_reply": "2021-04-15T14:06:48.432230Z",
     "shell.execute_reply.started": "2021-04-15T14:06:48.426231Z"
    }
   },
   "outputs": [
    {
     "data": {
      "text/plain": [
       "array([ 1., -2., -2.])"
      ]
     },
     "execution_count": 22,
     "metadata": {},
     "output_type": "execute_result"
    }
   ],
   "source": [
    "A = np.array([[3, 2, -1],\n",
    "              [2, -2, 4],\n",
    "              [-1, .5, -1]])\n",
    "b = np.array([1, -2, 0])\n",
    "np.linalg.inv(A).dot(b)"
   ]
  },
  {
   "cell_type": "markdown",
   "metadata": {},
   "source": [
    "### Esercizio (bonus)\n",
    "Ripeti quanto sopra ma prova a variare il passo."
   ]
  },
  {
   "cell_type": "code",
   "execution_count": 23,
   "metadata": {
    "execution": {
     "iopub.execute_input": "2021-04-15T14:06:48.434266Z",
     "iopub.status.busy": "2021-04-15T14:06:48.433230Z",
     "iopub.status.idle": "2021-04-15T14:06:48.439232Z",
     "shell.execute_reply": "2021-04-15T14:06:48.438234Z",
     "shell.execute_reply.started": "2021-04-15T14:06:48.434266Z"
    }
   },
   "outputs": [
    {
     "data": {
      "text/plain": [
       "array([0, 3, 6, 9])"
      ]
     },
     "execution_count": 23,
     "metadata": {},
     "output_type": "execute_result"
    }
   ],
   "source": [
    "np.arange(0, 10, 3)"
   ]
  },
  {
   "cell_type": "markdown",
   "metadata": {},
   "source": [
    "### Esercizio (bonus)\n",
    "Crea un array di `n` elementi equispaziati logaritmicamente tra 0 e 10 (prova per diversi valori di `n`). Per approfondire: [link](https://numpy.org/doc/stable/reference/generated/numpy.logspace.html)."
   ]
  },
  {
   "cell_type": "code",
   "execution_count": 24,
   "metadata": {
    "execution": {
     "iopub.execute_input": "2021-04-15T14:06:48.440228Z",
     "iopub.status.busy": "2021-04-15T14:06:48.440228Z",
     "iopub.status.idle": "2021-04-15T14:06:48.447230Z",
     "shell.execute_reply": "2021-04-15T14:06:48.447230Z",
     "shell.execute_reply.started": "2021-04-15T14:06:48.440228Z"
    }
   },
   "outputs": [
    {
     "data": {
      "text/plain": [
       "array([ 1.        ,  1.77827941,  3.16227766,  5.62341325, 10.        ])"
      ]
     },
     "execution_count": 24,
     "metadata": {},
     "output_type": "execute_result"
    }
   ],
   "source": [
    "np.logspace(0, 1, 5)"
   ]
  },
  {
   "cell_type": "markdown",
   "metadata": {},
   "source": [
    "### Esercizio\n",
    "Crea un array multidimensionale di dimensione `(4, 3)`. Estrai il terzo elemento della seconda riga."
   ]
  },
  {
   "cell_type": "code",
   "execution_count": 25,
   "metadata": {
    "execution": {
     "iopub.execute_input": "2021-04-15T14:06:48.449233Z",
     "iopub.status.busy": "2021-04-15T14:06:48.449233Z",
     "iopub.status.idle": "2021-04-15T14:06:48.455231Z",
     "shell.execute_reply": "2021-04-15T14:06:48.454235Z",
     "shell.execute_reply.started": "2021-04-15T14:06:48.449233Z"
    }
   },
   "outputs": [
    {
     "name": "stdout",
     "output_type": "stream",
     "text": [
      "[[ 0.11012691  2.28397805  0.82639427]\n",
      " [ 0.29566736 -1.36754451 -0.73064513]\n",
      " [-1.53090029  0.12993072  1.9937656 ]\n",
      " [ 0.55017522  0.15263776 -0.7855201 ]]\n",
      "-0.7306451342116969\n"
     ]
    }
   ],
   "source": [
    "A = np.random.randn(4, 3)\n",
    "print(A)\n",
    "print(A[1,2])"
   ]
  },
  {
   "cell_type": "markdown",
   "metadata": {},
   "source": [
    "### Esercizio\n",
    "Crea un array multidimensionale di dimensione `(m, n)`. Estraine la prima e l'ultima colonna."
   ]
  },
  {
   "cell_type": "code",
   "execution_count": 26,
   "metadata": {
    "execution": {
     "iopub.execute_input": "2021-04-15T14:06:48.457228Z",
     "iopub.status.busy": "2021-04-15T14:06:48.457228Z",
     "iopub.status.idle": "2021-04-15T14:06:48.463230Z",
     "shell.execute_reply": "2021-04-15T14:06:48.463230Z",
     "shell.execute_reply.started": "2021-04-15T14:06:48.457228Z"
    }
   },
   "outputs": [
    {
     "name": "stdout",
     "output_type": "stream",
     "text": [
      "[[-0.33588167 -0.95248707 -0.36985291 -1.16747433  0.643861  ]\n",
      " [ 0.41280823  0.29913222  0.17774678 -0.17959601  0.79963754]\n",
      " [ 0.3249601   0.09802323 -2.16437413  0.95932042  1.87178199]\n",
      " [-0.43266171  1.00420837 -1.14877208  0.39134011  1.56908885]\n",
      " [-0.20473177 -1.96718382  0.68980217 -0.15319981 -0.83920068]]\n",
      "[-0.33588167  0.41280823  0.3249601  -0.43266171 -0.20473177]\n",
      "[ 0.643861    0.79963754  1.87178199  1.56908885 -0.83920068]\n"
     ]
    }
   ],
   "source": [
    "A = np.random.randn(5, 5)\n",
    "print(A)\n",
    "print(A[:, 0])\n",
    "print(A[:, -1])"
   ]
  },
  {
   "cell_type": "markdown",
   "metadata": {},
   "source": [
    "### Esercizio\n",
    "Crea un array multidimensionale di dimensione `(3, 4)`. Elimina le ultime due colonne."
   ]
  },
  {
   "cell_type": "code",
   "execution_count": 27,
   "metadata": {
    "execution": {
     "iopub.execute_input": "2021-04-15T14:06:48.465234Z",
     "iopub.status.busy": "2021-04-15T14:06:48.465234Z",
     "iopub.status.idle": "2021-04-15T14:06:48.471236Z",
     "shell.execute_reply": "2021-04-15T14:06:48.470236Z",
     "shell.execute_reply.started": "2021-04-15T14:06:48.465234Z"
    }
   },
   "outputs": [
    {
     "name": "stdout",
     "output_type": "stream",
     "text": [
      "[[ 0.9730375  -0.18998417  1.96022231  0.38513592]\n",
      " [-1.50254348  1.31656419 -0.18753828  1.76539165]\n",
      " [-0.86302095 -0.07664522  0.08125348 -0.84060611]]\n",
      "[[ 0.9730375  -0.18998417]\n",
      " [-1.50254348  1.31656419]\n",
      " [-0.86302095 -0.07664522]]\n"
     ]
    }
   ],
   "source": [
    "A = np.random.randn(3, 4)\n",
    "print(A)\n",
    "print(A[:, :-2])"
   ]
  },
  {
   "cell_type": "markdown",
   "metadata": {},
   "source": [
    "### Esercizio\n",
    "Nell'array dell'esercizio 17, tieni solo la prima e la terza colonna."
   ]
  },
  {
   "cell_type": "code",
   "execution_count": 28,
   "metadata": {
    "execution": {
     "iopub.execute_input": "2021-04-15T14:06:48.473230Z",
     "iopub.status.busy": "2021-04-15T14:06:48.473230Z",
     "iopub.status.idle": "2021-04-15T14:06:48.480230Z",
     "shell.execute_reply": "2021-04-15T14:06:48.479230Z",
     "shell.execute_reply.started": "2021-04-15T14:06:48.473230Z"
    }
   },
   "outputs": [
    {
     "name": "stdout",
     "output_type": "stream",
     "text": [
      "[[ 0.9730375   1.96022231]\n",
      " [-1.50254348 -0.18753828]\n",
      " [-0.86302095  0.08125348]]\n"
     ]
    }
   ],
   "source": [
    "print(A[:, 0::2])"
   ]
  },
  {
   "cell_type": "markdown",
   "metadata": {},
   "source": [
    "### Esercizio\n",
    "Dall'array dell'esercizio 17, ottieni un secondo array uguale al primo, ma con la prima e l'ultima riga scambiate di posizione."
   ]
  },
  {
   "cell_type": "code",
   "execution_count": 29,
   "metadata": {
    "execution": {
     "iopub.execute_input": "2021-04-15T14:06:48.482231Z",
     "iopub.status.busy": "2021-04-15T14:06:48.481233Z",
     "iopub.status.idle": "2021-04-15T14:06:48.489231Z",
     "shell.execute_reply": "2021-04-15T14:06:48.488234Z",
     "shell.execute_reply.started": "2021-04-15T14:06:48.482231Z"
    }
   },
   "outputs": [
    {
     "data": {
      "text/plain": [
       "array([[ 0.38513592, -0.18998417,  1.96022231,  0.9730375 ],\n",
       "       [ 1.76539165,  1.31656419, -0.18753828, -1.50254348],\n",
       "       [-0.84060611, -0.07664522,  0.08125348, -0.86302095]])"
      ]
     },
     "execution_count": 29,
     "metadata": {},
     "output_type": "execute_result"
    }
   ],
   "source": [
    "A[:, [-1, 1, 2, 0]]"
   ]
  },
  {
   "cell_type": "markdown",
   "metadata": {},
   "source": [
    "### Esercizio\n",
    "Altra particolarità di `numpy` è la possibilità di selezionare alcuni elementi di un array multidimensionale una maschera di `bool`. Prova ad esempio a selezionare i valori di `A` maggiori di 7."
   ]
  },
  {
   "cell_type": "code",
   "execution_count": 30,
   "metadata": {
    "execution": {
     "iopub.execute_input": "2021-04-15T14:06:48.491228Z",
     "iopub.status.busy": "2021-04-15T14:06:48.491228Z",
     "iopub.status.idle": "2021-04-15T14:06:48.498932Z",
     "shell.execute_reply": "2021-04-15T14:06:48.497219Z",
     "shell.execute_reply.started": "2021-04-15T14:06:48.491228Z"
    }
   },
   "outputs": [
    {
     "data": {
      "text/plain": [
       "array([], dtype=float64)"
      ]
     },
     "execution_count": 30,
     "metadata": {},
     "output_type": "execute_result"
    }
   ],
   "source": [
    "A[A > 7]"
   ]
  },
  {
   "cell_type": "markdown",
   "metadata": {},
   "source": [
    "### Esercizio\n",
    "Crea due vettori multidimensionali di dimensione `(m, n)` e concatenali prima verticalmente, poi orizzontalmente. Per approfondire: [link](https://numpy.org/doc/stable/reference/generated/numpy.stack.html)."
   ]
  },
  {
   "cell_type": "code",
   "execution_count": 31,
   "metadata": {
    "execution": {
     "iopub.execute_input": "2021-04-15T14:06:48.500603Z",
     "iopub.status.busy": "2021-04-15T14:06:48.500065Z",
     "iopub.status.idle": "2021-04-15T14:06:48.506032Z",
     "shell.execute_reply": "2021-04-15T14:06:48.505497Z",
     "shell.execute_reply.started": "2021-04-15T14:06:48.500603Z"
    }
   },
   "outputs": [
    {
     "name": "stdout",
     "output_type": "stream",
     "text": [
      "[[-0.35064528 -1.73558781]\n",
      " [ 0.01382243  1.8416894 ]\n",
      " [ 0.66356539  0.17440429]\n",
      " [ 1.51840411  2.24849832]\n",
      " [-1.20004509 -0.16221581]\n",
      " [ 0.14652701  0.43189229]]\n",
      "[[-0.35064528 -1.73558781  1.51840411  2.24849832]\n",
      " [ 0.01382243  1.8416894  -1.20004509 -0.16221581]\n",
      " [ 0.66356539  0.17440429  0.14652701  0.43189229]]\n"
     ]
    }
   ],
   "source": [
    "A = np.random.randn(3, 2)\n",
    "B = np.random.randn(3, 2)\n",
    "\n",
    "print(np.vstack([A, B]))\n",
    "print(np.hstack([A, B]))"
   ]
  },
  {
   "cell_type": "markdown",
   "metadata": {},
   "source": [
    "### Esercizio\n",
    "Crea un array di `n` elementi. Calcolane poi media, varianza, deviazione standard e mediana."
   ]
  },
  {
   "cell_type": "code",
   "execution_count": 32,
   "metadata": {
    "execution": {
     "iopub.execute_input": "2021-04-15T14:06:48.507637Z",
     "iopub.status.busy": "2021-04-15T14:06:48.507637Z",
     "iopub.status.idle": "2021-04-15T14:06:48.513513Z",
     "shell.execute_reply": "2021-04-15T14:06:48.512517Z",
     "shell.execute_reply.started": "2021-04-15T14:06:48.507637Z"
    }
   },
   "outputs": [
    {
     "name": "stdout",
     "output_type": "stream",
     "text": [
      "0.25899648811509757 0.4377304279088766 0.6616119919627188 0.19809448781436684\n"
     ]
    }
   ],
   "source": [
    "x = np.random.randn(10)\n",
    "print(np.mean(x), np.var(x), np.std(x), np.median(x))"
   ]
  },
  {
   "cell_type": "markdown",
   "metadata": {},
   "source": [
    "### Esercizio\n",
    "Crea un vettore di 100 elementi casuali estratti da una distribuzione discreta uniforme $~U(0,256)$ ed ordinali in maniera crescente. Per approfondire: [link](https://numpy.org/doc/stable/reference/random/index.html?highlight=random#module-numpy.random)."
   ]
  },
  {
   "cell_type": "code",
   "execution_count": 33,
   "metadata": {
    "execution": {
     "iopub.execute_input": "2021-04-15T14:06:48.514513Z",
     "iopub.status.busy": "2021-04-15T14:06:48.514513Z",
     "iopub.status.idle": "2021-04-15T14:06:48.523511Z",
     "shell.execute_reply": "2021-04-15T14:06:48.522553Z",
     "shell.execute_reply.started": "2021-04-15T14:06:48.514513Z"
    }
   },
   "outputs": [
    {
     "data": {
      "text/plain": [
       "array([  5,   6,   7,   9,  17,  19,  23,  33,  34,  35,  36,  37,  39,\n",
       "        41,  42,  47,  53,  54,  56,  56,  63,  64,  64,  66,  67,  67,\n",
       "        70,  76,  76,  77,  83,  87,  90,  91,  93,  97,  98, 100, 100,\n",
       "       103, 107, 109, 111, 116, 122, 123, 126, 130, 134, 143, 145, 146,\n",
       "       148, 151, 156, 163, 163, 163, 163, 165, 169, 171, 171, 171, 174,\n",
       "       174, 180, 184, 185, 186, 186, 187, 191, 196, 197, 199, 200, 204,\n",
       "       204, 206, 208, 210, 212, 214, 218, 223, 224, 236, 237, 237, 242,\n",
       "       244, 246, 248, 249, 250, 251, 253, 254, 254])"
      ]
     },
     "execution_count": 33,
     "metadata": {},
     "output_type": "execute_result"
    }
   ],
   "source": [
    "np.sort(np.random.randint(0, 256, 100))"
   ]
  }
 ],
 "metadata": {
  "kernelspec": {
   "display_name": "Python 3",
   "language": "python",
   "name": "python3"
  },
  "language_info": {
   "codemirror_mode": {
    "name": "ipython",
    "version": 3
   },
   "file_extension": ".py",
   "mimetype": "text/x-python",
   "name": "python",
   "nbconvert_exporter": "python",
   "pygments_lexer": "ipython3",
   "version": "3.8.3"
  }
 },
 "nbformat": 4,
 "nbformat_minor": 4
}
