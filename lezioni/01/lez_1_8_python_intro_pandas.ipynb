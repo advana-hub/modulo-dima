{
 "cells": [
  {
   "cell_type": "markdown",
   "metadata": {},
   "source": [
    "# Pandas\n",
    "`pandas` è la principale library di data analysis di Python. La feature che l'ha resa tale è l'implementazione dei *Data Frame*, e delle operazioni su di essi."
   ]
  },
  {
   "cell_type": "markdown",
   "metadata": {},
   "source": [
    "## Esercizi\n",
    "Questi esercizi ci permetteranno di familiarizzare con i fondamenti della library. Se non sei sicuro della sintassi, fai riferimento al [Pandas cheatsheet](https://pandas.pydata.org/Pandas_Cheat_Sheet.pdf).\n",
    "\n",
    "### Esercizio\n",
    "Importa la library e verificane la versione"
   ]
  },
  {
   "cell_type": "code",
   "execution_count": null,
   "metadata": {},
   "outputs": [],
   "source": [
    "import pandas as pd\n",
    "\n",
    "print(pd.__version__)"
   ]
  },
  {
   "cell_type": "markdown",
   "metadata": {},
   "source": [
    "### Esercizio\n",
    "Definisci un *DataFrame* come il seguente, ed assegnalo alla variabile `df`. \n",
    "\n",
    "|    | a   |   b |   c |\n",
    "|---:|:----|----:|----:|\n",
    "|  0 | i0  |   7 |  10 |\n",
    "|  1 | i1  |   8 |  11 |\n",
    "|  2 | i2  |   9 |  12 |\n",
    "|  3 | i3  |   0 |   0 |\n",
    "|  4 | i4  |   1 |   0 |\n",
    "\n",
    "Ispezionane poi il contenuto."
   ]
  },
  {
   "cell_type": "code",
   "execution_count": null,
   "metadata": {},
   "outputs": [],
   "source": []
  },
  {
   "cell_type": "markdown",
   "metadata": {},
   "source": [
    "### Esercizio (bonus)\n",
    "Estrai nomi di indici e colonne del *DataFrame*, ed assegnali rispettivamente alle variabili `idx` e `cols`. Ispezionane poi il tipo ed il contenuto."
   ]
  },
  {
   "cell_type": "code",
   "execution_count": null,
   "metadata": {},
   "outputs": [],
   "source": []
  },
  {
   "cell_type": "markdown",
   "metadata": {},
   "source": [
    "### Esercizio\n",
    "Il *contenuto* di un *DataFrame* può essere semplicemente estratto dal suo contesto tramite. Estrai il contenuto di `df` accedendo al suo campo `values` ed assegnandolo alla variabile `vals`. Di che tipo è `vals`? Per approfondire [link](https://pandas.pydata.org/pandas-docs/stable/reference/api/pandas.DataFrame.values.html)."
   ]
  },
  {
   "cell_type": "code",
   "execution_count": null,
   "metadata": {},
   "outputs": [],
   "source": []
  },
  {
   "cell_type": "markdown",
   "metadata": {},
   "source": [
    "### Esercizio\n",
    "Ottieni trasposto del *DataFrame* precedente, ed assegnalo alla variabile `df`. Ispezionane poi il contenuto."
   ]
  },
  {
   "cell_type": "code",
   "execution_count": null,
   "metadata": {},
   "outputs": [],
   "source": []
  },
  {
   "cell_type": "markdown",
   "metadata": {},
   "source": [
    "### Esercizio\n",
    "Sfruttando l'indice, estrai la riga `'a'` ed asegnala alla variabile `idx_a`. Ispezionane il tipo ed il contenuto"
   ]
  },
  {
   "cell_type": "code",
   "execution_count": null,
   "metadata": {},
   "outputs": [],
   "source": []
  },
  {
   "cell_type": "markdown",
   "metadata": {},
   "source": [
    "### Esercizio\n",
    "Estrai da `df` l'elemento in posizione `['a', 0]`."
   ]
  },
  {
   "cell_type": "code",
   "execution_count": null,
   "metadata": {},
   "outputs": [],
   "source": []
  },
  {
   "cell_type": "markdown",
   "metadata": {},
   "source": [
    "### Esercizio (bonus)\n",
    "Senza sfruttare il nome dell'indice, estrai l'ultima riga di `df`. Per approfondire: [link](https://pandas.pydata.org/pandas-docs/stable/user_guide/indexing.html)."
   ]
  },
  {
   "cell_type": "code",
   "execution_count": null,
   "metadata": {},
   "outputs": [],
   "source": []
  },
  {
   "cell_type": "markdown",
   "metadata": {},
   "source": [
    "### Esercizio\n",
    "Crea un *DataFrame* come il seguente (attenzione ai *missing values*).\n",
    "\n",
    "|    |   age | name     |\n",
    "|---:|------:|:---------|\n",
    "|  0 |    18 | Carl     |\n",
    "|  1 |    22 | John     |\n",
    "|  2 | \\<NA> | Peter    |\n",
    "|  3 |    19 | Margaret |\n",
    "|  4 |    14 | Judy     |\n",
    "|  5 |    17 |  \\<NA>   |\n",
    "\n",
    "Aggiungi poi una colonna chiamata `'id'` contenente identificativi univoci (di tipo `str`) e rendila l'indice de tuo *DataFrame*. Per approfondire: [link](https://pandas.pydata.org/pandas-docs/stable/reference/api/pandas.DataFrame.set_index.html)"
   ]
  },
  {
   "cell_type": "code",
   "execution_count": null,
   "metadata": {},
   "outputs": [],
   "source": []
  },
  {
   "cell_type": "markdown",
   "metadata": {},
   "source": [
    "### Esercizio\n",
    "Aggiungi al *DataFrame* una colonna dal nome `'new_col'` contenente 0 in ogni riga."
   ]
  },
  {
   "cell_type": "code",
   "execution_count": null,
   "metadata": {},
   "outputs": [],
   "source": []
  },
  {
   "cell_type": "markdown",
   "metadata": {},
   "source": [
    "### Esercizio\n",
    "Riempi i valori mancanti seguendo questa politica:\n",
    "* la stringa `'Paul'`, per la colonna `'name'`\n",
    "* la media della colonna, per la colonna `'age'`"
   ]
  },
  {
   "cell_type": "code",
   "execution_count": null,
   "metadata": {},
   "outputs": [],
   "source": []
  },
  {
   "cell_type": "markdown",
   "metadata": {},
   "source": [
    "### Esercizio\n",
    "`pandas` offre una potentissima suite di funzionalità di input/output per dataset nei più vari formati. Iniziamo a vederne alcuni tra i più comuni. Carica in memoria il file `data/intel_1.csv`, contenente codice modello e prezzo di alcuni microprocessori, ed assegnalo alla variabile `data1`. Ispeziona le prime righe della tabella ottenuta. Per approfondire: [link](https://pandas.pydata.org/pandas-docs/stable/reference/api/pandas.read_csv.html)."
   ]
  },
  {
   "cell_type": "code",
   "execution_count": null,
   "metadata": {},
   "outputs": [],
   "source": []
  },
  {
   "cell_type": "markdown",
   "metadata": {},
   "source": [
    "### Esercizio\n",
    "`pandas` può essere usato per combinare informazioni tra più tabelle. Informalmente possiamo immaginare che tutto ciò che è possibile fare in `SQL`, trova un corrispettivo in questa library.\n",
    "\n",
    "Carica in memoria il file `''data/intel_2.xlsx''`, contenente hai codice del modello, numero di cores e di threads, ed assegnalo alla variabile `data2`. Ispeziona il contenuto di `data2` e scopri come ottienere un unico *DataFrame* riassuntivo con tutte le informazioni affiancate. \n",
    "\n",
    "Per approfondire [link](https://pandas.pydata.org/docs/user_guide/merging.html), [link](https://pandas.pydata.org/pandas-docs/stable/reference/api/pandas.read_excel.html). "
   ]
  },
  {
   "cell_type": "code",
   "execution_count": null,
   "metadata": {},
   "outputs": [],
   "source": []
  },
  {
   "cell_type": "code",
   "execution_count": null,
   "metadata": {},
   "outputs": [],
   "source": []
  },
  {
   "cell_type": "markdown",
   "metadata": {},
   "source": [
    "### Esercizio\n",
    "Dal *DataFrame* dell'esercizio precedente, elimina le righe contenenti *missing values*.\n",
    "Estrai la colonna `'Price'` dal *DataFrame* precedente, e trasformane il contenuto in `float`.\n",
    "\n",
    "Per approfondire: [link](https://pandas.pydata.org/pandas-docs/stable/reference/api/pandas.DataFrame.dropna.html), [link](https://pandas.pydata.org/pandas-docs/stable/reference/api/pandas.DataFrame.apply.html)."
   ]
  },
  {
   "cell_type": "code",
   "execution_count": null,
   "metadata": {},
   "outputs": [],
   "source": []
  },
  {
   "cell_type": "markdown",
   "metadata": {},
   "source": [
    "### Esercizio\n",
    "Ordina il *DataFrame* dell'esercizio precedente per prezzo, dal più economico al più costoso."
   ]
  },
  {
   "cell_type": "code",
   "execution_count": null,
   "metadata": {},
   "outputs": [],
   "source": []
  },
  {
   "cell_type": "markdown",
   "metadata": {},
   "source": [
    "### Esercizio\n",
    "Nell'analisi di dati di grossa mole, ti ritroverai spesso ad avere a che fare con file di tipo [parquet](https://en.wikipedia.org/wiki/Apache_Parquet). Prova ad esempio a caricare in memoria il dataset nel file `data/mat-students.parquet`, a determinarne la dimensione e ad ispezionarne le prime righe. Per approfondire: [link](https://pandas.pydata.org/pandas-docs/stable/reference/api/pandas.read_parquet.html)."
   ]
  },
  {
   "cell_type": "code",
   "execution_count": null,
   "metadata": {},
   "outputs": [],
   "source": []
  },
  {
   "cell_type": "markdown",
   "metadata": {},
   "source": [
    "### Esercizio (bonus)\n",
    "Hai necessità di analizzare i dati dell'esrcizio precedente tramite da un sistema legacy che è in grado di leggere solo file in formato *json*. Come puoi risolvere questo problema? Per approfondire: [link](https://pandas.pydata.org/pandas-docs/stable/reference/api/pandas.DataFrame.to_json.html)."
   ]
  },
  {
   "cell_type": "code",
   "execution_count": null,
   "metadata": {},
   "outputs": [],
   "source": []
  },
  {
   "cell_type": "markdown",
   "metadata": {},
   "source": [
    "### Esercizio\n",
    "Inizi ad esplorare il *DataFrame*, di che tipo sono i dati contenuti in ciascuna colonna?"
   ]
  },
  {
   "cell_type": "code",
   "execution_count": null,
   "metadata": {},
   "outputs": [],
   "source": []
  },
  {
   "cell_type": "markdown",
   "metadata": {},
   "source": [
    "### Esercizio\n",
    "Prosegui nell'esplorazione, calcola statistiche descrittive (quali media, varianza, ecc) di ogni colonna numerica. Per approfondire [link](https://pandas.pydata.org/docs/reference/api/pandas.DataFrame.describe.html)."
   ]
  },
  {
   "cell_type": "code",
   "execution_count": null,
   "metadata": {},
   "outputs": [],
   "source": []
  },
  {
   "cell_type": "markdown",
   "metadata": {},
   "source": [
    "### Esercizio\n",
    "Inizi ad interessarti alla colonna `'internet'`, e sei curioso di sapere quali valori può assumere. Come sono distribuite le frequenze assolute su quei valori?"
   ]
  },
  {
   "cell_type": "code",
   "execution_count": null,
   "metadata": {},
   "outputs": [],
   "source": []
  },
  {
   "cell_type": "markdown",
   "metadata": {},
   "source": [
    "### Esercizio\n",
    "Ti interessi ora alla colonna `'absences'`, quale range di valori può assumere? Quanti valori unici sono presenti?"
   ]
  },
  {
   "cell_type": "code",
   "execution_count": null,
   "metadata": {},
   "outputs": [],
   "source": []
  },
  {
   "cell_type": "code",
   "execution_count": null,
   "metadata": {},
   "outputs": [],
   "source": []
  },
  {
   "cell_type": "markdown",
   "metadata": {},
   "source": [
    "### Esercizio (bonus)\n",
    "Vorresti avere un'idea della distribuzione dei valori della colonna `'absences'`, tuttavia l'alto numero di valori unici ti preclude dall'agire come per l'Es. 11. Decidi quindi di effettuare un *binning* preliminare 4 gruppi di pari lunghezza, e di ispezionare poi le frequenze assolute dei valori così trasformati. Come potresti agire? Per approfondire [link](https://pandas.pydata.org/pandas-docs/stable/reference/api/pandas.cut.html)."
   ]
  },
  {
   "cell_type": "code",
   "execution_count": null,
   "metadata": {},
   "outputs": [],
   "source": []
  },
  {
   "cell_type": "markdown",
   "metadata": {},
   "source": [
    "### Esercizio\n",
    "L'analisi prosegue ed inizi a chiederti se, in media, gli studenti con accesso ad internet facciano più ore di assenza. Come puoi verificarlo? Per approfondire [link](https://pandas.pydata.org/pandas-docs/stable/reference/api/pandas.DataFrame.groupby.html)."
   ]
  },
  {
   "cell_type": "code",
   "execution_count": null,
   "metadata": {},
   "outputs": [],
   "source": []
  },
  {
   "cell_type": "markdown",
   "metadata": {},
   "source": [
    "### Esercizio\n",
    "Ora che hai capito come funziona il metodo `groupby`, sapresti applicarlo per ottenere media e standard deviation dell'età per ogni sesso per ogni scuola di apparteneneza?"
   ]
  },
  {
   "cell_type": "code",
   "execution_count": null,
   "metadata": {},
   "outputs": [],
   "source": []
  },
  {
   "cell_type": "markdown",
   "metadata": {},
   "source": [
    "### Esercizio\n",
    "Sapendo che i dati sono stati raccolti in data 27-11-2014, vuoi ricavare l'anno di nascita degli studenti."
   ]
  },
  {
   "cell_type": "code",
   "execution_count": null,
   "metadata": {},
   "outputs": [],
   "source": []
  },
  {
   "cell_type": "markdown",
   "metadata": {},
   "source": [
    "### Esercizio\n",
    "Sapendo che le colonne `'G1', 'G2', 'G3'` riportano dei tre trimestri, rispondi alle seguenti domande.\n",
    "\n",
    "* In quale range di valori sono espressi i voti?\n",
    "* Quanti studenti sono peggiorati tra `'G1'` e `'G2'`?\n",
    "* Quanti sono sempre migliorati?\n",
    "* Per quanti il voto non è mai cambiato?\n",
    "* Quali sono il più alto ed il più basso tra i voti medio complessivo per ogni studente?"
   ]
  },
  {
   "cell_type": "code",
   "execution_count": null,
   "metadata": {},
   "outputs": [],
   "source": []
  },
  {
   "cell_type": "code",
   "execution_count": null,
   "metadata": {},
   "outputs": [],
   "source": []
  },
  {
   "cell_type": "code",
   "execution_count": null,
   "metadata": {},
   "outputs": [],
   "source": []
  },
  {
   "cell_type": "code",
   "execution_count": null,
   "metadata": {},
   "outputs": [],
   "source": []
  },
  {
   "cell_type": "code",
   "execution_count": null,
   "metadata": {},
   "outputs": [],
   "source": []
  },
  {
   "cell_type": "markdown",
   "metadata": {},
   "source": [
    "### Esercizio\n",
    "Non sei abituato a ragionare con voti tra in ventesimi. Decidi quindi di applicare una trasformazione lineare alle colonne `'G1', 'G2', 'G3'` per portare le valutazioni in trentesimi."
   ]
  },
  {
   "cell_type": "code",
   "execution_count": null,
   "metadata": {},
   "outputs": [],
   "source": []
  },
  {
   "cell_type": "markdown",
   "metadata": {},
   "source": [
    "### Esercizio\n",
    "Prosegui con l'esplorazione del dataset, cerca di ottenere *insight* interessanti e discutine con il resto della classe."
   ]
  },
  {
   "cell_type": "code",
   "execution_count": null,
   "metadata": {},
   "outputs": [],
   "source": []
  }
 ],
 "metadata": {
  "kernelspec": {
   "display_name": "Python 3",
   "language": "python",
   "name": "python3"
  },
  "language_info": {
   "codemirror_mode": {
    "name": "ipython",
    "version": 3
   },
   "file_extension": ".py",
   "mimetype": "text/x-python",
   "name": "python",
   "nbconvert_exporter": "python",
   "pygments_lexer": "ipython3",
   "version": "3.8.3"
  }
 },
 "nbformat": 4,
 "nbformat_minor": 4
}
