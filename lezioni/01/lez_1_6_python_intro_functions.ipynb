{
 "cells": [
  {
   "cell_type": "markdown",
   "metadata": {},
   "source": [
    "# Functions\n",
    "\n",
    "- https://realpython.com/defining-your-own-python-function/"
   ]
  },
  {
   "cell_type": "markdown",
   "metadata": {},
   "source": [
    "una possibile sintassi per definire una funzione\n",
    "\n",
    "```python\n",
    "def nome_funzione(argomenti):\n",
    "    output = ... # istruzione 1\n",
    "                 # ...\n",
    "                 # istruzione n\n",
    "    return output\n",
    "```"
   ]
  },
  {
   "cell_type": "markdown",
   "metadata": {},
   "source": [
    "**Esempio**: funzione identità"
   ]
  },
  {
   "cell_type": "code",
   "execution_count": null,
   "metadata": {},
   "outputs": [],
   "source": [
    "def f(x):\n",
    "    return x\n",
    "\n",
    "x = 10\n",
    "y = f(x)\n",
    "\n",
    "print(\" input: \", x)\n",
    "print(\"output: \", y)"
   ]
  },
  {
   "cell_type": "markdown",
   "metadata": {
    "execution": {
     "iopub.execute_input": "2021-03-18T10:37:46.336463Z",
     "iopub.status.busy": "2021-03-18T10:37:46.335461Z",
     "iopub.status.idle": "2021-03-18T10:37:46.344458Z",
     "shell.execute_reply": "2021-03-18T10:37:46.342456Z",
     "shell.execute_reply.started": "2021-03-18T10:37:46.336463Z"
    }
   },
   "source": [
    "**Esempio**: media aritmetica tra due numeri"
   ]
  },
  {
   "cell_type": "code",
   "execution_count": null,
   "metadata": {},
   "outputs": [],
   "source": [
    "def f(x0, x1):\n",
    "    return (x0 + x1) / 2\n",
    "\n",
    "f(5, 6)"
   ]
  },
  {
   "cell_type": "markdown",
   "metadata": {
    "execution": {
     "iopub.execute_input": "2021-03-18T13:23:14.955073Z",
     "iopub.status.busy": "2021-03-18T13:23:14.955073Z",
     "iopub.status.idle": "2021-03-18T13:23:14.963068Z",
     "shell.execute_reply": "2021-03-18T13:23:14.961070Z",
     "shell.execute_reply.started": "2021-03-18T13:23:14.955073Z"
    }
   },
   "source": [
    "**Esempio**: proiezione da $\\mathbb{R}^3$ ad $\\mathbb{R}^2$ sulle prime due coordinate"
   ]
  },
  {
   "cell_type": "code",
   "execution_count": null,
   "metadata": {},
   "outputs": [],
   "source": [
    "def f(x, y, z):\n",
    "    return (x, y)\n",
    "\n",
    "x, y, z = (5, 7, 0)\n",
    "p = f(x, y, z)\n",
    "\n",
    "print(\" input: \", (x, y, z))\n",
    "print(\"output: \", p)"
   ]
  },
  {
   "cell_type": "markdown",
   "metadata": {
    "execution": {
     "iopub.execute_input": "2021-03-18T10:34:30.312395Z",
     "iopub.status.busy": "2021-03-18T10:34:30.311394Z",
     "iopub.status.idle": "2021-03-18T10:34:30.316397Z",
     "shell.execute_reply": "2021-03-18T10:34:30.315397Z",
     "shell.execute_reply.started": "2021-03-18T10:34:30.312395Z"
    }
   },
   "source": [
    "## Arguments\n",
    "\n",
    "scriviamo una funzione che stampi il prezzo di vendità di un tipo di pizza 🍕"
   ]
  },
  {
   "cell_type": "code",
   "execution_count": null,
   "metadata": {},
   "outputs": [],
   "source": [
    "def f(name, price):\n",
    "    print(f\"Il prezzo di una pizza {name} è {price} EUR.\")"
   ]
  },
  {
   "cell_type": "code",
   "execution_count": null,
   "metadata": {},
   "outputs": [],
   "source": [
    "f('margherita', 6)"
   ]
  },
  {
   "cell_type": "code",
   "execution_count": null,
   "metadata": {},
   "outputs": [],
   "source": [
    "f('capricciosa', 7.5)"
   ]
  },
  {
   "cell_type": "markdown",
   "metadata": {
    "execution": {
     "iopub.execute_input": "2021-03-18T11:01:48.838830Z",
     "iopub.status.busy": "2021-03-18T11:01:48.838830Z",
     "iopub.status.idle": "2021-03-18T11:01:48.844836Z",
     "shell.execute_reply": "2021-03-18T11:01:48.843831Z",
     "shell.execute_reply.started": "2021-03-18T11:01:48.838830Z"
    }
   },
   "source": [
    "### Esercizio\n",
    "cosa succede se inverti gli argomenti?"
   ]
  },
  {
   "cell_type": "code",
   "execution_count": null,
   "metadata": {},
   "outputs": [],
   "source": [
    "f(6, 'margherita')"
   ]
  },
  {
   "cell_type": "markdown",
   "metadata": {
    "execution": {
     "iopub.execute_input": "2021-03-18T12:44:28.347518Z",
     "iopub.status.busy": "2021-03-18T12:44:28.346518Z",
     "iopub.status.idle": "2021-03-18T12:44:28.355521Z",
     "shell.execute_reply": "2021-03-18T12:44:28.353520Z",
     "shell.execute_reply.started": "2021-03-18T12:44:28.347518Z"
    }
   },
   "source": [
    "**HIGHLIGHT**: questo tipo di argomenti si dice _positional argument_"
   ]
  },
  {
   "cell_type": "markdown",
   "metadata": {
    "execution": {
     "iopub.execute_input": "2021-03-18T11:02:53.334369Z",
     "iopub.status.busy": "2021-03-18T11:02:53.334369Z",
     "iopub.status.idle": "2021-03-18T11:02:53.340367Z",
     "shell.execute_reply": "2021-03-18T11:02:53.339368Z",
     "shell.execute_reply.started": "2021-03-18T11:02:53.334369Z"
    }
   },
   "source": [
    "### Esercizio\n",
    "cosa succede se dimentichi uno (o più) argomenti?"
   ]
  },
  {
   "cell_type": "code",
   "execution_count": null,
   "metadata": {},
   "outputs": [],
   "source": [
    "f('margherita')"
   ]
  },
  {
   "cell_type": "markdown",
   "metadata": {
    "execution": {
     "iopub.execute_input": "2021-03-18T12:45:52.527956Z",
     "iopub.status.busy": "2021-03-18T12:45:52.527956Z",
     "iopub.status.idle": "2021-03-18T12:45:52.535959Z",
     "shell.execute_reply": "2021-03-18T12:45:52.533963Z",
     "shell.execute_reply.started": "2021-03-18T12:45:52.527956Z"
    }
   },
   "source": [
    "**HIGHLIGHT**: per evitare situazioni di questo tipo, è possibile assegnare un valore di default ad un argomento"
   ]
  },
  {
   "cell_type": "code",
   "execution_count": null,
   "metadata": {},
   "outputs": [],
   "source": [
    "def f(name, price = 6):\n",
    "    print(f\"Il prezzo di una pizza {name} è {price} EUR.\")"
   ]
  },
  {
   "cell_type": "code",
   "execution_count": null,
   "metadata": {},
   "outputs": [],
   "source": [
    "f('margherita')"
   ]
  },
  {
   "cell_type": "markdown",
   "metadata": {},
   "source": [
    "e sempre possibile modificare l'argomento al momento della chiamata"
   ]
  },
  {
   "cell_type": "code",
   "execution_count": null,
   "metadata": {},
   "outputs": [],
   "source": [
    "f('margherita', price=5)"
   ]
  },
  {
   "cell_type": "markdown",
   "metadata": {
    "execution": {
     "iopub.execute_input": "2021-03-18T12:48:36.056236Z",
     "iopub.status.busy": "2021-03-18T12:48:36.055235Z",
     "iopub.status.idle": "2021-03-18T12:48:36.064235Z",
     "shell.execute_reply": "2021-03-18T12:48:36.063275Z",
     "shell.execute_reply.started": "2021-03-18T12:48:36.056236Z"
    }
   },
   "source": [
    "**HIGHLIGHT**: questo secondo tipo di argomenti si dice _keyword argument_\n",
    "\n",
    "cosa succede se invertiamo gli argomenti?"
   ]
  },
  {
   "cell_type": "code",
   "execution_count": null,
   "metadata": {},
   "outputs": [],
   "source": [
    "f(price=5, 'margherita')"
   ]
  },
  {
   "cell_type": "markdown",
   "metadata": {
    "execution": {
     "iopub.execute_input": "2021-03-18T13:00:24.896837Z",
     "iopub.status.busy": "2021-03-18T13:00:24.896837Z",
     "iopub.status.idle": "2021-03-18T13:00:24.904838Z",
     "shell.execute_reply": "2021-03-18T13:00:24.902841Z",
     "shell.execute_reply.started": "2021-03-18T13:00:24.896837Z"
    }
   },
   "source": [
    "**HIGHLIGHT**: i keyword arguments devono essere specificati **dopo** i positional arguments"
   ]
  },
  {
   "cell_type": "code",
   "execution_count": null,
   "metadata": {},
   "outputs": [],
   "source": [
    "f(price=5, name='margherita')"
   ]
  },
  {
   "cell_type": "markdown",
   "metadata": {
    "execution": {
     "iopub.execute_input": "2021-03-18T13:02:08.190023Z",
     "iopub.status.busy": "2021-03-18T13:02:08.190023Z",
     "iopub.status.idle": "2021-03-18T13:02:08.198026Z",
     "shell.execute_reply": "2021-03-18T13:02:08.196029Z",
     "shell.execute_reply.started": "2021-03-18T13:02:08.190023Z"
    }
   },
   "source": [
    "...oppure si devono specificare _tutti_ keyword arguments"
   ]
  },
  {
   "cell_type": "markdown",
   "metadata": {
    "execution": {
     "iopub.execute_input": "2021-03-18T13:04:52.445826Z",
     "iopub.status.busy": "2021-03-18T13:04:52.445826Z",
     "iopub.status.idle": "2021-03-18T13:04:52.454821Z",
     "shell.execute_reply": "2021-03-18T13:04:52.452834Z",
     "shell.execute_reply.started": "2021-03-18T13:04:52.445826Z"
    }
   },
   "source": [
    "### Summary\n",
    "\n",
    "- I _positional arguments_ devono concordare in ordine e numero con i parametri specificati nella definizione della funzione\n",
    "- I _keyword arguments_ devono concordare in numero con i parametri specificati nella definizione della funzione, ma possono essere specificati in un ordine arbitrario (il loro utilizzo è determinato grazie al loro nome!)\n",
    "- I _default parameters_ permettono di omettere alcuni argomenti nel momento in cui si chiama una funzione\n",
    "- Sia nella definizione che nella chiamata di una funzione, i keyword arguments devono seguire i positional arguments"
   ]
  },
  {
   "cell_type": "markdown",
   "metadata": {
    "execution": {
     "iopub.execute_input": "2021-03-18T13:07:53.897475Z",
     "iopub.status.busy": "2021-03-18T13:07:53.896445Z",
     "iopub.status.idle": "2021-03-18T13:07:53.902439Z",
     "shell.execute_reply": "2021-03-18T13:07:53.901442Z",
     "shell.execute_reply.started": "2021-03-18T13:07:53.897475Z"
    }
   },
   "source": [
    "### Approfondimenti\n",
    "\n",
    "- [\\*args and \\**kwargs](https://realpython.com/python-kwargs-and-args/)\n",
    "- [typing and annotations](https://realpython.com/defining-your-own-python-function/#python-function-annotations)"
   ]
  },
  {
   "cell_type": "markdown",
   "metadata": {},
   "source": [
    "## Built-in functions\n",
    "\n",
    "https://docs.python.org/3/library/functions.html"
   ]
  },
  {
   "cell_type": "code",
   "execution_count": null,
   "metadata": {},
   "outputs": [],
   "source": [
    "x0 = 7\n",
    "x1 = 2\n",
    "x = (x0, x1)"
   ]
  },
  {
   "cell_type": "code",
   "execution_count": null,
   "metadata": {},
   "outputs": [],
   "source": [
    "sum(x)"
   ]
  },
  {
   "cell_type": "code",
   "execution_count": null,
   "metadata": {},
   "outputs": [],
   "source": [
    "len(x)"
   ]
  },
  {
   "cell_type": "code",
   "execution_count": null,
   "metadata": {},
   "outputs": [],
   "source": [
    "pow(x1, x0)"
   ]
  },
  {
   "cell_type": "code",
   "execution_count": null,
   "metadata": {},
   "outputs": [],
   "source": [
    "abs(x1 - x0)"
   ]
  },
  {
   "cell_type": "code",
   "execution_count": null,
   "metadata": {},
   "outputs": [],
   "source": [
    "all([True, False, True])"
   ]
  },
  {
   "cell_type": "code",
   "execution_count": null,
   "metadata": {},
   "outputs": [],
   "source": [
    "max(x)"
   ]
  },
  {
   "cell_type": "code",
   "execution_count": null,
   "metadata": {},
   "outputs": [],
   "source": [
    "min(x)"
   ]
  },
  {
   "cell_type": "code",
   "execution_count": null,
   "metadata": {},
   "outputs": [],
   "source": [
    "round(x1 / x0, ndigits=4)"
   ]
  },
  {
   "cell_type": "code",
   "execution_count": null,
   "metadata": {},
   "outputs": [],
   "source": [
    "sorted(x)"
   ]
  },
  {
   "cell_type": "code",
   "execution_count": null,
   "metadata": {},
   "outputs": [],
   "source": [
    "range(max(x))"
   ]
  },
  {
   "cell_type": "markdown",
   "metadata": {},
   "source": [
    "## BONUS"
   ]
  },
  {
   "cell_type": "markdown",
   "metadata": {
    "execution": {
     "iopub.execute_input": "2021-03-18T13:28:59.752137Z",
     "iopub.status.busy": "2021-03-18T13:28:59.752137Z",
     "iopub.status.idle": "2021-03-18T13:28:59.756137Z",
     "shell.execute_reply": "2021-03-18T13:28:59.755138Z",
     "shell.execute_reply.started": "2021-03-18T13:28:59.752137Z"
    }
   },
   "source": [
    "### `lambda` functions"
   ]
  },
  {
   "cell_type": "markdown",
   "metadata": {},
   "source": [
    "un altro possibile modo per definire funzioni è attraverso una `lambda` function\n",
    "\n",
    "```python\n",
    "lambda argomenti: output\n",
    "```\n",
    "\n",
    "**Esempio**: funzione identità tramite lambda <br>\n",
    "la scrittura ricorda molto quella funzionale $x\\mapsto x$"
   ]
  },
  {
   "cell_type": "code",
   "execution_count": null,
   "metadata": {},
   "outputs": [],
   "source": [
    "lambda x: x"
   ]
  },
  {
   "cell_type": "markdown",
   "metadata": {
    "execution": {
     "iopub.execute_input": "2021-03-18T13:37:04.738407Z",
     "iopub.status.busy": "2021-03-18T13:37:04.738407Z",
     "iopub.status.idle": "2021-03-18T13:37:04.747035Z",
     "shell.execute_reply": "2021-03-18T13:37:04.745362Z",
     "shell.execute_reply.started": "2021-03-18T13:37:04.738407Z"
    }
   },
   "source": [
    "una lambda _può_ essere chiamata senza che sia necessario assegnarle un nome"
   ]
  },
  {
   "cell_type": "code",
   "execution_count": null,
   "metadata": {},
   "outputs": [],
   "source": [
    "(lambda x: 3 * x)(2)"
   ]
  },
  {
   "cell_type": "markdown",
   "metadata": {},
   "source": [
    "... oppure può essere utilizzata assegnandole un nome e richiamandolo"
   ]
  },
  {
   "cell_type": "code",
   "execution_count": null,
   "metadata": {},
   "outputs": [],
   "source": [
    "triple = lambda x: 3 * x\n",
    "triple(2)"
   ]
  },
  {
   "cell_type": "markdown",
   "metadata": {},
   "source": [
    "### Esercizio\n",
    "di che tipo risulta essere la lambda `triple`?"
   ]
  },
  {
   "cell_type": "code",
   "execution_count": null,
   "metadata": {},
   "outputs": [],
   "source": []
  },
  {
   "cell_type": "markdown",
   "metadata": {},
   "source": [
    "### `map` e `filter`\n",
    "\n",
    "l'utilizzo delle lambda risulta comodo in combinazione con altre due built-in functions, `map` e `filter`. In particolare:\n",
    "\n",
    "- `map` è un operatore che permette di _mappare_ una collezione di elementi lungo una data funzione, tramite la sintassi `map(function, elements)`\n",
    "- `filter` è un operatore che permette di _filtrare_ una collezione di elementi rispetto ad una condizione espressa da una funzione, tramite la sintassi `filter(function, elements)`"
   ]
  },
  {
   "cell_type": "code",
   "execution_count": null,
   "metadata": {},
   "outputs": [],
   "source": [
    "x = [1, 2, 3]\n",
    "\n",
    "triple = lambda x: 3 * x\n",
    "\n",
    "y = list(map(triple, x))\n",
    "\n",
    "print(\" input: \", x)\n",
    "print(\"output: \", y)"
   ]
  },
  {
   "cell_type": "code",
   "execution_count": null,
   "metadata": {},
   "outputs": [],
   "source": [
    "x = [1, 2, 3, 4]\n",
    "\n",
    "is_even = lambda x: x % 2 == 0\n",
    "\n",
    "y = list(filter(is_even, x))\n",
    "\n",
    "print(\" input: \", x)\n",
    "print(\"output: \", y)"
   ]
  },
  {
   "cell_type": "markdown",
   "metadata": {
    "execution": {
     "iopub.execute_input": "2021-03-18T13:47:59.265498Z",
     "iopub.status.busy": "2021-03-18T13:47:59.264500Z",
     "iopub.status.idle": "2021-03-18T13:47:59.272495Z",
     "shell.execute_reply": "2021-03-18T13:47:59.270496Z",
     "shell.execute_reply.started": "2021-03-18T13:47:59.265498Z"
    }
   },
   "source": [
    "#### Esercizio\n",
    "Cosa succede se utilizzo `map` in combinazione con la lambda `is_even`?"
   ]
  },
  {
   "cell_type": "code",
   "execution_count": null,
   "metadata": {},
   "outputs": [],
   "source": []
  },
  {
   "cell_type": "markdown",
   "metadata": {
    "execution": {
     "iopub.execute_input": "2021-03-18T13:11:58.701456Z",
     "iopub.status.busy": "2021-03-18T13:11:58.700446Z",
     "iopub.status.idle": "2021-03-18T13:11:58.706447Z",
     "shell.execute_reply": "2021-03-18T13:11:58.705448Z",
     "shell.execute_reply.started": "2021-03-18T13:11:58.701456Z"
    }
   },
   "source": [
    "## Esercizi"
   ]
  },
  {
   "cell_type": "markdown",
   "metadata": {},
   "source": [
    "### Esercizio\n",
    "scrivi una funzione che restituisca il massimo tra tre numeri"
   ]
  },
  {
   "cell_type": "code",
   "execution_count": null,
   "metadata": {},
   "outputs": [],
   "source": []
  },
  {
   "cell_type": "markdown",
   "metadata": {},
   "source": [
    "### Esercizio\n",
    "scrivi una funzione per ribaltare una stringa (es. da \"casa\" a \"asac\")"
   ]
  },
  {
   "cell_type": "code",
   "execution_count": null,
   "metadata": {},
   "outputs": [],
   "source": []
  },
  {
   "cell_type": "markdown",
   "metadata": {
    "execution": {
     "iopub.execute_input": "2021-03-18T13:59:56.950398Z",
     "iopub.status.busy": "2021-03-18T13:59:56.950398Z",
     "iopub.status.idle": "2021-03-18T13:59:56.958360Z",
     "shell.execute_reply": "2021-03-18T13:59:56.956370Z",
     "shell.execute_reply.started": "2021-03-18T13:59:56.950398Z"
    }
   },
   "source": [
    "### Esercizio\n",
    "scrivi una funzione che prenda in input una lista e restituisca i valori unici contenuti nella lista"
   ]
  },
  {
   "cell_type": "code",
   "execution_count": null,
   "metadata": {},
   "outputs": [],
   "source": []
  },
  {
   "cell_type": "markdown",
   "metadata": {
    "execution": {
     "iopub.execute_input": "2021-03-24T15:33:46.674045Z",
     "iopub.status.busy": "2021-03-24T15:33:46.674045Z",
     "iopub.status.idle": "2021-03-24T15:33:46.680040Z",
     "shell.execute_reply": "2021-03-24T15:33:46.679040Z",
     "shell.execute_reply.started": "2021-03-24T15:33:46.674045Z"
    }
   },
   "source": [
    "## BONUS"
   ]
  },
  {
   "cell_type": "markdown",
   "metadata": {
    "execution": {
     "iopub.execute_input": "2021-03-18T12:18:58.473570Z",
     "iopub.status.busy": "2021-03-18T12:18:58.473570Z",
     "iopub.status.idle": "2021-03-18T12:18:58.482537Z",
     "shell.execute_reply": "2021-03-18T12:18:58.480537Z",
     "shell.execute_reply.started": "2021-03-18T12:18:58.473570Z"
    }
   },
   "source": [
    "### Esercizio\n",
    "scrivi una funzione che restituisca in output se una stringa è palindroma o no"
   ]
  },
  {
   "cell_type": "code",
   "execution_count": null,
   "metadata": {},
   "outputs": [],
   "source": []
  },
  {
   "cell_type": "markdown",
   "metadata": {
    "execution": {
     "iopub.execute_input": "2021-03-18T14:02:08.310156Z",
     "iopub.status.busy": "2021-03-18T14:02:08.310156Z",
     "iopub.status.idle": "2021-03-18T14:02:08.316119Z",
     "shell.execute_reply": "2021-03-18T14:02:08.315118Z",
     "shell.execute_reply.started": "2021-03-18T14:02:08.310156Z"
    }
   },
   "source": [
    "### Esercizio\n",
    "scrivi una funzione che prenda in input menu e vendite di una pizzeria e calcoli il ricavo totale"
   ]
  },
  {
   "cell_type": "code",
   "execution_count": null,
   "metadata": {},
   "outputs": [],
   "source": [
    "menu = dict(\n",
    "    margherita=6,\n",
    "    quattro_stagioni=7.5,\n",
    "    napoli=7,\n",
    "    bufala=6.5,\n",
    "    calzone=7, \n",
    "    vegetariana=8\n",
    ")\n",
    "\n",
    "sales = dict(\n",
    "    margherita=40,\n",
    "    quattro_stagioni=20,\n",
    "    napoli=15,\n",
    "    bufala=5,\n",
    "    calzone=2,\n",
    "    vegetariana=31\n",
    ")"
   ]
  },
  {
   "cell_type": "code",
   "execution_count": null,
   "metadata": {},
   "outputs": [],
   "source": []
  },
  {
   "cell_type": "markdown",
   "metadata": {
    "execution": {
     "iopub.execute_input": "2021-03-18T14:05:19.523192Z",
     "iopub.status.busy": "2021-03-18T14:05:19.522165Z",
     "iopub.status.idle": "2021-03-18T14:05:19.532157Z",
     "shell.execute_reply": "2021-03-18T14:05:19.530157Z",
     "shell.execute_reply.started": "2021-03-18T14:05:19.523192Z"
    }
   },
   "source": [
    "### Esercizio\n",
    "modifica la funzione scritta al punto precedente perchè _non consideri_ le vendite di calzoni nel calcolo del ricavo totale"
   ]
  },
  {
   "cell_type": "code",
   "execution_count": null,
   "metadata": {},
   "outputs": [],
   "source": []
  },
  {
   "cell_type": "markdown",
   "metadata": {},
   "source": [
    "### Esercizio\n",
    "scrivi una funzione che calcoli quale pizza sia più redditizia, dato il menu e le vendite precedenti"
   ]
  },
  {
   "cell_type": "code",
   "execution_count": null,
   "metadata": {},
   "outputs": [],
   "source": []
  }
 ],
 "metadata": {
  "kernelspec": {
   "display_name": ".venv-mimocko",
   "language": "python",
   "name": ".venv-mimocko"
  },
  "language_info": {
   "codemirror_mode": {
    "name": "ipython",
    "version": 3
   },
   "file_extension": ".py",
   "mimetype": "text/x-python",
   "name": "python",
   "nbconvert_exporter": "python",
   "pygments_lexer": "ipython3",
   "version": "3.8.5"
  }
 },
 "nbformat": 4,
 "nbformat_minor": 4
}
