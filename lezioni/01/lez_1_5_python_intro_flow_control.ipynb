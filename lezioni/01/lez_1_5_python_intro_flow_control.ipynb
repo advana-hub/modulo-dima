{
 "cells": [
  {
   "cell_type": "markdown",
   "metadata": {},
   "source": [
    "# Control flow\n",
    "\n",
    "- indentazione semantica: what's that?\n",
    "- [\\<TAB> vs 4 spazi](https://stackoverflow.blog/2017/06/15/developers-use-spaces-make-money-use-tabs/)"
   ]
  },
  {
   "cell_type": "markdown",
   "metadata": {},
   "source": [
    "## `if` statement"
   ]
  },
  {
   "cell_type": "markdown",
   "metadata": {
    "execution": {
     "iopub.execute_input": "2021-03-18T14:36:47.981781Z",
     "iopub.status.busy": "2021-03-18T14:36:47.981781Z",
     "iopub.status.idle": "2021-03-18T14:36:47.989783Z",
     "shell.execute_reply": "2021-03-18T14:36:47.987783Z",
     "shell.execute_reply.started": "2021-03-18T14:36:47.981781Z"
    }
   },
   "source": [
    "```\n",
    "if condition_1:\n",
    "    do_stuff_1\n",
    "elif condition_2:\n",
    "    do_stuff_2\n",
    "# ...\n",
    "else:\n",
    "    do_stuff_n\n",
    "```"
   ]
  },
  {
   "cell_type": "markdown",
   "metadata": {},
   "source": [
    "**Esempio**"
   ]
  },
  {
   "cell_type": "code",
   "execution_count": null,
   "metadata": {},
   "outputs": [],
   "source": [
    "x = 5\n",
    "\n",
    "if x > 5:\n",
    "    print(\"x è maggiore di 5\")\n",
    "elif x == 5:\n",
    "    print(\"x è proprio 5\")\n",
    "else:\n",
    "    print(\"x è minore di 5\")"
   ]
  },
  {
   "cell_type": "markdown",
   "metadata": {
    "execution": {
     "iopub.execute_input": "2021-03-18T14:37:23.364288Z",
     "iopub.status.busy": "2021-03-18T14:37:23.364288Z",
     "iopub.status.idle": "2021-03-18T14:37:23.370288Z",
     "shell.execute_reply": "2021-03-18T14:37:23.369288Z",
     "shell.execute_reply.started": "2021-03-18T14:37:23.364288Z"
    }
   },
   "source": [
    "## `for` loop\n",
    "\n",
    "```\n",
    "for variable in iterable:\n",
    "    do_stuff\n",
    "```"
   ]
  },
  {
   "cell_type": "markdown",
   "metadata": {
    "execution": {
     "iopub.execute_input": "2021-03-18T14:40:50.693306Z",
     "iopub.status.busy": "2021-03-18T14:40:50.692306Z",
     "iopub.status.idle": "2021-03-18T14:40:50.701308Z",
     "shell.execute_reply": "2021-03-18T14:40:50.699307Z",
     "shell.execute_reply.started": "2021-03-18T14:40:50.693306Z"
    }
   },
   "source": [
    "**Esempio**"
   ]
  },
  {
   "cell_type": "code",
   "execution_count": null,
   "metadata": {},
   "outputs": [],
   "source": [
    "for x in (1,2,3):\n",
    "    print(3 * x)"
   ]
  },
  {
   "cell_type": "markdown",
   "metadata": {},
   "source": [
    "## `while` loop\n",
    "\n",
    "```\n",
    "while condition:\n",
    "    do_stuff\n",
    "```\n"
   ]
  },
  {
   "cell_type": "markdown",
   "metadata": {
    "execution": {
     "iopub.execute_input": "2021-03-18T14:42:38.654683Z",
     "iopub.status.busy": "2021-03-18T14:42:38.654683Z",
     "iopub.status.idle": "2021-03-18T14:42:38.662684Z",
     "shell.execute_reply": "2021-03-18T14:42:38.660686Z",
     "shell.execute_reply.started": "2021-03-18T14:42:38.654683Z"
    }
   },
   "source": [
    "**Esempio**"
   ]
  },
  {
   "cell_type": "code",
   "execution_count": null,
   "metadata": {},
   "outputs": [],
   "source": [
    "x = 1\n",
    "\n",
    "print(x)\n",
    "\n",
    "while x < 10:\n",
    "    x = 2 * x\n",
    "    if x == 8:\n",
    "        print(\"x è 8, mi fermo\")\n",
    "        break\n",
    "    \n",
    "print(x)"
   ]
  },
  {
   "cell_type": "markdown",
   "metadata": {},
   "source": [
    "## Esercizi"
   ]
  },
  {
   "cell_type": "markdown",
   "metadata": {},
   "source": [
    "### Esercizio\n",
    "prova ad eseguire il seguente ciclo for"
   ]
  },
  {
   "cell_type": "code",
   "execution_count": null,
   "metadata": {},
   "outputs": [],
   "source": [
    "for x in [1, 2]:\n",
    "print(x)"
   ]
  },
  {
   "cell_type": "markdown",
   "metadata": {},
   "source": [
    "### Esercizio\n",
    "scrivi un codice che stampi tutti i numeri da 0 a 10 eccetto 3 e 6"
   ]
  },
  {
   "cell_type": "code",
   "execution_count": null,
   "metadata": {},
   "outputs": [],
   "source": []
  },
  {
   "cell_type": "markdown",
   "metadata": {
    "execution": {
     "iopub.execute_input": "2021-03-18T14:58:22.291778Z",
     "iopub.status.busy": "2021-03-18T14:58:22.291778Z",
     "iopub.status.idle": "2021-03-18T14:58:22.295773Z",
     "shell.execute_reply": "2021-03-18T14:58:22.294778Z",
     "shell.execute_reply.started": "2021-03-18T14:58:22.291778Z"
    }
   },
   "source": [
    "### Esercizio\n",
    "scrivi un codice che stampi a schermo la tabellina del 7. \n",
    "\n",
    "Esempio di output della prima riga: \n",
    "\n",
    "`7 x 1 = 7`"
   ]
  },
  {
   "cell_type": "code",
   "execution_count": null,
   "metadata": {},
   "outputs": [],
   "source": []
  },
  {
   "cell_type": "markdown",
   "metadata": {},
   "source": [
    "## Bonus"
   ]
  },
  {
   "cell_type": "markdown",
   "metadata": {},
   "source": [
    "### Esercizio\n",
    "scrivi un codice che stampi tutti i numeri di Fibonacci minori di 50"
   ]
  },
  {
   "cell_type": "code",
   "execution_count": null,
   "metadata": {},
   "outputs": [],
   "source": []
  },
  {
   "cell_type": "markdown",
   "metadata": {},
   "source": [
    "### Esercizio\n",
    "\n",
    "scrivi un codice che stampi a schermo un pattern del tipo 1, 22, 333, 444, ... fino al numero 21.\n",
    "\n",
    "Esempio di output delle prime tre righe:\n",
    "    \n",
    "```\n",
    "1\n",
    "22\n",
    "333\n",
    "```"
   ]
  },
  {
   "cell_type": "code",
   "execution_count": null,
   "metadata": {},
   "outputs": [],
   "source": []
  },
  {
   "cell_type": "markdown",
   "metadata": {},
   "source": [
    "### `try`, `except`, `pass`\n",
    "\n",
    "```\n",
    "try:\n",
    "    do_stuff\n",
    "except this_happen:\n",
    "    do_something_else\n",
    "```"
   ]
  },
  {
   "cell_type": "code",
   "execution_count": null,
   "metadata": {},
   "outputs": [],
   "source": [
    "x = 1\n",
    "y = 0\n",
    "\n",
    "try:\n",
    "    print(x/y)\n",
    "except ZeroDivisionError:\n",
    "    print(\"non posso dividere per 0...\")"
   ]
  },
  {
   "cell_type": "code",
   "execution_count": null,
   "metadata": {},
   "outputs": [],
   "source": []
  }
 ],
 "metadata": {
  "kernelspec": {
   "display_name": "Python 3",
   "language": "python",
   "name": "python3"
  },
  "language_info": {
   "codemirror_mode": {
    "name": "ipython",
    "version": 3
   },
   "file_extension": ".py",
   "mimetype": "text/x-python",
   "name": "python",
   "nbconvert_exporter": "python",
   "pygments_lexer": "ipython3",
   "version": "3.8.3"
  }
 },
 "nbformat": 4,
 "nbformat_minor": 4
}
