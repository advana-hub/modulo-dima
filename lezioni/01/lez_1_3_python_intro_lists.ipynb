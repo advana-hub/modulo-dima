{
 "cells": [
  {
   "cell_type": "markdown",
   "metadata": {},
   "source": [
    "# Lists"
   ]
  },
  {
   "cell_type": "markdown",
   "metadata": {},
   "source": [
    "## introduzione"
   ]
  },
  {
   "cell_type": "code",
   "execution_count": null,
   "metadata": {
    "ExecuteTime": {
     "end_time": "2021-03-15T09:49:11.227347Z",
     "start_time": "2021-03-15T09:49:11.223112Z"
    }
   },
   "outputs": [],
   "source": [
    "L = ['aaa', 254, True, None, 1.56, 'una stringa!', 1, 1, False, '1']"
   ]
  },
  {
   "cell_type": "code",
   "execution_count": null,
   "metadata": {
    "ExecuteTime": {
     "end_time": "2021-03-15T09:49:12.123344Z",
     "start_time": "2021-03-15T09:49:12.118343Z"
    }
   },
   "outputs": [],
   "source": [
    "print(L)"
   ]
  },
  {
   "cell_type": "markdown",
   "metadata": {},
   "source": [
    "## esercizio\n",
    "nella cella che segue provate a digitare\n",
    "\n",
    "```L.<tab>```"
   ]
  },
  {
   "cell_type": "code",
   "execution_count": null,
   "metadata": {},
   "outputs": [],
   "source": []
  },
  {
   "cell_type": "markdown",
   "metadata": {},
   "source": [
    "avrete visto alcuni metodi associati alla lista. Tra gli altri:\n",
    "+ ```append```\n",
    "+ ```count```\n",
    "+ ```index```\n",
    "+ ```remove```\n",
    "+ ```sort```\n",
    "+ ..."
   ]
  },
  {
   "cell_type": "markdown",
   "metadata": {},
   "source": [
    "### esercizio\n",
    "stampare il quinto elemento della lista"
   ]
  },
  {
   "cell_type": "code",
   "execution_count": null,
   "metadata": {},
   "outputs": [],
   "source": []
  },
  {
   "cell_type": "markdown",
   "metadata": {},
   "source": [
    "### esercizio\n",
    "stampare il primo e l'ultimo elemento della lista"
   ]
  },
  {
   "cell_type": "code",
   "execution_count": null,
   "metadata": {},
   "outputs": [],
   "source": []
  },
  {
   "cell_type": "markdown",
   "metadata": {},
   "source": [
    "### esercizio\n",
    "aggiungere il proprio nome in coda alla lista (*MEMO: ci sono almeno due metodi per farlo*)"
   ]
  },
  {
   "cell_type": "code",
   "execution_count": null,
   "metadata": {},
   "outputs": [],
   "source": []
  },
  {
   "cell_type": "markdown",
   "metadata": {},
   "source": [
    "### esercizio\n",
    "rimuovere la prima occorrenza del valore ```1```"
   ]
  },
  {
   "cell_type": "code",
   "execution_count": null,
   "metadata": {},
   "outputs": [],
   "source": []
  },
  {
   "cell_type": "markdown",
   "metadata": {},
   "source": [
    "### esercizio\n",
    "il numero ```1.56``` a che indice si trova?"
   ]
  },
  {
   "cell_type": "code",
   "execution_count": null,
   "metadata": {},
   "outputs": [],
   "source": []
  },
  {
   "cell_type": "markdown",
   "metadata": {},
   "source": [
    "### esercizio\n",
    "stampare la lunghezza della lista"
   ]
  },
  {
   "cell_type": "code",
   "execution_count": null,
   "metadata": {},
   "outputs": [],
   "source": []
  },
  {
   "cell_type": "markdown",
   "metadata": {},
   "source": [
    "### esercizio\n",
    "l'elemento ```'aaa'``` e` presente nella lista? e l'elemento ```1```?"
   ]
  },
  {
   "cell_type": "code",
   "execution_count": null,
   "metadata": {},
   "outputs": [],
   "source": []
  },
  {
   "cell_type": "markdown",
   "metadata": {
    "ExecuteTime": {
     "end_time": "2021-03-15T09:42:28.907931Z",
     "start_time": "2021-03-15T09:42:28.901932Z"
    }
   },
   "source": [
    "### esercizio \n",
    "modificare l'elemento in seconda posizione aggiungendo ```3.14```"
   ]
  },
  {
   "cell_type": "code",
   "execution_count": null,
   "metadata": {},
   "outputs": [],
   "source": []
  },
  {
   "cell_type": "markdown",
   "metadata": {},
   "source": [
    "## nesting"
   ]
  },
  {
   "cell_type": "code",
   "execution_count": null,
   "metadata": {
    "ExecuteTime": {
     "end_time": "2021-03-15T09:44:24.817025Z",
     "start_time": "2021-03-15T09:44:24.813023Z"
    }
   },
   "outputs": [],
   "source": [
    "nested_list = [\n",
    "    [1, 3], \n",
    "    [4, 99], \n",
    "    ['a', 1, 2, 3], \n",
    "    [[1, 2], 3], \n",
    "    'puff'\n",
    "]"
   ]
  },
  {
   "cell_type": "markdown",
   "metadata": {},
   "source": [
    "## BONUS"
   ]
  },
  {
   "cell_type": "markdown",
   "metadata": {},
   "source": [
    "### esercizio\n",
    "stampare il primo elemento della lista ```nested_list```"
   ]
  },
  {
   "cell_type": "code",
   "execution_count": null,
   "metadata": {},
   "outputs": [],
   "source": []
  },
  {
   "cell_type": "markdown",
   "metadata": {},
   "source": [
    "### esercizio\n",
    "stampare la lunghezza della lista ```nested_list```"
   ]
  },
  {
   "cell_type": "code",
   "execution_count": null,
   "metadata": {},
   "outputs": [],
   "source": []
  },
  {
   "cell_type": "markdown",
   "metadata": {},
   "source": [
    "### esercizio\n",
    "appendere il proprio nome in coda alla lista ```nested_list```"
   ]
  },
  {
   "cell_type": "code",
   "execution_count": null,
   "metadata": {},
   "outputs": [],
   "source": []
  },
  {
   "cell_type": "markdown",
   "metadata": {},
   "source": [
    "### esercizio\n",
    "stampa la lista `L = [3, 1, 2]` prima e dopo avere usato il metodo `sort`"
   ]
  },
  {
   "cell_type": "code",
   "execution_count": null,
   "metadata": {},
   "outputs": [],
   "source": []
  },
  {
   "cell_type": "markdown",
   "metadata": {},
   "source": [
    "+ ***list comprehensions***\n",
    "    + https://docs.python.org/3/tutorial/datastructures.html#list-comprehensions\n",
    "    + https://www.w3schools.com/python/python_lists_comprehension.asp\n",
    "    + https://realpython.com/list-comprehension-python/\n",
    "+ le funzioni ***map***, ***filter***, ***reduce***\n",
    "    + https://realpython.com/python-map-function/\n",
    "    + https://docs.python.org/3/library/functions.html#map\n",
    "    + https://realpython.com/lessons/filter-function-overview/\n",
    "    + https://realpython.com/python-reduce-function/"
   ]
  }
 ],
 "metadata": {
  "kernelspec": {
   "display_name": "Python 3",
   "language": "python",
   "name": "python3"
  },
  "language_info": {
   "codemirror_mode": {
    "name": "ipython",
    "version": 3
   },
   "file_extension": ".py",
   "mimetype": "text/x-python",
   "name": "python",
   "nbconvert_exporter": "python",
   "pygments_lexer": "ipython3",
   "version": "3.8.3"
  }
 },
 "nbformat": 4,
 "nbformat_minor": 4
}
