{
 "cells": [
  {
   "cell_type": "markdown",
   "metadata": {},
   "source": [
    "# Strings"
   ]
  },
  {
   "cell_type": "markdown",
   "metadata": {},
   "source": [
    "## Introduzione"
   ]
  },
  {
   "cell_type": "code",
   "execution_count": null,
   "metadata": {
    "ExecuteTime": {
     "end_time": "2021-03-15T09:19:54.846977Z",
     "start_time": "2021-03-15T09:19:54.842977Z"
    }
   },
   "outputs": [],
   "source": [
    "x = 'Lorem ipsum dolor sit amet, consectetur adipiscing elit, sed do eiusmod tempor incididunt ut labore et dolOre magna aliqua. Ut enim ad minim veniam, quis nostrud exercitation ullamco laboris nisi ut aliquip ex ea commodo consequat. Duis aute irure dolor in reprehenderit in voluptate velit esse cillum dolore eu fugiat nulla pariatur. Excepteur sint occaecat cupidatat non proident, sunt in culpa qui officia deserunt mollit anim id est laborum.'"
   ]
  },
  {
   "cell_type": "code",
   "execution_count": null,
   "metadata": {
    "ExecuteTime": {
     "end_time": "2021-03-15T09:16:02.431563Z",
     "start_time": "2021-03-15T09:16:02.425560Z"
    }
   },
   "outputs": [],
   "source": [
    "print(x)"
   ]
  },
  {
   "cell_type": "markdown",
   "metadata": {},
   "source": [
    "### esercizio:\n",
    "nella cella che segue provate a digitare \n",
    "\n",
    "```x.<tab>```"
   ]
  },
  {
   "cell_type": "code",
   "execution_count": null,
   "metadata": {},
   "outputs": [],
   "source": []
  },
  {
   "cell_type": "markdown",
   "metadata": {},
   "source": [
    "avrete visto alcuni metodi associati alla stringa (delle _funzioni_ accessibili da un oggetto di tipo \"stringa\" che possono operare sull'oggetto stesso). Tra gli altri:\n",
    "+ ```count```\n",
    "+ ```find```\n",
    "+ ```lower```\n",
    "+ ```replace```\n",
    "+ ..."
   ]
  },
  {
   "cell_type": "markdown",
   "metadata": {},
   "source": [
    "### esercizio\n",
    "Trovare quante volte compare il carattere nella stringa ```x```:\n",
    "+ ```s```"
   ]
  },
  {
   "cell_type": "code",
   "execution_count": null,
   "metadata": {},
   "outputs": [],
   "source": []
  },
  {
   "cell_type": "markdown",
   "metadata": {},
   "source": [
    "### esercizio\n",
    "quante volte nella stringa ```x``` compare la sotto-stringa:\n",
    "+ ```lor``` (sia maiuscola che minuscola)"
   ]
  },
  {
   "cell_type": "code",
   "execution_count": null,
   "metadata": {},
   "outputs": [],
   "source": []
  },
  {
   "cell_type": "markdown",
   "metadata": {},
   "source": [
    "### esercizio\n",
    "trovare l'indice in cui si trova la sotto-stringa ```amet```"
   ]
  },
  {
   "cell_type": "code",
   "execution_count": null,
   "metadata": {},
   "outputs": [],
   "source": []
  },
  {
   "cell_type": "markdown",
   "metadata": {},
   "source": [
    "### esercizio\n",
    "sostituire tutte le ```a``` con ```e```"
   ]
  },
  {
   "cell_type": "code",
   "execution_count": null,
   "metadata": {},
   "outputs": [],
   "source": []
  },
  {
   "cell_type": "markdown",
   "metadata": {},
   "source": [
    "## slicing"
   ]
  },
  {
   "cell_type": "code",
   "execution_count": null,
   "metadata": {
    "ExecuteTime": {
     "end_time": "2021-03-15T09:39:06.052790Z",
     "start_time": "2021-03-15T09:39:06.045790Z"
    }
   },
   "outputs": [],
   "source": [
    "x[22:26]"
   ]
  },
  {
   "cell_type": "markdown",
   "metadata": {},
   "source": [
    "### esercizio\n",
    "stampare i primi tre caratteri della stringa ```x```."
   ]
  },
  {
   "cell_type": "code",
   "execution_count": null,
   "metadata": {},
   "outputs": [],
   "source": []
  },
  {
   "cell_type": "markdown",
   "metadata": {},
   "source": [
    "### esercizio\n",
    "quali sono gli ultimi tre caratteri della stringa ```x```?"
   ]
  },
  {
   "cell_type": "code",
   "execution_count": null,
   "metadata": {},
   "outputs": [],
   "source": []
  },
  {
   "cell_type": "markdown",
   "metadata": {},
   "source": [
    "### esercizio\n",
    "quali sono i caratteri in posizione 2, 15 e 100?"
   ]
  },
  {
   "cell_type": "code",
   "execution_count": null,
   "metadata": {},
   "outputs": [],
   "source": []
  },
  {
   "cell_type": "markdown",
   "metadata": {},
   "source": [
    "### esercizio\n",
    "e che stringa abbiamo dalla posizione 312 alla posizione 318?"
   ]
  },
  {
   "cell_type": "code",
   "execution_count": null,
   "metadata": {},
   "outputs": [],
   "source": []
  },
  {
   "cell_type": "markdown",
   "metadata": {
    "execution": {
     "iopub.execute_input": "2021-03-18T16:20:19.289922Z",
     "iopub.status.busy": "2021-03-18T16:20:19.287923Z",
     "iopub.status.idle": "2021-03-18T16:20:19.315927Z",
     "shell.execute_reply": "2021-03-18T16:20:19.313923Z",
     "shell.execute_reply.started": "2021-03-18T16:20:19.288921Z"
    }
   },
   "source": [
    "### esercizio\n",
    "prova a sommare due stringhe"
   ]
  },
  {
   "cell_type": "code",
   "execution_count": null,
   "metadata": {},
   "outputs": [],
   "source": []
  },
  {
   "cell_type": "markdown",
   "metadata": {},
   "source": [
    "## BONUS"
   ]
  },
  {
   "cell_type": "markdown",
   "metadata": {
    "execution": {
     "iopub.execute_input": "2021-03-26T09:20:02.524204Z",
     "iopub.status.busy": "2021-03-26T09:20:02.524204Z",
     "iopub.status.idle": "2021-03-26T09:20:02.530203Z",
     "shell.execute_reply": "2021-03-26T09:20:02.529205Z",
     "shell.execute_reply.started": "2021-03-26T09:20:02.524204Z"
    }
   },
   "source": [
    "### Esercizio\n",
    "scrivi un codice che controlli se una stringa inizia con `'data'`"
   ]
  },
  {
   "cell_type": "code",
   "execution_count": null,
   "metadata": {},
   "outputs": [],
   "source": []
  },
  {
   "cell_type": "markdown",
   "metadata": {
    "execution": {
     "iopub.execute_input": "2021-03-26T09:20:16.513337Z",
     "iopub.status.busy": "2021-03-26T09:20:16.513337Z",
     "iopub.status.idle": "2021-03-26T09:20:16.517339Z",
     "shell.execute_reply": "2021-03-26T09:20:16.516342Z",
     "shell.execute_reply.started": "2021-03-26T09:20:16.513337Z"
    }
   },
   "source": [
    "### Approfondimento"
   ]
  },
  {
   "cell_type": "markdown",
   "metadata": {},
   "source": [
    "+ multi-line string (stringhe con degli \"a capo\")\n",
    "+ caratteri speciali\n",
    "    + stringhe contenenti \"a capo\", \"backslash\", \"tabulazioni\"\n",
    "+ f-string\n",
    "    + https://docs.python.org/3/tutorial/inputoutput.html\n",
    "    + https://realpython.com/python-f-strings/\n",
    "+ regex\n",
    "    + https://realpython.com/regex-python/\n",
    "    + https://docs.python.org/3/library/re.html\n",
    "    + https://www.w3schools.com/python/python_regex.asp"
   ]
  }
 ],
 "metadata": {
  "kernelspec": {
   "display_name": "Python 3",
   "language": "python",
   "name": "python3"
  },
  "language_info": {
   "codemirror_mode": {
    "name": "ipython",
    "version": 3
   },
   "file_extension": ".py",
   "mimetype": "text/x-python",
   "name": "python",
   "nbconvert_exporter": "python",
   "pygments_lexer": "ipython3",
   "version": "3.8.3"
  }
 },
 "nbformat": 4,
 "nbformat_minor": 4
}
