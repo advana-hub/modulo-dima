{
 "cells": [
  {
   "cell_type": "markdown",
   "metadata": {},
   "source": [
    "# Matplotlib\n",
    "`matplotlib` è una library di data visualization molto completa e facile da usare. Tramite `matplotlib` è possibile realizzare grafici chiari, informativi e precisi; guarda ad questi [esempi](https://matplotlib.org/stable/gallery/index.html) per fartene un'idea. La library è sviluppata per cooperare semplicemente con `numpy`, `pandas` e le altre librerie di calcolo scientifico/data science che vedremo nel corso."
   ]
  },
  {
   "cell_type": "markdown",
   "metadata": {},
   "source": [
    "## Esercizi\n",
    "Questi esercizi ci permetteranno di familiarizzare con i fondamenti della library. Se non sei sicuro della sintassi, fai riferimento al [Matplotlib cheatsheet](https://github.com/matplotlib/cheatsheets).\n",
    "\n",
    "### Esercizio\n",
    "Importa la library e verificane la versione."
   ]
  },
  {
   "cell_type": "code",
   "execution_count": null,
   "metadata": {},
   "outputs": [],
   "source": [
    "import matplotlib as mpl\n",
    "print(mpl.__version__)"
   ]
  },
  {
   "cell_type": "markdown",
   "metadata": {},
   "source": [
    "### Esercizio\n",
    "Uno dei moduli più comuni di `matplotlib` è `pyplot` (talmente comune da avere una sua abbreviazione standard a parte). Questo modulo, dall'API ispirata a MATLAB, è al centro della realizzazione di tutte le principali tipologie di plot. Vediamo un esempio base, rappresentiamo una linea che unisca i punti di coordinate `(1, 2)` e `(3, 4)`."
   ]
  },
  {
   "cell_type": "code",
   "execution_count": null,
   "metadata": {},
   "outputs": [],
   "source": [
    "import matplotlib.pyplot as plt\n",
    "\n",
    "x = [1, 3]\n",
    "y = [2, 4]\n",
    "\n",
    "plt.plot(x, y);"
   ]
  },
  {
   "cell_type": "markdown",
   "metadata": {},
   "source": [
    "### Esercizio\n",
    "Sfrutta le tue conoscenze di `numpy` e grafica l'andamento di $f(x) = sin(x)$ campionando 30 valori di $x$ nell'intervallo $[-\\pi, \\pi]$."
   ]
  },
  {
   "cell_type": "code",
   "execution_count": null,
   "metadata": {},
   "outputs": [],
   "source": []
  },
  {
   "cell_type": "markdown",
   "metadata": {},
   "source": [
    "### Esercizio\n",
    "Prova a ripetere l'esercizio precedente variando marker, stile e colore del plot. Per approfondire [link](https://matplotlib.org/stable/api/markers_api.html), [link](https://matplotlib.org/stable/api/_as_gen/matplotlib.lines.Line2D.html#matplotlib.lines.Line2D.set_linestyle), [link](https://matplotlib.org/stable/gallery/color/named_colors.html)."
   ]
  },
  {
   "cell_type": "code",
   "execution_count": null,
   "metadata": {},
   "outputs": [],
   "source": []
  },
  {
   "cell_type": "markdown",
   "metadata": {},
   "source": [
    "### Esercizio\n",
    "Rappresenta sullo stesso piano cartesiano, tramite [scatter plot](https://matplotlib.org/stable/api/_as_gen/matplotlib.pyplot.scatter.html), il risultato del campionamento ($n$ volte) di due variabili aleatorie:\n",
    "* $x \\sim \\mathcal{N}(0, 5)$\n",
    "* $y \\sim \\mathcal{N}(0, 5)$\n",
    "\n",
    "prova per diversi valori di $n$."
   ]
  },
  {
   "cell_type": "code",
   "execution_count": null,
   "metadata": {},
   "outputs": [],
   "source": []
  },
  {
   "cell_type": "markdown",
   "metadata": {},
   "source": [
    "### Esercizio\n",
    "Ripeti l'esercizio precedente, ma varia la casualmente dimensione di ogni marker, variando tra *1pt* e *200pt*."
   ]
  },
  {
   "cell_type": "code",
   "execution_count": null,
   "metadata": {},
   "outputs": [],
   "source": []
  },
  {
   "cell_type": "markdown",
   "metadata": {},
   "source": [
    "### Esercizio (bonus)\n",
    "Sfruttando quanto appreso sino a questo momento, rappresenta sullo stesso piano cartesiano le seguenti due classi di punti.\n",
    "* $\\mathbf{p}_i \\sim \\mathcal{N}(\\mu, \\Sigma)$ con $\\mu = [0, 0]^T$ e $\\Sigma = \\begin{bmatrix}\n",
    "1 & 0  \\\\\n",
    "0 & 1 \n",
    "\\end{bmatrix}$\n",
    "\n",
    "* $\\mathbf{p'}_i \\sim \\mathcal{N}(\\mu, \\Sigma)$ con $\\mu = [5, 5]^T$ e $\\Sigma = \\begin{bmatrix}\n",
    "2 & 0  \\\\\n",
    "0 & 2 \n",
    "\\end{bmatrix}$\n",
    "\n",
    "Distingui le due classi per colore e/o marker."
   ]
  },
  {
   "cell_type": "code",
   "execution_count": null,
   "metadata": {},
   "outputs": [],
   "source": []
  },
  {
   "cell_type": "markdown",
   "metadata": {},
   "source": [
    "### Esercizio\n",
    "`matplotlib` può essere utilizzato per realizzare plot degni di una pubblicazione scientifica di pregio, vediamo un esempio completo in un caso reale. Andiamo a graficare i dati dell'evento *GW150914* registrati al LIGO in data *14 Settembre 2015 alle ore 09:50:45 UTC*, evento passato alla storia per essere stata la prima registrazione confermata del passaggio di un'onda gravitazionale. I dati originali, campionati a *16384 Hz* sono disponibili a questo [link](https://www.gw-openscience.org/events/GW150914/). Per comodità di visualizzazione, noi ne utilizzeremo una versione sottocampionata a *546 Hz*. Oltre al dato grezzo registrato dall'inteferometro, abbiamo anche a disposizione il profilo dell'onda gravitazionale ottenuto tramite il modello fisico.\n",
    "* Carica il contenuto di `'data/GW150914-observed-546Hz.csv'` ed assegnalo alla variabile `data`.\n",
    "* Carica il contenuto di `'data/GW150914-waveform.csv'` ed assegnalo alla variabile `model`.\n",
    "* Crea una figura specificandone dimensione e *dpi* (vedi [link](https://matplotlib.org/stable/api/_as_gen/matplotlib.pyplot.figure.html)).\n",
    "* Rappresenta il contenuto dei due file sullo stesso piano cartesiano, con il tempo come variabile indipendente.\n",
    "* Distingui i due contributi per colore e marker.\n",
    "* Aggiungi una legenda che chiarisca ulteriormente il contenuto del plot (vedi [link](https://matplotlib.org/stable/api/_as_gen/matplotlib.pyplot.legend.html)).\n",
    "* Dai un titolo che sia parlante rispetto al contenuto.\n",
    "* Assegna agli assi un'etichetta che rifletta il nome delle colonne (vedi [link](https://matplotlib.org/stable/api/_as_gen/matplotlib.pyplot.xlabel.html), [link](https://matplotlib.org/stable/api/_as_gen/matplotlib.pyplot.ylabel.html)).\n",
    "* Fai riferimento al [cheatsheet](https://github.com/matplotlib/cheatsheets/blob/master/cheatsheets-1.png) per *arricchire* il plot di altre informazioni che ritieni possano chiarirne il contenuto.\n",
    "* Salva l'immagine così ottenuta come *pdf*."
   ]
  },
  {
   "cell_type": "code",
   "execution_count": null,
   "metadata": {},
   "outputs": [],
   "source": []
  },
  {
   "cell_type": "markdown",
   "metadata": {},
   "source": [
    "### Esercizio\n",
    "Un altro tipo di plot molto diffuso, è il diagramma a barre ([*bar plot*](https://www.tutorialspoint.com/matplotlib/matplotlib_bar_plot.htm)). Al fine di impratichirci con questa visualizzazione, andiamo a caricare in memoria la tabella relativa ai dati degli studenti, osservata nel precedente laboratorio.\n",
    "* Estrai la colonna `'age'` e conta il numero di occorrenze (frequenze assolute) per ciascun valore riportato.\n",
    "* Rappresenta tale informazione in un grafico a barre, riportante i valori unici crescenti di età in ascissa, ed il numero relativo di occorrenze in ordinata.\n",
    "* Correda il grafico di titolo ed appropriate etichette sugli assi."
   ]
  },
  {
   "cell_type": "code",
   "execution_count": null,
   "metadata": {},
   "outputs": [],
   "source": []
  },
  {
   "cell_type": "markdown",
   "metadata": {},
   "source": [
    "### Esercizio\n",
    "`matplotlib` permette di gestire semplicemente plot multi-pannello (*subplot*). Ripeti l'esercizio precedente, questa volta rappresentando in due plot affiancati orizzontalmente, le frequenze assolute delle età degli studenti, per sesso (vedi [link](https://matplotlib.org/stable/api/_as_gen/matplotlib.pyplot.subplots.html)). Correda ogni pannello di un titolo parlante rispetto al suo contenuto.\n",
    "\n",
    "**NB:** la libray di default permette che plot multi-pannello abbiano gli assi con estremi diversi. Tuttavia, al fine di garantire la corretta leggibilità del grafico, sarà necessario standardizzarli manualmente (vedi [link](https://matplotlib.org/stable/api/_as_gen/matplotlib.axes.Axes.set_ylim.html), [link](https://matplotlib.org/stable/api/_as_gen/matplotlib.axes.Axes.set_xlim.html))."
   ]
  },
  {
   "cell_type": "code",
   "execution_count": null,
   "metadata": {},
   "outputs": [],
   "source": []
  },
  {
   "cell_type": "markdown",
   "metadata": {},
   "source": [
    "### Esercizio (bonus)\n",
    "Ripeti l'esercizio precedente, questa volta distinguendo con due colori diversi il numero relativo di maschi e di femmine nello stesso piano cartesiano. Correda il plot di una legenda. Puoi seguire questo [esempio](https://matplotlib.org/stable/gallery/lines_bars_and_markers/bar_stacked.html)."
   ]
  },
  {
   "cell_type": "code",
   "execution_count": null,
   "metadata": {},
   "outputs": [],
   "source": []
  },
  {
   "cell_type": "code",
   "execution_count": null,
   "metadata": {},
   "outputs": [],
   "source": []
  },
  {
   "cell_type": "markdown",
   "metadata": {},
   "source": [
    "### Esercizio\n",
    "`matplotlib` può essere usato anche per visualizzare immagini e/o fotografie. Prova ad esempio a caricare l'immagine contenuta in `data/cat.jpg` assegnandone il contenuto alla variabile `img` (vedi [link](https://matplotlib.org/stable/tutorials/introductory/images.html)). Di che tipo è `img`? Che dimensione ha?\n",
    "\n",
    "Visualizza poi la fotografia (vedi [link](https://matplotlib.org/stable/api/_as_gen/matplotlib.pyplot.imshow.html))."
   ]
  },
  {
   "cell_type": "code",
   "execution_count": null,
   "metadata": {},
   "outputs": [],
   "source": []
  },
  {
   "cell_type": "markdown",
   "metadata": {},
   "source": [
    "### Esercizio\n",
    "Un concetto sul quale ci soffermeremo a lungo durante il corso è quello dell'[esplorazione](https://en.wikipedia.org/wiki/Exploratory_data_analysis) dei dati in nostro possesso. In questo passo, preliminare ad ogni reale use case, ci ritroveremo spesso a chiederci se due variabili siano tra esse *correlate*. `matplotlib` può aiutarci ad investigare in questa direzione, anche se solo maniera visuale.\n",
    "\n",
    "Prendendo come riferimento il dataset degli studenti, calcola la matrice di correlazione tra i voti e, sfruttando quanto appreso, visualizzala graficamente. Per approfondire [link](https://matplotlib.org/stable/api/_as_gen/matplotlib.pyplot.yticks.html), [link](https://matplotlib.org/stable/api/_as_gen/matplotlib.pyplot.xticks.html), [link](https://matplotlib.org/stable/api/_as_gen/matplotlib.pyplot.colorbar.html)."
   ]
  },
  {
   "cell_type": "code",
   "execution_count": null,
   "metadata": {},
   "outputs": [],
   "source": []
  },
  {
   "cell_type": "markdown",
   "metadata": {},
   "source": [
    "### Esercizio (bonus)\n",
    "Dall'esercizio predecedente, identifica la coppia di variabili diverse con correlazione maggiore. Come potresti proseguirne l'ispezione visiva?"
   ]
  },
  {
   "cell_type": "code",
   "execution_count": null,
   "metadata": {},
   "outputs": [],
   "source": []
  },
  {
   "cell_type": "markdown",
   "metadata": {},
   "source": [
    "### Esercizio (bonus)\n",
    "Sfrutta quanto hai imparato per visualizzare l'andamento di $$f(x,y) = \\sin(x) + \\cos(10 + yx)\\cdot\\cos(x)$$ con $x$ ed $y$ che variano nell'intervallo $[0, 5]$. Cosa succede al variare del valore del keyword argument `interpolation`? Per approfondire [link](https://numpy.org/doc/stable/reference/generated/numpy.meshgrid.html), [link](https://jakevdp.github.io/PythonDataScienceHandbook/04.04-density-and-contour-plots.html)."
   ]
  },
  {
   "cell_type": "code",
   "execution_count": null,
   "metadata": {},
   "outputs": [],
   "source": []
  },
  {
   "cell_type": "markdown",
   "metadata": {},
   "source": [
    "# Altre risorse utili\n",
    "\n",
    "* `pandas` ha un modulo di visualizzazione basato su `matplotlib` che può risultare utile in fase di data exploration. Per approfondire [link](https://pandas.pydata.org/docs/user_guide/visualization.html).\n",
    "* `seaborn` è un'altra (delle tante) library di data visualization di Python. Molto ben integrata con `pandas`, e basata su `matplotlib`, può spesso essere utile per creare velocemente plot accattivanti. Per approfondire [link](https://seaborn.pydata.org/examples/index.html)."
   ]
  }
 ],
 "metadata": {
  "kernelspec": {
   "display_name": "Python 3",
   "language": "python",
   "name": "python3"
  },
  "language_info": {
   "codemirror_mode": {
    "name": "ipython",
    "version": 3
   },
   "file_extension": ".py",
   "mimetype": "text/x-python",
   "name": "python",
   "nbconvert_exporter": "python",
   "pygments_lexer": "ipython3",
   "version": "3.8.3"
  }
 },
 "nbformat": 4,
 "nbformat_minor": 4
}
