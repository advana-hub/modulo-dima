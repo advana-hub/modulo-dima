{
 "cells": [
  {
   "cell_type": "code",
   "execution_count": null,
   "id": "inappropriate-hypothesis",
   "metadata": {
    "tags": []
   },
   "outputs": [],
   "source": [
    "import numpy as np\n",
    "import pandas as pd\n",
    "from datetime import datetime"
   ]
  },
  {
   "cell_type": "markdown",
   "id": "64293cb6-8104-4376-9173-fef2df823cca",
   "metadata": {},
   "source": [
    "**<font color='orange'>eseguire questo notebook da Jupyter Notebook e _non_ da Jupyter Lab</font>**"
   ]
  },
  {
   "cell_type": "markdown",
   "id": "be206a2d-353b-4b4c-b6c9-0a966a2c0fe8",
   "metadata": {},
   "source": [
    "# Use case reale: `MiMocko` 🛵\n",
    "\n",
    "Il business vuole provare a capire quali siano le abitudini di viaggio degli utenti.\n",
    "\n",
    "Carichiamo il dataset dei viaggi."
   ]
  },
  {
   "cell_type": "code",
   "execution_count": null,
   "id": "c876920a-56f6-4e76-ae76-de95d15d98ea",
   "metadata": {
    "tags": []
   },
   "outputs": [],
   "source": [
    "path = '../../../data'"
   ]
  },
  {
   "cell_type": "code",
   "execution_count": null,
   "id": "638b0e48-9c64-4171-8ecf-1320f3006f0e",
   "metadata": {
    "tags": []
   },
   "outputs": [],
   "source": [
    "viaggi = pd.read_csv(\n",
    "    f'{path}/viaggi.csv',\n",
    "    sep='*',\n",
    "    decimal=','\n",
    ")\n",
    "viaggi.head(2)"
   ]
  },
  {
   "cell_type": "markdown",
   "id": "fd1113ff-0a62-461a-a0dd-f06d1b286e98",
   "metadata": {},
   "source": [
    "## Estraiamo le features di interesse\n",
    "La nostra analisi mira a capire se esistano dei pattern di utilizzo a seconda delle ore del giorno e del giorno della settimana. In quale colonna è contenuta questa informazione?"
   ]
  },
  {
   "cell_type": "code",
   "execution_count": null,
   "id": "cba79c74-e728-4faf-b614-a97d957d14f4",
   "metadata": {},
   "outputs": [],
   "source": [
    "columns = ['idUtente', 'timestampRitiro']\n",
    "data = viaggi[columns]\n",
    "data.head()"
   ]
  },
  {
   "cell_type": "markdown",
   "id": "67bcb8cc-4462-4331-b0f1-61ef17e4025e",
   "metadata": {},
   "source": [
    "Dalla colonna `timestampRitiro` è possibile estrarre le feature di interesse, ovvero:\n",
    "* giorno della settimana\n",
    "* fascia oraria\n",
    "\n",
    "Il timestamp di ritiro è in realtà una lista di più valori, iniziamo calcolando il timestamp medio per ogni viaggio."
   ]
  },
  {
   "cell_type": "code",
   "execution_count": null,
   "id": "73f0ed77-b3d4-4246-9b46-34117aca0cf0",
   "metadata": {},
   "outputs": [],
   "source": [
    "data.loc[:, 'timestampRitiro'] = data['timestampRitiro'].apply(lambda x: datetime.fromtimestamp(np.mean(list(map(lambda t: pd.to_datetime(t).timestamp(), x.replace('[', '').replace(']', '').replace(\"'\",'').split(\", \"))))))"
   ]
  },
  {
   "cell_type": "markdown",
   "id": "8ea8a241-f872-4cce-991c-78400c5de325",
   "metadata": {},
   "source": [
    "Procediamo quindi con l'estrazione delle feature rilevanti."
   ]
  },
  {
   "cell_type": "code",
   "execution_count": null,
   "id": "505636be-527b-4073-96ed-bc8f98ea6e31",
   "metadata": {},
   "outputs": [],
   "source": [
    "data.loc[:, 'isoWeekDay'] = data['timestampRitiro'].apply(lambda x: x.isoweekday())\n",
    "data.loc[:, 'hour'] = data['timestampRitiro'].apply(lambda x: x.hour)"
   ]
  },
  {
   "cell_type": "code",
   "execution_count": null,
   "id": "5e6e5b23-2c76-4436-a230-6c3a0e746579",
   "metadata": {},
   "outputs": [],
   "source": [
    "data.head()"
   ]
  },
  {
   "cell_type": "markdown",
   "id": "9569c608-65d7-447a-a803-b3a79536187b",
   "metadata": {},
   "source": [
    "Siamo interessati alle abitudini degli utenti, proviamo a valutare per ciascuno di essi, il numero di ritiri per ogni ora/giorno della settimana."
   ]
  },
  {
   "cell_type": "code",
   "execution_count": null,
   "id": "aefa6402-6526-494e-b306-b9db7c84f9b6",
   "metadata": {},
   "outputs": [],
   "source": [
    "df = data.groupby(['idUtente', 'isoWeekDay', 'hour'])['timestampRitiro'].count().reset_index()\n",
    "df"
   ]
  },
  {
   "cell_type": "markdown",
   "id": "a2f3550a-71cb-48e4-b881-5baf657f962e",
   "metadata": {},
   "source": [
    "Possiamo ottenere una versione _estesa_ della tabella tramite _pivoting_."
   ]
  },
  {
   "cell_type": "code",
   "execution_count": null,
   "id": "0750fd0a-853e-4aa4-bb78-56b214d71016",
   "metadata": {},
   "outputs": [],
   "source": [
    "X = df.pivot_table(index='idUtente', columns=['isoWeekDay', 'hour'], values='timestampRitiro').fillna(0).astype(int)\n",
    "X.columns = list(map(lambda x: f'Day{x[0]}-H{x[1]}', X.columns))"
   ]
  },
  {
   "cell_type": "code",
   "execution_count": null,
   "id": "c8d1c2d6-83f0-4efc-aa51-b487fd0c184c",
   "metadata": {},
   "outputs": [],
   "source": [
    "X.head()"
   ]
  },
  {
   "cell_type": "markdown",
   "id": "b1a85a08-ba7e-45d8-b473-2f706affad74",
   "metadata": {},
   "source": [
    "## Dimensionality reduction\n",
    "Sarebbe bello poter visualizzare gli utenti in uno scatter plot, ma il dato ottenuto è ad alta dimensionalità e non è quindi possibile.\n",
    "\n",
    "Al fine di visualizzarlo possiamo procedere alla riduzione di dimensionalità tramite Principal Component Analysis ([PCA](https://scikit-learn.org/stable/modules/generated/sklearn.decomposition.PCA.html#sklearn.decomposition.PCA)). Questa tecnica ci permette di proiettare dataset ad alta dimensionalità, in _poche_ dimensioni (ad esempio 2).\n",
    "\n",
    "Per maggiori dettagli su questa tecnica: [link](https://sebastianraschka.com/Articles/2015_pca_in_3_steps.html)."
   ]
  },
  {
   "cell_type": "code",
   "execution_count": null,
   "id": "cf0e6b6d-e97f-48b1-868b-d2ea254ab768",
   "metadata": {},
   "outputs": [],
   "source": [
    "from IPython.core.display import HTML\n",
    "import matplotlib.pyplot as plt\n",
    "from sklearn.decomposition import PCA\n",
    "from sklearn.pipeline import Pipeline\n",
    "from sklearn.preprocessing import StandardScaler\n",
    "from sklearn.utils import estimator_html_repr"
   ]
  },
  {
   "cell_type": "markdown",
   "id": "e483cbc5",
   "metadata": {},
   "source": [
    "Prima di procedere alla proiezione dei dati tramite PCA, è buona norma standardizzare i dati. Fortunatamente scikit-learn ci mette a disposizione uno [strumento potente](https://scikit-learn.org/stable/modules/generated/sklearn.pipeline.Pipeline.html) che serve a costruire _sequenze_ di operazioni. Vediamo come realizzare quindi una sequenza di due step:\n",
    "1. Scaling delle features\n",
    "2. Riduzione di dimensionalità"
   ]
  },
  {
   "cell_type": "code",
   "execution_count": null,
   "id": "3b6469a8-adee-4481-9a98-de3a2f4f1d15",
   "metadata": {},
   "outputs": [],
   "source": [
    "pipe = Pipeline([('scaler', StandardScaler()),\n",
    "                 ('decomposition', PCA(n_components=3))])\n",
    "\n",
    "HTML(estimator_html_repr(pipe))"
   ]
  },
  {
   "cell_type": "code",
   "execution_count": null,
   "id": "41adb183-0d0f-470f-8e5c-686c73985254",
   "metadata": {},
   "outputs": [],
   "source": [
    "X_r = pipe.fit_transform(X)"
   ]
  },
  {
   "cell_type": "markdown",
   "id": "028f4a6a-e638-43f5-8484-bb043d8a1e38",
   "metadata": {},
   "source": [
    "Visualizziamo prima i dati in 2D."
   ]
  },
  {
   "cell_type": "code",
   "execution_count": null,
   "id": "ca635bdd-786b-4087-92cc-531551605f4c",
   "metadata": {},
   "outputs": [],
   "source": [
    "plt.plot(X_r[:,0], X_r[:,1], 'o')\n",
    "plt.xlabel(r'$x_0$')\n",
    "plt.ylabel(r'$x_1$');"
   ]
  },
  {
   "cell_type": "markdown",
   "id": "9b4ebf8a-55e9-44e5-bf42-52a48d4029e4",
   "metadata": {},
   "source": [
    "Cosa osserviamo?\n",
    "\n",
    "Tentiamo la stessa visualizzazione anche in 3D, anche se non sempre è d'aiuto."
   ]
  },
  {
   "cell_type": "code",
   "execution_count": null,
   "id": "0030d5ab-3f32-4358-989d-158f22a1b293",
   "metadata": {
    "tags": []
   },
   "outputs": [],
   "source": [
    "%matplotlib widget\n",
    "\n",
    "fig = plt.figure(dpi=100)\n",
    "ax = fig.add_subplot(projection='3d')\n",
    "\n",
    "ax.scatter(X_r[:,0], X_r[:,1], X_r[:, 2]);"
   ]
  },
  {
   "cell_type": "markdown",
   "id": "ff286450",
   "metadata": {},
   "source": [
    "Cosa possiamo concludere?\n",
    "\n",
    "## Clustering\n",
    "A quanto pare, il nostro dataset è suddiviso in almeno 5 diversi gruppi di utenti, ovvero di _cluster_. La _cluster analysis_ è sicuramente una delle aree più affascinanti nell'ambito dell'unsupervised learning. Un ottimo punto di partenza per iniziare ad approfondire l'argomento è la [guida](https://scikit-learn.org/stable/modules/clustering.html) di scikit-learn.\n",
    "\n",
    "Il nostro primo approccio, sarà quello di raggruppare gli utenti usando un semplice [K-means](https://scikit-learn.org/stable/modules/generated/sklearn.cluster.KMeans.html#sklearn.cluster.KMeans). Questa tecnica, basata su centroidi, metodo ricerca un numero fissato di cluster nel dataset, cercando di aggregare punti _vicini_ per distanza Euclidea.\n",
    "\n",
    "Gli approcci basati su distanza Euclidea tendono a funzionare peggio in presenza di dati ad alta dimensionalità, tale fenomeno è noto come [_curse of dimensionality_](https://en.wikipedia.org/wiki/Curse_of_dimensionality). Per cercare di _mitigare_ tale effetto, possiamo nuovamente scegliere di usare PCA (con un bassi numero arbitrario di componenti) come step di preprocessing all'algorimo di clustering vero e proprio.\n",
    "\n",
    "Maggiori dettagli su questo metodo: [qui](https://towardsdatascience.com/k-means-clustering-explained-4528df86a120)."
   ]
  },
  {
   "cell_type": "code",
   "execution_count": null,
   "id": "171a80fe",
   "metadata": {},
   "outputs": [],
   "source": [
    "from sklearn.cluster import KMeans"
   ]
  },
  {
   "cell_type": "code",
   "execution_count": null,
   "id": "49881e82",
   "metadata": {},
   "outputs": [],
   "source": [
    "pipe = Pipeline([('scaler', StandardScaler()),\n",
    "                 ('decomposition', PCA(n_components=15)),\n",
    "                 ('clustering', KMeans(n_clusters=5))])\n",
    "\n",
    "HTML(estimator_html_repr(pipe))"
   ]
  },
  {
   "cell_type": "code",
   "execution_count": null,
   "id": "746949ed",
   "metadata": {},
   "outputs": [],
   "source": [
    "y = pipe.fit_predict(X)"
   ]
  },
  {
   "cell_type": "markdown",
   "id": "0d889d27",
   "metadata": {},
   "source": [
    "Andiamo a ripetere la visualizzazione precedente, colorando ogni punto con il valore stimato in `y` dal nostro algorimo di clustering."
   ]
  },
  {
   "cell_type": "code",
   "execution_count": null,
   "id": "7ed8986f",
   "metadata": {},
   "outputs": [],
   "source": [
    "%matplotlib widget\n",
    "\n",
    "fig = plt.figure(dpi=100)\n",
    "ax = fig.add_subplot(projection='3d')\n",
    "\n",
    "ax.scatter(X_r[:,0], X_r[:,1], X_r[:, 2], c=y);"
   ]
  },
  {
   "cell_type": "markdown",
   "id": "dd15acef",
   "metadata": {},
   "source": [
    "# Interpretazione cluster\n",
    "Interpretare l'esito del clustering è, in generale, complicato e può portare a trarre conclusioni errate. In questo caso, simulato, proviamo a capire se è possibile ricondurre l'etichetta assegnata dal clustering ad un pattern di comportamento.\n",
    "\n",
    "Iniziamo con l'assegnare l'etichetta ad ogni utente."
   ]
  },
  {
   "cell_type": "code",
   "execution_count": null,
   "id": "65dbff29",
   "metadata": {},
   "outputs": [],
   "source": [
    "dfy = (pd.Series(dict(zip(X.index, y)))\n",
    "         .reset_index()\n",
    "         .rename({0: 'cluster', 'index': 'idUtente'}, axis=1))\n",
    "clustered_df = pd.merge(df, dfy, left_on=['idUtente'], right_on=['idUtente'])\n",
    "clustered_df.head()"
   ]
  },
  {
   "cell_type": "markdown",
   "id": "774afd91",
   "metadata": {},
   "source": [
    "Al fine di semplificare la nostra interpretazione, andiamo a creare due nuove features, una che distingue le ore notturne da quelle diurne ed una'altra che distingua i giorni lavorativi da quelli infrasettimanali."
   ]
  },
  {
   "cell_type": "code",
   "execution_count": null,
   "id": "2ec2ebeb",
   "metadata": {},
   "outputs": [],
   "source": [
    "clustered_df['week'] = (clustered_df['isoWeekDay'] >= 6).map({True: 'weekend', False: 'workingDay'})\n",
    "clustered_df['shift'] = ((clustered_df['hour'] >= 19) | (clustered_df['hour'] <= 6)).map({True: 'night', False: 'day'})\n",
    "clustered_df.head()"
   ]
  },
  {
   "cell_type": "markdown",
   "id": "2d57a49f",
   "metadata": {},
   "source": [
    "Proviamo quindi a raggruppare secondo etichetta assegnata ed abitudini di ritiro del mezzo."
   ]
  },
  {
   "cell_type": "code",
   "execution_count": null,
   "id": "a5afb96b",
   "metadata": {},
   "outputs": [],
   "source": [
    "clustered_df.groupby(['cluster', 'shift', 'week'])['timestampRitiro'].count().to_frame()"
   ]
  },
  {
   "cell_type": "markdown",
   "id": "e9c4a479",
   "metadata": {},
   "source": [
    "Cosa possiamo concludere?"
   ]
  }
 ],
 "metadata": {
  "kernelspec": {
   "display_name": "Python 3",
   "language": "python",
   "name": "python3"
  },
  "language_info": {
   "codemirror_mode": {
    "name": "ipython",
    "version": 3
   },
   "file_extension": ".py",
   "mimetype": "text/x-python",
   "name": "python",
   "nbconvert_exporter": "python",
   "pygments_lexer": "ipython3",
   "version": "3.8.8"
  }
 },
 "nbformat": 4,
 "nbformat_minor": 5
}
