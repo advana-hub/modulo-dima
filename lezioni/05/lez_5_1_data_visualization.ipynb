{
 "cells": [
  {
   "cell_type": "markdown",
   "metadata": {},
   "source": [
    "# Data Visualization"
   ]
  },
  {
   "cell_type": "markdown",
   "metadata": {},
   "source": [
    "## Import librerie"
   ]
  },
  {
   "cell_type": "code",
   "execution_count": null,
   "metadata": {},
   "outputs": [],
   "source": [
    "import pandas as pd\n",
    "import numpy as np"
   ]
  },
  {
   "cell_type": "markdown",
   "metadata": {},
   "source": [
    "## Caricamento dati"
   ]
  },
  {
   "cell_type": "code",
   "execution_count": null,
   "metadata": {},
   "outputs": [],
   "source": [
    "path_to_file = '../../../data'"
   ]
  },
  {
   "cell_type": "code",
   "execution_count": null,
   "metadata": {},
   "outputs": [],
   "source": [
    "# per ogni dataset imposto alcuni keyword argument da passare a Pandas nella read_csv() \n",
    "# questa è una scelta \"con il senno di poi\", grazie alle considerazioni\n",
    "# della lezione precedente\n",
    "\n",
    "files = {\n",
    "    'scooter': {'sep': ';', 'decimal': '.', 'parse_dates': ['Data Registrazione']}, \n",
    "    'utenti': {'sep': '|', 'decimal': ',', 'parse_dates': ['DATA di NASCITA', 'DATA ULTIMO RINNOVO PATENTE']}, \n",
    "    'viaggi': {'sep': '*', 'decimal': ',', 'parse_dates': False}, \n",
    "    'incidenti': {'sep': ',', 'decimal': '.', 'parse_dates': ['dataEvento']}\n",
    "}\n",
    "dataset = {file: pd.read_csv(f\"{path_to_file}/{file}.csv\", sep=params['sep'], decimal=params['decimal'], parse_dates=params['parse_dates']) for file, params in files.items()}"
   ]
  },
  {
   "cell_type": "code",
   "execution_count": null,
   "metadata": {},
   "outputs": [],
   "source": [
    "# salvo ciascun dataset in una variabile autoesplicativa\n",
    "scooter = dataset['scooter']\n",
    "utenti = dataset['utenti']\n",
    "viaggi = dataset['viaggi']\n",
    "incidenti = dataset['incidenti']"
   ]
  },
  {
   "cell_type": "markdown",
   "metadata": {},
   "source": [
    "## Esercizi"
   ]
  },
  {
   "cell_type": "markdown",
   "metadata": {},
   "source": [
    "### Si possono visualizzare in maniera significativa le coordinate dei luoghi di pickup?"
   ]
  },
  {
   "cell_type": "code",
   "execution_count": null,
   "metadata": {},
   "outputs": [],
   "source": [
    "def process_viaggi_data(df: pd.DataFrame) -> pd.DataFrame:\n",
    "    import warnings\n",
    "    with warnings.catch_warnings():\n",
    "        warnings.simplefilter('ignore')\n",
    "        # un possibile stimatore puntuale per coordinate: il primo valore della lista\n",
    "        # inizio dalle coordinate\n",
    "        df['coordinate_ritiro'] = df['luogoRitiro'].apply(lambda x: eval(x)[0]) \n",
    "        df['coordinate_consegna'] = df['luogoConsegna'].apply(lambda x: eval(x)[0])\n",
    "        df['lat_ritiro'] = df['coordinate_ritiro'].apply(lambda x: x[0])\n",
    "        df['lon_ritiro'] = df['coordinate_ritiro'].apply(lambda x: x[1])\n",
    "        df['lat_consegna'] = df['coordinate_consegna'].apply(lambda x: x[0])\n",
    "        df['lon_consegna'] = df['coordinate_consegna'].apply(lambda x: x[1])\n",
    "        df.drop(['coordinate_consegna', 'coordinate_ritiro'], axis=1, inplace=True)\n",
    "    return df"
   ]
  },
  {
   "cell_type": "code",
   "execution_count": null,
   "metadata": {},
   "outputs": [],
   "source": [
    "viaggi = process_viaggi_data(viaggi)"
   ]
  },
  {
   "cell_type": "code",
   "execution_count": null,
   "metadata": {},
   "outputs": [],
   "source": [
    "viaggi.plot(kind='scatter', x='lon_ritiro', y='lat_ritiro')"
   ]
  },
  {
   "cell_type": "markdown",
   "metadata": {},
   "source": [
    "### BONUS: è possibile visualizzare anche su geomappa\n",
    "\n",
    "**NB** passare a Jupyter Notebook per utilizzare `plotly` e `folium`: nella barra degli indirizzi cancellare tutto fino a \"lab\" (compreso) e scrivere al posto di lab \"tree\", e premere invio"
   ]
  },
  {
   "cell_type": "code",
   "execution_count": null,
   "metadata": {},
   "outputs": [],
   "source": [
    "viaggi_da_plottare = viaggi.head(500)[['lat_ritiro', 'lon_ritiro']]"
   ]
  },
  {
   "cell_type": "markdown",
   "metadata": {},
   "source": [
    "#### con plotly"
   ]
  },
  {
   "cell_type": "code",
   "execution_count": null,
   "metadata": {},
   "outputs": [],
   "source": [
    "import plotly.express as px\n",
    "fig = px.scatter_geo(viaggi_da_plottare,\n",
    "                    lat='lat_ritiro',\n",
    "                    lon='lon_ritiro'\n",
    "                    )\n",
    "fig.show()"
   ]
  },
  {
   "cell_type": "markdown",
   "metadata": {},
   "source": [
    "#### con folium"
   ]
  },
  {
   "cell_type": "code",
   "execution_count": null,
   "metadata": {},
   "outputs": [],
   "source": [
    "import folium\n",
    "m = folium.Map(location=[44.45, 8.85])\n",
    "viaggi_da_plottare.transpose().apply(lambda x: folium.CircleMarker(location=list(x), radius=5).add_to(m))\n",
    "m"
   ]
  },
  {
   "cell_type": "markdown",
   "metadata": {},
   "source": [
    "### Utenti: distribuzione titoli di studio"
   ]
  },
  {
   "cell_type": "code",
   "execution_count": null,
   "metadata": {},
   "outputs": [],
   "source": [
    "df = utenti.groupby('TITOLO di STUDIO').size()\n",
    "df.plot(kind='bar')"
   ]
  },
  {
   "cell_type": "markdown",
   "metadata": {},
   "source": [
    "#### Ordiniamo i titoli di studio per frequenza"
   ]
  },
  {
   "cell_type": "code",
   "execution_count": null,
   "metadata": {},
   "outputs": [],
   "source": []
  },
  {
   "cell_type": "markdown",
   "metadata": {},
   "source": [
    "#### BONUS: Ordiniamo ora in maniera decrescente (ci sono almeno 2 modi)"
   ]
  },
  {
   "cell_type": "code",
   "execution_count": null,
   "metadata": {},
   "outputs": [],
   "source": []
  },
  {
   "cell_type": "markdown",
   "metadata": {
    "execution": {
     "iopub.execute_input": "2021-04-22T11:24:28.615096Z",
     "iopub.status.busy": "2021-04-22T11:24:28.615096Z",
     "iopub.status.idle": "2021-04-22T11:24:28.620101Z",
     "shell.execute_reply": "2021-04-22T11:24:28.619100Z",
     "shell.execute_reply.started": "2021-04-22T11:24:28.615096Z"
    }
   },
   "source": [
    "#### Le etichette dei titoli di studio sono difficili da leggere: migliorale sfruttando il dizionario seguente"
   ]
  },
  {
   "cell_type": "code",
   "execution_count": null,
   "metadata": {},
   "outputs": [],
   "source": [
    "label_titoli = {\n",
    "    'diploma di scuola secondaria superiore (2-3 anni)': 'Superiori (2-3 anni)',\n",
    "    'diploma di scuola secondaria superiore (4-5 anni)': 'Superiori (4-5 anni)',\n",
    "    'diploma terziario non universitario del vecchio ordinamento e diplomi A.F.A.M.': 'Diploma terziario',\n",
    "    'diploma universitario (2-3 anni) del vecchio ordinamento (incluse le scuole dirette a fini speciali o parauniversitarie)': 'Diploma universitario',\n",
    "    'laurea magistrale': 'Laurea magistrale',\n",
    "    'laurea triennale': 'Laurea triennale',\n",
    "    'licenza  di scuola media inferiore o di avviamento professionale': 'Medie',\n",
    "    'licenza di scuola elementare': 'Elementari',\n",
    "    'nessun titolo di studio': 'Nessuno'\n",
    "}"
   ]
  },
  {
   "cell_type": "code",
   "execution_count": null,
   "metadata": {},
   "outputs": [],
   "source": []
  },
  {
   "cell_type": "markdown",
   "metadata": {},
   "source": [
    "#### Sono migliorate, ma sono ancora difficili da leggere.. cosa potremmo voler fare?"
   ]
  },
  {
   "cell_type": "code",
   "execution_count": null,
   "metadata": {},
   "outputs": [],
   "source": []
  },
  {
   "cell_type": "markdown",
   "metadata": {},
   "source": [
    "#### Rendiamo più grande la figura sfruttando `figsize`"
   ]
  },
  {
   "cell_type": "code",
   "execution_count": null,
   "metadata": {},
   "outputs": [],
   "source": []
  },
  {
   "cell_type": "markdown",
   "metadata": {},
   "source": [
    "#### Il titolo di studio è una variabile ordinale: prova ad ordinare per titolo di studio crescente sfruttando il dizionario seguente"
   ]
  },
  {
   "cell_type": "code",
   "execution_count": null,
   "metadata": {},
   "outputs": [],
   "source": [
    "punteggi_titoli = {\n",
    "    'diploma di scuola secondaria superiore (2-3 anni)': 3,\n",
    "    'diploma di scuola secondaria superiore (4-5 anni)': 4,\n",
    "    'diploma terziario non universitario del vecchio ordinamento e diplomi A.F.A.M.': 5,\n",
    "    'diploma universitario (2-3 anni) del vecchio ordinamento (incluse le scuole dirette a fini speciali o parauniversitarie)': 6,\n",
    "    'laurea magistrale': 8,\n",
    "    'laurea triennale': 7,\n",
    "    'licenza  di scuola media inferiore o di avviamento professionale': 2,\n",
    "    'licenza di scuola elementare': 1,\n",
    "    'nessun titolo di studio': 0\n",
    "}"
   ]
  },
  {
   "cell_type": "code",
   "execution_count": null,
   "metadata": {},
   "outputs": [],
   "source": []
  },
  {
   "cell_type": "markdown",
   "metadata": {},
   "source": [
    "#### Diamo un titolo al grafico e delle etichette informative agli assi"
   ]
  },
  {
   "cell_type": "code",
   "execution_count": null,
   "metadata": {},
   "outputs": [],
   "source": []
  },
  {
   "cell_type": "markdown",
   "metadata": {},
   "source": [
    "#### Vogliamo mettere in evidenza che \"gli universitari sono la parte minore\". \n",
    "\n",
    "Raggruppa i titoli di studio seguendo il criterio seguente - sfrutta `np.where()` - e visualizza il risultato\n",
    "\n",
    "- titolo di studio fino alle medie (comprese) -> gruppo 0 \"scuola dell'obbligo\"\n",
    "- titolo di studio superiore alle medie ma al max diploma terziario -> gruppo 1 \"istruzione superiore\"\n",
    "- i restanti -> gruppo 2 \"universitari\""
   ]
  },
  {
   "cell_type": "code",
   "execution_count": null,
   "metadata": {},
   "outputs": [],
   "source": [
    "label_gruppi = {\n",
    "    0: \"Scuola dell'obbligo\",\n",
    "    1: \"Istruzione superiore\",\n",
    "    2: \"Universitari\"\n",
    "}"
   ]
  },
  {
   "cell_type": "code",
   "execution_count": null,
   "metadata": {},
   "outputs": [],
   "source": []
  },
  {
   "cell_type": "markdown",
   "metadata": {
    "execution": {
     "iopub.execute_input": "2021-04-22T11:39:30.159117Z",
     "iopub.status.busy": "2021-04-22T11:39:30.159117Z",
     "iopub.status.idle": "2021-04-22T11:39:30.178998Z",
     "shell.execute_reply": "2021-04-22T11:39:30.178002Z",
     "shell.execute_reply.started": "2021-04-22T11:39:30.159117Z"
    }
   },
   "source": [
    "#### Poniamo l'evidenza sugli universitari prima spostando tutto sullo sfondo, e poi evidenziando loro\n",
    "\n",
    "suggerimento: puoi aggiungere una colonna con i colori al dataframe e poi passarla alla funzione `plot()`"
   ]
  },
  {
   "cell_type": "code",
   "execution_count": null,
   "metadata": {},
   "outputs": [],
   "source": []
  }
 ],
 "metadata": {
  "kernelspec": {
   "display_name": ".venv-mimocko",
   "language": "python",
   "name": ".venv-mimocko"
  },
  "language_info": {
   "codemirror_mode": {
    "name": "ipython",
    "version": 3
   },
   "file_extension": ".py",
   "mimetype": "text/x-python",
   "name": "python",
   "nbconvert_exporter": "python",
   "pygments_lexer": "ipython3",
   "version": "3.8.5"
  }
 },
 "nbformat": 4,
 "nbformat_minor": 4
}
