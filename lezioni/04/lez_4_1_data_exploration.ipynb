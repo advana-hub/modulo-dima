{
 "cells": [
  {
   "cell_type": "markdown",
   "metadata": {
    "execution": {
     "iopub.execute_input": "2021-04-15T07:29:32.855188Z",
     "iopub.status.busy": "2021-04-15T07:29:32.854176Z",
     "iopub.status.idle": "2021-04-15T07:29:32.860179Z",
     "shell.execute_reply": "2021-04-15T07:29:32.859179Z",
     "shell.execute_reply.started": "2021-04-15T07:29:32.855188Z"
    }
   },
   "source": [
    "<img src=\"../../assets/mimocko_logo.png\" style=\"margin-left:auto;margin-right:auto;width:50%\">"
   ]
  },
  {
   "cell_type": "code",
   "execution_count": 1,
   "metadata": {
    "ExecuteTime": {
     "end_time": "2021-04-14T16:23:06.740433Z",
     "start_time": "2021-04-14T16:23:05.960129Z"
    },
    "execution": {
     "iopub.execute_input": "2021-04-21T10:57:40.767980Z",
     "iopub.status.busy": "2021-04-21T10:57:40.767980Z",
     "iopub.status.idle": "2021-04-21T10:57:42.117627Z",
     "shell.execute_reply": "2021-04-21T10:57:42.116628Z",
     "shell.execute_reply.started": "2021-04-21T10:57:40.767980Z"
    }
   },
   "outputs": [],
   "source": [
    "import pandas as pd"
   ]
  },
  {
   "cell_type": "code",
   "execution_count": 2,
   "metadata": {
    "ExecuteTime": {
     "end_time": "2021-04-14T16:23:06.749406Z",
     "start_time": "2021-04-14T16:23:06.743409Z"
    },
    "execution": {
     "iopub.execute_input": "2021-04-21T10:57:42.122670Z",
     "iopub.status.busy": "2021-04-21T10:57:42.121630Z",
     "iopub.status.idle": "2021-04-21T10:57:42.127631Z",
     "shell.execute_reply": "2021-04-21T10:57:42.126632Z",
     "shell.execute_reply.started": "2021-04-21T10:57:42.122670Z"
    }
   },
   "outputs": [],
   "source": [
    "import datetime # una libreria per gestire particolari tipi di dati (date, tempi, etc.)"
   ]
  },
  {
   "cell_type": "code",
   "execution_count": 4,
   "metadata": {
    "execution": {
     "iopub.execute_input": "2021-04-21T09:57:33.109997Z",
     "iopub.status.busy": "2021-04-21T09:57:33.109997Z",
     "iopub.status.idle": "2021-04-21T09:57:33.116960Z",
     "shell.execute_reply": "2021-04-21T09:57:33.115959Z",
     "shell.execute_reply.started": "2021-04-21T09:57:33.109997Z"
    }
   },
   "outputs": [],
   "source": [
    "# una funzione che ci tornerà comoda... per ora non ci soffermiamo su cosa fa\n",
    "\n",
    "def process_viaggi_data(df: pd.DataFrame) -> pd.DataFrame:\n",
    "    import warnings\n",
    "    with warnings.catch_warnings():\n",
    "        warnings.simplefilter('ignore')\n",
    "        # un possibile stimatore puntuale per timestamp e coordinate: il primo\n",
    "        df['coordinate_ritiro'] = df['luogoRitiro'].apply(lambda x: eval(x)[0]) \n",
    "        df['coordinate_consegna'] = df['luogoConsegna'].apply(lambda x: eval(x)[0])\n",
    "        df['lat_ritiro'] = df['coordinate_ritiro'].apply(lambda x: x[0])\n",
    "        df['lon_ritiro'] = df['coordinate_ritiro'].apply(lambda x: x[1])\n",
    "        df['lat_consegna'] = df['coordinate_consegna'].apply(lambda x: x[0])\n",
    "        df['lon_consegna'] = df['coordinate_consegna'].apply(lambda x: x[1])\n",
    "    return df"
   ]
  },
  {
   "cell_type": "markdown",
   "metadata": {},
   "source": [
    "# Utenti"
   ]
  },
  {
   "cell_type": "code",
   "execution_count": 3,
   "metadata": {
    "ExecuteTime": {
     "end_time": "2021-04-14T16:23:06.771406Z",
     "start_time": "2021-04-14T16:23:06.756412Z"
    },
    "execution": {
     "iopub.execute_input": "2021-04-21T10:57:44.802477Z",
     "iopub.status.busy": "2021-04-21T10:57:44.802477Z",
     "iopub.status.idle": "2021-04-21T10:57:44.807476Z",
     "shell.execute_reply": "2021-04-21T10:57:44.806479Z",
     "shell.execute_reply.started": "2021-04-21T10:57:44.802477Z"
    }
   },
   "outputs": [],
   "source": [
    "path_to_file = '../../../data'"
   ]
  },
  {
   "cell_type": "markdown",
   "metadata": {},
   "source": [
    "## Caricamento del CSV con opzioni di default"
   ]
  },
  {
   "cell_type": "code",
   "execution_count": null,
   "metadata": {
    "ExecuteTime": {
     "end_time": "2021-04-14T16:23:10.708158Z",
     "start_time": "2021-04-14T16:23:10.620341Z"
    }
   },
   "outputs": [],
   "source": [
    "utenti = pd.read_csv(\n",
    "    f'{path_to_file}/utenti.csv'\n",
    ")"
   ]
  },
  {
   "cell_type": "code",
   "execution_count": null,
   "metadata": {
    "ExecuteTime": {
     "end_time": "2021-04-14T16:23:11.820857Z",
     "start_time": "2021-04-14T16:23:11.803855Z"
    }
   },
   "outputs": [],
   "source": [
    "utenti.head()"
   ]
  },
  {
   "cell_type": "markdown",
   "metadata": {},
   "source": [
    "### Hint: provare ad aprire il CSV con editor di testo"
   ]
  },
  {
   "cell_type": "code",
   "execution_count": null,
   "metadata": {},
   "outputs": [],
   "source": []
  },
  {
   "cell_type": "markdown",
   "metadata": {},
   "source": [
    "## Caricamento del CSV con indicazione del separatore di campi"
   ]
  },
  {
   "cell_type": "code",
   "execution_count": null,
   "metadata": {
    "ExecuteTime": {
     "end_time": "2021-04-14T16:24:02.039934Z",
     "start_time": "2021-04-14T16:24:01.945935Z"
    }
   },
   "outputs": [],
   "source": [
    "utenti = pd.read_csv(\n",
    "    f'{path_to_file}/utenti.csv',\n",
    "    sep='|'\n",
    ")"
   ]
  },
  {
   "cell_type": "code",
   "execution_count": null,
   "metadata": {
    "ExecuteTime": {
     "end_time": "2021-04-14T16:24:02.470216Z",
     "start_time": "2021-04-14T16:24:02.435220Z"
    }
   },
   "outputs": [],
   "source": [
    "utenti.head()"
   ]
  },
  {
   "cell_type": "code",
   "execution_count": null,
   "metadata": {
    "ExecuteTime": {
     "end_time": "2021-04-14T16:24:03.149120Z",
     "start_time": "2021-04-14T16:24:03.138119Z"
    }
   },
   "outputs": [],
   "source": [
    "utenti.loc[2074]"
   ]
  },
  {
   "cell_type": "code",
   "execution_count": null,
   "metadata": {
    "ExecuteTime": {
     "end_time": "2021-04-14T16:24:06.145641Z",
     "start_time": "2021-04-14T16:24:06.134637Z"
    }
   },
   "outputs": [],
   "source": [
    "utenti.dtypes"
   ]
  },
  {
   "cell_type": "markdown",
   "metadata": {},
   "source": [
    "## caricamento del CSV con indicazione del separatore delle cifre decimali"
   ]
  },
  {
   "cell_type": "code",
   "execution_count": null,
   "metadata": {
    "ExecuteTime": {
     "end_time": "2021-04-14T16:24:08.186939Z",
     "start_time": "2021-04-14T16:24:08.119675Z"
    }
   },
   "outputs": [],
   "source": [
    "utenti = pd.read_csv(\n",
    "    f'{path_to_file}/utenti.csv',\n",
    "    sep='|',\n",
    "    decimal=','\n",
    ")"
   ]
  },
  {
   "cell_type": "code",
   "execution_count": null,
   "metadata": {
    "ExecuteTime": {
     "end_time": "2021-04-14T16:24:08.420400Z",
     "start_time": "2021-04-14T16:24:08.390394Z"
    }
   },
   "outputs": [],
   "source": [
    "utenti.head()"
   ]
  },
  {
   "cell_type": "code",
   "execution_count": null,
   "metadata": {
    "ExecuteTime": {
     "end_time": "2021-04-14T16:24:08.641392Z",
     "start_time": "2021-04-14T16:24:08.631394Z"
    }
   },
   "outputs": [],
   "source": [
    "utenti.dtypes"
   ]
  },
  {
   "cell_type": "markdown",
   "metadata": {},
   "source": [
    "## caricamento del CSV con indicazione del tipo di alcune colonne"
   ]
  },
  {
   "cell_type": "code",
   "execution_count": 4,
   "metadata": {
    "ExecuteTime": {
     "end_time": "2021-04-14T16:24:10.188381Z",
     "start_time": "2021-04-14T16:24:10.087366Z"
    },
    "execution": {
     "iopub.execute_input": "2021-04-21T10:57:49.599320Z",
     "iopub.status.busy": "2021-04-21T10:57:49.599320Z",
     "iopub.status.idle": "2021-04-21T10:57:49.676321Z",
     "shell.execute_reply": "2021-04-21T10:57:49.675322Z",
     "shell.execute_reply.started": "2021-04-21T10:57:49.599320Z"
    }
   },
   "outputs": [],
   "source": [
    "utenti = pd.read_csv(\n",
    "    f'{path_to_file}/utenti.csv',\n",
    "    sep='|',\n",
    "    decimal=',',\n",
    "    parse_dates=[\n",
    "        'DATA di NASCITA',\n",
    "        'DATA ULTIMO RINNOVO PATENTE'\n",
    "    ]\n",
    ")"
   ]
  },
  {
   "cell_type": "code",
   "execution_count": 5,
   "metadata": {
    "execution": {
     "iopub.execute_input": "2021-04-21T10:57:52.827601Z",
     "iopub.status.busy": "2021-04-21T10:57:52.826603Z",
     "iopub.status.idle": "2021-04-21T10:57:58.345214Z",
     "shell.execute_reply": "2021-04-21T10:57:58.344246Z",
     "shell.execute_reply.started": "2021-04-21T10:57:52.826603Z"
    }
   },
   "outputs": [],
   "source": [
    "from pandas_profiling import ProfileReport"
   ]
  },
  {
   "cell_type": "code",
   "execution_count": 6,
   "metadata": {
    "execution": {
     "iopub.execute_input": "2021-04-21T10:58:10.559552Z",
     "iopub.status.busy": "2021-04-21T10:58:10.559552Z",
     "iopub.status.idle": "2021-04-21T10:58:10.614516Z",
     "shell.execute_reply": "2021-04-21T10:58:10.613557Z",
     "shell.execute_reply.started": "2021-04-21T10:58:10.559552Z"
    }
   },
   "outputs": [],
   "source": [
    "profile = ProfileReport(utenti, title=\"Pandas Profiling Report\")"
   ]
  },
  {
   "cell_type": "code",
   "execution_count": 7,
   "metadata": {
    "execution": {
     "iopub.execute_input": "2021-04-21T10:58:29.624084Z",
     "iopub.status.busy": "2021-04-21T10:58:29.623089Z",
     "iopub.status.idle": "2021-04-21T10:58:41.516740Z",
     "shell.execute_reply": "2021-04-21T10:58:41.515741Z",
     "shell.execute_reply.started": "2021-04-21T10:58:29.624084Z"
    }
   },
   "outputs": [
    {
     "data": {
      "application/vnd.jupyter.widget-view+json": {
       "model_id": "75ac387be0444829a4758e5379a8abc0",
       "version_major": 2,
       "version_minor": 0
      },
      "text/plain": [
       "Summarize dataset:   0%|          | 0/28 [00:00<?, ?it/s]"
      ]
     },
     "metadata": {},
     "output_type": "display_data"
    },
    {
     "data": {
      "application/vnd.jupyter.widget-view+json": {
       "model_id": "d5d6240d49dd43cc994b8f01b196f082",
       "version_major": 2,
       "version_minor": 0
      },
      "text/plain": [
       "Generate report structure:   0%|          | 0/1 [00:00<?, ?it/s]"
      ]
     },
     "metadata": {},
     "output_type": "display_data"
    },
    {
     "data": {
      "application/vnd.jupyter.widget-view+json": {
       "model_id": "3cb2714cc617416a85cf71a8727386db",
       "version_major": 2,
       "version_minor": 0
      },
      "text/plain": [
       "Render HTML:   0%|          | 0/1 [00:00<?, ?it/s]"
      ]
     },
     "metadata": {},
     "output_type": "display_data"
    },
    {
     "data": {
      "application/vnd.jupyter.widget-view+json": {
       "model_id": "42ba43a5493b4351b7345f4321e59fdc",
       "version_major": 2,
       "version_minor": 0
      },
      "text/plain": [
       "Export report to file:   0%|          | 0/1 [00:00<?, ?it/s]"
      ]
     },
     "metadata": {},
     "output_type": "display_data"
    }
   ],
   "source": [
    "profile.to_file(\"utenti-report.html\")"
   ]
  },
  {
   "cell_type": "code",
   "execution_count": 7,
   "metadata": {
    "ExecuteTime": {
     "end_time": "2021-04-14T16:24:11.283409Z",
     "start_time": "2021-04-14T16:24:11.253412Z"
    },
    "execution": {
     "iopub.execute_input": "2021-04-21T09:57:36.365922Z",
     "iopub.status.busy": "2021-04-21T09:57:36.364921Z",
     "iopub.status.idle": "2021-04-21T09:57:36.394922Z",
     "shell.execute_reply": "2021-04-21T09:57:36.393926Z",
     "shell.execute_reply.started": "2021-04-21T09:57:36.365922Z"
    }
   },
   "outputs": [
    {
     "data": {
      "text/html": [
       "<div>\n",
       "<style scoped>\n",
       "    .dataframe tbody tr th:only-of-type {\n",
       "        vertical-align: middle;\n",
       "    }\n",
       "\n",
       "    .dataframe tbody tr th {\n",
       "        vertical-align: top;\n",
       "    }\n",
       "\n",
       "    .dataframe thead th {\n",
       "        text-align: right;\n",
       "    }\n",
       "</style>\n",
       "<table border=\"1\" class=\"dataframe\">\n",
       "  <thead>\n",
       "    <tr style=\"text-align: right;\">\n",
       "      <th></th>\n",
       "      <th>ID UTENTE</th>\n",
       "      <th>NOME</th>\n",
       "      <th>COGNOME</th>\n",
       "      <th>SESSO</th>\n",
       "      <th>DATA di NASCITA</th>\n",
       "      <th>LUOGO di NASCITA</th>\n",
       "      <th>C.F.</th>\n",
       "      <th>INDIRIZZO E-MAIL</th>\n",
       "      <th>INDIRIZZO</th>\n",
       "      <th>LAT INDIRIZZO</th>\n",
       "      <th>LON INDIRIZZO</th>\n",
       "      <th>PATENTE #</th>\n",
       "      <th>DATA ULTIMO RINNOVO PATENTE</th>\n",
       "      <th>CONSENSO al TRATTAMENTO dei DATI</th>\n",
       "      <th>TITOLO di STUDIO</th>\n",
       "    </tr>\n",
       "  </thead>\n",
       "  <tbody>\n",
       "    <tr>\n",
       "      <th>0</th>\n",
       "      <td>u6586</td>\n",
       "      <td>Dario</td>\n",
       "      <td>Nibali</td>\n",
       "      <td>M</td>\n",
       "      <td>1986-12-09</td>\n",
       "      <td>Torino</td>\n",
       "      <td>NBLDRA86P12L219E</td>\n",
       "      <td>NaN</td>\n",
       "      <td>GENOVA, VIA VAL D'ASTICO, 156</td>\n",
       "      <td>44.494692</td>\n",
       "      <td>8.908447</td>\n",
       "      <td>U19713653J</td>\n",
       "      <td>2019-03-30</td>\n",
       "      <td>False</td>\n",
       "      <td>NaN</td>\n",
       "    </tr>\n",
       "    <tr>\n",
       "      <th>1</th>\n",
       "      <td>u2188</td>\n",
       "      <td>Giacinto</td>\n",
       "      <td>Ferraris</td>\n",
       "      <td>M</td>\n",
       "      <td>1986-05-24</td>\n",
       "      <td>Carrara</td>\n",
       "      <td>FRRGNT86E24B832A</td>\n",
       "      <td>ferraris86@vodafone.it</td>\n",
       "      <td>GENOVA, VIA SAMBUGO, 10</td>\n",
       "      <td>44.449108</td>\n",
       "      <td>8.696334</td>\n",
       "      <td>U18283370F</td>\n",
       "      <td>2019-08-19</td>\n",
       "      <td>False</td>\n",
       "      <td>diploma di scuola secondaria superiore (4-5 anni)</td>\n",
       "    </tr>\n",
       "    <tr>\n",
       "      <th>2</th>\n",
       "      <td>u5528</td>\n",
       "      <td>Fiorenzo</td>\n",
       "      <td>Morosini</td>\n",
       "      <td>M</td>\n",
       "      <td>1988-11-02</td>\n",
       "      <td>Siena</td>\n",
       "      <td>MRSFNZ88B11I726L</td>\n",
       "      <td>NaN</td>\n",
       "      <td>GENOVA, VIA DI BURLO, 1</td>\n",
       "      <td>44.442037</td>\n",
       "      <td>8.875526</td>\n",
       "      <td>U10335012S</td>\n",
       "      <td>2014-01-25</td>\n",
       "      <td>False</td>\n",
       "      <td>NaN</td>\n",
       "    </tr>\n",
       "    <tr>\n",
       "      <th>3</th>\n",
       "      <td>u1224</td>\n",
       "      <td>Ruggero</td>\n",
       "      <td>Ciani</td>\n",
       "      <td>M</td>\n",
       "      <td>1974-11-26</td>\n",
       "      <td>Lavagna</td>\n",
       "      <td>CNIRGR74S26E488U</td>\n",
       "      <td>NaN</td>\n",
       "      <td>GENOVA, VIA CEBA', 3</td>\n",
       "      <td>44.408544</td>\n",
       "      <td>8.936078</td>\n",
       "      <td>U12038058X</td>\n",
       "      <td>2018-10-08</td>\n",
       "      <td>False</td>\n",
       "      <td>diploma di scuola secondaria superiore (4-5 anni)</td>\n",
       "    </tr>\n",
       "    <tr>\n",
       "      <th>4</th>\n",
       "      <td>u6553</td>\n",
       "      <td>Umberto</td>\n",
       "      <td>Baglioni</td>\n",
       "      <td>M</td>\n",
       "      <td>1985-03-15</td>\n",
       "      <td>Monza</td>\n",
       "      <td>BGLMRT85C15F704T</td>\n",
       "      <td>NaN</td>\n",
       "      <td>GENOVA, CORSO ITALIA, 7</td>\n",
       "      <td>44.391427</td>\n",
       "      <td>8.956002</td>\n",
       "      <td>U11861180V</td>\n",
       "      <td>2017-11-13</td>\n",
       "      <td>True</td>\n",
       "      <td>licenza di scuola elementare</td>\n",
       "    </tr>\n",
       "  </tbody>\n",
       "</table>\n",
       "</div>"
      ],
      "text/plain": [
       "  ID UTENTE      NOME   COGNOME SESSO DATA di NASCITA LUOGO di NASCITA  \\\n",
       "0     u6586     Dario    Nibali     M      1986-12-09           Torino   \n",
       "1     u2188  Giacinto  Ferraris     M      1986-05-24          Carrara   \n",
       "2     u5528  Fiorenzo  Morosini     M      1988-11-02            Siena   \n",
       "3     u1224   Ruggero     Ciani     M      1974-11-26          Lavagna   \n",
       "4     u6553   Umberto  Baglioni     M      1985-03-15            Monza   \n",
       "\n",
       "               C.F.        INDIRIZZO E-MAIL                      INDIRIZZO  \\\n",
       "0  NBLDRA86P12L219E                     NaN  GENOVA, VIA VAL D'ASTICO, 156   \n",
       "1  FRRGNT86E24B832A  ferraris86@vodafone.it        GENOVA, VIA SAMBUGO, 10   \n",
       "2  MRSFNZ88B11I726L                     NaN        GENOVA, VIA DI BURLO, 1   \n",
       "3  CNIRGR74S26E488U                     NaN           GENOVA, VIA CEBA', 3   \n",
       "4  BGLMRT85C15F704T                     NaN        GENOVA, CORSO ITALIA, 7   \n",
       "\n",
       "   LAT INDIRIZZO  LON INDIRIZZO   PATENTE # DATA ULTIMO RINNOVO PATENTE  \\\n",
       "0      44.494692       8.908447  U19713653J                  2019-03-30   \n",
       "1      44.449108       8.696334  U18283370F                  2019-08-19   \n",
       "2      44.442037       8.875526  U10335012S                  2014-01-25   \n",
       "3      44.408544       8.936078  U12038058X                  2018-10-08   \n",
       "4      44.391427       8.956002  U11861180V                  2017-11-13   \n",
       "\n",
       "   CONSENSO al TRATTAMENTO dei DATI  \\\n",
       "0                             False   \n",
       "1                             False   \n",
       "2                             False   \n",
       "3                             False   \n",
       "4                              True   \n",
       "\n",
       "                                    TITOLO di STUDIO  \n",
       "0                                                NaN  \n",
       "1  diploma di scuola secondaria superiore (4-5 anni)  \n",
       "2                                                NaN  \n",
       "3  diploma di scuola secondaria superiore (4-5 anni)  \n",
       "4                       licenza di scuola elementare  "
      ]
     },
     "execution_count": 7,
     "metadata": {},
     "output_type": "execute_result"
    }
   ],
   "source": [
    "utenti.head()"
   ]
  },
  {
   "cell_type": "code",
   "execution_count": 8,
   "metadata": {
    "ExecuteTime": {
     "end_time": "2021-04-14T16:24:12.652240Z",
     "start_time": "2021-04-14T16:24:12.644240Z"
    },
    "execution": {
     "iopub.execute_input": "2021-04-21T09:57:36.533921Z",
     "iopub.status.busy": "2021-04-21T09:57:36.532937Z",
     "iopub.status.idle": "2021-04-21T09:57:36.542923Z",
     "shell.execute_reply": "2021-04-21T09:57:36.540920Z",
     "shell.execute_reply.started": "2021-04-21T09:57:36.533921Z"
    }
   },
   "outputs": [
    {
     "data": {
      "text/plain": [
       "ID UTENTE                                   object\n",
       "NOME                                        object\n",
       "COGNOME                                     object\n",
       "SESSO                                       object\n",
       "DATA di NASCITA                     datetime64[ns]\n",
       "LUOGO di NASCITA                            object\n",
       "C.F.                                        object\n",
       "INDIRIZZO E-MAIL                            object\n",
       "INDIRIZZO                                   object\n",
       "LAT INDIRIZZO                              float64\n",
       "LON INDIRIZZO                              float64\n",
       "PATENTE #                                   object\n",
       "DATA ULTIMO RINNOVO PATENTE         datetime64[ns]\n",
       "CONSENSO al TRATTAMENTO dei DATI              bool\n",
       "TITOLO di STUDIO                            object\n",
       "dtype: object"
      ]
     },
     "execution_count": 8,
     "metadata": {},
     "output_type": "execute_result"
    }
   ],
   "source": [
    "utenti.dtypes"
   ]
  },
  {
   "cell_type": "code",
   "execution_count": 9,
   "metadata": {
    "ExecuteTime": {
     "end_time": "2021-04-14T16:24:13.417068Z",
     "start_time": "2021-04-14T16:24:13.412066Z"
    },
    "execution": {
     "iopub.execute_input": "2021-04-21T09:57:36.706924Z",
     "iopub.status.busy": "2021-04-21T09:57:36.706924Z",
     "iopub.status.idle": "2021-04-21T09:57:36.714922Z",
     "shell.execute_reply": "2021-04-21T09:57:36.713922Z",
     "shell.execute_reply.started": "2021-04-21T09:57:36.706924Z"
    }
   },
   "outputs": [],
   "source": [
    "a = utenti.loc[0, 'DATA di NASCITA']"
   ]
  },
  {
   "cell_type": "markdown",
   "metadata": {},
   "source": [
    "## Distribuzione di genere"
   ]
  },
  {
   "cell_type": "markdown",
   "metadata": {},
   "source": [
    "### Pandas groupby"
   ]
  },
  {
   "cell_type": "code",
   "execution_count": 22,
   "metadata": {
    "ExecuteTime": {
     "end_time": "2021-04-14T16:24:18.253086Z",
     "start_time": "2021-04-14T16:24:18.239485Z"
    },
    "execution": {
     "iopub.execute_input": "2021-04-21T10:04:30.172060Z",
     "iopub.status.busy": "2021-04-21T10:04:30.171521Z",
     "iopub.status.idle": "2021-04-21T10:04:30.183342Z",
     "shell.execute_reply": "2021-04-21T10:04:30.181693Z",
     "shell.execute_reply.started": "2021-04-21T10:04:30.172060Z"
    }
   },
   "outputs": [
    {
     "data": {
      "text/plain": [
       "SESSO\n",
       "F    4988\n",
       "M    4012\n",
       "dtype: int64"
      ]
     },
     "execution_count": 22,
     "metadata": {},
     "output_type": "execute_result"
    }
   ],
   "source": [
    "utenti.groupby('SESSO').size()"
   ]
  },
  {
   "cell_type": "markdown",
   "metadata": {},
   "source": [
    "### visualizzazione"
   ]
  },
  {
   "cell_type": "code",
   "execution_count": null,
   "metadata": {
    "ExecuteTime": {
     "end_time": "2021-04-14T16:24:20.137042Z",
     "start_time": "2021-04-14T16:24:19.524691Z"
    }
   },
   "outputs": [],
   "source": [
    "utenti.groupby('SESSO').size().plot.bar()"
   ]
  },
  {
   "cell_type": "markdown",
   "metadata": {},
   "source": [
    "## distribuzione dei titoli di studio"
   ]
  },
  {
   "cell_type": "code",
   "execution_count": null,
   "metadata": {},
   "outputs": [],
   "source": []
  },
  {
   "cell_type": "markdown",
   "metadata": {},
   "source": [
    "## distribuzione dei luoghi di nascita (i 10 più frequenti)"
   ]
  },
  {
   "cell_type": "code",
   "execution_count": null,
   "metadata": {},
   "outputs": [],
   "source": []
  },
  {
   "cell_type": "markdown",
   "metadata": {},
   "source": [
    "## distribuzione dell'anno di nascita"
   ]
  },
  {
   "cell_type": "code",
   "execution_count": null,
   "metadata": {},
   "outputs": [],
   "source": []
  },
  {
   "cell_type": "markdown",
   "metadata": {},
   "source": [
    "## BONUS: distribuzione delle età"
   ]
  },
  {
   "cell_type": "code",
   "execution_count": null,
   "metadata": {},
   "outputs": [],
   "source": []
  },
  {
   "cell_type": "markdown",
   "metadata": {},
   "source": [
    "## BONUS: distribuzione del consenso al trattamento dei dati"
   ]
  },
  {
   "cell_type": "code",
   "execution_count": null,
   "metadata": {},
   "outputs": [],
   "source": []
  },
  {
   "cell_type": "markdown",
   "metadata": {},
   "source": [
    "# Viaggi"
   ]
  },
  {
   "cell_type": "code",
   "execution_count": null,
   "metadata": {
    "ExecuteTime": {
     "end_time": "2021-04-13T13:18:37.741061Z",
     "start_time": "2021-04-13T13:18:36.532387Z"
    }
   },
   "outputs": [],
   "source": [
    "viaggi = pd.read_csv(\n",
    "    f'{path_to_file}/viaggi.csv',\n",
    "    sep='*',\n",
    "    decimal=','\n",
    ")"
   ]
  },
  {
   "cell_type": "code",
   "execution_count": null,
   "metadata": {
    "ExecuteTime": {
     "end_time": "2021-04-13T13:18:37.775310Z",
     "start_time": "2021-04-13T13:18:37.741061Z"
    }
   },
   "outputs": [],
   "source": [
    "viaggi.head()"
   ]
  },
  {
   "cell_type": "markdown",
   "metadata": {},
   "source": [
    "## Punteggi Viaggio (DrivingScore)"
   ]
  },
  {
   "cell_type": "code",
   "execution_count": null,
   "metadata": {},
   "outputs": [],
   "source": []
  },
  {
   "cell_type": "markdown",
   "metadata": {},
   "source": [
    "## Esiste qualche relazione tra il punteggioViaggi dei viaggi e le caratteristiche degli utenti?"
   ]
  },
  {
   "cell_type": "code",
   "execution_count": null,
   "metadata": {},
   "outputs": [],
   "source": []
  },
  {
   "cell_type": "markdown",
   "metadata": {},
   "source": [
    "### genere vs. punteggioViaggi"
   ]
  },
  {
   "cell_type": "code",
   "execution_count": null,
   "metadata": {},
   "outputs": [],
   "source": []
  },
  {
   "cell_type": "markdown",
   "metadata": {},
   "source": [
    "### età vs. punteggioViaggi"
   ]
  },
  {
   "cell_type": "code",
   "execution_count": null,
   "metadata": {},
   "outputs": [],
   "source": []
  },
  {
   "cell_type": "markdown",
   "metadata": {},
   "source": [
    "## BONUS: si possono visualizzare in maniera significativa le coordinate dei luoghi di pickup?"
   ]
  },
  {
   "cell_type": "code",
   "execution_count": null,
   "metadata": {},
   "outputs": [],
   "source": []
  }
 ],
 "metadata": {
  "kernelspec": {
   "display_name": ".venv-mimocko",
   "language": "python",
   "name": ".venv-mimocko"
  },
  "language_info": {
   "codemirror_mode": {
    "name": "ipython",
    "version": 3
   },
   "file_extension": ".py",
   "mimetype": "text/x-python",
   "name": "python",
   "nbconvert_exporter": "python",
   "pygments_lexer": "ipython3",
   "version": "3.8.5"
  }
 },
 "nbformat": 4,
 "nbformat_minor": 5
}
