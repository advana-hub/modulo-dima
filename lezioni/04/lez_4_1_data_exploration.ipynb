{
 "cells": [
  {
   "cell_type": "markdown",
   "metadata": {
    "execution": {
     "iopub.execute_input": "2021-04-15T07:29:32.855188Z",
     "iopub.status.busy": "2021-04-15T07:29:32.854176Z",
     "iopub.status.idle": "2021-04-15T07:29:32.860179Z",
     "shell.execute_reply": "2021-04-15T07:29:32.859179Z",
     "shell.execute_reply.started": "2021-04-15T07:29:32.855188Z"
    }
   },
   "source": [
    "<img src=\"../../assets/mimocko_logo.png\" style=\"margin-left:auto;margin-right:auto;width:50%\">"
   ]
  },
  {
   "cell_type": "code",
   "execution_count": null,
   "metadata": {
    "ExecuteTime": {
     "end_time": "2021-04-14T16:23:06.740433Z",
     "start_time": "2021-04-14T16:23:05.960129Z"
    }
   },
   "outputs": [],
   "source": [
    "import pandas as pd"
   ]
  },
  {
   "cell_type": "code",
   "execution_count": null,
   "metadata": {
    "ExecuteTime": {
     "end_time": "2021-04-14T16:23:06.749406Z",
     "start_time": "2021-04-14T16:23:06.743409Z"
    }
   },
   "outputs": [],
   "source": [
    "import datetime # una libreria per gestire particolari tipi di dati (date, tempi, etc.)"
   ]
  },
  {
   "cell_type": "code",
   "execution_count": null,
   "metadata": {},
   "outputs": [],
   "source": [
    "# una funzione che ci tornerà comoda... per ora non ci soffermiamo su cosa fa\n",
    "\n",
    "def process_viaggi_data(df: pd.DataFrame) -> pd.DataFrame:\n",
    "    import warnings\n",
    "    with warnings.catch_warnings():\n",
    "        warnings.simplefilter('ignore')\n",
    "        # un possibile stimatore puntuale per timestamp e coordinate: il primo\n",
    "        df['coordinate_ritiro'] = df['luogoRitiro'].apply(lambda x: eval(x)[0]) \n",
    "        df['coordinate_consegna'] = df['luogoConsegna'].apply(lambda x: eval(x)[0])\n",
    "        df['lat_ritiro'] = df['coordinate_ritiro'].apply(lambda x: x[0])\n",
    "        df['lon_ritiro'] = df['coordinate_ritiro'].apply(lambda x: x[1])\n",
    "        df['lat_consegna'] = df['coordinate_consegna'].apply(lambda x: x[0])\n",
    "        df['lon_consegna'] = df['coordinate_consegna'].apply(lambda x: x[1])\n",
    "    return df"
   ]
  },
  {
   "cell_type": "markdown",
   "metadata": {},
   "source": [
    "# Utenti"
   ]
  },
  {
   "cell_type": "code",
   "execution_count": null,
   "metadata": {
    "ExecuteTime": {
     "end_time": "2021-04-14T16:23:06.771406Z",
     "start_time": "2021-04-14T16:23:06.756412Z"
    }
   },
   "outputs": [],
   "source": [
    "path_to_file = '../../../data'"
   ]
  },
  {
   "cell_type": "markdown",
   "metadata": {},
   "source": [
    "## Caricamento del CSV con opzioni di default"
   ]
  },
  {
   "cell_type": "code",
   "execution_count": null,
   "metadata": {
    "ExecuteTime": {
     "end_time": "2021-04-14T16:23:10.708158Z",
     "start_time": "2021-04-14T16:23:10.620341Z"
    }
   },
   "outputs": [],
   "source": [
    "utenti = pd.read_csv(\n",
    "    f'{path_to_file}/utenti.csv'\n",
    ")"
   ]
  },
  {
   "cell_type": "code",
   "execution_count": null,
   "metadata": {
    "ExecuteTime": {
     "end_time": "2021-04-14T16:23:11.820857Z",
     "start_time": "2021-04-14T16:23:11.803855Z"
    }
   },
   "outputs": [],
   "source": [
    "utenti.head()"
   ]
  },
  {
   "cell_type": "markdown",
   "metadata": {},
   "source": [
    "### Hint: provare ad aprire il CSV con editor di testo"
   ]
  },
  {
   "cell_type": "code",
   "execution_count": null,
   "metadata": {},
   "outputs": [],
   "source": []
  },
  {
   "cell_type": "markdown",
   "metadata": {},
   "source": [
    "## Caricamento del CSV con indicazione del separatore di campi"
   ]
  },
  {
   "cell_type": "code",
   "execution_count": null,
   "metadata": {
    "ExecuteTime": {
     "end_time": "2021-04-14T16:24:02.039934Z",
     "start_time": "2021-04-14T16:24:01.945935Z"
    }
   },
   "outputs": [],
   "source": [
    "utenti = pd.read_csv(\n",
    "    f'{path_to_file}/utenti.csv',\n",
    "    sep='|'\n",
    ")"
   ]
  },
  {
   "cell_type": "code",
   "execution_count": null,
   "metadata": {
    "ExecuteTime": {
     "end_time": "2021-04-14T16:24:02.470216Z",
     "start_time": "2021-04-14T16:24:02.435220Z"
    }
   },
   "outputs": [],
   "source": [
    "utenti.head()"
   ]
  },
  {
   "cell_type": "code",
   "execution_count": null,
   "metadata": {
    "ExecuteTime": {
     "end_time": "2021-04-14T16:24:03.149120Z",
     "start_time": "2021-04-14T16:24:03.138119Z"
    }
   },
   "outputs": [],
   "source": [
    "utenti.loc[2074]"
   ]
  },
  {
   "cell_type": "code",
   "execution_count": null,
   "metadata": {
    "ExecuteTime": {
     "end_time": "2021-04-14T16:24:06.145641Z",
     "start_time": "2021-04-14T16:24:06.134637Z"
    }
   },
   "outputs": [],
   "source": [
    "utenti.dtypes"
   ]
  },
  {
   "cell_type": "markdown",
   "metadata": {},
   "source": [
    "## caricamento del CSV con indicazione del separatore delle cifre decimali"
   ]
  },
  {
   "cell_type": "code",
   "execution_count": null,
   "metadata": {
    "ExecuteTime": {
     "end_time": "2021-04-14T16:24:08.186939Z",
     "start_time": "2021-04-14T16:24:08.119675Z"
    }
   },
   "outputs": [],
   "source": [
    "utenti = pd.read_csv(\n",
    "    f'{path_to_file}/utenti.csv',\n",
    "    sep='|',\n",
    "    decimal=','\n",
    ")"
   ]
  },
  {
   "cell_type": "code",
   "execution_count": null,
   "metadata": {
    "ExecuteTime": {
     "end_time": "2021-04-14T16:24:08.420400Z",
     "start_time": "2021-04-14T16:24:08.390394Z"
    }
   },
   "outputs": [],
   "source": [
    "utenti.head()"
   ]
  },
  {
   "cell_type": "code",
   "execution_count": null,
   "metadata": {
    "ExecuteTime": {
     "end_time": "2021-04-14T16:24:08.641392Z",
     "start_time": "2021-04-14T16:24:08.631394Z"
    }
   },
   "outputs": [],
   "source": [
    "utenti.dtypes"
   ]
  },
  {
   "cell_type": "markdown",
   "metadata": {},
   "source": [
    "## caricamento del CSV con indicazione del tipo di alcune colonne"
   ]
  },
  {
   "cell_type": "code",
   "execution_count": null,
   "metadata": {
    "ExecuteTime": {
     "end_time": "2021-04-14T16:24:10.188381Z",
     "start_time": "2021-04-14T16:24:10.087366Z"
    }
   },
   "outputs": [],
   "source": [
    "utenti = pd.read_csv(\n",
    "    f'{path_to_file}/utenti.csv',\n",
    "    sep='|',\n",
    "    decimal=',',\n",
    "    parse_dates=[\n",
    "        'DATA di NASCITA',\n",
    "        'DATA ULTIMO RINNOVO PATENTE'\n",
    "    ]\n",
    ")"
   ]
  },
  {
   "cell_type": "code",
   "execution_count": null,
   "metadata": {
    "ExecuteTime": {
     "end_time": "2021-04-14T16:24:11.283409Z",
     "start_time": "2021-04-14T16:24:11.253412Z"
    }
   },
   "outputs": [],
   "source": [
    "utenti.head()"
   ]
  },
  {
   "cell_type": "code",
   "execution_count": null,
   "metadata": {
    "ExecuteTime": {
     "end_time": "2021-04-14T16:24:12.652240Z",
     "start_time": "2021-04-14T16:24:12.644240Z"
    }
   },
   "outputs": [],
   "source": [
    "utenti.dtypes"
   ]
  },
  {
   "cell_type": "code",
   "execution_count": null,
   "metadata": {
    "ExecuteTime": {
     "end_time": "2021-04-14T16:24:13.417068Z",
     "start_time": "2021-04-14T16:24:13.412066Z"
    }
   },
   "outputs": [],
   "source": [
    "a = utenti.loc[0, 'DATA di NASCITA']"
   ]
  },
  {
   "cell_type": "markdown",
   "metadata": {},
   "source": [
    "## Distribuzione di genere"
   ]
  },
  {
   "cell_type": "markdown",
   "metadata": {},
   "source": [
    "### Pandas groupby"
   ]
  },
  {
   "cell_type": "code",
   "execution_count": null,
   "metadata": {
    "ExecuteTime": {
     "end_time": "2021-04-14T16:24:18.253086Z",
     "start_time": "2021-04-14T16:24:18.239485Z"
    }
   },
   "outputs": [],
   "source": [
    "utenti.groupby('SESSO').size()"
   ]
  },
  {
   "cell_type": "markdown",
   "metadata": {},
   "source": [
    "### visualizzazione"
   ]
  },
  {
   "cell_type": "code",
   "execution_count": null,
   "metadata": {
    "ExecuteTime": {
     "end_time": "2021-04-14T16:24:20.137042Z",
     "start_time": "2021-04-14T16:24:19.524691Z"
    }
   },
   "outputs": [],
   "source": [
    "utenti.groupby('SESSO').size().plot.bar()"
   ]
  },
  {
   "cell_type": "markdown",
   "metadata": {},
   "source": [
    "## distribuzione dei titoli di studio"
   ]
  },
  {
   "cell_type": "code",
   "execution_count": null,
   "metadata": {},
   "outputs": [],
   "source": []
  },
  {
   "cell_type": "markdown",
   "metadata": {},
   "source": [
    "## distribuzione dei luoghi di nascita (i 10 più frequenti)"
   ]
  },
  {
   "cell_type": "code",
   "execution_count": null,
   "metadata": {},
   "outputs": [],
   "source": []
  },
  {
   "cell_type": "markdown",
   "metadata": {},
   "source": [
    "## distribuzione dell'anno di nascita"
   ]
  },
  {
   "cell_type": "code",
   "execution_count": null,
   "metadata": {},
   "outputs": [],
   "source": []
  },
  {
   "cell_type": "markdown",
   "metadata": {},
   "source": [
    "## BONUS: distribuzione delle età"
   ]
  },
  {
   "cell_type": "code",
   "execution_count": null,
   "metadata": {},
   "outputs": [],
   "source": []
  },
  {
   "cell_type": "markdown",
   "metadata": {},
   "source": [
    "## BONUS: distribuzione del consenso al trattamento dei dati"
   ]
  },
  {
   "cell_type": "code",
   "execution_count": null,
   "metadata": {},
   "outputs": [],
   "source": []
  },
  {
   "cell_type": "markdown",
   "metadata": {},
   "source": [
    "# Viaggi"
   ]
  },
  {
   "cell_type": "code",
   "execution_count": null,
   "metadata": {
    "ExecuteTime": {
     "end_time": "2021-04-13T13:18:37.741061Z",
     "start_time": "2021-04-13T13:18:36.532387Z"
    }
   },
   "outputs": [],
   "source": [
    "viaggi = pd.read_csv(\n",
    "    f'{path_to_file}/viaggi.csv',\n",
    "    sep='*',\n",
    "    decimal=','\n",
    ")"
   ]
  },
  {
   "cell_type": "code",
   "execution_count": null,
   "metadata": {
    "ExecuteTime": {
     "end_time": "2021-04-13T13:18:37.775310Z",
     "start_time": "2021-04-13T13:18:37.741061Z"
    }
   },
   "outputs": [],
   "source": [
    "viaggi.head()"
   ]
  },
  {
   "cell_type": "markdown",
   "metadata": {},
   "source": [
    "## Punteggi Viaggio (DrivingScore)"
   ]
  },
  {
   "cell_type": "code",
   "execution_count": null,
   "metadata": {},
   "outputs": [],
   "source": []
  },
  {
   "cell_type": "markdown",
   "metadata": {},
   "source": [
    "## Esiste qualche relazione tra il punteggioViaggi dei viaggi e le caratteristiche degli utenti?"
   ]
  },
  {
   "cell_type": "code",
   "execution_count": null,
   "metadata": {},
   "outputs": [],
   "source": []
  },
  {
   "cell_type": "markdown",
   "metadata": {},
   "source": [
    "### genere vs. punteggioViaggi"
   ]
  },
  {
   "cell_type": "code",
   "execution_count": null,
   "metadata": {},
   "outputs": [],
   "source": []
  },
  {
   "cell_type": "markdown",
   "metadata": {},
   "source": [
    "### età vs. punteggioViaggi"
   ]
  },
  {
   "cell_type": "code",
   "execution_count": null,
   "metadata": {},
   "outputs": [],
   "source": []
  },
  {
   "cell_type": "markdown",
   "metadata": {},
   "source": [
    "## BONUS: si possono visualizzare in maniera significativa le coordinate dei luoghi di pickup?"
   ]
  },
  {
   "cell_type": "code",
   "execution_count": null,
   "metadata": {},
   "outputs": [],
   "source": []
  }
 ],
 "metadata": {
  "kernelspec": {
   "display_name": ".venv-mimocko",
   "language": "python",
   "name": ".venv-mimocko"
  },
  "language_info": {
   "codemirror_mode": {
    "name": "ipython",
    "version": 3
   },
   "file_extension": ".py",
   "mimetype": "text/x-python",
   "name": "python",
   "nbconvert_exporter": "python",
   "pygments_lexer": "ipython3",
   "version": "3.8.5"
  }
 },
 "nbformat": 4,
 "nbformat_minor": 5
}
