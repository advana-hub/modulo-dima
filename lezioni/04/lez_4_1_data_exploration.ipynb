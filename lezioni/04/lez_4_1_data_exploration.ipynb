{
 "cells": [
  {
   "cell_type": "markdown",
   "metadata": {
    "execution": {
     "iopub.execute_input": "2021-04-15T07:29:32.855188Z",
     "iopub.status.busy": "2021-04-15T07:29:32.854176Z",
     "iopub.status.idle": "2021-04-15T07:29:32.860179Z",
     "shell.execute_reply": "2021-04-15T07:29:32.859179Z",
     "shell.execute_reply.started": "2021-04-15T07:29:32.855188Z"
    }
   },
   "source": [
    "<img src=\"../../assets/mimocko_logo_white.png\" style=\"margin-left:auto;margin-right:auto;width:50%\">"
   ]
  },
  {
   "cell_type": "code",
   "execution_count": 1,
   "metadata": {
    "ExecuteTime": {
     "end_time": "2021-04-14T16:23:06.740433Z",
     "start_time": "2021-04-14T16:23:05.960129Z"
    },
    "execution": {
     "iopub.execute_input": "2021-04-15T07:31:14.047251Z",
     "iopub.status.busy": "2021-04-15T07:31:14.046276Z",
     "iopub.status.idle": "2021-04-15T07:31:14.515957Z",
     "shell.execute_reply": "2021-04-15T07:31:14.515065Z",
     "shell.execute_reply.started": "2021-04-15T07:31:14.047251Z"
    }
   },
   "outputs": [],
   "source": [
    "import pandas as pd"
   ]
  },
  {
   "cell_type": "code",
   "execution_count": 2,
   "metadata": {
    "ExecuteTime": {
     "end_time": "2021-04-14T16:23:06.749406Z",
     "start_time": "2021-04-14T16:23:06.743409Z"
    },
    "execution": {
     "iopub.execute_input": "2021-04-15T07:31:14.516958Z",
     "iopub.status.busy": "2021-04-15T07:31:14.516958Z",
     "iopub.status.idle": "2021-04-15T07:31:14.521956Z",
     "shell.execute_reply": "2021-04-15T07:31:14.520956Z",
     "shell.execute_reply.started": "2021-04-15T07:31:14.516958Z"
    }
   },
   "outputs": [],
   "source": [
    "import datetime # una libreria per gestire particolari tipi di dati (date, tempi, etc.)"
   ]
  },
  {
   "cell_type": "code",
   "execution_count": 30,
   "metadata": {
    "execution": {
     "iopub.execute_input": "2021-04-15T07:42:40.569134Z",
     "iopub.status.busy": "2021-04-15T07:42:40.569134Z",
     "iopub.status.idle": "2021-04-15T07:42:40.577131Z",
     "shell.execute_reply": "2021-04-15T07:42:40.576133Z",
     "shell.execute_reply.started": "2021-04-15T07:42:40.569134Z"
    }
   },
   "outputs": [],
   "source": [
    "# una funzione che ci tornerà comoda... per ora non ci soffermiamo su cosa fa\n",
    "\n",
    "def process_viaggi_data(df: pd.DataFrame) -> pd.DataFrame:\n",
    "    import warnings\n",
    "    with warnings.catch_warnings():\n",
    "        warnings.simplefilter('ignore')\n",
    "        df['coordinate_ritiro'] = df['luogoRitiro'].apply(lambda x: eval(x)[0])\n",
    "        df['coordinate_consegna'] = df['luogoConsegna'].apply(lambda x: eval(x)[0])\n",
    "        df['lat_ritiro'] = df['coordinate_ritiro'].apply(lambda x: x[0])\n",
    "        df['lon_ritiro'] = df['coordinate_ritiro'].apply(lambda x: x[1])\n",
    "        df['lat_consegna'] = df['coordinate_consegna'].apply(lambda x: x[0])\n",
    "        df['lon_consegna'] = df['coordinate_consegna'].apply(lambda x: x[1])\n",
    "    return df"
   ]
  },
  {
   "cell_type": "markdown",
   "metadata": {},
   "source": [
    "# Utenti"
   ]
  },
  {
   "cell_type": "code",
   "execution_count": 3,
   "metadata": {
    "ExecuteTime": {
     "end_time": "2021-04-14T16:23:06.771406Z",
     "start_time": "2021-04-14T16:23:06.756412Z"
    },
    "execution": {
     "iopub.execute_input": "2021-04-15T07:31:16.621838Z",
     "iopub.status.busy": "2021-04-15T07:31:16.621838Z",
     "iopub.status.idle": "2021-04-15T07:31:16.627838Z",
     "shell.execute_reply": "2021-04-15T07:31:16.625837Z",
     "shell.execute_reply.started": "2021-04-15T07:31:16.621838Z"
    }
   },
   "outputs": [],
   "source": [
    "path_to_file = '../../../dati-mimocko'"
   ]
  },
  {
   "cell_type": "markdown",
   "metadata": {},
   "source": [
    "## Caricamento del CSV con opzioni di default"
   ]
  },
  {
   "cell_type": "code",
   "execution_count": 4,
   "metadata": {
    "ExecuteTime": {
     "end_time": "2021-04-14T16:23:10.708158Z",
     "start_time": "2021-04-14T16:23:10.620341Z"
    },
    "execution": {
     "iopub.execute_input": "2021-04-15T07:31:17.303422Z",
     "iopub.status.busy": "2021-04-15T07:31:17.303422Z",
     "iopub.status.idle": "2021-04-15T07:31:17.365415Z",
     "shell.execute_reply": "2021-04-15T07:31:17.364419Z",
     "shell.execute_reply.started": "2021-04-15T07:31:17.303422Z"
    }
   },
   "outputs": [],
   "source": [
    "utenti = pd.read_csv(\n",
    "    f'{path_to_file}/utenti.csv'\n",
    ")"
   ]
  },
  {
   "cell_type": "code",
   "execution_count": 5,
   "metadata": {
    "ExecuteTime": {
     "end_time": "2021-04-14T16:23:11.820857Z",
     "start_time": "2021-04-14T16:23:11.803855Z"
    },
    "execution": {
     "iopub.execute_input": "2021-04-15T07:31:17.914677Z",
     "iopub.status.busy": "2021-04-15T07:31:17.914677Z",
     "iopub.status.idle": "2021-04-15T07:31:17.935504Z",
     "shell.execute_reply": "2021-04-15T07:31:17.934419Z",
     "shell.execute_reply.started": "2021-04-15T07:31:17.914677Z"
    }
   },
   "outputs": [
    {
     "data": {
      "text/html": [
       "<div>\n",
       "<style scoped>\n",
       "    .dataframe tbody tr th:only-of-type {\n",
       "        vertical-align: middle;\n",
       "    }\n",
       "\n",
       "    .dataframe tbody tr th {\n",
       "        vertical-align: top;\n",
       "    }\n",
       "\n",
       "    .dataframe thead th {\n",
       "        text-align: right;\n",
       "    }\n",
       "</style>\n",
       "<table border=\"1\" class=\"dataframe\">\n",
       "  <thead>\n",
       "    <tr style=\"text-align: right;\">\n",
       "      <th></th>\n",
       "      <th></th>\n",
       "      <th></th>\n",
       "      <th></th>\n",
       "      <th>ID UTENTE|NOME|COGNOME|SESSO|DATA di NASCITA|LUOGO di NASCITA|C.F.|INDIRIZZO E-MAIL|INDIRIZZO|LAT INDIRIZZO|LON INDIRIZZO|PATENTE #|DATA ULTIMO RINNOVO PATENTE|CONSENSO al TRATTAMENTO dei DATI|TITOLO di STUDIO</th>\n",
       "    </tr>\n",
       "  </thead>\n",
       "  <tbody>\n",
       "    <tr>\n",
       "      <th>u6586|Dario|Nibali|M|12/09/1986|Torino|NBLDRA86P12L219E||GENOVA</th>\n",
       "      <th>VIA VAL D'ASTICO</th>\n",
       "      <th>156|44</th>\n",
       "      <th>4946921|8</th>\n",
       "      <td>908447|U19713653J|2019-03-30|False|</td>\n",
       "    </tr>\n",
       "    <tr>\n",
       "      <th>u2188|Giacinto|Ferraris|M|24/05/1986|Carrara|FRRGNT86E24B832A|ferraris86@vodafone.it|GENOVA</th>\n",
       "      <th>VIA SAMBUGO</th>\n",
       "      <th>10|44</th>\n",
       "      <th>4491083|8</th>\n",
       "      <td>6963344|U18283370F|2019-08-19|False|diploma di...</td>\n",
       "    </tr>\n",
       "    <tr>\n",
       "      <th>u5528|Fiorenzo|Morosini|M|11/02/1988|Siena|MRSFNZ88B11I726L||GENOVA</th>\n",
       "      <th>VIA DI BURLO</th>\n",
       "      <th>1|44</th>\n",
       "      <th>4420369|8</th>\n",
       "      <td>8755262|U10335012S|2014-01-25|False|</td>\n",
       "    </tr>\n",
       "    <tr>\n",
       "      <th>u1224|Ruggero|Ciani|M|26/11/1974|Lavagna|CNIRGR74S26E488U||GENOVA</th>\n",
       "      <th>VIA CEBA'</th>\n",
       "      <th>3|44</th>\n",
       "      <th>4085441|8</th>\n",
       "      <td>9360784|U12038058X|2018-10-08|False|diploma di...</td>\n",
       "    </tr>\n",
       "    <tr>\n",
       "      <th>u6553|Umberto|Baglioni|M|15/03/1985|Monza|BGLMRT85C15F704T||GENOVA</th>\n",
       "      <th>CORSO ITALIA</th>\n",
       "      <th>7|44</th>\n",
       "      <th>3914268|8</th>\n",
       "      <td>9560019|U11861180V|2017-11-13|True|licenza di ...</td>\n",
       "    </tr>\n",
       "  </tbody>\n",
       "</table>\n",
       "</div>"
      ],
      "text/plain": [
       "                                                                                       ID UTENTE|NOME|COGNOME|SESSO|DATA di NASCITA|LUOGO di NASCITA|C.F.|INDIRIZZO E-MAIL|INDIRIZZO|LAT INDIRIZZO|LON INDIRIZZO|PATENTE #|DATA ULTIMO RINNOVO PATENTE|CONSENSO al TRATTAMENTO dei DATI|TITOLO di STUDIO\n",
       "u6586|Dario|Nibali|M|12/09/1986|Torino|NBLDRA86...  VIA VAL D'ASTICO  156|44 4946921|8                908447|U19713653J|2019-03-30|False|                                                                                                                                                               \n",
       "u2188|Giacinto|Ferraris|M|24/05/1986|Carrara|FR...  VIA SAMBUGO       10|44  4491083|8  6963344|U18283370F|2019-08-19|False|diploma di...                                                                                                                                                               \n",
       "u5528|Fiorenzo|Morosini|M|11/02/1988|Siena|MRSF...  VIA DI BURLO      1|44   4420369|8               8755262|U10335012S|2014-01-25|False|                                                                                                                                                               \n",
       "u1224|Ruggero|Ciani|M|26/11/1974|Lavagna|CNIRGR...  VIA CEBA'         3|44   4085441|8  9360784|U12038058X|2018-10-08|False|diploma di...                                                                                                                                                               \n",
       "u6553|Umberto|Baglioni|M|15/03/1985|Monza|BGLMR...  CORSO ITALIA      7|44   3914268|8  9560019|U11861180V|2017-11-13|True|licenza di ...                                                                                                                                                               "
      ]
     },
     "execution_count": 5,
     "metadata": {},
     "output_type": "execute_result"
    }
   ],
   "source": [
    "utenti.head()"
   ]
  },
  {
   "cell_type": "markdown",
   "metadata": {},
   "source": [
    "### Hint: provare ad aprire il CSV con editor di testo"
   ]
  },
  {
   "cell_type": "code",
   "execution_count": null,
   "metadata": {},
   "outputs": [],
   "source": []
  },
  {
   "cell_type": "markdown",
   "metadata": {},
   "source": [
    "## Caricamento del CSV con indicazione del separatore di campi"
   ]
  },
  {
   "cell_type": "code",
   "execution_count": 6,
   "metadata": {
    "ExecuteTime": {
     "end_time": "2021-04-14T16:24:02.039934Z",
     "start_time": "2021-04-14T16:24:01.945935Z"
    },
    "execution": {
     "iopub.execute_input": "2021-04-15T07:31:48.579518Z",
     "iopub.status.busy": "2021-04-15T07:31:48.579518Z",
     "iopub.status.idle": "2021-04-15T07:31:48.635127Z",
     "shell.execute_reply": "2021-04-15T07:31:48.634121Z",
     "shell.execute_reply.started": "2021-04-15T07:31:48.579518Z"
    }
   },
   "outputs": [],
   "source": [
    "utenti = pd.read_csv(\n",
    "    f'{path_to_file}/utenti.csv',\n",
    "    sep='|'\n",
    ")"
   ]
  },
  {
   "cell_type": "code",
   "execution_count": 7,
   "metadata": {
    "ExecuteTime": {
     "end_time": "2021-04-14T16:24:02.470216Z",
     "start_time": "2021-04-14T16:24:02.435220Z"
    },
    "execution": {
     "iopub.execute_input": "2021-04-15T07:31:49.096983Z",
     "iopub.status.busy": "2021-04-15T07:31:49.095981Z",
     "iopub.status.idle": "2021-04-15T07:31:49.120977Z",
     "shell.execute_reply": "2021-04-15T07:31:49.120014Z",
     "shell.execute_reply.started": "2021-04-15T07:31:49.096983Z"
    }
   },
   "outputs": [
    {
     "data": {
      "text/html": [
       "<div>\n",
       "<style scoped>\n",
       "    .dataframe tbody tr th:only-of-type {\n",
       "        vertical-align: middle;\n",
       "    }\n",
       "\n",
       "    .dataframe tbody tr th {\n",
       "        vertical-align: top;\n",
       "    }\n",
       "\n",
       "    .dataframe thead th {\n",
       "        text-align: right;\n",
       "    }\n",
       "</style>\n",
       "<table border=\"1\" class=\"dataframe\">\n",
       "  <thead>\n",
       "    <tr style=\"text-align: right;\">\n",
       "      <th></th>\n",
       "      <th>ID UTENTE</th>\n",
       "      <th>NOME</th>\n",
       "      <th>COGNOME</th>\n",
       "      <th>SESSO</th>\n",
       "      <th>DATA di NASCITA</th>\n",
       "      <th>LUOGO di NASCITA</th>\n",
       "      <th>C.F.</th>\n",
       "      <th>INDIRIZZO E-MAIL</th>\n",
       "      <th>INDIRIZZO</th>\n",
       "      <th>LAT INDIRIZZO</th>\n",
       "      <th>LON INDIRIZZO</th>\n",
       "      <th>PATENTE #</th>\n",
       "      <th>DATA ULTIMO RINNOVO PATENTE</th>\n",
       "      <th>CONSENSO al TRATTAMENTO dei DATI</th>\n",
       "      <th>TITOLO di STUDIO</th>\n",
       "    </tr>\n",
       "  </thead>\n",
       "  <tbody>\n",
       "    <tr>\n",
       "      <th>0</th>\n",
       "      <td>u6586</td>\n",
       "      <td>Dario</td>\n",
       "      <td>Nibali</td>\n",
       "      <td>M</td>\n",
       "      <td>12/09/1986</td>\n",
       "      <td>Torino</td>\n",
       "      <td>NBLDRA86P12L219E</td>\n",
       "      <td>NaN</td>\n",
       "      <td>GENOVA, VIA VAL D'ASTICO, 156</td>\n",
       "      <td>44,4946921</td>\n",
       "      <td>8,908447</td>\n",
       "      <td>U19713653J</td>\n",
       "      <td>2019-03-30</td>\n",
       "      <td>False</td>\n",
       "      <td>NaN</td>\n",
       "    </tr>\n",
       "    <tr>\n",
       "      <th>1</th>\n",
       "      <td>u2188</td>\n",
       "      <td>Giacinto</td>\n",
       "      <td>Ferraris</td>\n",
       "      <td>M</td>\n",
       "      <td>24/05/1986</td>\n",
       "      <td>Carrara</td>\n",
       "      <td>FRRGNT86E24B832A</td>\n",
       "      <td>ferraris86@vodafone.it</td>\n",
       "      <td>GENOVA, VIA SAMBUGO, 10</td>\n",
       "      <td>44,4491083</td>\n",
       "      <td>8,6963344</td>\n",
       "      <td>U18283370F</td>\n",
       "      <td>2019-08-19</td>\n",
       "      <td>False</td>\n",
       "      <td>diploma di scuola secondaria superiore (4-5 anni)</td>\n",
       "    </tr>\n",
       "    <tr>\n",
       "      <th>2</th>\n",
       "      <td>u5528</td>\n",
       "      <td>Fiorenzo</td>\n",
       "      <td>Morosini</td>\n",
       "      <td>M</td>\n",
       "      <td>11/02/1988</td>\n",
       "      <td>Siena</td>\n",
       "      <td>MRSFNZ88B11I726L</td>\n",
       "      <td>NaN</td>\n",
       "      <td>GENOVA, VIA DI BURLO, 1</td>\n",
       "      <td>44,4420369</td>\n",
       "      <td>8,8755262</td>\n",
       "      <td>U10335012S</td>\n",
       "      <td>2014-01-25</td>\n",
       "      <td>False</td>\n",
       "      <td>NaN</td>\n",
       "    </tr>\n",
       "    <tr>\n",
       "      <th>3</th>\n",
       "      <td>u1224</td>\n",
       "      <td>Ruggero</td>\n",
       "      <td>Ciani</td>\n",
       "      <td>M</td>\n",
       "      <td>26/11/1974</td>\n",
       "      <td>Lavagna</td>\n",
       "      <td>CNIRGR74S26E488U</td>\n",
       "      <td>NaN</td>\n",
       "      <td>GENOVA, VIA CEBA', 3</td>\n",
       "      <td>44,4085441</td>\n",
       "      <td>8,9360784</td>\n",
       "      <td>U12038058X</td>\n",
       "      <td>2018-10-08</td>\n",
       "      <td>False</td>\n",
       "      <td>diploma di scuola secondaria superiore (4-5 anni)</td>\n",
       "    </tr>\n",
       "    <tr>\n",
       "      <th>4</th>\n",
       "      <td>u6553</td>\n",
       "      <td>Umberto</td>\n",
       "      <td>Baglioni</td>\n",
       "      <td>M</td>\n",
       "      <td>15/03/1985</td>\n",
       "      <td>Monza</td>\n",
       "      <td>BGLMRT85C15F704T</td>\n",
       "      <td>NaN</td>\n",
       "      <td>GENOVA, CORSO ITALIA, 7</td>\n",
       "      <td>44,3914268</td>\n",
       "      <td>8,9560019</td>\n",
       "      <td>U11861180V</td>\n",
       "      <td>2017-11-13</td>\n",
       "      <td>True</td>\n",
       "      <td>licenza di scuola elementare</td>\n",
       "    </tr>\n",
       "  </tbody>\n",
       "</table>\n",
       "</div>"
      ],
      "text/plain": [
       "  ID UTENTE      NOME   COGNOME SESSO DATA di NASCITA LUOGO di NASCITA  \\\n",
       "0     u6586     Dario    Nibali     M      12/09/1986           Torino   \n",
       "1     u2188  Giacinto  Ferraris     M      24/05/1986          Carrara   \n",
       "2     u5528  Fiorenzo  Morosini     M      11/02/1988            Siena   \n",
       "3     u1224   Ruggero     Ciani     M      26/11/1974          Lavagna   \n",
       "4     u6553   Umberto  Baglioni     M      15/03/1985            Monza   \n",
       "\n",
       "               C.F.        INDIRIZZO E-MAIL                      INDIRIZZO  \\\n",
       "0  NBLDRA86P12L219E                     NaN  GENOVA, VIA VAL D'ASTICO, 156   \n",
       "1  FRRGNT86E24B832A  ferraris86@vodafone.it        GENOVA, VIA SAMBUGO, 10   \n",
       "2  MRSFNZ88B11I726L                     NaN        GENOVA, VIA DI BURLO, 1   \n",
       "3  CNIRGR74S26E488U                     NaN           GENOVA, VIA CEBA', 3   \n",
       "4  BGLMRT85C15F704T                     NaN        GENOVA, CORSO ITALIA, 7   \n",
       "\n",
       "  LAT INDIRIZZO LON INDIRIZZO   PATENTE # DATA ULTIMO RINNOVO PATENTE  \\\n",
       "0    44,4946921      8,908447  U19713653J                  2019-03-30   \n",
       "1    44,4491083     8,6963344  U18283370F                  2019-08-19   \n",
       "2    44,4420369     8,8755262  U10335012S                  2014-01-25   \n",
       "3    44,4085441     8,9360784  U12038058X                  2018-10-08   \n",
       "4    44,3914268     8,9560019  U11861180V                  2017-11-13   \n",
       "\n",
       "   CONSENSO al TRATTAMENTO dei DATI  \\\n",
       "0                             False   \n",
       "1                             False   \n",
       "2                             False   \n",
       "3                             False   \n",
       "4                              True   \n",
       "\n",
       "                                    TITOLO di STUDIO  \n",
       "0                                                NaN  \n",
       "1  diploma di scuola secondaria superiore (4-5 anni)  \n",
       "2                                                NaN  \n",
       "3  diploma di scuola secondaria superiore (4-5 anni)  \n",
       "4                       licenza di scuola elementare  "
      ]
     },
     "execution_count": 7,
     "metadata": {},
     "output_type": "execute_result"
    }
   ],
   "source": [
    "utenti.head()"
   ]
  },
  {
   "cell_type": "code",
   "execution_count": 8,
   "metadata": {
    "ExecuteTime": {
     "end_time": "2021-04-14T16:24:03.149120Z",
     "start_time": "2021-04-14T16:24:03.138119Z"
    },
    "execution": {
     "iopub.execute_input": "2021-04-15T07:31:51.631302Z",
     "iopub.status.busy": "2021-04-15T07:31:51.630310Z",
     "iopub.status.idle": "2021-04-15T07:31:51.639300Z",
     "shell.execute_reply": "2021-04-15T07:31:51.638337Z",
     "shell.execute_reply.started": "2021-04-15T07:31:51.631302Z"
    }
   },
   "outputs": [
    {
     "data": {
      "text/plain": [
       "ID UTENTE                                                                        u551\n",
       "NOME                                                                           Emilio\n",
       "COGNOME                                                                     Guglielmi\n",
       "SESSO                                                                               M\n",
       "DATA di NASCITA                                                            30/03/1986\n",
       "LUOGO di NASCITA                                                               Genova\n",
       "C.F.                                                                 GGLMLE86C30D969A\n",
       "INDIRIZZO E-MAIL                                           emilio.guglielmi@libero.it\n",
       "INDIRIZZO                                        GENOVA, VIA SAN MICHELE DEL CARSO, 3\n",
       "LAT INDIRIZZO                                                               45,465383\n",
       "LON INDIRIZZO                                                               9,1647729\n",
       "PATENTE #                                                                  U12845263I\n",
       "DATA ULTIMO RINNOVO PATENTE                                                2017-01-04\n",
       "CONSENSO al TRATTAMENTO dei DATI                                                 True\n",
       "TITOLO di STUDIO                    diploma di scuola secondaria superiore (2-3 anni)\n",
       "Name: 2074, dtype: object"
      ]
     },
     "execution_count": 8,
     "metadata": {},
     "output_type": "execute_result"
    }
   ],
   "source": [
    "utenti.loc[2074]"
   ]
  },
  {
   "cell_type": "code",
   "execution_count": 9,
   "metadata": {
    "ExecuteTime": {
     "end_time": "2021-04-14T16:24:06.145641Z",
     "start_time": "2021-04-14T16:24:06.134637Z"
    },
    "execution": {
     "iopub.execute_input": "2021-04-15T07:31:51.885681Z",
     "iopub.status.busy": "2021-04-15T07:31:51.884680Z",
     "iopub.status.idle": "2021-04-15T07:31:51.895675Z",
     "shell.execute_reply": "2021-04-15T07:31:51.894684Z",
     "shell.execute_reply.started": "2021-04-15T07:31:51.885681Z"
    }
   },
   "outputs": [
    {
     "data": {
      "text/plain": [
       "ID UTENTE                           object\n",
       "NOME                                object\n",
       "COGNOME                             object\n",
       "SESSO                               object\n",
       "DATA di NASCITA                     object\n",
       "LUOGO di NASCITA                    object\n",
       "C.F.                                object\n",
       "INDIRIZZO E-MAIL                    object\n",
       "INDIRIZZO                           object\n",
       "LAT INDIRIZZO                       object\n",
       "LON INDIRIZZO                       object\n",
       "PATENTE #                           object\n",
       "DATA ULTIMO RINNOVO PATENTE         object\n",
       "CONSENSO al TRATTAMENTO dei DATI      bool\n",
       "TITOLO di STUDIO                    object\n",
       "dtype: object"
      ]
     },
     "execution_count": 9,
     "metadata": {},
     "output_type": "execute_result"
    }
   ],
   "source": [
    "utenti.dtypes"
   ]
  },
  {
   "cell_type": "markdown",
   "metadata": {},
   "source": [
    "## caricamento del CSV con indicazione del separatore delle cifre decimali"
   ]
  },
  {
   "cell_type": "code",
   "execution_count": 10,
   "metadata": {
    "ExecuteTime": {
     "end_time": "2021-04-14T16:24:08.186939Z",
     "start_time": "2021-04-14T16:24:08.119675Z"
    },
    "execution": {
     "iopub.execute_input": "2021-04-15T07:31:54.338942Z",
     "iopub.status.busy": "2021-04-15T07:31:54.338942Z",
     "iopub.status.idle": "2021-04-15T07:31:54.386974Z",
     "shell.execute_reply": "2021-04-15T07:31:54.386010Z",
     "shell.execute_reply.started": "2021-04-15T07:31:54.338942Z"
    }
   },
   "outputs": [],
   "source": [
    "utenti = pd.read_csv(\n",
    "    f'{path_to_file}/utenti.csv',\n",
    "    sep='|',\n",
    "    decimal=','\n",
    ")"
   ]
  },
  {
   "cell_type": "code",
   "execution_count": 11,
   "metadata": {
    "ExecuteTime": {
     "end_time": "2021-04-14T16:24:08.420400Z",
     "start_time": "2021-04-14T16:24:08.390394Z"
    },
    "execution": {
     "iopub.execute_input": "2021-04-15T07:31:58.327333Z",
     "iopub.status.busy": "2021-04-15T07:31:58.327333Z",
     "iopub.status.idle": "2021-04-15T07:31:58.345319Z",
     "shell.execute_reply": "2021-04-15T07:31:58.344322Z",
     "shell.execute_reply.started": "2021-04-15T07:31:58.327333Z"
    }
   },
   "outputs": [
    {
     "data": {
      "text/html": [
       "<div>\n",
       "<style scoped>\n",
       "    .dataframe tbody tr th:only-of-type {\n",
       "        vertical-align: middle;\n",
       "    }\n",
       "\n",
       "    .dataframe tbody tr th {\n",
       "        vertical-align: top;\n",
       "    }\n",
       "\n",
       "    .dataframe thead th {\n",
       "        text-align: right;\n",
       "    }\n",
       "</style>\n",
       "<table border=\"1\" class=\"dataframe\">\n",
       "  <thead>\n",
       "    <tr style=\"text-align: right;\">\n",
       "      <th></th>\n",
       "      <th>ID UTENTE</th>\n",
       "      <th>NOME</th>\n",
       "      <th>COGNOME</th>\n",
       "      <th>SESSO</th>\n",
       "      <th>DATA di NASCITA</th>\n",
       "      <th>LUOGO di NASCITA</th>\n",
       "      <th>C.F.</th>\n",
       "      <th>INDIRIZZO E-MAIL</th>\n",
       "      <th>INDIRIZZO</th>\n",
       "      <th>LAT INDIRIZZO</th>\n",
       "      <th>LON INDIRIZZO</th>\n",
       "      <th>PATENTE #</th>\n",
       "      <th>DATA ULTIMO RINNOVO PATENTE</th>\n",
       "      <th>CONSENSO al TRATTAMENTO dei DATI</th>\n",
       "      <th>TITOLO di STUDIO</th>\n",
       "    </tr>\n",
       "  </thead>\n",
       "  <tbody>\n",
       "    <tr>\n",
       "      <th>0</th>\n",
       "      <td>u6586</td>\n",
       "      <td>Dario</td>\n",
       "      <td>Nibali</td>\n",
       "      <td>M</td>\n",
       "      <td>12/09/1986</td>\n",
       "      <td>Torino</td>\n",
       "      <td>NBLDRA86P12L219E</td>\n",
       "      <td>NaN</td>\n",
       "      <td>GENOVA, VIA VAL D'ASTICO, 156</td>\n",
       "      <td>44.494692</td>\n",
       "      <td>8.908447</td>\n",
       "      <td>U19713653J</td>\n",
       "      <td>2019-03-30</td>\n",
       "      <td>False</td>\n",
       "      <td>NaN</td>\n",
       "    </tr>\n",
       "    <tr>\n",
       "      <th>1</th>\n",
       "      <td>u2188</td>\n",
       "      <td>Giacinto</td>\n",
       "      <td>Ferraris</td>\n",
       "      <td>M</td>\n",
       "      <td>24/05/1986</td>\n",
       "      <td>Carrara</td>\n",
       "      <td>FRRGNT86E24B832A</td>\n",
       "      <td>ferraris86@vodafone.it</td>\n",
       "      <td>GENOVA, VIA SAMBUGO, 10</td>\n",
       "      <td>44.449108</td>\n",
       "      <td>8.696334</td>\n",
       "      <td>U18283370F</td>\n",
       "      <td>2019-08-19</td>\n",
       "      <td>False</td>\n",
       "      <td>diploma di scuola secondaria superiore (4-5 anni)</td>\n",
       "    </tr>\n",
       "    <tr>\n",
       "      <th>2</th>\n",
       "      <td>u5528</td>\n",
       "      <td>Fiorenzo</td>\n",
       "      <td>Morosini</td>\n",
       "      <td>M</td>\n",
       "      <td>11/02/1988</td>\n",
       "      <td>Siena</td>\n",
       "      <td>MRSFNZ88B11I726L</td>\n",
       "      <td>NaN</td>\n",
       "      <td>GENOVA, VIA DI BURLO, 1</td>\n",
       "      <td>44.442037</td>\n",
       "      <td>8.875526</td>\n",
       "      <td>U10335012S</td>\n",
       "      <td>2014-01-25</td>\n",
       "      <td>False</td>\n",
       "      <td>NaN</td>\n",
       "    </tr>\n",
       "    <tr>\n",
       "      <th>3</th>\n",
       "      <td>u1224</td>\n",
       "      <td>Ruggero</td>\n",
       "      <td>Ciani</td>\n",
       "      <td>M</td>\n",
       "      <td>26/11/1974</td>\n",
       "      <td>Lavagna</td>\n",
       "      <td>CNIRGR74S26E488U</td>\n",
       "      <td>NaN</td>\n",
       "      <td>GENOVA, VIA CEBA', 3</td>\n",
       "      <td>44.408544</td>\n",
       "      <td>8.936078</td>\n",
       "      <td>U12038058X</td>\n",
       "      <td>2018-10-08</td>\n",
       "      <td>False</td>\n",
       "      <td>diploma di scuola secondaria superiore (4-5 anni)</td>\n",
       "    </tr>\n",
       "    <tr>\n",
       "      <th>4</th>\n",
       "      <td>u6553</td>\n",
       "      <td>Umberto</td>\n",
       "      <td>Baglioni</td>\n",
       "      <td>M</td>\n",
       "      <td>15/03/1985</td>\n",
       "      <td>Monza</td>\n",
       "      <td>BGLMRT85C15F704T</td>\n",
       "      <td>NaN</td>\n",
       "      <td>GENOVA, CORSO ITALIA, 7</td>\n",
       "      <td>44.391427</td>\n",
       "      <td>8.956002</td>\n",
       "      <td>U11861180V</td>\n",
       "      <td>2017-11-13</td>\n",
       "      <td>True</td>\n",
       "      <td>licenza di scuola elementare</td>\n",
       "    </tr>\n",
       "  </tbody>\n",
       "</table>\n",
       "</div>"
      ],
      "text/plain": [
       "  ID UTENTE      NOME   COGNOME SESSO DATA di NASCITA LUOGO di NASCITA  \\\n",
       "0     u6586     Dario    Nibali     M      12/09/1986           Torino   \n",
       "1     u2188  Giacinto  Ferraris     M      24/05/1986          Carrara   \n",
       "2     u5528  Fiorenzo  Morosini     M      11/02/1988            Siena   \n",
       "3     u1224   Ruggero     Ciani     M      26/11/1974          Lavagna   \n",
       "4     u6553   Umberto  Baglioni     M      15/03/1985            Monza   \n",
       "\n",
       "               C.F.        INDIRIZZO E-MAIL                      INDIRIZZO  \\\n",
       "0  NBLDRA86P12L219E                     NaN  GENOVA, VIA VAL D'ASTICO, 156   \n",
       "1  FRRGNT86E24B832A  ferraris86@vodafone.it        GENOVA, VIA SAMBUGO, 10   \n",
       "2  MRSFNZ88B11I726L                     NaN        GENOVA, VIA DI BURLO, 1   \n",
       "3  CNIRGR74S26E488U                     NaN           GENOVA, VIA CEBA', 3   \n",
       "4  BGLMRT85C15F704T                     NaN        GENOVA, CORSO ITALIA, 7   \n",
       "\n",
       "   LAT INDIRIZZO  LON INDIRIZZO   PATENTE # DATA ULTIMO RINNOVO PATENTE  \\\n",
       "0      44.494692       8.908447  U19713653J                  2019-03-30   \n",
       "1      44.449108       8.696334  U18283370F                  2019-08-19   \n",
       "2      44.442037       8.875526  U10335012S                  2014-01-25   \n",
       "3      44.408544       8.936078  U12038058X                  2018-10-08   \n",
       "4      44.391427       8.956002  U11861180V                  2017-11-13   \n",
       "\n",
       "   CONSENSO al TRATTAMENTO dei DATI  \\\n",
       "0                             False   \n",
       "1                             False   \n",
       "2                             False   \n",
       "3                             False   \n",
       "4                              True   \n",
       "\n",
       "                                    TITOLO di STUDIO  \n",
       "0                                                NaN  \n",
       "1  diploma di scuola secondaria superiore (4-5 anni)  \n",
       "2                                                NaN  \n",
       "3  diploma di scuola secondaria superiore (4-5 anni)  \n",
       "4                       licenza di scuola elementare  "
      ]
     },
     "execution_count": 11,
     "metadata": {},
     "output_type": "execute_result"
    }
   ],
   "source": [
    "utenti.head()"
   ]
  },
  {
   "cell_type": "code",
   "execution_count": 12,
   "metadata": {
    "ExecuteTime": {
     "end_time": "2021-04-14T16:24:08.641392Z",
     "start_time": "2021-04-14T16:24:08.631394Z"
    },
    "execution": {
     "iopub.execute_input": "2021-04-15T07:32:00.247315Z",
     "iopub.status.busy": "2021-04-15T07:32:00.246311Z",
     "iopub.status.idle": "2021-04-15T07:32:00.261307Z",
     "shell.execute_reply": "2021-04-15T07:32:00.259312Z",
     "shell.execute_reply.started": "2021-04-15T07:32:00.247315Z"
    }
   },
   "outputs": [
    {
     "data": {
      "text/plain": [
       "ID UTENTE                            object\n",
       "NOME                                 object\n",
       "COGNOME                              object\n",
       "SESSO                                object\n",
       "DATA di NASCITA                      object\n",
       "LUOGO di NASCITA                     object\n",
       "C.F.                                 object\n",
       "INDIRIZZO E-MAIL                     object\n",
       "INDIRIZZO                            object\n",
       "LAT INDIRIZZO                       float64\n",
       "LON INDIRIZZO                       float64\n",
       "PATENTE #                            object\n",
       "DATA ULTIMO RINNOVO PATENTE          object\n",
       "CONSENSO al TRATTAMENTO dei DATI       bool\n",
       "TITOLO di STUDIO                     object\n",
       "dtype: object"
      ]
     },
     "execution_count": 12,
     "metadata": {},
     "output_type": "execute_result"
    }
   ],
   "source": [
    "utenti.dtypes"
   ]
  },
  {
   "cell_type": "markdown",
   "metadata": {},
   "source": [
    "## caricamento del CSV con indicazione del tipo di alcune colonne"
   ]
  },
  {
   "cell_type": "code",
   "execution_count": 13,
   "metadata": {
    "ExecuteTime": {
     "end_time": "2021-04-14T16:24:10.188381Z",
     "start_time": "2021-04-14T16:24:10.087366Z"
    },
    "execution": {
     "iopub.execute_input": "2021-04-15T07:32:03.227304Z",
     "iopub.status.busy": "2021-04-15T07:32:03.226336Z",
     "iopub.status.idle": "2021-04-15T07:32:03.283300Z",
     "shell.execute_reply": "2021-04-15T07:32:03.282342Z",
     "shell.execute_reply.started": "2021-04-15T07:32:03.227304Z"
    }
   },
   "outputs": [],
   "source": [
    "utenti = pd.read_csv(\n",
    "    f'{path_to_file}/utenti.csv',\n",
    "    sep='|',\n",
    "    decimal=',',\n",
    "    parse_dates=[\n",
    "        'DATA di NASCITA',\n",
    "        'DATA ULTIMO RINNOVO PATENTE'\n",
    "    ]\n",
    ")"
   ]
  },
  {
   "cell_type": "code",
   "execution_count": 14,
   "metadata": {
    "ExecuteTime": {
     "end_time": "2021-04-14T16:24:11.283409Z",
     "start_time": "2021-04-14T16:24:11.253412Z"
    },
    "execution": {
     "iopub.execute_input": "2021-04-15T07:32:04.863209Z",
     "iopub.status.busy": "2021-04-15T07:32:04.863209Z",
     "iopub.status.idle": "2021-04-15T07:32:04.884208Z",
     "shell.execute_reply": "2021-04-15T07:32:04.883208Z",
     "shell.execute_reply.started": "2021-04-15T07:32:04.863209Z"
    }
   },
   "outputs": [
    {
     "data": {
      "text/html": [
       "<div>\n",
       "<style scoped>\n",
       "    .dataframe tbody tr th:only-of-type {\n",
       "        vertical-align: middle;\n",
       "    }\n",
       "\n",
       "    .dataframe tbody tr th {\n",
       "        vertical-align: top;\n",
       "    }\n",
       "\n",
       "    .dataframe thead th {\n",
       "        text-align: right;\n",
       "    }\n",
       "</style>\n",
       "<table border=\"1\" class=\"dataframe\">\n",
       "  <thead>\n",
       "    <tr style=\"text-align: right;\">\n",
       "      <th></th>\n",
       "      <th>ID UTENTE</th>\n",
       "      <th>NOME</th>\n",
       "      <th>COGNOME</th>\n",
       "      <th>SESSO</th>\n",
       "      <th>DATA di NASCITA</th>\n",
       "      <th>LUOGO di NASCITA</th>\n",
       "      <th>C.F.</th>\n",
       "      <th>INDIRIZZO E-MAIL</th>\n",
       "      <th>INDIRIZZO</th>\n",
       "      <th>LAT INDIRIZZO</th>\n",
       "      <th>LON INDIRIZZO</th>\n",
       "      <th>PATENTE #</th>\n",
       "      <th>DATA ULTIMO RINNOVO PATENTE</th>\n",
       "      <th>CONSENSO al TRATTAMENTO dei DATI</th>\n",
       "      <th>TITOLO di STUDIO</th>\n",
       "    </tr>\n",
       "  </thead>\n",
       "  <tbody>\n",
       "    <tr>\n",
       "      <th>0</th>\n",
       "      <td>u6586</td>\n",
       "      <td>Dario</td>\n",
       "      <td>Nibali</td>\n",
       "      <td>M</td>\n",
       "      <td>1986-12-09</td>\n",
       "      <td>Torino</td>\n",
       "      <td>NBLDRA86P12L219E</td>\n",
       "      <td>NaN</td>\n",
       "      <td>GENOVA, VIA VAL D'ASTICO, 156</td>\n",
       "      <td>44.494692</td>\n",
       "      <td>8.908447</td>\n",
       "      <td>U19713653J</td>\n",
       "      <td>2019-03-30</td>\n",
       "      <td>False</td>\n",
       "      <td>NaN</td>\n",
       "    </tr>\n",
       "    <tr>\n",
       "      <th>1</th>\n",
       "      <td>u2188</td>\n",
       "      <td>Giacinto</td>\n",
       "      <td>Ferraris</td>\n",
       "      <td>M</td>\n",
       "      <td>1986-05-24</td>\n",
       "      <td>Carrara</td>\n",
       "      <td>FRRGNT86E24B832A</td>\n",
       "      <td>ferraris86@vodafone.it</td>\n",
       "      <td>GENOVA, VIA SAMBUGO, 10</td>\n",
       "      <td>44.449108</td>\n",
       "      <td>8.696334</td>\n",
       "      <td>U18283370F</td>\n",
       "      <td>2019-08-19</td>\n",
       "      <td>False</td>\n",
       "      <td>diploma di scuola secondaria superiore (4-5 anni)</td>\n",
       "    </tr>\n",
       "    <tr>\n",
       "      <th>2</th>\n",
       "      <td>u5528</td>\n",
       "      <td>Fiorenzo</td>\n",
       "      <td>Morosini</td>\n",
       "      <td>M</td>\n",
       "      <td>1988-11-02</td>\n",
       "      <td>Siena</td>\n",
       "      <td>MRSFNZ88B11I726L</td>\n",
       "      <td>NaN</td>\n",
       "      <td>GENOVA, VIA DI BURLO, 1</td>\n",
       "      <td>44.442037</td>\n",
       "      <td>8.875526</td>\n",
       "      <td>U10335012S</td>\n",
       "      <td>2014-01-25</td>\n",
       "      <td>False</td>\n",
       "      <td>NaN</td>\n",
       "    </tr>\n",
       "    <tr>\n",
       "      <th>3</th>\n",
       "      <td>u1224</td>\n",
       "      <td>Ruggero</td>\n",
       "      <td>Ciani</td>\n",
       "      <td>M</td>\n",
       "      <td>1974-11-26</td>\n",
       "      <td>Lavagna</td>\n",
       "      <td>CNIRGR74S26E488U</td>\n",
       "      <td>NaN</td>\n",
       "      <td>GENOVA, VIA CEBA', 3</td>\n",
       "      <td>44.408544</td>\n",
       "      <td>8.936078</td>\n",
       "      <td>U12038058X</td>\n",
       "      <td>2018-10-08</td>\n",
       "      <td>False</td>\n",
       "      <td>diploma di scuola secondaria superiore (4-5 anni)</td>\n",
       "    </tr>\n",
       "    <tr>\n",
       "      <th>4</th>\n",
       "      <td>u6553</td>\n",
       "      <td>Umberto</td>\n",
       "      <td>Baglioni</td>\n",
       "      <td>M</td>\n",
       "      <td>1985-03-15</td>\n",
       "      <td>Monza</td>\n",
       "      <td>BGLMRT85C15F704T</td>\n",
       "      <td>NaN</td>\n",
       "      <td>GENOVA, CORSO ITALIA, 7</td>\n",
       "      <td>44.391427</td>\n",
       "      <td>8.956002</td>\n",
       "      <td>U11861180V</td>\n",
       "      <td>2017-11-13</td>\n",
       "      <td>True</td>\n",
       "      <td>licenza di scuola elementare</td>\n",
       "    </tr>\n",
       "  </tbody>\n",
       "</table>\n",
       "</div>"
      ],
      "text/plain": [
       "  ID UTENTE      NOME   COGNOME SESSO DATA di NASCITA LUOGO di NASCITA  \\\n",
       "0     u6586     Dario    Nibali     M      1986-12-09           Torino   \n",
       "1     u2188  Giacinto  Ferraris     M      1986-05-24          Carrara   \n",
       "2     u5528  Fiorenzo  Morosini     M      1988-11-02            Siena   \n",
       "3     u1224   Ruggero     Ciani     M      1974-11-26          Lavagna   \n",
       "4     u6553   Umberto  Baglioni     M      1985-03-15            Monza   \n",
       "\n",
       "               C.F.        INDIRIZZO E-MAIL                      INDIRIZZO  \\\n",
       "0  NBLDRA86P12L219E                     NaN  GENOVA, VIA VAL D'ASTICO, 156   \n",
       "1  FRRGNT86E24B832A  ferraris86@vodafone.it        GENOVA, VIA SAMBUGO, 10   \n",
       "2  MRSFNZ88B11I726L                     NaN        GENOVA, VIA DI BURLO, 1   \n",
       "3  CNIRGR74S26E488U                     NaN           GENOVA, VIA CEBA', 3   \n",
       "4  BGLMRT85C15F704T                     NaN        GENOVA, CORSO ITALIA, 7   \n",
       "\n",
       "   LAT INDIRIZZO  LON INDIRIZZO   PATENTE # DATA ULTIMO RINNOVO PATENTE  \\\n",
       "0      44.494692       8.908447  U19713653J                  2019-03-30   \n",
       "1      44.449108       8.696334  U18283370F                  2019-08-19   \n",
       "2      44.442037       8.875526  U10335012S                  2014-01-25   \n",
       "3      44.408544       8.936078  U12038058X                  2018-10-08   \n",
       "4      44.391427       8.956002  U11861180V                  2017-11-13   \n",
       "\n",
       "   CONSENSO al TRATTAMENTO dei DATI  \\\n",
       "0                             False   \n",
       "1                             False   \n",
       "2                             False   \n",
       "3                             False   \n",
       "4                              True   \n",
       "\n",
       "                                    TITOLO di STUDIO  \n",
       "0                                                NaN  \n",
       "1  diploma di scuola secondaria superiore (4-5 anni)  \n",
       "2                                                NaN  \n",
       "3  diploma di scuola secondaria superiore (4-5 anni)  \n",
       "4                       licenza di scuola elementare  "
      ]
     },
     "execution_count": 14,
     "metadata": {},
     "output_type": "execute_result"
    }
   ],
   "source": [
    "utenti.head()"
   ]
  },
  {
   "cell_type": "code",
   "execution_count": 15,
   "metadata": {
    "ExecuteTime": {
     "end_time": "2021-04-14T16:24:12.652240Z",
     "start_time": "2021-04-14T16:24:12.644240Z"
    },
    "execution": {
     "iopub.execute_input": "2021-04-15T07:32:09.502108Z",
     "iopub.status.busy": "2021-04-15T07:32:09.502108Z",
     "iopub.status.idle": "2021-04-15T07:32:09.510108Z",
     "shell.execute_reply": "2021-04-15T07:32:09.509114Z",
     "shell.execute_reply.started": "2021-04-15T07:32:09.502108Z"
    }
   },
   "outputs": [
    {
     "data": {
      "text/plain": [
       "ID UTENTE                                   object\n",
       "NOME                                        object\n",
       "COGNOME                                     object\n",
       "SESSO                                       object\n",
       "DATA di NASCITA                     datetime64[ns]\n",
       "LUOGO di NASCITA                            object\n",
       "C.F.                                        object\n",
       "INDIRIZZO E-MAIL                            object\n",
       "INDIRIZZO                                   object\n",
       "LAT INDIRIZZO                              float64\n",
       "LON INDIRIZZO                              float64\n",
       "PATENTE #                                   object\n",
       "DATA ULTIMO RINNOVO PATENTE         datetime64[ns]\n",
       "CONSENSO al TRATTAMENTO dei DATI              bool\n",
       "TITOLO di STUDIO                            object\n",
       "dtype: object"
      ]
     },
     "execution_count": 15,
     "metadata": {},
     "output_type": "execute_result"
    }
   ],
   "source": [
    "utenti.dtypes"
   ]
  },
  {
   "cell_type": "code",
   "execution_count": 17,
   "metadata": {
    "ExecuteTime": {
     "end_time": "2021-04-14T16:24:13.417068Z",
     "start_time": "2021-04-14T16:24:13.412066Z"
    }
   },
   "outputs": [],
   "source": [
    "a = utenti.loc[0, 'DATA di NASCITA']"
   ]
  },
  {
   "cell_type": "markdown",
   "metadata": {},
   "source": [
    "## Distribuzione di genere"
   ]
  },
  {
   "cell_type": "markdown",
   "metadata": {},
   "source": [
    "### Pandas groupby"
   ]
  },
  {
   "cell_type": "code",
   "execution_count": 16,
   "metadata": {
    "ExecuteTime": {
     "end_time": "2021-04-14T16:24:18.253086Z",
     "start_time": "2021-04-14T16:24:18.239485Z"
    },
    "execution": {
     "iopub.execute_input": "2021-04-15T07:33:08.458061Z",
     "iopub.status.busy": "2021-04-15T07:33:08.458061Z",
     "iopub.status.idle": "2021-04-15T07:33:08.473993Z",
     "shell.execute_reply": "2021-04-15T07:33:08.473705Z",
     "shell.execute_reply.started": "2021-04-15T07:33:08.458061Z"
    }
   },
   "outputs": [
    {
     "data": {
      "text/plain": [
       "SESSO\n",
       "F    4988\n",
       "M    4012\n",
       "dtype: int64"
      ]
     },
     "execution_count": 16,
     "metadata": {},
     "output_type": "execute_result"
    }
   ],
   "source": [
    "utenti.groupby('SESSO').size()"
   ]
  },
  {
   "cell_type": "markdown",
   "metadata": {},
   "source": [
    "### visualizzazione"
   ]
  },
  {
   "cell_type": "code",
   "execution_count": 17,
   "metadata": {
    "ExecuteTime": {
     "end_time": "2021-04-14T16:24:20.137042Z",
     "start_time": "2021-04-14T16:24:19.524691Z"
    },
    "execution": {
     "iopub.execute_input": "2021-04-15T07:33:08.971930Z",
     "iopub.status.busy": "2021-04-15T07:33:08.971930Z",
     "iopub.status.idle": "2021-04-15T07:33:09.822878Z",
     "shell.execute_reply": "2021-04-15T07:33:09.821883Z",
     "shell.execute_reply.started": "2021-04-15T07:33:08.971930Z"
    }
   },
   "outputs": [
    {
     "data": {
      "text/plain": [
       "<AxesSubplot:xlabel='SESSO'>"
      ]
     },
     "execution_count": 17,
     "metadata": {},
     "output_type": "execute_result"
    },
    {
     "data": {
      "image/png": "[encoded data removed]",
      "text/plain": [
       "<Figure size 432x288 with 1 Axes>"
      ]
     },
     "metadata": {
      "needs_background": "light"
     },
     "output_type": "display_data"
    }
   ],
   "source": [
    "utenti.groupby('SESSO').size().plot.bar()"
   ]
  },
  {
   "cell_type": "markdown",
   "metadata": {},
   "source": [
    "## distribuzione dei titoli di studio"
   ]
  },
  {
   "cell_type": "code",
   "execution_count": null,
   "metadata": {},
   "outputs": [],
   "source": []
  },
  {
   "cell_type": "markdown",
   "metadata": {},
   "source": [
    "## distribuzione dei luoghi di nascita (i 10 più frequenti)"
   ]
  },
  {
   "cell_type": "code",
   "execution_count": null,
   "metadata": {},
   "outputs": [],
   "source": []
  },
  {
   "cell_type": "markdown",
   "metadata": {},
   "source": [
    "## distribuzione dell'anno di nascita"
   ]
  },
  {
   "cell_type": "code",
   "execution_count": null,
   "metadata": {},
   "outputs": [],
   "source": []
  },
  {
   "cell_type": "markdown",
   "metadata": {},
   "source": [
    "## BONUS: distribuzione delle età"
   ]
  },
  {
   "cell_type": "code",
   "execution_count": null,
   "metadata": {},
   "outputs": [],
   "source": []
  },
  {
   "cell_type": "markdown",
   "metadata": {},
   "source": [
    "## BONUS: distribuzione del consenso al trattamento dei dati"
   ]
  },
  {
   "cell_type": "code",
   "execution_count": null,
   "metadata": {},
   "outputs": [],
   "source": []
  },
  {
   "cell_type": "markdown",
   "metadata": {},
   "source": [
    "# Viaggi"
   ]
  },
  {
   "cell_type": "code",
   "execution_count": 18,
   "metadata": {
    "ExecuteTime": {
     "end_time": "2021-04-13T13:18:37.741061Z",
     "start_time": "2021-04-13T13:18:36.532387Z"
    },
    "execution": {
     "iopub.execute_input": "2021-04-15T07:33:33.069769Z",
     "iopub.status.busy": "2021-04-15T07:33:33.068750Z",
     "iopub.status.idle": "2021-04-15T07:33:34.050459Z",
     "shell.execute_reply": "2021-04-15T07:33:34.049606Z",
     "shell.execute_reply.started": "2021-04-15T07:33:33.069769Z"
    }
   },
   "outputs": [],
   "source": [
    "viaggi = pd.read_csv(\n",
    "    f'{path_to_file}/viaggi.csv',\n",
    "    sep='*',\n",
    "    decimal=','\n",
    ")"
   ]
  },
  {
   "cell_type": "code",
   "execution_count": 19,
   "metadata": {
    "ExecuteTime": {
     "end_time": "2021-04-13T13:18:37.775310Z",
     "start_time": "2021-04-13T13:18:37.741061Z"
    },
    "execution": {
     "iopub.execute_input": "2021-04-15T07:33:34.052440Z",
     "iopub.status.busy": "2021-04-15T07:33:34.052440Z",
     "iopub.status.idle": "2021-04-15T07:33:34.072422Z",
     "shell.execute_reply": "2021-04-15T07:33:34.071449Z",
     "shell.execute_reply.started": "2021-04-15T07:33:34.052440Z"
    }
   },
   "outputs": [
    {
     "data": {
      "text/html": [
       "<div>\n",
       "<style scoped>\n",
       "    .dataframe tbody tr th:only-of-type {\n",
       "        vertical-align: middle;\n",
       "    }\n",
       "\n",
       "    .dataframe tbody tr th {\n",
       "        vertical-align: top;\n",
       "    }\n",
       "\n",
       "    .dataframe thead th {\n",
       "        text-align: right;\n",
       "    }\n",
       "</style>\n",
       "<table border=\"1\" class=\"dataframe\">\n",
       "  <thead>\n",
       "    <tr style=\"text-align: right;\">\n",
       "      <th></th>\n",
       "      <th>idUtente</th>\n",
       "      <th>idVeicolo</th>\n",
       "      <th>caricaBatteriaInizio</th>\n",
       "      <th>dueCaschiDisponibili</th>\n",
       "      <th>luogoRitiro</th>\n",
       "      <th>timestampRitiro</th>\n",
       "      <th>luogoConsegna</th>\n",
       "      <th>timestampConsegna</th>\n",
       "      <th>distanzaPercorsa</th>\n",
       "      <th>tempoViaggio</th>\n",
       "      <th>punteggioViaggio</th>\n",
       "      <th>caricaBatteriaFine</th>\n",
       "    </tr>\n",
       "  </thead>\n",
       "  <tbody>\n",
       "    <tr>\n",
       "      <th>0</th>\n",
       "      <td>u5954</td>\n",
       "      <td>v33</td>\n",
       "      <td>100.0%</td>\n",
       "      <td>YES</td>\n",
       "      <td>[(44.394923, 8.943928), (44.394857, 8.943474),...</td>\n",
       "      <td>['2018-10-01 01:08:57', '2018-10-01 01:09:02',...</td>\n",
       "      <td>[(44.433961, 8.95907), (44.434021, 8.958851), ...</td>\n",
       "      <td>['2018-10-01 01:21:57', '2018-10-01 01:22:02',...</td>\n",
       "      <td>4.5046 km</td>\n",
       "      <td>0:13:20</td>\n",
       "      <td>7.55</td>\n",
       "      <td>90.2%</td>\n",
       "    </tr>\n",
       "    <tr>\n",
       "      <th>1</th>\n",
       "      <td>u1478</td>\n",
       "      <td>v33</td>\n",
       "      <td>91.8%</td>\n",
       "      <td>NaN</td>\n",
       "      <td>[(44.433997, 8.958993), (44.433596, 8.959153),...</td>\n",
       "      <td>['2018-10-01 02:09:21', '2018-10-01 02:09:26',...</td>\n",
       "      <td>[(44.396783, 8.940881), (44.396705, 8.940446),...</td>\n",
       "      <td>['2018-10-01 02:21:06', '2018-10-01 02:21:11',...</td>\n",
       "      <td>4.3622 km</td>\n",
       "      <td>0:12:05</td>\n",
       "      <td>7.78</td>\n",
       "      <td>81.8%</td>\n",
       "    </tr>\n",
       "    <tr>\n",
       "      <th>2</th>\n",
       "      <td>u3403</td>\n",
       "      <td>v103</td>\n",
       "      <td>100.0%</td>\n",
       "      <td>YES</td>\n",
       "      <td>[(44.50046, 8.903424), (44.500047, 8.903264), ...</td>\n",
       "      <td>['2018-10-01 02:56:08', '2018-10-01 02:56:13',...</td>\n",
       "      <td>[(44.417878, 8.921285), (44.417927, 8.92169), ...</td>\n",
       "      <td>['2018-10-01 03:23:29', '2018-10-01 03:23:34',...</td>\n",
       "      <td>9.2642 km</td>\n",
       "      <td>0:27:41</td>\n",
       "      <td>8.02</td>\n",
       "      <td>82.6%</td>\n",
       "    </tr>\n",
       "    <tr>\n",
       "      <th>3</th>\n",
       "      <td>u3723</td>\n",
       "      <td>v6</td>\n",
       "      <td>100.0%</td>\n",
       "      <td>YES</td>\n",
       "      <td>[(44.404821, 8.959312), (44.404645, 8.959509),...</td>\n",
       "      <td>['2018-10-01 03:45:47', '2018-10-01 03:45:52',...</td>\n",
       "      <td>[(44.427887, 8.844981), (44.428135, 8.845328),...</td>\n",
       "      <td>['2018-10-01 04:14:12', '2018-10-01 04:14:17',...</td>\n",
       "      <td>9.4183 km</td>\n",
       "      <td>0:28:45</td>\n",
       "      <td>8.23</td>\n",
       "      <td>84.2%</td>\n",
       "    </tr>\n",
       "    <tr>\n",
       "      <th>4</th>\n",
       "      <td>u8584</td>\n",
       "      <td>v95</td>\n",
       "      <td>100.0%</td>\n",
       "      <td>YES</td>\n",
       "      <td>[(44.416034, 8.933454), (44.416018, 8.93355), ...</td>\n",
       "      <td>['2018-10-01 05:15:03', '2018-10-01 05:15:08',...</td>\n",
       "      <td>[(44.421412, 8.865522), (44.422039, 8.865464),...</td>\n",
       "      <td>['2018-10-01 05:33:20', '2018-10-01 05:33:25',...</td>\n",
       "      <td>5.4345 km</td>\n",
       "      <td>0:18:37</td>\n",
       "      <td>5.20</td>\n",
       "      <td>88.0%</td>\n",
       "    </tr>\n",
       "  </tbody>\n",
       "</table>\n",
       "</div>"
      ],
      "text/plain": [
       "  idUtente idVeicolo caricaBatteriaInizio dueCaschiDisponibili  \\\n",
       "0    u5954       v33               100.0%                  YES   \n",
       "1    u1478       v33                91.8%                  NaN   \n",
       "2    u3403      v103               100.0%                  YES   \n",
       "3    u3723        v6               100.0%                  YES   \n",
       "4    u8584       v95               100.0%                  YES   \n",
       "\n",
       "                                         luogoRitiro  \\\n",
       "0  [(44.394923, 8.943928), (44.394857, 8.943474),...   \n",
       "1  [(44.433997, 8.958993), (44.433596, 8.959153),...   \n",
       "2  [(44.50046, 8.903424), (44.500047, 8.903264), ...   \n",
       "3  [(44.404821, 8.959312), (44.404645, 8.959509),...   \n",
       "4  [(44.416034, 8.933454), (44.416018, 8.93355), ...   \n",
       "\n",
       "                                     timestampRitiro  \\\n",
       "0  ['2018-10-01 01:08:57', '2018-10-01 01:09:02',...   \n",
       "1  ['2018-10-01 02:09:21', '2018-10-01 02:09:26',...   \n",
       "2  ['2018-10-01 02:56:08', '2018-10-01 02:56:13',...   \n",
       "3  ['2018-10-01 03:45:47', '2018-10-01 03:45:52',...   \n",
       "4  ['2018-10-01 05:15:03', '2018-10-01 05:15:08',...   \n",
       "\n",
       "                                       luogoConsegna  \\\n",
       "0  [(44.433961, 8.95907), (44.434021, 8.958851), ...   \n",
       "1  [(44.396783, 8.940881), (44.396705, 8.940446),...   \n",
       "2  [(44.417878, 8.921285), (44.417927, 8.92169), ...   \n",
       "3  [(44.427887, 8.844981), (44.428135, 8.845328),...   \n",
       "4  [(44.421412, 8.865522), (44.422039, 8.865464),...   \n",
       "\n",
       "                                   timestampConsegna distanzaPercorsa  \\\n",
       "0  ['2018-10-01 01:21:57', '2018-10-01 01:22:02',...        4.5046 km   \n",
       "1  ['2018-10-01 02:21:06', '2018-10-01 02:21:11',...        4.3622 km   \n",
       "2  ['2018-10-01 03:23:29', '2018-10-01 03:23:34',...        9.2642 km   \n",
       "3  ['2018-10-01 04:14:12', '2018-10-01 04:14:17',...        9.4183 km   \n",
       "4  ['2018-10-01 05:33:20', '2018-10-01 05:33:25',...        5.4345 km   \n",
       "\n",
       "  tempoViaggio  punteggioViaggio caricaBatteriaFine  \n",
       "0      0:13:20              7.55              90.2%  \n",
       "1      0:12:05              7.78              81.8%  \n",
       "2      0:27:41              8.02              82.6%  \n",
       "3      0:28:45              8.23              84.2%  \n",
       "4      0:18:37              5.20              88.0%  "
      ]
     },
     "execution_count": 19,
     "metadata": {},
     "output_type": "execute_result"
    }
   ],
   "source": [
    "viaggi.head()"
   ]
  },
  {
   "cell_type": "markdown",
   "metadata": {},
   "source": [
    "## Punteggi Viaggio (DrivingScore)"
   ]
  },
  {
   "cell_type": "code",
   "execution_count": null,
   "metadata": {},
   "outputs": [],
   "source": []
  },
  {
   "cell_type": "markdown",
   "metadata": {},
   "source": [
    "## Esiste qualche relazione tra il punteggioViaggi dei viaggi e le caratteristiche degli utenti?"
   ]
  },
  {
   "cell_type": "code",
   "execution_count": null,
   "metadata": {},
   "outputs": [],
   "source": []
  },
  {
   "cell_type": "markdown",
   "metadata": {},
   "source": [
    "### genere vs. punteggioViaggi"
   ]
  },
  {
   "cell_type": "code",
   "execution_count": null,
   "metadata": {},
   "outputs": [],
   "source": []
  },
  {
   "cell_type": "markdown",
   "metadata": {},
   "source": [
    "### età vs. punteggioViaggi"
   ]
  },
  {
   "cell_type": "code",
   "execution_count": null,
   "metadata": {},
   "outputs": [],
   "source": []
  },
  {
   "cell_type": "markdown",
   "metadata": {},
   "source": [
    "## BONUS: si possono visualizzare in maniera significativa le coordinate dei luoghi di pickup?"
   ]
  },
  {
   "cell_type": "code",
   "execution_count": null,
   "metadata": {},
   "outputs": [],
   "source": []
  }
 ],
 "metadata": {
  "kernelspec": {
   "display_name": ".venv-mimocko",
   "language": "python",
   "name": ".venv-mimocko"
  },
  "language_info": {
   "codemirror_mode": {
    "name": "ipython",
    "version": 3
   },
   "file_extension": ".py",
   "mimetype": "text/x-python",
   "name": "python",
   "nbconvert_exporter": "python",
   "pygments_lexer": "ipython3",
   "version": "3.8.5"
  }
 },
 "nbformat": 4,
 "nbformat_minor": 5
}
