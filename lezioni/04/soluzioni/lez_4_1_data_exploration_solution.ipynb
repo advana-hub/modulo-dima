{
 "cells": [
  {
   "cell_type": "code",
   "execution_count": 1,
   "metadata": {
    "ExecuteTime": {
     "end_time": "2021-04-14T16:18:56.848243Z",
     "start_time": "2021-04-14T16:18:56.844241Z"
    },
    "execution": {
     "iopub.execute_input": "2021-04-29T07:32:55.166114Z",
     "iopub.status.busy": "2021-04-29T07:32:55.166114Z",
     "iopub.status.idle": "2021-04-29T07:32:55.688135Z",
     "shell.execute_reply": "2021-04-29T07:32:55.688135Z",
     "shell.execute_reply.started": "2021-04-29T07:32:55.166114Z"
    }
   },
   "outputs": [],
   "source": [
    "import pandas as pd\n",
    "import numpy as np"
   ]
  },
  {
   "cell_type": "code",
   "execution_count": 2,
   "metadata": {
    "ExecuteTime": {
     "end_time": "2021-04-14T16:18:57.009245Z",
     "start_time": "2021-04-14T16:18:57.004244Z"
    },
    "execution": {
     "iopub.execute_input": "2021-04-29T07:32:55.692114Z",
     "iopub.status.busy": "2021-04-29T07:32:55.692114Z",
     "iopub.status.idle": "2021-04-29T07:32:55.696116Z",
     "shell.execute_reply": "2021-04-29T07:32:55.695120Z",
     "shell.execute_reply.started": "2021-04-29T07:32:55.692114Z"
    }
   },
   "outputs": [],
   "source": [
    "import datetime"
   ]
  },
  {
   "cell_type": "code",
   "execution_count": 3,
   "metadata": {
    "ExecuteTime": {
     "end_time": "2021-04-14T16:18:57.138243Z",
     "start_time": "2021-04-14T16:18:57.134241Z"
    },
    "execution": {
     "iopub.execute_input": "2021-04-29T07:32:55.698118Z",
     "iopub.status.busy": "2021-04-29T07:32:55.697117Z",
     "iopub.status.idle": "2021-04-29T07:32:55.707116Z",
     "shell.execute_reply": "2021-04-29T07:32:55.706117Z",
     "shell.execute_reply.started": "2021-04-29T07:32:55.698118Z"
    }
   },
   "outputs": [],
   "source": [
    "path_to_file='../../../data'"
   ]
  },
  {
   "cell_type": "markdown",
   "metadata": {},
   "source": [
    "# utenti"
   ]
  },
  {
   "cell_type": "markdown",
   "metadata": {},
   "source": [
    "## caricamento del CSV con opzioni di default"
   ]
  },
  {
   "cell_type": "code",
   "execution_count": 4,
   "metadata": {
    "ExecuteTime": {
     "end_time": "2021-04-14T16:18:57.852011Z",
     "start_time": "2021-04-14T16:18:57.749017Z"
    },
    "execution": {
     "iopub.execute_input": "2021-04-29T07:32:55.708116Z",
     "iopub.status.busy": "2021-04-29T07:32:55.708116Z",
     "iopub.status.idle": "2021-04-29T07:32:55.775113Z",
     "shell.execute_reply": "2021-04-29T07:32:55.775113Z",
     "shell.execute_reply.started": "2021-04-29T07:32:55.708116Z"
    }
   },
   "outputs": [],
   "source": [
    "utenti = pd.read_csv(\n",
    "    f'{path_to_file}/utenti.csv'\n",
    ")"
   ]
  },
  {
   "cell_type": "code",
   "execution_count": 5,
   "metadata": {
    "ExecuteTime": {
     "end_time": "2021-04-14T16:18:57.982015Z",
     "start_time": "2021-04-14T16:18:57.967015Z"
    },
    "execution": {
     "iopub.execute_input": "2021-04-29T07:32:55.776114Z",
     "iopub.status.busy": "2021-04-29T07:32:55.776114Z",
     "iopub.status.idle": "2021-04-29T07:32:55.808118Z",
     "shell.execute_reply": "2021-04-29T07:32:55.807120Z",
     "shell.execute_reply.started": "2021-04-29T07:32:55.776114Z"
    }
   },
   "outputs": [
    {
     "data": {
      "text/html": [
       "<div>\n",
       "<style scoped>\n",
       "    .dataframe tbody tr th:only-of-type {\n",
       "        vertical-align: middle;\n",
       "    }\n",
       "\n",
       "    .dataframe tbody tr th {\n",
       "        vertical-align: top;\n",
       "    }\n",
       "\n",
       "    .dataframe thead th {\n",
       "        text-align: right;\n",
       "    }\n",
       "</style>\n",
       "<table border=\"1\" class=\"dataframe\">\n",
       "  <thead>\n",
       "    <tr style=\"text-align: right;\">\n",
       "      <th></th>\n",
       "      <th></th>\n",
       "      <th></th>\n",
       "      <th></th>\n",
       "      <th>ID UTENTE|NOME|COGNOME|SESSO|DATA di NASCITA|LUOGO di NASCITA|C.F.|INDIRIZZO E-MAIL|INDIRIZZO|LAT INDIRIZZO|LON INDIRIZZO|PATENTE #|DATA ULTIMO RINNOVO PATENTE|CONSENSO al TRATTAMENTO dei DATI|TITOLO di STUDIO</th>\n",
       "    </tr>\n",
       "  </thead>\n",
       "  <tbody>\n",
       "    <tr>\n",
       "      <th>u6586|Dario|Nibali|M|12/09/1986|Torino|NBLDRA86P12L219E||GENOVA</th>\n",
       "      <th>VIA VAL D'ASTICO</th>\n",
       "      <th>156|44</th>\n",
       "      <th>4946921|8</th>\n",
       "      <td>908447|U19713653J|2019-03-30|False|</td>\n",
       "    </tr>\n",
       "    <tr>\n",
       "      <th>u2188|Giacinto|Ferraris|M|24/05/1986|Carrara|FRRGNT86E24B832A|ferraris86@vodafone.it|GENOVA</th>\n",
       "      <th>VIA SAMBUGO</th>\n",
       "      <th>10|44</th>\n",
       "      <th>4491083|8</th>\n",
       "      <td>6963344|U18283370F|2019-08-19|False|diploma di...</td>\n",
       "    </tr>\n",
       "    <tr>\n",
       "      <th>u5528|Fiorenzo|Morosini|M|11/02/1988|Siena|MRSFNZ88B11I726L||GENOVA</th>\n",
       "      <th>VIA DI BURLO</th>\n",
       "      <th>1|44</th>\n",
       "      <th>4420369|8</th>\n",
       "      <td>8755262|U10335012S|2014-01-25|False|</td>\n",
       "    </tr>\n",
       "    <tr>\n",
       "      <th>u1224|Ruggero|Ciani|M|26/11/1974|Lavagna|CNIRGR74S26E488U||GENOVA</th>\n",
       "      <th>VIA CEBA'</th>\n",
       "      <th>3|44</th>\n",
       "      <th>4085441|8</th>\n",
       "      <td>9360784|U12038058X|2018-10-08|False|diploma di...</td>\n",
       "    </tr>\n",
       "    <tr>\n",
       "      <th>u6553|Umberto|Baglioni|M|15/03/1985|Monza|BGLMRT85C15F704T||GENOVA</th>\n",
       "      <th>CORSO ITALIA</th>\n",
       "      <th>7|44</th>\n",
       "      <th>3914268|8</th>\n",
       "      <td>9560019|U11861180V|2017-11-13|True|licenza di ...</td>\n",
       "    </tr>\n",
       "  </tbody>\n",
       "</table>\n",
       "</div>"
      ],
      "text/plain": [
       "                                                                                       ID UTENTE|NOME|COGNOME|SESSO|DATA di NASCITA|LUOGO di NASCITA|C.F.|INDIRIZZO E-MAIL|INDIRIZZO|LAT INDIRIZZO|LON INDIRIZZO|PATENTE #|DATA ULTIMO RINNOVO PATENTE|CONSENSO al TRATTAMENTO dei DATI|TITOLO di STUDIO\n",
       "u6586|Dario|Nibali|M|12/09/1986|Torino|NBLDRA86...  VIA VAL D'ASTICO  156|44 4946921|8                908447|U19713653J|2019-03-30|False|                                                                                                                                                               \n",
       "u2188|Giacinto|Ferraris|M|24/05/1986|Carrara|FR...  VIA SAMBUGO       10|44  4491083|8  6963344|U18283370F|2019-08-19|False|diploma di...                                                                                                                                                               \n",
       "u5528|Fiorenzo|Morosini|M|11/02/1988|Siena|MRSF...  VIA DI BURLO      1|44   4420369|8               8755262|U10335012S|2014-01-25|False|                                                                                                                                                               \n",
       "u1224|Ruggero|Ciani|M|26/11/1974|Lavagna|CNIRGR...  VIA CEBA'         3|44   4085441|8  9360784|U12038058X|2018-10-08|False|diploma di...                                                                                                                                                               \n",
       "u6553|Umberto|Baglioni|M|15/03/1985|Monza|BGLMR...  CORSO ITALIA      7|44   3914268|8  9560019|U11861180V|2017-11-13|True|licenza di ...                                                                                                                                                               "
      ]
     },
     "execution_count": 5,
     "metadata": {},
     "output_type": "execute_result"
    }
   ],
   "source": [
    "utenti.head()"
   ]
  },
  {
   "cell_type": "markdown",
   "metadata": {},
   "source": [
    "## caricamento del CSV con indicazione del separatore di campi"
   ]
  },
  {
   "cell_type": "code",
   "execution_count": 6,
   "metadata": {
    "ExecuteTime": {
     "end_time": "2021-04-14T16:20:37.808104Z",
     "start_time": "2021-04-14T16:20:37.718102Z"
    },
    "execution": {
     "iopub.execute_input": "2021-04-29T07:32:55.810119Z",
     "iopub.status.busy": "2021-04-29T07:32:55.810119Z",
     "iopub.status.idle": "2021-04-29T07:32:55.877121Z",
     "shell.execute_reply": "2021-04-29T07:32:55.876119Z",
     "shell.execute_reply.started": "2021-04-29T07:32:55.810119Z"
    }
   },
   "outputs": [],
   "source": [
    "utenti = pd.read_csv(\n",
    "    f'{path_to_file}/utenti.csv',\n",
    "    sep='|'\n",
    ")"
   ]
  },
  {
   "cell_type": "code",
   "execution_count": 7,
   "metadata": {
    "ExecuteTime": {
     "end_time": "2021-04-14T16:18:59.352014Z",
     "start_time": "2021-04-14T16:18:59.324013Z"
    },
    "execution": {
     "iopub.execute_input": "2021-04-29T07:32:55.879116Z",
     "iopub.status.busy": "2021-04-29T07:32:55.878115Z",
     "iopub.status.idle": "2021-04-29T07:32:55.899115Z",
     "shell.execute_reply": "2021-04-29T07:32:55.899115Z",
     "shell.execute_reply.started": "2021-04-29T07:32:55.879116Z"
    }
   },
   "outputs": [
    {
     "data": {
      "text/html": [
       "<div>\n",
       "<style scoped>\n",
       "    .dataframe tbody tr th:only-of-type {\n",
       "        vertical-align: middle;\n",
       "    }\n",
       "\n",
       "    .dataframe tbody tr th {\n",
       "        vertical-align: top;\n",
       "    }\n",
       "\n",
       "    .dataframe thead th {\n",
       "        text-align: right;\n",
       "    }\n",
       "</style>\n",
       "<table border=\"1\" class=\"dataframe\">\n",
       "  <thead>\n",
       "    <tr style=\"text-align: right;\">\n",
       "      <th></th>\n",
       "      <th>ID UTENTE</th>\n",
       "      <th>NOME</th>\n",
       "      <th>COGNOME</th>\n",
       "      <th>SESSO</th>\n",
       "      <th>DATA di NASCITA</th>\n",
       "      <th>LUOGO di NASCITA</th>\n",
       "      <th>C.F.</th>\n",
       "      <th>INDIRIZZO E-MAIL</th>\n",
       "      <th>INDIRIZZO</th>\n",
       "      <th>LAT INDIRIZZO</th>\n",
       "      <th>LON INDIRIZZO</th>\n",
       "      <th>PATENTE #</th>\n",
       "      <th>DATA ULTIMO RINNOVO PATENTE</th>\n",
       "      <th>CONSENSO al TRATTAMENTO dei DATI</th>\n",
       "      <th>TITOLO di STUDIO</th>\n",
       "    </tr>\n",
       "  </thead>\n",
       "  <tbody>\n",
       "    <tr>\n",
       "      <th>0</th>\n",
       "      <td>u6586</td>\n",
       "      <td>Dario</td>\n",
       "      <td>Nibali</td>\n",
       "      <td>M</td>\n",
       "      <td>12/09/1986</td>\n",
       "      <td>Torino</td>\n",
       "      <td>NBLDRA86P12L219E</td>\n",
       "      <td>NaN</td>\n",
       "      <td>GENOVA, VIA VAL D'ASTICO, 156</td>\n",
       "      <td>44,4946921</td>\n",
       "      <td>8,908447</td>\n",
       "      <td>U19713653J</td>\n",
       "      <td>2019-03-30</td>\n",
       "      <td>False</td>\n",
       "      <td>NaN</td>\n",
       "    </tr>\n",
       "    <tr>\n",
       "      <th>1</th>\n",
       "      <td>u2188</td>\n",
       "      <td>Giacinto</td>\n",
       "      <td>Ferraris</td>\n",
       "      <td>M</td>\n",
       "      <td>24/05/1986</td>\n",
       "      <td>Carrara</td>\n",
       "      <td>FRRGNT86E24B832A</td>\n",
       "      <td>ferraris86@vodafone.it</td>\n",
       "      <td>GENOVA, VIA SAMBUGO, 10</td>\n",
       "      <td>44,4491083</td>\n",
       "      <td>8,6963344</td>\n",
       "      <td>U18283370F</td>\n",
       "      <td>2019-08-19</td>\n",
       "      <td>False</td>\n",
       "      <td>diploma di scuola secondaria superiore (4-5 anni)</td>\n",
       "    </tr>\n",
       "    <tr>\n",
       "      <th>2</th>\n",
       "      <td>u5528</td>\n",
       "      <td>Fiorenzo</td>\n",
       "      <td>Morosini</td>\n",
       "      <td>M</td>\n",
       "      <td>11/02/1988</td>\n",
       "      <td>Siena</td>\n",
       "      <td>MRSFNZ88B11I726L</td>\n",
       "      <td>NaN</td>\n",
       "      <td>GENOVA, VIA DI BURLO, 1</td>\n",
       "      <td>44,4420369</td>\n",
       "      <td>8,8755262</td>\n",
       "      <td>U10335012S</td>\n",
       "      <td>2014-01-25</td>\n",
       "      <td>False</td>\n",
       "      <td>NaN</td>\n",
       "    </tr>\n",
       "    <tr>\n",
       "      <th>3</th>\n",
       "      <td>u1224</td>\n",
       "      <td>Ruggero</td>\n",
       "      <td>Ciani</td>\n",
       "      <td>M</td>\n",
       "      <td>26/11/1974</td>\n",
       "      <td>Lavagna</td>\n",
       "      <td>CNIRGR74S26E488U</td>\n",
       "      <td>NaN</td>\n",
       "      <td>GENOVA, VIA CEBA', 3</td>\n",
       "      <td>44,4085441</td>\n",
       "      <td>8,9360784</td>\n",
       "      <td>U12038058X</td>\n",
       "      <td>2018-10-08</td>\n",
       "      <td>False</td>\n",
       "      <td>diploma di scuola secondaria superiore (4-5 anni)</td>\n",
       "    </tr>\n",
       "    <tr>\n",
       "      <th>4</th>\n",
       "      <td>u6553</td>\n",
       "      <td>Umberto</td>\n",
       "      <td>Baglioni</td>\n",
       "      <td>M</td>\n",
       "      <td>15/03/1985</td>\n",
       "      <td>Monza</td>\n",
       "      <td>BGLMRT85C15F704T</td>\n",
       "      <td>NaN</td>\n",
       "      <td>GENOVA, CORSO ITALIA, 7</td>\n",
       "      <td>44,3914268</td>\n",
       "      <td>8,9560019</td>\n",
       "      <td>U11861180V</td>\n",
       "      <td>2017-11-13</td>\n",
       "      <td>True</td>\n",
       "      <td>licenza di scuola elementare</td>\n",
       "    </tr>\n",
       "  </tbody>\n",
       "</table>\n",
       "</div>"
      ],
      "text/plain": [
       "  ID UTENTE      NOME   COGNOME SESSO DATA di NASCITA LUOGO di NASCITA  \\\n",
       "0     u6586     Dario    Nibali     M      12/09/1986           Torino   \n",
       "1     u2188  Giacinto  Ferraris     M      24/05/1986          Carrara   \n",
       "2     u5528  Fiorenzo  Morosini     M      11/02/1988            Siena   \n",
       "3     u1224   Ruggero     Ciani     M      26/11/1974          Lavagna   \n",
       "4     u6553   Umberto  Baglioni     M      15/03/1985            Monza   \n",
       "\n",
       "               C.F.        INDIRIZZO E-MAIL                      INDIRIZZO  \\\n",
       "0  NBLDRA86P12L219E                     NaN  GENOVA, VIA VAL D'ASTICO, 156   \n",
       "1  FRRGNT86E24B832A  ferraris86@vodafone.it        GENOVA, VIA SAMBUGO, 10   \n",
       "2  MRSFNZ88B11I726L                     NaN        GENOVA, VIA DI BURLO, 1   \n",
       "3  CNIRGR74S26E488U                     NaN           GENOVA, VIA CEBA', 3   \n",
       "4  BGLMRT85C15F704T                     NaN        GENOVA, CORSO ITALIA, 7   \n",
       "\n",
       "  LAT INDIRIZZO LON INDIRIZZO   PATENTE # DATA ULTIMO RINNOVO PATENTE  \\\n",
       "0    44,4946921      8,908447  U19713653J                  2019-03-30   \n",
       "1    44,4491083     8,6963344  U18283370F                  2019-08-19   \n",
       "2    44,4420369     8,8755262  U10335012S                  2014-01-25   \n",
       "3    44,4085441     8,9360784  U12038058X                  2018-10-08   \n",
       "4    44,3914268     8,9560019  U11861180V                  2017-11-13   \n",
       "\n",
       "   CONSENSO al TRATTAMENTO dei DATI  \\\n",
       "0                             False   \n",
       "1                             False   \n",
       "2                             False   \n",
       "3                             False   \n",
       "4                              True   \n",
       "\n",
       "                                    TITOLO di STUDIO  \n",
       "0                                                NaN  \n",
       "1  diploma di scuola secondaria superiore (4-5 anni)  \n",
       "2                                                NaN  \n",
       "3  diploma di scuola secondaria superiore (4-5 anni)  \n",
       "4                       licenza di scuola elementare  "
      ]
     },
     "execution_count": 7,
     "metadata": {},
     "output_type": "execute_result"
    }
   ],
   "source": [
    "utenti.head()"
   ]
  },
  {
   "cell_type": "code",
   "execution_count": 8,
   "metadata": {
    "ExecuteTime": {
     "end_time": "2021-04-14T16:20:59.238389Z",
     "start_time": "2021-04-14T16:20:59.225393Z"
    },
    "execution": {
     "iopub.execute_input": "2021-04-29T07:32:55.902116Z",
     "iopub.status.busy": "2021-04-29T07:32:55.902116Z",
     "iopub.status.idle": "2021-04-29T07:32:55.913118Z",
     "shell.execute_reply": "2021-04-29T07:32:55.911130Z",
     "shell.execute_reply.started": "2021-04-29T07:32:55.902116Z"
    }
   },
   "outputs": [
    {
     "data": {
      "text/plain": [
       "ID UTENTE                                                                        u551\n",
       "NOME                                                                           Emilio\n",
       "COGNOME                                                                     Guglielmi\n",
       "SESSO                                                                               M\n",
       "DATA di NASCITA                                                            30/03/1986\n",
       "LUOGO di NASCITA                                                               Genova\n",
       "C.F.                                                                 GGLMLE86C30D969A\n",
       "INDIRIZZO E-MAIL                                           emilio.guglielmi@libero.it\n",
       "INDIRIZZO                                        GENOVA, VIA SAN MICHELE DEL CARSO, 3\n",
       "LAT INDIRIZZO                                                               45,465383\n",
       "LON INDIRIZZO                                                               9,1647729\n",
       "PATENTE #                                                                  U12845263I\n",
       "DATA ULTIMO RINNOVO PATENTE                                                2017-01-04\n",
       "CONSENSO al TRATTAMENTO dei DATI                                                 True\n",
       "TITOLO di STUDIO                    diploma di scuola secondaria superiore (2-3 anni)\n",
       "Name: 2074, dtype: object"
      ]
     },
     "execution_count": 8,
     "metadata": {},
     "output_type": "execute_result"
    }
   ],
   "source": [
    "utenti.loc[2074]"
   ]
  },
  {
   "cell_type": "code",
   "execution_count": 9,
   "metadata": {
    "ExecuteTime": {
     "end_time": "2021-04-14T16:18:59.741697Z",
     "start_time": "2021-04-14T16:18:59.733696Z"
    },
    "execution": {
     "iopub.execute_input": "2021-04-29T07:32:55.916117Z",
     "iopub.status.busy": "2021-04-29T07:32:55.915117Z",
     "iopub.status.idle": "2021-04-29T07:32:55.926119Z",
     "shell.execute_reply": "2021-04-29T07:32:55.925116Z",
     "shell.execute_reply.started": "2021-04-29T07:32:55.916117Z"
    }
   },
   "outputs": [
    {
     "data": {
      "text/plain": [
       "ID UTENTE                           object\n",
       "NOME                                object\n",
       "COGNOME                             object\n",
       "SESSO                               object\n",
       "DATA di NASCITA                     object\n",
       "LUOGO di NASCITA                    object\n",
       "C.F.                                object\n",
       "INDIRIZZO E-MAIL                    object\n",
       "INDIRIZZO                           object\n",
       "LAT INDIRIZZO                       object\n",
       "LON INDIRIZZO                       object\n",
       "PATENTE #                           object\n",
       "DATA ULTIMO RINNOVO PATENTE         object\n",
       "CONSENSO al TRATTAMENTO dei DATI      bool\n",
       "TITOLO di STUDIO                    object\n",
       "dtype: object"
      ]
     },
     "execution_count": 9,
     "metadata": {},
     "output_type": "execute_result"
    }
   ],
   "source": [
    "utenti.dtypes"
   ]
  },
  {
   "cell_type": "markdown",
   "metadata": {},
   "source": [
    "## caricamento del CSV con indicazione del separatore delle cifre decimali"
   ]
  },
  {
   "cell_type": "code",
   "execution_count": 10,
   "metadata": {
    "ExecuteTime": {
     "end_time": "2021-04-14T16:19:00.991474Z",
     "start_time": "2021-04-14T16:19:00.915477Z"
    },
    "execution": {
     "iopub.execute_input": "2021-04-29T07:32:55.927116Z",
     "iopub.status.busy": "2021-04-29T07:32:55.927116Z",
     "iopub.status.idle": "2021-04-29T07:32:55.978118Z",
     "shell.execute_reply": "2021-04-29T07:32:55.978118Z",
     "shell.execute_reply.started": "2021-04-29T07:32:55.927116Z"
    }
   },
   "outputs": [],
   "source": [
    "utenti = pd.read_csv(\n",
    "    f'{path_to_file}/utenti.csv',\n",
    "    sep='|',\n",
    "    decimal=','\n",
    ")"
   ]
  },
  {
   "cell_type": "code",
   "execution_count": 11,
   "metadata": {
    "ExecuteTime": {
     "end_time": "2021-04-14T16:19:01.444520Z",
     "start_time": "2021-04-14T16:19:01.414522Z"
    },
    "execution": {
     "iopub.execute_input": "2021-04-29T07:32:55.980117Z",
     "iopub.status.busy": "2021-04-29T07:32:55.979115Z",
     "iopub.status.idle": "2021-04-29T07:32:55.999117Z",
     "shell.execute_reply": "2021-04-29T07:32:55.998117Z",
     "shell.execute_reply.started": "2021-04-29T07:32:55.980117Z"
    }
   },
   "outputs": [
    {
     "data": {
      "text/html": [
       "<div>\n",
       "<style scoped>\n",
       "    .dataframe tbody tr th:only-of-type {\n",
       "        vertical-align: middle;\n",
       "    }\n",
       "\n",
       "    .dataframe tbody tr th {\n",
       "        vertical-align: top;\n",
       "    }\n",
       "\n",
       "    .dataframe thead th {\n",
       "        text-align: right;\n",
       "    }\n",
       "</style>\n",
       "<table border=\"1\" class=\"dataframe\">\n",
       "  <thead>\n",
       "    <tr style=\"text-align: right;\">\n",
       "      <th></th>\n",
       "      <th>ID UTENTE</th>\n",
       "      <th>NOME</th>\n",
       "      <th>COGNOME</th>\n",
       "      <th>SESSO</th>\n",
       "      <th>DATA di NASCITA</th>\n",
       "      <th>LUOGO di NASCITA</th>\n",
       "      <th>C.F.</th>\n",
       "      <th>INDIRIZZO E-MAIL</th>\n",
       "      <th>INDIRIZZO</th>\n",
       "      <th>LAT INDIRIZZO</th>\n",
       "      <th>LON INDIRIZZO</th>\n",
       "      <th>PATENTE #</th>\n",
       "      <th>DATA ULTIMO RINNOVO PATENTE</th>\n",
       "      <th>CONSENSO al TRATTAMENTO dei DATI</th>\n",
       "      <th>TITOLO di STUDIO</th>\n",
       "    </tr>\n",
       "  </thead>\n",
       "  <tbody>\n",
       "    <tr>\n",
       "      <th>0</th>\n",
       "      <td>u6586</td>\n",
       "      <td>Dario</td>\n",
       "      <td>Nibali</td>\n",
       "      <td>M</td>\n",
       "      <td>12/09/1986</td>\n",
       "      <td>Torino</td>\n",
       "      <td>NBLDRA86P12L219E</td>\n",
       "      <td>NaN</td>\n",
       "      <td>GENOVA, VIA VAL D'ASTICO, 156</td>\n",
       "      <td>44.494692</td>\n",
       "      <td>8.908447</td>\n",
       "      <td>U19713653J</td>\n",
       "      <td>2019-03-30</td>\n",
       "      <td>False</td>\n",
       "      <td>NaN</td>\n",
       "    </tr>\n",
       "    <tr>\n",
       "      <th>1</th>\n",
       "      <td>u2188</td>\n",
       "      <td>Giacinto</td>\n",
       "      <td>Ferraris</td>\n",
       "      <td>M</td>\n",
       "      <td>24/05/1986</td>\n",
       "      <td>Carrara</td>\n",
       "      <td>FRRGNT86E24B832A</td>\n",
       "      <td>ferraris86@vodafone.it</td>\n",
       "      <td>GENOVA, VIA SAMBUGO, 10</td>\n",
       "      <td>44.449108</td>\n",
       "      <td>8.696334</td>\n",
       "      <td>U18283370F</td>\n",
       "      <td>2019-08-19</td>\n",
       "      <td>False</td>\n",
       "      <td>diploma di scuola secondaria superiore (4-5 anni)</td>\n",
       "    </tr>\n",
       "    <tr>\n",
       "      <th>2</th>\n",
       "      <td>u5528</td>\n",
       "      <td>Fiorenzo</td>\n",
       "      <td>Morosini</td>\n",
       "      <td>M</td>\n",
       "      <td>11/02/1988</td>\n",
       "      <td>Siena</td>\n",
       "      <td>MRSFNZ88B11I726L</td>\n",
       "      <td>NaN</td>\n",
       "      <td>GENOVA, VIA DI BURLO, 1</td>\n",
       "      <td>44.442037</td>\n",
       "      <td>8.875526</td>\n",
       "      <td>U10335012S</td>\n",
       "      <td>2014-01-25</td>\n",
       "      <td>False</td>\n",
       "      <td>NaN</td>\n",
       "    </tr>\n",
       "    <tr>\n",
       "      <th>3</th>\n",
       "      <td>u1224</td>\n",
       "      <td>Ruggero</td>\n",
       "      <td>Ciani</td>\n",
       "      <td>M</td>\n",
       "      <td>26/11/1974</td>\n",
       "      <td>Lavagna</td>\n",
       "      <td>CNIRGR74S26E488U</td>\n",
       "      <td>NaN</td>\n",
       "      <td>GENOVA, VIA CEBA', 3</td>\n",
       "      <td>44.408544</td>\n",
       "      <td>8.936078</td>\n",
       "      <td>U12038058X</td>\n",
       "      <td>2018-10-08</td>\n",
       "      <td>False</td>\n",
       "      <td>diploma di scuola secondaria superiore (4-5 anni)</td>\n",
       "    </tr>\n",
       "    <tr>\n",
       "      <th>4</th>\n",
       "      <td>u6553</td>\n",
       "      <td>Umberto</td>\n",
       "      <td>Baglioni</td>\n",
       "      <td>M</td>\n",
       "      <td>15/03/1985</td>\n",
       "      <td>Monza</td>\n",
       "      <td>BGLMRT85C15F704T</td>\n",
       "      <td>NaN</td>\n",
       "      <td>GENOVA, CORSO ITALIA, 7</td>\n",
       "      <td>44.391427</td>\n",
       "      <td>8.956002</td>\n",
       "      <td>U11861180V</td>\n",
       "      <td>2017-11-13</td>\n",
       "      <td>True</td>\n",
       "      <td>licenza di scuola elementare</td>\n",
       "    </tr>\n",
       "  </tbody>\n",
       "</table>\n",
       "</div>"
      ],
      "text/plain": [
       "  ID UTENTE      NOME   COGNOME SESSO DATA di NASCITA LUOGO di NASCITA  \\\n",
       "0     u6586     Dario    Nibali     M      12/09/1986           Torino   \n",
       "1     u2188  Giacinto  Ferraris     M      24/05/1986          Carrara   \n",
       "2     u5528  Fiorenzo  Morosini     M      11/02/1988            Siena   \n",
       "3     u1224   Ruggero     Ciani     M      26/11/1974          Lavagna   \n",
       "4     u6553   Umberto  Baglioni     M      15/03/1985            Monza   \n",
       "\n",
       "               C.F.        INDIRIZZO E-MAIL                      INDIRIZZO  \\\n",
       "0  NBLDRA86P12L219E                     NaN  GENOVA, VIA VAL D'ASTICO, 156   \n",
       "1  FRRGNT86E24B832A  ferraris86@vodafone.it        GENOVA, VIA SAMBUGO, 10   \n",
       "2  MRSFNZ88B11I726L                     NaN        GENOVA, VIA DI BURLO, 1   \n",
       "3  CNIRGR74S26E488U                     NaN           GENOVA, VIA CEBA', 3   \n",
       "4  BGLMRT85C15F704T                     NaN        GENOVA, CORSO ITALIA, 7   \n",
       "\n",
       "   LAT INDIRIZZO  LON INDIRIZZO   PATENTE # DATA ULTIMO RINNOVO PATENTE  \\\n",
       "0      44.494692       8.908447  U19713653J                  2019-03-30   \n",
       "1      44.449108       8.696334  U18283370F                  2019-08-19   \n",
       "2      44.442037       8.875526  U10335012S                  2014-01-25   \n",
       "3      44.408544       8.936078  U12038058X                  2018-10-08   \n",
       "4      44.391427       8.956002  U11861180V                  2017-11-13   \n",
       "\n",
       "   CONSENSO al TRATTAMENTO dei DATI  \\\n",
       "0                             False   \n",
       "1                             False   \n",
       "2                             False   \n",
       "3                             False   \n",
       "4                              True   \n",
       "\n",
       "                                    TITOLO di STUDIO  \n",
       "0                                                NaN  \n",
       "1  diploma di scuola secondaria superiore (4-5 anni)  \n",
       "2                                                NaN  \n",
       "3  diploma di scuola secondaria superiore (4-5 anni)  \n",
       "4                       licenza di scuola elementare  "
      ]
     },
     "execution_count": 11,
     "metadata": {},
     "output_type": "execute_result"
    }
   ],
   "source": [
    "utenti.head()"
   ]
  },
  {
   "cell_type": "code",
   "execution_count": 12,
   "metadata": {
    "ExecuteTime": {
     "end_time": "2021-04-14T16:19:01.718524Z",
     "start_time": "2021-04-14T16:19:01.709519Z"
    },
    "execution": {
     "iopub.execute_input": "2021-04-29T07:32:56.000117Z",
     "iopub.status.busy": "2021-04-29T07:32:56.000117Z",
     "iopub.status.idle": "2021-04-29T07:32:56.009125Z",
     "shell.execute_reply": "2021-04-29T07:32:56.008117Z",
     "shell.execute_reply.started": "2021-04-29T07:32:56.000117Z"
    }
   },
   "outputs": [
    {
     "data": {
      "text/plain": [
       "ID UTENTE                            object\n",
       "NOME                                 object\n",
       "COGNOME                              object\n",
       "SESSO                                object\n",
       "DATA di NASCITA                      object\n",
       "LUOGO di NASCITA                     object\n",
       "C.F.                                 object\n",
       "INDIRIZZO E-MAIL                     object\n",
       "INDIRIZZO                            object\n",
       "LAT INDIRIZZO                       float64\n",
       "LON INDIRIZZO                       float64\n",
       "PATENTE #                            object\n",
       "DATA ULTIMO RINNOVO PATENTE          object\n",
       "CONSENSO al TRATTAMENTO dei DATI       bool\n",
       "TITOLO di STUDIO                     object\n",
       "dtype: object"
      ]
     },
     "execution_count": 12,
     "metadata": {},
     "output_type": "execute_result"
    }
   ],
   "source": [
    "utenti.dtypes"
   ]
  },
  {
   "cell_type": "markdown",
   "metadata": {},
   "source": [
    "## caricamento del CSV con indicazione del tipo di alcune colonne"
   ]
  },
  {
   "cell_type": "code",
   "execution_count": 13,
   "metadata": {
    "ExecuteTime": {
     "end_time": "2021-04-14T16:19:02.653466Z",
     "start_time": "2021-04-14T16:19:02.549463Z"
    },
    "execution": {
     "iopub.execute_input": "2021-04-29T07:32:56.010118Z",
     "iopub.status.busy": "2021-04-29T07:32:56.010118Z",
     "iopub.status.idle": "2021-04-29T07:32:56.079114Z",
     "shell.execute_reply": "2021-04-29T07:32:56.079114Z",
     "shell.execute_reply.started": "2021-04-29T07:32:56.010118Z"
    }
   },
   "outputs": [],
   "source": [
    "utenti = pd.read_csv(\n",
    "    f'{path_to_file}/utenti.csv',\n",
    "    sep='|',\n",
    "    decimal=',',\n",
    "    parse_dates=[\n",
    "        'DATA di NASCITA',\n",
    "        'DATA ULTIMO RINNOVO PATENTE'\n",
    "    ]\n",
    ")"
   ]
  },
  {
   "cell_type": "code",
   "execution_count": 14,
   "metadata": {
    "ExecuteTime": {
     "end_time": "2021-04-14T16:19:03.119471Z",
     "start_time": "2021-04-14T16:19:03.078464Z"
    },
    "execution": {
     "iopub.execute_input": "2021-04-29T07:32:56.080115Z",
     "iopub.status.busy": "2021-04-29T07:32:56.080115Z",
     "iopub.status.idle": "2021-04-29T07:32:56.098118Z",
     "shell.execute_reply": "2021-04-29T07:32:56.098118Z",
     "shell.execute_reply.started": "2021-04-29T07:32:56.080115Z"
    }
   },
   "outputs": [
    {
     "data": {
      "text/html": [
       "<div>\n",
       "<style scoped>\n",
       "    .dataframe tbody tr th:only-of-type {\n",
       "        vertical-align: middle;\n",
       "    }\n",
       "\n",
       "    .dataframe tbody tr th {\n",
       "        vertical-align: top;\n",
       "    }\n",
       "\n",
       "    .dataframe thead th {\n",
       "        text-align: right;\n",
       "    }\n",
       "</style>\n",
       "<table border=\"1\" class=\"dataframe\">\n",
       "  <thead>\n",
       "    <tr style=\"text-align: right;\">\n",
       "      <th></th>\n",
       "      <th>ID UTENTE</th>\n",
       "      <th>NOME</th>\n",
       "      <th>COGNOME</th>\n",
       "      <th>SESSO</th>\n",
       "      <th>DATA di NASCITA</th>\n",
       "      <th>LUOGO di NASCITA</th>\n",
       "      <th>C.F.</th>\n",
       "      <th>INDIRIZZO E-MAIL</th>\n",
       "      <th>INDIRIZZO</th>\n",
       "      <th>LAT INDIRIZZO</th>\n",
       "      <th>LON INDIRIZZO</th>\n",
       "      <th>PATENTE #</th>\n",
       "      <th>DATA ULTIMO RINNOVO PATENTE</th>\n",
       "      <th>CONSENSO al TRATTAMENTO dei DATI</th>\n",
       "      <th>TITOLO di STUDIO</th>\n",
       "    </tr>\n",
       "  </thead>\n",
       "  <tbody>\n",
       "    <tr>\n",
       "      <th>0</th>\n",
       "      <td>u6586</td>\n",
       "      <td>Dario</td>\n",
       "      <td>Nibali</td>\n",
       "      <td>M</td>\n",
       "      <td>1986-12-09</td>\n",
       "      <td>Torino</td>\n",
       "      <td>NBLDRA86P12L219E</td>\n",
       "      <td>NaN</td>\n",
       "      <td>GENOVA, VIA VAL D'ASTICO, 156</td>\n",
       "      <td>44.494692</td>\n",
       "      <td>8.908447</td>\n",
       "      <td>U19713653J</td>\n",
       "      <td>2019-03-30</td>\n",
       "      <td>False</td>\n",
       "      <td>NaN</td>\n",
       "    </tr>\n",
       "    <tr>\n",
       "      <th>1</th>\n",
       "      <td>u2188</td>\n",
       "      <td>Giacinto</td>\n",
       "      <td>Ferraris</td>\n",
       "      <td>M</td>\n",
       "      <td>1986-05-24</td>\n",
       "      <td>Carrara</td>\n",
       "      <td>FRRGNT86E24B832A</td>\n",
       "      <td>ferraris86@vodafone.it</td>\n",
       "      <td>GENOVA, VIA SAMBUGO, 10</td>\n",
       "      <td>44.449108</td>\n",
       "      <td>8.696334</td>\n",
       "      <td>U18283370F</td>\n",
       "      <td>2019-08-19</td>\n",
       "      <td>False</td>\n",
       "      <td>diploma di scuola secondaria superiore (4-5 anni)</td>\n",
       "    </tr>\n",
       "    <tr>\n",
       "      <th>2</th>\n",
       "      <td>u5528</td>\n",
       "      <td>Fiorenzo</td>\n",
       "      <td>Morosini</td>\n",
       "      <td>M</td>\n",
       "      <td>1988-11-02</td>\n",
       "      <td>Siena</td>\n",
       "      <td>MRSFNZ88B11I726L</td>\n",
       "      <td>NaN</td>\n",
       "      <td>GENOVA, VIA DI BURLO, 1</td>\n",
       "      <td>44.442037</td>\n",
       "      <td>8.875526</td>\n",
       "      <td>U10335012S</td>\n",
       "      <td>2014-01-25</td>\n",
       "      <td>False</td>\n",
       "      <td>NaN</td>\n",
       "    </tr>\n",
       "    <tr>\n",
       "      <th>3</th>\n",
       "      <td>u1224</td>\n",
       "      <td>Ruggero</td>\n",
       "      <td>Ciani</td>\n",
       "      <td>M</td>\n",
       "      <td>1974-11-26</td>\n",
       "      <td>Lavagna</td>\n",
       "      <td>CNIRGR74S26E488U</td>\n",
       "      <td>NaN</td>\n",
       "      <td>GENOVA, VIA CEBA', 3</td>\n",
       "      <td>44.408544</td>\n",
       "      <td>8.936078</td>\n",
       "      <td>U12038058X</td>\n",
       "      <td>2018-10-08</td>\n",
       "      <td>False</td>\n",
       "      <td>diploma di scuola secondaria superiore (4-5 anni)</td>\n",
       "    </tr>\n",
       "    <tr>\n",
       "      <th>4</th>\n",
       "      <td>u6553</td>\n",
       "      <td>Umberto</td>\n",
       "      <td>Baglioni</td>\n",
       "      <td>M</td>\n",
       "      <td>1985-03-15</td>\n",
       "      <td>Monza</td>\n",
       "      <td>BGLMRT85C15F704T</td>\n",
       "      <td>NaN</td>\n",
       "      <td>GENOVA, CORSO ITALIA, 7</td>\n",
       "      <td>44.391427</td>\n",
       "      <td>8.956002</td>\n",
       "      <td>U11861180V</td>\n",
       "      <td>2017-11-13</td>\n",
       "      <td>True</td>\n",
       "      <td>licenza di scuola elementare</td>\n",
       "    </tr>\n",
       "  </tbody>\n",
       "</table>\n",
       "</div>"
      ],
      "text/plain": [
       "  ID UTENTE      NOME   COGNOME SESSO DATA di NASCITA LUOGO di NASCITA  \\\n",
       "0     u6586     Dario    Nibali     M      1986-12-09           Torino   \n",
       "1     u2188  Giacinto  Ferraris     M      1986-05-24          Carrara   \n",
       "2     u5528  Fiorenzo  Morosini     M      1988-11-02            Siena   \n",
       "3     u1224   Ruggero     Ciani     M      1974-11-26          Lavagna   \n",
       "4     u6553   Umberto  Baglioni     M      1985-03-15            Monza   \n",
       "\n",
       "               C.F.        INDIRIZZO E-MAIL                      INDIRIZZO  \\\n",
       "0  NBLDRA86P12L219E                     NaN  GENOVA, VIA VAL D'ASTICO, 156   \n",
       "1  FRRGNT86E24B832A  ferraris86@vodafone.it        GENOVA, VIA SAMBUGO, 10   \n",
       "2  MRSFNZ88B11I726L                     NaN        GENOVA, VIA DI BURLO, 1   \n",
       "3  CNIRGR74S26E488U                     NaN           GENOVA, VIA CEBA', 3   \n",
       "4  BGLMRT85C15F704T                     NaN        GENOVA, CORSO ITALIA, 7   \n",
       "\n",
       "   LAT INDIRIZZO  LON INDIRIZZO   PATENTE # DATA ULTIMO RINNOVO PATENTE  \\\n",
       "0      44.494692       8.908447  U19713653J                  2019-03-30   \n",
       "1      44.449108       8.696334  U18283370F                  2019-08-19   \n",
       "2      44.442037       8.875526  U10335012S                  2014-01-25   \n",
       "3      44.408544       8.936078  U12038058X                  2018-10-08   \n",
       "4      44.391427       8.956002  U11861180V                  2017-11-13   \n",
       "\n",
       "   CONSENSO al TRATTAMENTO dei DATI  \\\n",
       "0                             False   \n",
       "1                             False   \n",
       "2                             False   \n",
       "3                             False   \n",
       "4                              True   \n",
       "\n",
       "                                    TITOLO di STUDIO  \n",
       "0                                                NaN  \n",
       "1  diploma di scuola secondaria superiore (4-5 anni)  \n",
       "2                                                NaN  \n",
       "3  diploma di scuola secondaria superiore (4-5 anni)  \n",
       "4                       licenza di scuola elementare  "
      ]
     },
     "execution_count": 14,
     "metadata": {},
     "output_type": "execute_result"
    }
   ],
   "source": [
    "utenti.head()"
   ]
  },
  {
   "cell_type": "code",
   "execution_count": 15,
   "metadata": {
    "ExecuteTime": {
     "end_time": "2021-04-14T16:19:03.506619Z",
     "start_time": "2021-04-14T16:19:03.496619Z"
    },
    "execution": {
     "iopub.execute_input": "2021-04-29T07:32:56.101119Z",
     "iopub.status.busy": "2021-04-29T07:32:56.100118Z",
     "iopub.status.idle": "2021-04-29T07:32:56.113118Z",
     "shell.execute_reply": "2021-04-29T07:32:56.112118Z",
     "shell.execute_reply.started": "2021-04-29T07:32:56.101119Z"
    }
   },
   "outputs": [
    {
     "data": {
      "text/plain": [
       "ID UTENTE                                   object\n",
       "NOME                                        object\n",
       "COGNOME                                     object\n",
       "SESSO                                       object\n",
       "DATA di NASCITA                     datetime64[ns]\n",
       "LUOGO di NASCITA                            object\n",
       "C.F.                                        object\n",
       "INDIRIZZO E-MAIL                            object\n",
       "INDIRIZZO                                   object\n",
       "LAT INDIRIZZO                              float64\n",
       "LON INDIRIZZO                              float64\n",
       "PATENTE #                                   object\n",
       "DATA ULTIMO RINNOVO PATENTE         datetime64[ns]\n",
       "CONSENSO al TRATTAMENTO dei DATI              bool\n",
       "TITOLO di STUDIO                            object\n",
       "dtype: object"
      ]
     },
     "execution_count": 15,
     "metadata": {},
     "output_type": "execute_result"
    }
   ],
   "source": [
    "utenti.dtypes"
   ]
  },
  {
   "cell_type": "code",
   "execution_count": 16,
   "metadata": {
    "ExecuteTime": {
     "end_time": "2021-04-14T16:19:03.910140Z",
     "start_time": "2021-04-14T16:19:03.904140Z"
    },
    "execution": {
     "iopub.execute_input": "2021-04-29T07:32:56.115120Z",
     "iopub.status.busy": "2021-04-29T07:32:56.115120Z",
     "iopub.status.idle": "2021-04-29T07:32:56.123118Z",
     "shell.execute_reply": "2021-04-29T07:32:56.122115Z",
     "shell.execute_reply.started": "2021-04-29T07:32:56.115120Z"
    }
   },
   "outputs": [],
   "source": [
    "a = utenti.loc[0, 'DATA di NASCITA']"
   ]
  },
  {
   "cell_type": "markdown",
   "metadata": {},
   "source": [
    "## distribuzione di genere"
   ]
  },
  {
   "cell_type": "markdown",
   "metadata": {},
   "source": [
    "### groupby"
   ]
  },
  {
   "cell_type": "code",
   "execution_count": 17,
   "metadata": {
    "ExecuteTime": {
     "end_time": "2021-04-14T16:19:04.841449Z",
     "start_time": "2021-04-14T16:19:04.827452Z"
    },
    "execution": {
     "iopub.execute_input": "2021-04-29T07:32:56.125118Z",
     "iopub.status.busy": "2021-04-29T07:32:56.125118Z",
     "iopub.status.idle": "2021-04-29T07:32:56.134117Z",
     "shell.execute_reply": "2021-04-29T07:32:56.133117Z",
     "shell.execute_reply.started": "2021-04-29T07:32:56.125118Z"
    }
   },
   "outputs": [
    {
     "data": {
      "text/plain": [
       "SESSO\n",
       "F    4988\n",
       "M    4012\n",
       "dtype: int64"
      ]
     },
     "execution_count": 17,
     "metadata": {},
     "output_type": "execute_result"
    }
   ],
   "source": [
    "utenti.groupby('SESSO').size()"
   ]
  },
  {
   "cell_type": "markdown",
   "metadata": {},
   "source": [
    "### visualizzazione"
   ]
  },
  {
   "cell_type": "code",
   "execution_count": 18,
   "metadata": {
    "ExecuteTime": {
     "end_time": "2021-04-14T16:19:06.318452Z",
     "start_time": "2021-04-14T16:19:05.366512Z"
    },
    "execution": {
     "iopub.execute_input": "2021-04-29T07:32:56.137127Z",
     "iopub.status.busy": "2021-04-29T07:32:56.137127Z",
     "iopub.status.idle": "2021-04-29T07:32:56.724118Z",
     "shell.execute_reply": "2021-04-29T07:32:56.723132Z",
     "shell.execute_reply.started": "2021-04-29T07:32:56.137127Z"
    }
   },
   "outputs": [
    {
     "data": {
      "text/plain": [
       "<AxesSubplot:xlabel='SESSO'>"
      ]
     },
     "execution_count": 18,
     "metadata": {},
     "output_type": "execute_result"
    },
    {
     "data": {
      "image/png": "[encoded data removed]",
      "text/plain": [
       "<Figure size 432x288 with 1 Axes>"
      ]
     },
     "metadata": {
      "needs_background": "light"
     },
     "output_type": "display_data"
    }
   ],
   "source": [
    "utenti.groupby('SESSO').size().plot.bar()"
   ]
  },
  {
   "cell_type": "markdown",
   "metadata": {},
   "source": [
    "## distribuzione dei titoli di studio"
   ]
  },
  {
   "cell_type": "code",
   "execution_count": 19,
   "metadata": {
    "ExecuteTime": {
     "end_time": "2021-04-14T16:19:06.658449Z",
     "start_time": "2021-04-14T16:19:06.322451Z"
    },
    "execution": {
     "iopub.execute_input": "2021-04-29T07:32:56.725116Z",
     "iopub.status.busy": "2021-04-29T07:32:56.725116Z",
     "iopub.status.idle": "2021-04-29T07:32:56.995143Z",
     "shell.execute_reply": "2021-04-29T07:32:56.995143Z",
     "shell.execute_reply.started": "2021-04-29T07:32:56.725116Z"
    }
   },
   "outputs": [
    {
     "data": {
      "text/plain": [
       "<AxesSubplot:xlabel='TITOLO di STUDIO'>"
      ]
     },
     "execution_count": 19,
     "metadata": {},
     "output_type": "execute_result"
    },
    {
     "data": {
      "image/png": "[encoded data removed]",
      "text/plain": [
       "<Figure size 432x288 with 1 Axes>"
      ]
     },
     "metadata": {
      "needs_background": "light"
     },
     "output_type": "display_data"
    }
   ],
   "source": [
    "utenti.groupby('TITOLO di STUDIO').size().plot.bar(grid=True)"
   ]
  },
  {
   "cell_type": "markdown",
   "metadata": {},
   "source": [
    "## distribuzione dei luoghi di nascita (i 10 più frequenti)"
   ]
  },
  {
   "cell_type": "code",
   "execution_count": 20,
   "metadata": {
    "ExecuteTime": {
     "end_time": "2021-04-14T16:19:06.917354Z",
     "start_time": "2021-04-14T16:19:06.662450Z"
    },
    "execution": {
     "iopub.execute_input": "2021-04-29T07:32:56.996114Z",
     "iopub.status.busy": "2021-04-29T07:32:56.996114Z",
     "iopub.status.idle": "2021-04-29T07:32:57.208142Z",
     "shell.execute_reply": "2021-04-29T07:32:57.208142Z",
     "shell.execute_reply.started": "2021-04-29T07:32:56.996114Z"
    }
   },
   "outputs": [
    {
     "data": {
      "text/plain": [
       "<AxesSubplot:xlabel='LUOGO di NASCITA'>"
      ]
     },
     "execution_count": 20,
     "metadata": {},
     "output_type": "execute_result"
    },
    {
     "data": {
      "image/png": "[encoded data removed]",
      "text/plain": [
       "<Figure size 432x288 with 1 Axes>"
      ]
     },
     "metadata": {
      "needs_background": "light"
     },
     "output_type": "display_data"
    }
   ],
   "source": [
    "utenti.groupby('LUOGO di NASCITA').size().sort_values().tail(10).plot.bar(grid=True)"
   ]
  },
  {
   "cell_type": "markdown",
   "metadata": {},
   "source": [
    "## Distrbuzione anno di nascita"
   ]
  },
  {
   "cell_type": "code",
   "execution_count": 21,
   "metadata": {
    "execution": {
     "iopub.execute_input": "2021-04-29T07:32:57.210115Z",
     "iopub.status.busy": "2021-04-29T07:32:57.209127Z",
     "iopub.status.idle": "2021-04-29T07:32:57.215116Z",
     "shell.execute_reply": "2021-04-29T07:32:57.214121Z",
     "shell.execute_reply.started": "2021-04-29T07:32:57.209127Z"
    }
   },
   "outputs": [],
   "source": [
    "utenti['anno_nascita'] = utenti['DATA di NASCITA'].dt.year"
   ]
  },
  {
   "cell_type": "code",
   "execution_count": 22,
   "metadata": {
    "execution": {
     "iopub.execute_input": "2021-04-29T07:32:57.216122Z",
     "iopub.status.busy": "2021-04-29T07:32:57.216122Z",
     "iopub.status.idle": "2021-04-29T07:32:57.543115Z",
     "shell.execute_reply": "2021-04-29T07:32:57.542121Z",
     "shell.execute_reply.started": "2021-04-29T07:32:57.216122Z"
    }
   },
   "outputs": [
    {
     "data": {
      "text/plain": [
       "<AxesSubplot:xlabel='anno_nascita'>"
      ]
     },
     "execution_count": 22,
     "metadata": {},
     "output_type": "execute_result"
    },
    {
     "data": {
      "image/png": "[encoded data removed]",
      "text/plain": [
       "<Figure size 432x288 with 1 Axes>"
      ]
     },
     "metadata": {
      "needs_background": "light"
     },
     "output_type": "display_data"
    }
   ],
   "source": [
    "utenti.groupby('anno_nascita').size().sort_values().plot.bar(grid=True)"
   ]
  },
  {
   "cell_type": "markdown",
   "metadata": {},
   "source": [
    "## (Bonus) distribuzione delle età"
   ]
  },
  {
   "cell_type": "code",
   "execution_count": 23,
   "metadata": {
    "ExecuteTime": {
     "end_time": "2021-04-14T16:19:07.420344Z",
     "start_time": "2021-04-14T16:19:07.309319Z"
    },
    "execution": {
     "iopub.execute_input": "2021-04-29T07:32:57.544118Z",
     "iopub.status.busy": "2021-04-29T07:32:57.543115Z",
     "iopub.status.idle": "2021-04-29T07:32:57.690114Z",
     "shell.execute_reply": "2021-04-29T07:32:57.689128Z",
     "shell.execute_reply.started": "2021-04-29T07:32:57.544118Z"
    }
   },
   "outputs": [],
   "source": [
    "utenti['AGE'] = (datetime.datetime.today()-utenti['DATA di NASCITA']).apply(lambda x: int(round(x.components.days/365, 0)))"
   ]
  },
  {
   "cell_type": "code",
   "execution_count": 24,
   "metadata": {
    "execution": {
     "iopub.execute_input": "2021-04-29T07:32:57.691119Z",
     "iopub.status.busy": "2021-04-29T07:32:57.690114Z",
     "iopub.status.idle": "2021-04-29T07:32:58.011117Z",
     "shell.execute_reply": "2021-04-29T07:32:58.011117Z",
     "shell.execute_reply.started": "2021-04-29T07:32:57.691119Z"
    }
   },
   "outputs": [
    {
     "data": {
      "text/plain": [
       "<AxesSubplot:xlabel='AGE'>"
      ]
     },
     "execution_count": 24,
     "metadata": {},
     "output_type": "execute_result"
    },
    {
     "data": {
      "image/png": "[encoded data removed]",
      "text/plain": [
       "<Figure size 432x288 with 1 Axes>"
      ]
     },
     "metadata": {
      "needs_background": "light"
     },
     "output_type": "display_data"
    }
   ],
   "source": [
    "utenti.groupby('AGE').size().sort_values().plot.bar(grid=True)"
   ]
  },
  {
   "cell_type": "markdown",
   "metadata": {},
   "source": [
    "## distribuzione del consenso al trattamento dei dati"
   ]
  },
  {
   "cell_type": "code",
   "execution_count": 25,
   "metadata": {
    "ExecuteTime": {
     "end_time": "2021-04-14T16:19:08.976837Z",
     "start_time": "2021-04-14T16:19:08.683745Z"
    },
    "execution": {
     "iopub.execute_input": "2021-04-29T07:32:58.013128Z",
     "iopub.status.busy": "2021-04-29T07:32:58.013128Z",
     "iopub.status.idle": "2021-04-29T07:32:58.251115Z",
     "shell.execute_reply": "2021-04-29T07:32:58.251115Z",
     "shell.execute_reply.started": "2021-04-29T07:32:58.013128Z"
    }
   },
   "outputs": [
    {
     "data": {
      "text/plain": [
       "CONSENSO al TRATTAMENTO dei DATI\n",
       "False    AxesSubplot(0.125,0.125;0.775x0.755)\n",
       "True     AxesSubplot(0.125,0.125;0.775x0.755)\n",
       "Name: AGE, dtype: object"
      ]
     },
     "execution_count": 25,
     "metadata": {},
     "output_type": "execute_result"
    },
    {
     "data": {
      "image/png": "[encoded data removed]",
      "text/plain": [
       "<Figure size 432x288 with 1 Axes>"
      ]
     },
     "metadata": {
      "needs_background": "light"
     },
     "output_type": "display_data"
    }
   ],
   "source": [
    "utenti.groupby('CONSENSO al TRATTAMENTO dei DATI').AGE.hist(bins=np.linspace(18,60,20),alpha=.5,legend=True)"
   ]
  },
  {
   "cell_type": "code",
   "execution_count": 26,
   "metadata": {
    "ExecuteTime": {
     "end_time": "2021-04-14T16:19:09.495103Z",
     "start_time": "2021-04-14T16:19:08.979834Z"
    },
    "execution": {
     "iopub.execute_input": "2021-04-29T07:32:58.256153Z",
     "iopub.status.busy": "2021-04-29T07:32:58.256153Z",
     "iopub.status.idle": "2021-04-29T07:32:58.679153Z",
     "shell.execute_reply": "2021-04-29T07:32:58.679153Z",
     "shell.execute_reply.started": "2021-04-29T07:32:58.256153Z"
    }
   },
   "outputs": [
    {
     "data": {
      "text/plain": [
       "array([<AxesSubplot:title={'center':'False'}>,\n",
       "       <AxesSubplot:title={'center':'True'}>], dtype=object)"
      ]
     },
     "execution_count": 26,
     "metadata": {},
     "output_type": "execute_result"
    },
    {
     "data": {
      "image/png": "[encoded data removed]",
      "text/plain": [
       "<Figure size 432x288 with 2 Axes>"
      ]
     },
     "metadata": {
      "needs_background": "light"
     },
     "output_type": "display_data"
    }
   ],
   "source": [
    "utenti.AGE.hist(by=utenti['CONSENSO al TRATTAMENTO dei DATI'],bins=np.linspace(18,60,60-17),alpha=.5,legend=True)"
   ]
  },
  {
   "cell_type": "markdown",
   "metadata": {},
   "source": [
    "# viaggi"
   ]
  },
  {
   "cell_type": "code",
   "execution_count": 27,
   "metadata": {
    "ExecuteTime": {
     "end_time": "2021-04-13T13:18:37.741061Z",
     "start_time": "2021-04-13T13:18:36.532387Z"
    },
    "execution": {
     "iopub.execute_input": "2021-04-29T07:32:58.681117Z",
     "iopub.status.busy": "2021-04-29T07:32:58.681117Z",
     "iopub.status.idle": "2021-04-29T07:32:59.744145Z",
     "shell.execute_reply": "2021-04-29T07:32:59.744145Z",
     "shell.execute_reply.started": "2021-04-29T07:32:58.681117Z"
    }
   },
   "outputs": [],
   "source": [
    "viaggi = pd.read_csv(\n",
    "    f'{path_to_file}/viaggi.csv',\n",
    "    sep='*',\n",
    "    decimal=','\n",
    ")"
   ]
  },
  {
   "cell_type": "code",
   "execution_count": 28,
   "metadata": {
    "execution": {
     "iopub.execute_input": "2021-04-29T07:32:59.745098Z",
     "iopub.status.busy": "2021-04-29T07:32:59.745098Z",
     "iopub.status.idle": "2021-04-29T07:32:59.828141Z",
     "shell.execute_reply": "2021-04-29T07:32:59.828141Z",
     "shell.execute_reply.started": "2021-04-29T07:32:59.745098Z"
    }
   },
   "outputs": [],
   "source": [
    "viaggi['distanzaPercorsaNew'] = viaggi['distanzaPercorsa'].apply(lambda x: float(x[:-3]))"
   ]
  },
  {
   "cell_type": "code",
   "execution_count": 29,
   "metadata": {
    "ExecuteTime": {
     "end_time": "2021-04-13T13:18:37.775310Z",
     "start_time": "2021-04-13T13:18:37.741061Z"
    },
    "execution": {
     "iopub.execute_input": "2021-04-29T07:32:59.830098Z",
     "iopub.status.busy": "2021-04-29T07:32:59.829097Z",
     "iopub.status.idle": "2021-04-29T07:32:59.853100Z",
     "shell.execute_reply": "2021-04-29T07:32:59.852101Z",
     "shell.execute_reply.started": "2021-04-29T07:32:59.829097Z"
    }
   },
   "outputs": [
    {
     "data": {
      "text/html": [
       "<div>\n",
       "<style scoped>\n",
       "    .dataframe tbody tr th:only-of-type {\n",
       "        vertical-align: middle;\n",
       "    }\n",
       "\n",
       "    .dataframe tbody tr th {\n",
       "        vertical-align: top;\n",
       "    }\n",
       "\n",
       "    .dataframe thead th {\n",
       "        text-align: right;\n",
       "    }\n",
       "</style>\n",
       "<table border=\"1\" class=\"dataframe\">\n",
       "  <thead>\n",
       "    <tr style=\"text-align: right;\">\n",
       "      <th></th>\n",
       "      <th>idUtente</th>\n",
       "      <th>idVeicolo</th>\n",
       "      <th>caricaBatteriaInizio</th>\n",
       "      <th>dueCaschiDisponibili</th>\n",
       "      <th>luogoRitiro</th>\n",
       "      <th>timestampRitiro</th>\n",
       "      <th>luogoConsegna</th>\n",
       "      <th>timestampConsegna</th>\n",
       "      <th>distanzaPercorsa</th>\n",
       "      <th>tempoViaggio</th>\n",
       "      <th>punteggioViaggio</th>\n",
       "      <th>caricaBatteriaFine</th>\n",
       "      <th>distanzaPercorsaNew</th>\n",
       "    </tr>\n",
       "  </thead>\n",
       "  <tbody>\n",
       "    <tr>\n",
       "      <th>0</th>\n",
       "      <td>u5954</td>\n",
       "      <td>v33</td>\n",
       "      <td>100.0%</td>\n",
       "      <td>YES</td>\n",
       "      <td>[(44.394923, 8.943928), (44.394857, 8.943474),...</td>\n",
       "      <td>['2018-10-01 01:08:57', '2018-10-01 01:09:02',...</td>\n",
       "      <td>[(44.433961, 8.95907), (44.434021, 8.958851), ...</td>\n",
       "      <td>['2018-10-01 01:21:57', '2018-10-01 01:22:02',...</td>\n",
       "      <td>4.5046 km</td>\n",
       "      <td>0:13:20</td>\n",
       "      <td>7.55</td>\n",
       "      <td>90.2%</td>\n",
       "      <td>4.5046</td>\n",
       "    </tr>\n",
       "    <tr>\n",
       "      <th>1</th>\n",
       "      <td>u1478</td>\n",
       "      <td>v33</td>\n",
       "      <td>91.8%</td>\n",
       "      <td>NaN</td>\n",
       "      <td>[(44.433997, 8.958993), (44.433596, 8.959153),...</td>\n",
       "      <td>['2018-10-01 02:09:21', '2018-10-01 02:09:26',...</td>\n",
       "      <td>[(44.396783, 8.940881), (44.396705, 8.940446),...</td>\n",
       "      <td>['2018-10-01 02:21:06', '2018-10-01 02:21:11',...</td>\n",
       "      <td>4.3622 km</td>\n",
       "      <td>0:12:05</td>\n",
       "      <td>7.78</td>\n",
       "      <td>81.8%</td>\n",
       "      <td>4.3622</td>\n",
       "    </tr>\n",
       "    <tr>\n",
       "      <th>2</th>\n",
       "      <td>u3403</td>\n",
       "      <td>v103</td>\n",
       "      <td>100.0%</td>\n",
       "      <td>YES</td>\n",
       "      <td>[(44.50046, 8.903424), (44.500047, 8.903264), ...</td>\n",
       "      <td>['2018-10-01 02:56:08', '2018-10-01 02:56:13',...</td>\n",
       "      <td>[(44.417878, 8.921285), (44.417927, 8.92169), ...</td>\n",
       "      <td>['2018-10-01 03:23:29', '2018-10-01 03:23:34',...</td>\n",
       "      <td>9.2642 km</td>\n",
       "      <td>0:27:41</td>\n",
       "      <td>8.02</td>\n",
       "      <td>82.6%</td>\n",
       "      <td>9.2642</td>\n",
       "    </tr>\n",
       "    <tr>\n",
       "      <th>3</th>\n",
       "      <td>u3723</td>\n",
       "      <td>v6</td>\n",
       "      <td>100.0%</td>\n",
       "      <td>YES</td>\n",
       "      <td>[(44.404821, 8.959312), (44.404645, 8.959509),...</td>\n",
       "      <td>['2018-10-01 03:45:47', '2018-10-01 03:45:52',...</td>\n",
       "      <td>[(44.427887, 8.844981), (44.428135, 8.845328),...</td>\n",
       "      <td>['2018-10-01 04:14:12', '2018-10-01 04:14:17',...</td>\n",
       "      <td>9.4183 km</td>\n",
       "      <td>0:28:45</td>\n",
       "      <td>8.23</td>\n",
       "      <td>84.2%</td>\n",
       "      <td>9.4183</td>\n",
       "    </tr>\n",
       "    <tr>\n",
       "      <th>4</th>\n",
       "      <td>u8584</td>\n",
       "      <td>v95</td>\n",
       "      <td>100.0%</td>\n",
       "      <td>YES</td>\n",
       "      <td>[(44.416034, 8.933454), (44.416018, 8.93355), ...</td>\n",
       "      <td>['2018-10-01 05:15:03', '2018-10-01 05:15:08',...</td>\n",
       "      <td>[(44.421412, 8.865522), (44.422039, 8.865464),...</td>\n",
       "      <td>['2018-10-01 05:33:20', '2018-10-01 05:33:25',...</td>\n",
       "      <td>5.4345 km</td>\n",
       "      <td>0:18:37</td>\n",
       "      <td>5.20</td>\n",
       "      <td>88.0%</td>\n",
       "      <td>5.4345</td>\n",
       "    </tr>\n",
       "  </tbody>\n",
       "</table>\n",
       "</div>"
      ],
      "text/plain": [
       "  idUtente idVeicolo caricaBatteriaInizio dueCaschiDisponibili  \\\n",
       "0    u5954       v33               100.0%                  YES   \n",
       "1    u1478       v33                91.8%                  NaN   \n",
       "2    u3403      v103               100.0%                  YES   \n",
       "3    u3723        v6               100.0%                  YES   \n",
       "4    u8584       v95               100.0%                  YES   \n",
       "\n",
       "                                         luogoRitiro  \\\n",
       "0  [(44.394923, 8.943928), (44.394857, 8.943474),...   \n",
       "1  [(44.433997, 8.958993), (44.433596, 8.959153),...   \n",
       "2  [(44.50046, 8.903424), (44.500047, 8.903264), ...   \n",
       "3  [(44.404821, 8.959312), (44.404645, 8.959509),...   \n",
       "4  [(44.416034, 8.933454), (44.416018, 8.93355), ...   \n",
       "\n",
       "                                     timestampRitiro  \\\n",
       "0  ['2018-10-01 01:08:57', '2018-10-01 01:09:02',...   \n",
       "1  ['2018-10-01 02:09:21', '2018-10-01 02:09:26',...   \n",
       "2  ['2018-10-01 02:56:08', '2018-10-01 02:56:13',...   \n",
       "3  ['2018-10-01 03:45:47', '2018-10-01 03:45:52',...   \n",
       "4  ['2018-10-01 05:15:03', '2018-10-01 05:15:08',...   \n",
       "\n",
       "                                       luogoConsegna  \\\n",
       "0  [(44.433961, 8.95907), (44.434021, 8.958851), ...   \n",
       "1  [(44.396783, 8.940881), (44.396705, 8.940446),...   \n",
       "2  [(44.417878, 8.921285), (44.417927, 8.92169), ...   \n",
       "3  [(44.427887, 8.844981), (44.428135, 8.845328),...   \n",
       "4  [(44.421412, 8.865522), (44.422039, 8.865464),...   \n",
       "\n",
       "                                   timestampConsegna distanzaPercorsa  \\\n",
       "0  ['2018-10-01 01:21:57', '2018-10-01 01:22:02',...        4.5046 km   \n",
       "1  ['2018-10-01 02:21:06', '2018-10-01 02:21:11',...        4.3622 km   \n",
       "2  ['2018-10-01 03:23:29', '2018-10-01 03:23:34',...        9.2642 km   \n",
       "3  ['2018-10-01 04:14:12', '2018-10-01 04:14:17',...        9.4183 km   \n",
       "4  ['2018-10-01 05:33:20', '2018-10-01 05:33:25',...        5.4345 km   \n",
       "\n",
       "  tempoViaggio  punteggioViaggio caricaBatteriaFine  distanzaPercorsaNew  \n",
       "0      0:13:20              7.55              90.2%               4.5046  \n",
       "1      0:12:05              7.78              81.8%               4.3622  \n",
       "2      0:27:41              8.02              82.6%               9.2642  \n",
       "3      0:28:45              8.23              84.2%               9.4183  \n",
       "4      0:18:37              5.20              88.0%               5.4345  "
      ]
     },
     "execution_count": 29,
     "metadata": {},
     "output_type": "execute_result"
    }
   ],
   "source": [
    "viaggi.head()"
   ]
  },
  {
   "cell_type": "markdown",
   "metadata": {},
   "source": [
    "## Punteggi Viaggio (DrivingScore)"
   ]
  },
  {
   "cell_type": "code",
   "execution_count": 30,
   "metadata": {
    "ExecuteTime": {
     "end_time": "2021-04-13T13:18:54.661293Z",
     "start_time": "2021-04-13T13:18:54.463881Z"
    },
    "execution": {
     "iopub.execute_input": "2021-04-29T07:32:59.854101Z",
     "iopub.status.busy": "2021-04-29T07:32:59.854101Z",
     "iopub.status.idle": "2021-04-29T07:33:00.081104Z",
     "shell.execute_reply": "2021-04-29T07:33:00.081104Z",
     "shell.execute_reply.started": "2021-04-29T07:32:59.854101Z"
    }
   },
   "outputs": [
    {
     "data": {
      "text/plain": [
       "array([[<AxesSubplot:title={'center':'punteggioViaggio'}>]], dtype=object)"
      ]
     },
     "execution_count": 30,
     "metadata": {},
     "output_type": "execute_result"
    },
    {
     "data": {
      "image/png": "[encoded data removed]",
      "text/plain": [
       "<Figure size 432x288 with 1 Axes>"
      ]
     },
     "metadata": {
      "needs_background": "light"
     },
     "output_type": "display_data"
    }
   ],
   "source": [
    "viaggi.hist('punteggioViaggio',bins=20)"
   ]
  },
  {
   "cell_type": "markdown",
   "metadata": {},
   "source": [
    "## Esiste qualche relazione tra il punteggioViaggi dei viaggi e le caratteristiche degli utenti?"
   ]
  },
  {
   "cell_type": "code",
   "execution_count": 31,
   "metadata": {
    "ExecuteTime": {
     "end_time": "2021-04-13T13:19:00.543531Z",
     "start_time": "2021-04-13T13:19:00.250042Z"
    },
    "execution": {
     "iopub.execute_input": "2021-04-29T07:33:00.082099Z",
     "iopub.status.busy": "2021-04-29T07:33:00.082099Z",
     "iopub.status.idle": "2021-04-29T07:33:00.295141Z",
     "shell.execute_reply": "2021-04-29T07:33:00.295141Z",
     "shell.execute_reply.started": "2021-04-29T07:33:00.082099Z"
    }
   },
   "outputs": [],
   "source": [
    "viaggi_plus = viaggi.merge(utenti[['ID UTENTE','AGE', 'SESSO']],left_on='idUtente', right_on='ID UTENTE')"
   ]
  },
  {
   "cell_type": "markdown",
   "metadata": {},
   "source": [
    "### genere vs. punteggioViaggi"
   ]
  },
  {
   "cell_type": "code",
   "execution_count": 32,
   "metadata": {
    "ExecuteTime": {
     "end_time": "2021-04-13T13:19:01.040794Z",
     "start_time": "2021-04-13T13:19:00.547534Z"
    },
    "execution": {
     "iopub.execute_input": "2021-04-29T07:33:00.297099Z",
     "iopub.status.busy": "2021-04-29T07:33:00.296097Z",
     "iopub.status.idle": "2021-04-29T07:33:00.577141Z",
     "shell.execute_reply": "2021-04-29T07:33:00.577141Z",
     "shell.execute_reply.started": "2021-04-29T07:33:00.297099Z"
    }
   },
   "outputs": [
    {
     "data": {
      "text/plain": [
       "array([<AxesSubplot:title={'center':'F'}>,\n",
       "       <AxesSubplot:title={'center':'M'}>], dtype=object)"
      ]
     },
     "execution_count": 32,
     "metadata": {},
     "output_type": "execute_result"
    },
    {
     "data": {
      "image/png": "[encoded data removed]",
      "text/plain": [
       "<Figure size 432x288 with 2 Axes>"
      ]
     },
     "metadata": {
      "needs_background": "light"
     },
     "output_type": "display_data"
    }
   ],
   "source": [
    "viaggi_plus.hist('punteggioViaggio', by='SESSO',bins=range(3,11))"
   ]
  },
  {
   "cell_type": "markdown",
   "metadata": {},
   "source": [
    "### età vs. punteggioViaggi"
   ]
  },
  {
   "cell_type": "code",
   "execution_count": 33,
   "metadata": {
    "ExecuteTime": {
     "end_time": "2021-04-13T13:19:01.056797Z",
     "start_time": "2021-04-13T13:19:01.044797Z"
    },
    "execution": {
     "iopub.execute_input": "2021-04-29T07:33:00.579099Z",
     "iopub.status.busy": "2021-04-29T07:33:00.578098Z",
     "iopub.status.idle": "2021-04-29T07:33:00.591116Z",
     "shell.execute_reply": "2021-04-29T07:33:00.589110Z",
     "shell.execute_reply.started": "2021-04-29T07:33:00.579099Z"
    }
   },
   "outputs": [],
   "source": [
    "viaggi_plus['AGE_new'] = pd.cut(viaggi_plus.AGE,[20,30,40,50,60])"
   ]
  },
  {
   "cell_type": "code",
   "execution_count": 34,
   "metadata": {
    "ExecuteTime": {
     "end_time": "2021-04-13T13:19:01.098795Z",
     "start_time": "2021-04-13T13:19:01.086795Z"
    },
    "execution": {
     "iopub.execute_input": "2021-04-29T07:33:00.592102Z",
     "iopub.status.busy": "2021-04-29T07:33:00.592102Z",
     "iopub.status.idle": "2021-04-29T07:33:00.603103Z",
     "shell.execute_reply": "2021-04-29T07:33:00.602102Z",
     "shell.execute_reply.started": "2021-04-29T07:33:00.592102Z"
    }
   },
   "outputs": [
    {
     "data": {
      "text/plain": [
       "AGE_new\n",
       "(20, 30]    34769\n",
       "(30, 40]    57138\n",
       "(40, 50]    32930\n",
       "(50, 60]        0\n",
       "dtype: int64"
      ]
     },
     "execution_count": 34,
     "metadata": {},
     "output_type": "execute_result"
    }
   ],
   "source": [
    "viaggi_plus.groupby('AGE_new').size()"
   ]
  },
  {
   "cell_type": "code",
   "execution_count": 35,
   "metadata": {
    "ExecuteTime": {
     "end_time": "2021-04-13T13:19:01.744240Z",
     "start_time": "2021-04-13T13:19:01.280797Z"
    },
    "execution": {
     "iopub.execute_input": "2021-04-29T07:33:00.605121Z",
     "iopub.status.busy": "2021-04-29T07:33:00.604099Z",
     "iopub.status.idle": "2021-04-29T07:33:01.044101Z",
     "shell.execute_reply": "2021-04-29T07:33:01.043102Z",
     "shell.execute_reply.started": "2021-04-29T07:33:00.605121Z"
    }
   },
   "outputs": [
    {
     "data": {
      "text/plain": [
       "array([[<AxesSubplot:title={'center':'(20, 30]'}>,\n",
       "        <AxesSubplot:title={'center':'(30, 40]'}>],\n",
       "       [<AxesSubplot:title={'center':'(40, 50]'}>,\n",
       "        <AxesSubplot:title={'center':'(50, 60]'}>]], dtype=object)"
      ]
     },
     "execution_count": 35,
     "metadata": {},
     "output_type": "execute_result"
    },
    {
     "data": {
      "image/png": "[encoded data removed]",
      "text/plain": [
       "<Figure size 432x288 with 4 Axes>"
      ]
     },
     "metadata": {
      "needs_background": "light"
     },
     "output_type": "display_data"
    }
   ],
   "source": [
    "viaggi_plus.hist('punteggioViaggio', by='AGE_new',bins=range(3,11))"
   ]
  }
 ],
 "metadata": {
  "kernelspec": {
   "display_name": "Python 3",
   "language": "python",
   "name": "python3"
  },
  "language_info": {
   "codemirror_mode": {
    "name": "ipython",
    "version": 3
   },
   "file_extension": ".py",
   "mimetype": "text/x-python",
   "name": "python",
   "nbconvert_exporter": "python",
   "pygments_lexer": "ipython3",
   "version": "3.8.3"
  }
 },
 "nbformat": 4,
 "nbformat_minor": 5
}
