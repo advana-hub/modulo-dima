{
 "cells": [
  {
   "cell_type": "markdown",
   "metadata": {
    "ExecuteTime": {
     "end_time": "2021-04-13T13:18:32.659079Z",
     "start_time": "2021-04-13T13:18:32.641077Z"
    },
    "execution": {
     "iopub.execute_input": "2021-04-15T10:42:46.425643Z",
     "iopub.status.busy": "2021-04-15T10:42:46.425643Z",
     "iopub.status.idle": "2021-04-15T10:42:46.436644Z",
     "shell.execute_reply": "2021-04-15T10:42:46.435642Z",
     "shell.execute_reply.started": "2021-04-15T10:42:46.425643Z"
    }
   },
   "source": [
    "<img src=\"../../assets/mimocko_logo.png\" style=\"margin-left:auto;margin-right:auto;width:50%\">"
   ]
  },
  {
   "cell_type": "code",
   "execution_count": null,
   "metadata": {
    "ExecuteTime": {
     "end_time": "2021-04-13T13:18:33.420419Z",
     "start_time": "2021-04-13T13:18:32.665077Z"
    }
   },
   "outputs": [],
   "source": [
    "import pandas as pd\n",
    "import numpy as np"
   ]
  },
  {
   "cell_type": "code",
   "execution_count": null,
   "metadata": {
    "ExecuteTime": {
     "end_time": "2021-04-13T13:18:33.428489Z",
     "start_time": "2021-04-13T13:18:33.420419Z"
    }
   },
   "outputs": [],
   "source": [
    "import datetime"
   ]
  },
  {
   "cell_type": "code",
   "execution_count": null,
   "metadata": {
    "ExecuteTime": {
     "end_time": "2021-04-13T13:18:33.438492Z",
     "start_time": "2021-04-13T13:18:33.432481Z"
    }
   },
   "outputs": [],
   "source": [
    "path_to_file = '../../../data'"
   ]
  },
  {
   "cell_type": "markdown",
   "metadata": {},
   "source": [
    "# Viaggi"
   ]
  },
  {
   "cell_type": "code",
   "execution_count": null,
   "metadata": {},
   "outputs": [],
   "source": [
    "viaggi = pd.read_csv(\n",
    "    f'{path_to_file}/viaggi.csv',\n",
    "    sep='*',\n",
    "    decimal=','\n",
    ")\n",
    "viaggi \n",
    "# si nota:\n",
    "#  - presenza di NaN\n",
    "#  - presenza di colonne con dentro liste\n",
    "#  - presenza di colonne con formati di tempo da interpretare\n",
    "#  - presenza di colonna con unità di misura/percentuale"
   ]
  },
  {
   "cell_type": "markdown",
   "metadata": {},
   "source": [
    "## Funzioni utili"
   ]
  },
  {
   "cell_type": "code",
   "execution_count": null,
   "metadata": {},
   "outputs": [],
   "source": [
    "# un paio di funzioni che ci torneranno comoda per gestire \n",
    "# timestampRitiro, timestampConsegna\n",
    "# luogoRitiro, luogoConsegna\n",
    "\n",
    "def mean_of_timestamps(timestamp_list):\n",
    "    sum_of_timestamp = 0\n",
    "    for timestamp in timestamp_list:\n",
    "        sum_of_timestamp = sum_of_timestamp+timestamp.timestamp()\n",
    "    return pd.Timestamp.fromtimestamp(sum_of_timestamp/len(timestamp_list))\n",
    "\n",
    "def process_viaggi_data(viaggi):\n",
    "    \n",
    "    import warnings\n",
    "    with warnings.catch_warnings():\n",
    "        warnings.simplefilter('ignore')\n",
    "        # conversione timestampRitiro, timestampConsegna a lista di stringhe\n",
    "        viaggi[\"timestampRitiro\"] = viaggi[\"timestampRitiro\"].apply(lambda location_list: eval(location_list))\n",
    "        viaggi[\"timestampConsegna\"] = viaggi[\"timestampConsegna\"].apply(lambda location_list: eval(location_list))\n",
    "\n",
    "        # conversione timestampRitiro e timestampConsegna a lista di datetime\n",
    "        viaggi[\"timestampRitiro\"] = viaggi[\"timestampRitiro\"].apply(lambda timestr_list: [pd.to_datetime(timestr) for timestr in timestr_list])\n",
    "        viaggi[\"timestampConsegna\"] = viaggi[\"timestampConsegna\"].apply(lambda timestr_list: [pd.to_datetime(timestr) for timestr in timestr_list])\n",
    "        \n",
    "        # un altro possibile stimatore puntuale per timestamp e coordinate: il valor medio\n",
    "\n",
    "        # aggregazione (media) dei timestamp\n",
    "        viaggi[\"timestampRitiro\"] = viaggi[\"timestampRitiro\"].apply(mean_of_timestamps)\n",
    "        viaggi[\"timestampConsegna\"] = viaggi[\"timestampConsegna\"].apply(mean_of_timestamps)\n",
    "\n",
    "        # conversione luogoRitiro, luogoConsegna a lista di float\n",
    "        viaggi[\"luogoConsegna\"] = viaggi[\"luogoConsegna\"].apply(lambda location_list: eval(location_list))\n",
    "        viaggi[\"luogoRitiro\"] = viaggi[\"luogoRitiro\"].apply(lambda location_list: eval(location_list))\n",
    "\n",
    "        # aggregazione (media) dei luoghi\n",
    "        viaggi[\"luogoConsegna\"] = viaggi[\"luogoConsegna\"].apply(lambda coord_list: np.mean(coord_list, axis=0))\n",
    "        viaggi[\"luogoRitiro\"] = viaggi[\"luogoRitiro\"].apply(lambda coord_list: np.mean(coord_list, axis=0))\n",
    "    \n",
    "    return viaggi    "
   ]
  },
  {
   "cell_type": "code",
   "execution_count": null,
   "metadata": {},
   "outputs": [],
   "source": [
    "viaggi = process_viaggi_data(viaggi)"
   ]
  },
  {
   "cell_type": "markdown",
   "metadata": {},
   "source": [
    "## Data processing"
   ]
  },
  {
   "cell_type": "markdown",
   "metadata": {
    "execution": {
     "iopub.execute_input": "2021-04-15T10:49:17.706211Z",
     "iopub.status.busy": "2021-04-15T10:49:17.705219Z",
     "iopub.status.idle": "2021-04-15T10:49:18.020789Z",
     "shell.execute_reply": "2021-04-15T10:49:18.019792Z",
     "shell.execute_reply.started": "2021-04-15T10:49:17.706211Z"
    }
   },
   "source": [
    "### conversione tempoViaggio a timedelta"
   ]
  },
  {
   "cell_type": "code",
   "execution_count": null,
   "metadata": {},
   "outputs": [],
   "source": []
  },
  {
   "cell_type": "markdown",
   "metadata": {
    "execution": {
     "iopub.execute_input": "2021-04-15T10:49:18.983920Z",
     "iopub.status.busy": "2021-04-15T10:49:18.982881Z",
     "iopub.status.idle": "2021-04-15T10:49:19.065867Z",
     "shell.execute_reply": "2021-04-15T10:49:19.064902Z",
     "shell.execute_reply.started": "2021-04-15T10:49:18.983920Z"
    }
   },
   "source": [
    "### conversione distanzaPercorsa a float"
   ]
  },
  {
   "cell_type": "code",
   "execution_count": null,
   "metadata": {},
   "outputs": [],
   "source": []
  },
  {
   "cell_type": "markdown",
   "metadata": {
    "execution": {
     "iopub.execute_input": "2021-04-15T10:49:19.759574Z",
     "iopub.status.busy": "2021-04-15T10:49:19.758573Z",
     "iopub.status.idle": "2021-04-15T10:49:19.891465Z",
     "shell.execute_reply": "2021-04-15T10:49:19.890503Z",
     "shell.execute_reply.started": "2021-04-15T10:49:19.759574Z"
    }
   },
   "source": [
    "### conversione caricaBatteriaInizio, caricaBatteriaFine a float\n"
   ]
  },
  {
   "cell_type": "code",
   "execution_count": null,
   "metadata": {},
   "outputs": [],
   "source": []
  },
  {
   "cell_type": "markdown",
   "metadata": {},
   "source": [
    "### fill dei vuoti nel campo `dueCaschiDisponibili` con valore testuale"
   ]
  },
  {
   "cell_type": "code",
   "execution_count": null,
   "metadata": {},
   "outputs": [],
   "source": []
  },
  {
   "cell_type": "markdown",
   "metadata": {},
   "source": [
    "# Utenti"
   ]
  },
  {
   "cell_type": "code",
   "execution_count": null,
   "metadata": {
    "ExecuteTime": {
     "end_time": "2021-04-13T13:18:33.792775Z",
     "start_time": "2021-04-13T13:18:33.718483Z"
    }
   },
   "outputs": [],
   "source": [
    "# leggo utenti\n",
    "utenti = pd.read_csv(\n",
    "    f'{path_to_file}/utenti.csv',\n",
    "    sep='|',\n",
    "    decimal=',',\n",
    "    dtype={\n",
    "        'LAT INDIRIZZO': float,\n",
    "        'LON INDIRIZZO': float,\n",
    "        'CONSENSO al TRATTAMENTO dei DATI': bool\n",
    "    },\n",
    "    parse_dates=[\n",
    "        'DATA di NASCITA',\n",
    "        'DATA ULTIMO RINNOVO PATENTE'\n",
    "    ]\n",
    ")\n",
    "utenti"
   ]
  },
  {
   "cell_type": "markdown",
   "metadata": {},
   "source": [
    "# Scooter"
   ]
  },
  {
   "cell_type": "code",
   "execution_count": null,
   "metadata": {},
   "outputs": [],
   "source": [
    "scooter = pd.read_csv(\n",
    "    f'{path_to_file}/scooter.csv',\n",
    "    sep=';',\n",
    ")\n",
    "scooter \n",
    "# si nota:\n",
    "#  - presenza di colonna con unità di misura/percentuale\n",
    "#  - presenza di colonna con data\n"
   ]
  },
  {
   "cell_type": "markdown",
   "metadata": {},
   "source": [
    "## Conversione del costo a float\n"
   ]
  },
  {
   "cell_type": "markdown",
   "metadata": {},
   "source": [
    "## Quante \"versioni\" di veicoli ci sono in giro?"
   ]
  },
  {
   "cell_type": "markdown",
   "metadata": {},
   "source": [
    "### numero di veicolo per versione"
   ]
  },
  {
   "cell_type": "code",
   "execution_count": null,
   "metadata": {},
   "outputs": [],
   "source": []
  },
  {
   "cell_type": "markdown",
   "metadata": {},
   "source": [
    "### merge viaggi e scooter\n"
   ]
  },
  {
   "cell_type": "code",
   "execution_count": null,
   "metadata": {},
   "outputs": [],
   "source": [
    "viaggi_scooter = ..."
   ]
  },
  {
   "cell_type": "markdown",
   "metadata": {
    "execution": {
     "iopub.execute_input": "2021-04-15T10:56:52.042160Z",
     "iopub.status.busy": "2021-04-15T10:56:52.041147Z",
     "iopub.status.idle": "2021-04-15T10:56:52.047160Z",
     "shell.execute_reply": "2021-04-15T10:56:52.046160Z",
     "shell.execute_reply.started": "2021-04-15T10:56:52.042160Z"
    }
   },
   "source": [
    "### numero di viaggi per versione"
   ]
  },
  {
   "cell_type": "code",
   "execution_count": null,
   "metadata": {},
   "outputs": [],
   "source": []
  },
  {
   "cell_type": "code",
   "execution_count": null,
   "metadata": {},
   "outputs": [],
   "source": [
    "# numero di viaggi per versione, andamendo nel tempo --> ERRORE\n",
    "viaggi_scooter.groupby(\"Versione n°\")[\"timestampRitiro\"].hist(bins=20,\n",
    "                                                              alpha=.5,\n",
    "                                                              legend=True,\n",
    "                                                              xrot=90)"
   ]
  },
  {
   "cell_type": "code",
   "execution_count": null,
   "metadata": {},
   "outputs": [],
   "source": [
    "# numero di viaggi per versione, andamendo nel tempo --> ERRORE\n",
    "viaggi_scooter.groupby(\"Versione n°\")[\"timestampRitiro\"].hist(bins=pd.date_range('2018-10-01',\n",
    "                                                                                 '2021-04-01',\n",
    "                                                                                 freq='M'),alpha=.5,legend=True, xrot=90)"
   ]
  },
  {
   "cell_type": "markdown",
   "metadata": {},
   "source": [
    "## Calcolare il contachilometri complessivo per ogni veicolo"
   ]
  },
  {
   "cell_type": "markdown",
   "metadata": {
    "execution": {
     "iopub.execute_input": "2021-04-15T10:58:16.809929Z",
     "iopub.status.busy": "2021-04-15T10:58:16.809929Z",
     "iopub.status.idle": "2021-04-15T10:58:16.814931Z",
     "shell.execute_reply": "2021-04-15T10:58:16.813929Z",
     "shell.execute_reply.started": "2021-04-15T10:58:16.809929Z"
    }
   },
   "source": [
    "### km totali per veicolo"
   ]
  },
  {
   "cell_type": "code",
   "execution_count": null,
   "metadata": {},
   "outputs": [],
   "source": []
  },
  {
   "cell_type": "markdown",
   "metadata": {},
   "source": [
    "### plot distribuzione"
   ]
  },
  {
   "cell_type": "code",
   "execution_count": null,
   "metadata": {},
   "outputs": [],
   "source": []
  },
  {
   "cell_type": "markdown",
   "metadata": {},
   "source": [
    "## Ci sono utilizzi dei veicoli con patente scaduta?"
   ]
  },
  {
   "cell_type": "markdown",
   "metadata": {},
   "source": [
    "### merge viaggi e utenti"
   ]
  },
  {
   "cell_type": "code",
   "execution_count": null,
   "metadata": {},
   "outputs": [],
   "source": []
  },
  {
   "cell_type": "markdown",
   "metadata": {},
   "source": [
    "### Una possibiità: cercare utenti che hanno fatto viaggi con patente non rinnovata da più di dieci anni\n"
   ]
  },
  {
   "cell_type": "code",
   "execution_count": null,
   "metadata": {},
   "outputs": [],
   "source": []
  },
  {
   "cell_type": "markdown",
   "metadata": {},
   "source": [
    "## Il profilo di utilizzo orario varia lungo la settimana?"
   ]
  },
  {
   "cell_type": "markdown",
   "metadata": {},
   "source": [
    "### Estrazione giorno della settimana e ora dei viaggi"
   ]
  },
  {
   "cell_type": "code",
   "execution_count": null,
   "metadata": {},
   "outputs": [],
   "source": []
  },
  {
   "cell_type": "markdown",
   "metadata": {},
   "source": [
    "### calcolo numero di viaggi per giorno/ora"
   ]
  },
  {
   "cell_type": "code",
   "execution_count": null,
   "metadata": {},
   "outputs": [],
   "source": []
  },
  {
   "cell_type": "markdown",
   "metadata": {
    "execution": {
     "iopub.execute_input": "2021-04-15T11:01:50.499924Z",
     "iopub.status.busy": "2021-04-15T11:01:50.499924Z",
     "iopub.status.idle": "2021-04-15T11:01:50.503894Z",
     "shell.execute_reply": "2021-04-15T11:01:50.502893Z",
     "shell.execute_reply.started": "2021-04-15T11:01:50.499924Z"
    }
   },
   "source": [
    "### Es.: plot dell'andamento giornaliero di lunedì"
   ]
  },
  {
   "cell_type": "code",
   "execution_count": null,
   "metadata": {},
   "outputs": [],
   "source": []
  },
  {
   "cell_type": "markdown",
   "metadata": {},
   "source": [
    "### Es.: plot dell'andamento giornaliero di domenica"
   ]
  },
  {
   "cell_type": "code",
   "execution_count": null,
   "metadata": {},
   "outputs": [],
   "source": []
  }
 ],
 "metadata": {
  "kernelspec": {
   "display_name": ".venv-mimocko",
   "language": "python",
   "name": ".venv-mimocko"
  },
  "language_info": {
   "codemirror_mode": {
    "name": "ipython",
    "version": 3
   },
   "file_extension": ".py",
   "mimetype": "text/x-python",
   "name": "python",
   "nbconvert_exporter": "python",
   "pygments_lexer": "ipython3",
   "version": "3.8.5"
  }
 },
 "nbformat": 4,
 "nbformat_minor": 5
}
